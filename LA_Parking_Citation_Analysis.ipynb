{
  "nbformat": 4,
  "nbformat_minor": 0,
  "metadata": {
    "colab": {
      "name": "LA Parking Citation Analysis.ipynb",
      "version": "0.3.2",
      "provenance": [],
      "collapsed_sections": [],
      "include_colab_link": true
    },
    "kernelspec": {
      "name": "python3",
      "display_name": "Python 3"
    },
    "accelerator": "TPU"
  },
  "cells": [
    {
      "cell_type": "markdown",
      "metadata": {
        "id": "view-in-github",
        "colab_type": "text"
      },
      "source": [
        "<a href=\"https://colab.research.google.com/github/ROARMarketingConcepts/Data-Analysis-Projects/blob/master/LA_Parking_Citation_Analysis.ipynb\" target=\"_parent\"><img src=\"https://colab.research.google.com/assets/colab-badge.svg\" alt=\"Open In Colab\"/></a>"
      ]
    },
    {
      "metadata": {
        "id": "xrdB4Pvew0ah",
        "colab_type": "text"
      },
      "cell_type": "markdown",
      "source": [
        "## LA Parking Citation Analysis\n",
        "\n",
        "This dataset of parking citations for the city of Los Angeles. Parking citations with latitude / longitude (XY) in US Feet coordinates according to the NAD_1983_StatePlane_California_V_FIPS_0405_Feet projection.\n",
        "\n",
        "### Analysis performed by:\n",
        "\n",
        "Ken Wood\n",
        "\n",
        "Senior Marketing Strategist\n",
        "\n",
        "ken@roarmarketingconcepts.com"
      ]
    },
    {
      "metadata": {
        "id": "Q_Brip-8tdjE",
        "colab_type": "text"
      },
      "cell_type": "markdown",
      "source": [
        "\n",
        "\n",
        "\n",
        "---\n",
        "\n"
      ]
    },
    {
      "metadata": {
        "id": "9ALCkfYuqrTZ",
        "colab_type": "text"
      },
      "cell_type": "markdown",
      "source": [
        "### Mount my Google Drive where the LA Parking Citation dataset is located..."
      ]
    },
    {
      "metadata": {
        "id": "Op1VaBbmzAds",
        "colab_type": "code",
        "outputId": "375c7590-43bb-46ba-85c9-77d8ffff7875",
        "colab": {
          "base_uri": "https://localhost:8080/",
          "height": 34
        }
      },
      "cell_type": "code",
      "source": [
        "from google.colab import drive\n",
        "drive.mount('/gdrive')"
      ],
      "execution_count": 0,
      "outputs": [
        {
          "output_type": "stream",
          "text": [
            "Drive already mounted at /gdrive; to attempt to forcibly remount, call drive.mount(\"/gdrive\", force_remount=True).\n"
          ],
          "name": "stdout"
        }
      ]
    },
    {
      "metadata": {
        "id": "DrdaZhEvlliM",
        "colab_type": "code",
        "outputId": "589bb704-2f37-46e8-bebf-718e404f2458",
        "colab": {
          "base_uri": "https://localhost:8080/",
          "height": 503
        }
      },
      "cell_type": "code",
      "source": [
        "!apt install proj-bin libproj-dev libgeos-dev\n",
        "!pip install git+https://github.com/thearn/pygmaps-extended\n",
        "!pip install folium"
      ],
      "execution_count": 0,
      "outputs": [
        {
          "output_type": "stream",
          "text": [
            "Reading package lists... Done\n",
            "Building dependency tree       \n",
            "Reading state information... Done\n",
            "libgeos-dev is already the newest version (3.6.2-1build2).\n",
            "libproj-dev is already the newest version (4.9.3-2).\n",
            "proj-bin is already the newest version (4.9.3-2).\n",
            "0 upgraded, 0 newly installed, 0 to remove and 13 not upgraded.\n",
            "Collecting git+https://github.com/thearn/pygmaps-extended\n",
            "  Cloning https://github.com/thearn/pygmaps-extended to /tmp/pip-req-build-4f75815p\n",
            "Requirement already satisfied (use --upgrade to upgrade): pygmaps-enhanced==0.2.0 from git+https://github.com/thearn/pygmaps-extended in /usr/local/lib/python3.6/dist-packages\n",
            "Requirement already satisfied: numpy in /usr/local/lib/python3.6/dist-packages (from pygmaps-enhanced==0.2.0) (1.14.6)\n",
            "Requirement already satisfied: matplotlib in /usr/local/lib/python3.6/dist-packages (from pygmaps-enhanced==0.2.0) (3.0.2)\n",
            "Requirement already satisfied: kiwisolver>=1.0.1 in /usr/local/lib/python3.6/dist-packages (from matplotlib->pygmaps-enhanced==0.2.0) (1.0.1)\n",
            "Requirement already satisfied: cycler>=0.10 in /usr/local/lib/python3.6/dist-packages (from matplotlib->pygmaps-enhanced==0.2.0) (0.10.0)\n",
            "Requirement already satisfied: pyparsing!=2.0.4,!=2.1.2,!=2.1.6,>=2.0.1 in /usr/local/lib/python3.6/dist-packages (from matplotlib->pygmaps-enhanced==0.2.0) (2.3.1)\n",
            "Requirement already satisfied: python-dateutil>=2.1 in /usr/local/lib/python3.6/dist-packages (from matplotlib->pygmaps-enhanced==0.2.0) (2.5.3)\n",
            "Requirement already satisfied: setuptools in /usr/local/lib/python3.6/dist-packages (from kiwisolver>=1.0.1->matplotlib->pygmaps-enhanced==0.2.0) (40.6.3)\n",
            "Requirement already satisfied: six in /usr/local/lib/python3.6/dist-packages (from cycler>=0.10->matplotlib->pygmaps-enhanced==0.2.0) (1.11.0)\n",
            "Building wheels for collected packages: pygmaps-enhanced\n",
            "  Running setup.py bdist_wheel for pygmaps-enhanced ... \u001b[?25l-\b \bdone\n",
            "\u001b[?25h  Stored in directory: /tmp/pip-ephem-wheel-cache-p0bd0zw8/wheels/3e/73/23/3a7fd54a762fa8d2305b95499c22de36c493fcfa63074cf397\n",
            "Successfully built pygmaps-enhanced\n",
            "Requirement already satisfied: folium in /usr/local/lib/python3.6/dist-packages (0.2.1)\n",
            "Requirement already satisfied: Jinja2 in /usr/local/lib/python3.6/dist-packages (from folium) (2.10)\n",
            "Requirement already satisfied: MarkupSafe>=0.23 in /usr/local/lib/python3.6/dist-packages (from Jinja2->folium) (1.1.0)\n"
          ],
          "name": "stdout"
        }
      ]
    },
    {
      "metadata": {
        "id": "twm5n0jglxFD",
        "colab_type": "code",
        "outputId": "db65b88f-4f8e-45ca-c56a-7b09edd3011d",
        "colab": {
          "base_uri": "https://localhost:8080/",
          "height": 860
        }
      },
      "cell_type": "code",
      "source": [
        "!pip install https://github.com/matplotlib/basemap/archive/v1.1.0.tar.gz\n",
        "!sudo pip install -U git+https://github.com/matplotlib/basemap.git"
      ],
      "execution_count": 0,
      "outputs": [
        {
          "output_type": "stream",
          "text": [
            "Collecting https://github.com/matplotlib/basemap/archive/v1.1.0.tar.gz\n",
            "  Downloading https://github.com/matplotlib/basemap/archive/v1.1.0.tar.gz\n",
            "\u001b[K     | 165.5MB 20.8MB/s\n",
            "Requirement already satisfied: numpy>=1.2.1 in /usr/local/lib/python3.6/dist-packages (from basemap==1.1.0) (1.14.6)\n",
            "Requirement already satisfied: matplotlib>=1.0.0 in /usr/local/lib/python3.6/dist-packages (from basemap==1.1.0) (3.0.2)\n",
            "Requirement already satisfied: pyproj>=1.9.3 in /usr/local/lib/python3.6/dist-packages (from basemap==1.1.0) (1.9.6)\n",
            "Requirement already satisfied: pyshp>=1.2.0 in /usr/local/lib/python3.6/dist-packages (from basemap==1.1.0) (2.0.1)\n",
            "Requirement already satisfied: kiwisolver>=1.0.1 in /usr/local/lib/python3.6/dist-packages (from matplotlib>=1.0.0->basemap==1.1.0) (1.0.1)\n",
            "Requirement already satisfied: cycler>=0.10 in /usr/local/lib/python3.6/dist-packages (from matplotlib>=1.0.0->basemap==1.1.0) (0.10.0)\n",
            "Requirement already satisfied: pyparsing!=2.0.4,!=2.1.2,!=2.1.6,>=2.0.1 in /usr/local/lib/python3.6/dist-packages (from matplotlib>=1.0.0->basemap==1.1.0) (2.3.1)\n",
            "Requirement already satisfied: python-dateutil>=2.1 in /usr/local/lib/python3.6/dist-packages (from matplotlib>=1.0.0->basemap==1.1.0) (2.5.3)\n",
            "Requirement already satisfied: setuptools in /usr/local/lib/python3.6/dist-packages (from kiwisolver>=1.0.1->matplotlib>=1.0.0->basemap==1.1.0) (40.6.3)\n",
            "Requirement already satisfied: six in /usr/local/lib/python3.6/dist-packages (from cycler>=0.10->matplotlib>=1.0.0->basemap==1.1.0) (1.11.0)\n",
            "Building wheels for collected packages: basemap\n",
            "  Running setup.py bdist_wheel for basemap ... \u001b[?25l-\b \b\\\b \b|\b \b/\b \b-\b \b\\\b \b|\b \b/\b \b-\b \b\\\b \b|\b \b/\b \b-\b \b\\\b \b|\b \b/\b \b-\b \b\\\b \b|\b \b/\b \b-\b \b\\\b \b|\b \b/\b \b-\b \b\\\b \b|\b \b/\b \b-\b \bdone\n",
            "\u001b[?25h  Stored in directory: /tmp/pip-ephem-wheel-cache-f1gs6145/wheels/6c/c2/bd/d6fb8f2660e0591d357352aba1b117b3211d016994d933d792\n",
            "Successfully built basemap\n",
            "Installing collected packages: basemap\n",
            "  Found existing installation: basemap 1.2.0\n",
            "    Uninstalling basemap-1.2.0:\n",
            "      Successfully uninstalled basemap-1.2.0\n",
            "Successfully installed basemap-1.1.0\n",
            "\u001b[0;31;1mWARNING: The following packages were previously imported in this runtime:\n",
            "  [mpl_toolkits]\n",
            "You must restart the runtime in order to use newly installed versions.\u001b[0m\n",
            "Collecting git+https://github.com/matplotlib/basemap.git\n",
            "  Cloning https://github.com/matplotlib/basemap.git to /tmp/pip-req-build-zawl7spz\n",
            "Requirement already satisfied, skipping upgrade: matplotlib!=3.0.1,>=1.0.0 in /usr/local/lib/python3.6/dist-packages (from basemap==1.2.0) (3.0.2)\n",
            "Requirement already satisfied, skipping upgrade: numpy>=1.2.1 in /usr/local/lib/python3.6/dist-packages (from basemap==1.2.0) (1.14.6)\n",
            "Requirement already satisfied, skipping upgrade: pyproj>=1.9.3 in /usr/local/lib/python3.6/dist-packages (from basemap==1.2.0) (1.9.6)\n",
            "Requirement already satisfied, skipping upgrade: pyshp>=1.2.0 in /usr/local/lib/python3.6/dist-packages (from basemap==1.2.0) (2.0.1)\n",
            "Requirement already satisfied, skipping upgrade: six in /usr/local/lib/python3.6/dist-packages (from basemap==1.2.0) (1.11.0)\n",
            "Requirement already satisfied, skipping upgrade: cycler>=0.10 in /usr/local/lib/python3.6/dist-packages (from matplotlib!=3.0.1,>=1.0.0->basemap==1.2.0) (0.10.0)\n",
            "Requirement already satisfied, skipping upgrade: kiwisolver>=1.0.1 in /usr/local/lib/python3.6/dist-packages (from matplotlib!=3.0.1,>=1.0.0->basemap==1.2.0) (1.0.1)\n",
            "Requirement already satisfied, skipping upgrade: pyparsing!=2.0.4,!=2.1.2,!=2.1.6,>=2.0.1 in /usr/local/lib/python3.6/dist-packages (from matplotlib!=3.0.1,>=1.0.0->basemap==1.2.0) (2.3.1)\n",
            "Requirement already satisfied, skipping upgrade: python-dateutil>=2.1 in /usr/local/lib/python3.6/dist-packages (from matplotlib!=3.0.1,>=1.0.0->basemap==1.2.0) (2.5.3)\n",
            "Requirement already satisfied, skipping upgrade: setuptools in /usr/local/lib/python3.6/dist-packages (from kiwisolver>=1.0.1->matplotlib!=3.0.1,>=1.0.0->basemap==1.2.0) (40.6.3)\n",
            "Building wheels for collected packages: basemap\n",
            "  Running setup.py bdist_wheel for basemap ... \u001b[?25l-\b \b\\\b \b|\b \b/\b \b-\b \b\\\b \b|\b \b/\b \b-\b \b\\\b \b|\b \b/\b \b-\b \b\\\b \b|\b \b/\b \b-\b \b\\\b \b|\b \b/\b \b-\b \b\\\b \b|\b \b/\b \b-\b \b\\\b \b|\b \b/\b \bdone\n",
            "\u001b[?25h  Stored in directory: /tmp/pip-ephem-wheel-cache-j1gn90jc/wheels/3f/f3/56/de548b66967d0d661612b7618022e2c0d4b86b9a638cf6ccf3\n",
            "Successfully built basemap\n",
            "Installing collected packages: basemap\n",
            "  Found existing installation: basemap 1.1.0\n",
            "    Uninstalling basemap-1.1.0:\n",
            "      Successfully uninstalled basemap-1.1.0\n",
            "Successfully installed basemap-1.2.0\n"
          ],
          "name": "stdout"
        }
      ]
    },
    {
      "metadata": {
        "id": "CaqrF3-Zq2PC",
        "colab_type": "text"
      },
      "cell_type": "markdown",
      "source": [
        "### Install some necessary packages to perform the required analysis..."
      ]
    },
    {
      "metadata": {
        "id": "fXW19Ug6MF-W",
        "colab_type": "code",
        "outputId": "e6816b2f-c79e-476a-c74f-a2ab2a7a874e",
        "colab": {
          "base_uri": "https://localhost:8080/",
          "height": 184
        }
      },
      "cell_type": "code",
      "source": [
        "!pip install -U scikit-learn\n",
        "!pip install --user --upgrade tables\n",
        "!pip install utm\n",
        "\n",
        "import pandas as pd\n",
        "import numpy as np\n",
        "import sklearn\n",
        "import scipy\n",
        "import calendar\n",
        "import folium\n",
        "from datetime import datetime as dt\n",
        "\n",
        "import matplotlib as mpl\n",
        "import matplotlib.pyplot as plt\n",
        "from matplotlib import interactive\n",
        "plt.rc(\"font\", size=14)\n",
        "from pylab import scatter, show, legend, xlabel, ylabel\n",
        "\n",
        "from mpl_toolkits.basemap import Basemap\n",
        "\n",
        "import seaborn as sns\n",
        "sns.set(style=\"white\")\n",
        "sns.set(style=\"whitegrid\", color_codes=True)\n",
        "\n",
        "# Ignore useless warnings (see SciPy issue #5998)\n",
        "import warnings\n",
        "warnings.filterwarnings(action=\"ignore\", message=\"^internal gelsd\")"
      ],
      "execution_count": 40,
      "outputs": [
        {
          "output_type": "stream",
          "text": [
            "Requirement already up-to-date: scikit-learn in /usr/local/lib/python3.6/dist-packages (0.20.2)\n",
            "Requirement already satisfied, skipping upgrade: numpy>=1.8.2 in /usr/local/lib/python3.6/dist-packages (from scikit-learn) (1.14.6)\n",
            "Requirement already satisfied, skipping upgrade: scipy>=0.13.3 in /usr/local/lib/python3.6/dist-packages (from scikit-learn) (1.1.0)\n",
            "Requirement already up-to-date: tables in /usr/local/lib/python3.6/dist-packages (3.4.4)\n",
            "Requirement already satisfied, skipping upgrade: numpy>=1.8.0 in /usr/local/lib/python3.6/dist-packages (from tables) (1.14.6)\n",
            "Requirement already satisfied, skipping upgrade: six>=1.9.0 in /usr/local/lib/python3.6/dist-packages (from tables) (1.11.0)\n",
            "Requirement already satisfied, skipping upgrade: numexpr>=2.5.2 in /usr/local/lib/python3.6/dist-packages (from tables) (2.6.9)\n",
            "Requirement already satisfied: utm in /usr/local/lib/python3.6/dist-packages (0.4.2)\n"
          ],
          "name": "stdout"
        }
      ]
    },
    {
      "metadata": {
        "id": "UrkGvrxrDxb4",
        "colab_type": "code",
        "outputId": "3608bd55-de67-401b-9c19-51d74a7e3648",
        "colab": {
          "base_uri": "https://localhost:8080/",
          "height": 59
        }
      },
      "cell_type": "code",
      "source": [
        "\"\"\"width = 28000000; lon_0 = -105; lat_0 = 40\n",
        "m = Basemap(width=width,height=width,projection='aeqd',\n",
        "            lat_0=lat_0,lon_0=lon_0)\n",
        "# fill background.\n",
        "m.drawmapboundary(fill_color='aqua')\n",
        "# draw coasts and fill continents.\n",
        "m.drawcoastlines(linewidth=0.5)\n",
        "m.fillcontinents(color='coral',lake_color='aqua')\n",
        "# 20 degree graticule.\n",
        "m.drawparallels(np.arange(-80,81,20))\n",
        "m.drawmeridians(np.arange(-180,180,20))\n",
        "# draw a black dot at the center.\n",
        "xpt, ypt = m(lon_0, lat_0)\n",
        "m.plot([xpt],[ypt],'ko')\n",
        "# draw the title.\n",
        "plt.title('Azimuthal Equidistant Projection')\n",
        "plt.show()\"\"\""
      ],
      "execution_count": 0,
      "outputs": [
        {
          "output_type": "execute_result",
          "data": {
            "text/plain": [
              "\"width = 28000000; lon_0 = -105; lat_0 = 40\\nm = Basemap(width=width,height=width,projection='aeqd',\\n            lat_0=lat_0,lon_0=lon_0)\\n# fill background.\\nm.drawmapboundary(fill_color='aqua')\\n# draw coasts and fill continents.\\nm.drawcoastlines(linewidth=0.5)\\nm.fillcontinents(color='coral',lake_color='aqua')\\n# 20 degree graticule.\\nm.drawparallels(np.arange(-80,81,20))\\nm.drawmeridians(np.arange(-180,180,20))\\n# draw a black dot at the center.\\nxpt, ypt = m(lon_0, lat_0)\\nm.plot([xpt],[ypt],'ko')\\n# draw the title.\\nplt.title('Azimuthal Equidistant Projection')\\nplt.show()\""
            ]
          },
          "metadata": {
            "tags": []
          },
          "execution_count": 5
        }
      ]
    },
    {
      "metadata": {
        "id": "58of5Ft_3qQ_",
        "colab_type": "code",
        "colab": {}
      },
      "cell_type": "code",
      "source": [
        "class color:\n",
        "   PURPLE = '\\033[95m'\n",
        "   CYAN = '\\033[96m'\n",
        "   DARKCYAN = '\\033[36m'\n",
        "   BLUE = '\\033[94m'\n",
        "   GREEN = '\\033[92m'\n",
        "   YELLOW = '\\033[93m'\n",
        "   RED = '\\033[91m'\n",
        "   BOLD = '\\033[1m'\n",
        "   UNDERLINE = '\\033[4m'\n",
        "   END = '\\033[0m'"
      ],
      "execution_count": 0,
      "outputs": []
    },
    {
      "metadata": {
        "id": "YsUIKTNDq_JY",
        "colab_type": "text"
      },
      "cell_type": "markdown",
      "source": [
        "### Load the dataset..."
      ]
    },
    {
      "metadata": {
        "id": "RpQYnzQpMOTm",
        "colab_type": "code",
        "outputId": "a48a0940-a010-4adb-f51e-3fbd4e4ae06d",
        "colab": {
          "base_uri": "https://localhost:8080/",
          "height": 81
        }
      },
      "cell_type": "code",
      "source": [
        "df = pd.read_csv('/gdrive/My Drive/Colab Notebooks/LA Parking Citations/los-angeles-parking-citations/parking-citations.csv')\n",
        "coordinates = pd.read_csv('/gdrive/My Drive/Colab Notebooks/LA Parking Citations/los-angeles-parking-citations/stateplane.csv')"
      ],
      "execution_count": 42,
      "outputs": [
        {
          "output_type": "stream",
          "text": [
            "/usr/local/lib/python3.6/dist-packages/IPython/core/interactiveshell.py:2718: DtypeWarning: Columns (0,7) have mixed types. Specify dtype option on import or set low_memory=False.\n",
            "  interactivity=interactivity, compiler=compiler, result=result)\n"
          ],
          "name": "stderr"
        }
      ]
    },
    {
      "metadata": {
        "id": "cjaBbs9E51OF",
        "colab_type": "code",
        "outputId": "56c46cbb-5047-47b3-8ad3-739bd11242bc",
        "colab": {
          "base_uri": "https://localhost:8080/",
          "height": 348
        }
      },
      "cell_type": "code",
      "source": [
        "df.head()"
      ],
      "execution_count": 0,
      "outputs": [
        {
          "output_type": "execute_result",
          "data": {
            "text/html": [
              "<div>\n",
              "<style scoped>\n",
              "    .dataframe tbody tr th:only-of-type {\n",
              "        vertical-align: middle;\n",
              "    }\n",
              "\n",
              "    .dataframe tbody tr th {\n",
              "        vertical-align: top;\n",
              "    }\n",
              "\n",
              "    .dataframe thead th {\n",
              "        text-align: right;\n",
              "    }\n",
              "</style>\n",
              "<table border=\"1\" class=\"dataframe\">\n",
              "  <thead>\n",
              "    <tr style=\"text-align: right;\">\n",
              "      <th></th>\n",
              "      <th>Ticket number</th>\n",
              "      <th>Issue Date</th>\n",
              "      <th>Issue time</th>\n",
              "      <th>Meter Id</th>\n",
              "      <th>Marked Time</th>\n",
              "      <th>RP State Plate</th>\n",
              "      <th>Plate Expiry Date</th>\n",
              "      <th>VIN</th>\n",
              "      <th>Make</th>\n",
              "      <th>Body Style</th>\n",
              "      <th>Color</th>\n",
              "      <th>Location</th>\n",
              "      <th>Route</th>\n",
              "      <th>Agency</th>\n",
              "      <th>Violation code</th>\n",
              "      <th>Violation Description</th>\n",
              "      <th>Fine amount</th>\n",
              "      <th>Latitude</th>\n",
              "      <th>Longitude</th>\n",
              "    </tr>\n",
              "  </thead>\n",
              "  <tbody>\n",
              "    <tr>\n",
              "      <th>0</th>\n",
              "      <td>1103341116</td>\n",
              "      <td>2015-12-21T00:00:00</td>\n",
              "      <td>1251.0</td>\n",
              "      <td>NaN</td>\n",
              "      <td>NaN</td>\n",
              "      <td>CA</td>\n",
              "      <td>200304.0</td>\n",
              "      <td>NaN</td>\n",
              "      <td>HOND</td>\n",
              "      <td>PA</td>\n",
              "      <td>GY</td>\n",
              "      <td>13147 WELBY WAY</td>\n",
              "      <td>01521</td>\n",
              "      <td>1.0</td>\n",
              "      <td>4000A1</td>\n",
              "      <td>NO EVIDENCE OF REG</td>\n",
              "      <td>50.0</td>\n",
              "      <td>99999.0</td>\n",
              "      <td>99999.0</td>\n",
              "    </tr>\n",
              "    <tr>\n",
              "      <th>1</th>\n",
              "      <td>1103700150</td>\n",
              "      <td>2015-12-21T00:00:00</td>\n",
              "      <td>1435.0</td>\n",
              "      <td>NaN</td>\n",
              "      <td>NaN</td>\n",
              "      <td>CA</td>\n",
              "      <td>201512.0</td>\n",
              "      <td>NaN</td>\n",
              "      <td>GMC</td>\n",
              "      <td>VN</td>\n",
              "      <td>WH</td>\n",
              "      <td>525 S MAIN ST</td>\n",
              "      <td>1C51</td>\n",
              "      <td>1.0</td>\n",
              "      <td>4000A1</td>\n",
              "      <td>NO EVIDENCE OF REG</td>\n",
              "      <td>50.0</td>\n",
              "      <td>99999.0</td>\n",
              "      <td>99999.0</td>\n",
              "    </tr>\n",
              "    <tr>\n",
              "      <th>2</th>\n",
              "      <td>1104803000</td>\n",
              "      <td>2015-12-21T00:00:00</td>\n",
              "      <td>2055.0</td>\n",
              "      <td>NaN</td>\n",
              "      <td>NaN</td>\n",
              "      <td>CA</td>\n",
              "      <td>201503.0</td>\n",
              "      <td>NaN</td>\n",
              "      <td>NISS</td>\n",
              "      <td>PA</td>\n",
              "      <td>BK</td>\n",
              "      <td>200 WORLD WAY</td>\n",
              "      <td>2R2</td>\n",
              "      <td>2.0</td>\n",
              "      <td>8939</td>\n",
              "      <td>WHITE CURB</td>\n",
              "      <td>58.0</td>\n",
              "      <td>6439997.9</td>\n",
              "      <td>1802686.4</td>\n",
              "    </tr>\n",
              "    <tr>\n",
              "      <th>3</th>\n",
              "      <td>1104820732</td>\n",
              "      <td>2015-12-26T00:00:00</td>\n",
              "      <td>1515.0</td>\n",
              "      <td>NaN</td>\n",
              "      <td>NaN</td>\n",
              "      <td>CA</td>\n",
              "      <td>NaN</td>\n",
              "      <td>NaN</td>\n",
              "      <td>ACUR</td>\n",
              "      <td>PA</td>\n",
              "      <td>WH</td>\n",
              "      <td>100 WORLD WAY</td>\n",
              "      <td>2F11</td>\n",
              "      <td>2.0</td>\n",
              "      <td>000</td>\n",
              "      <td>17104h</td>\n",
              "      <td>NaN</td>\n",
              "      <td>6440041.1</td>\n",
              "      <td>1802686.2</td>\n",
              "    </tr>\n",
              "    <tr>\n",
              "      <th>4</th>\n",
              "      <td>1105461453</td>\n",
              "      <td>2015-09-15T00:00:00</td>\n",
              "      <td>115.0</td>\n",
              "      <td>NaN</td>\n",
              "      <td>NaN</td>\n",
              "      <td>CA</td>\n",
              "      <td>200316.0</td>\n",
              "      <td>NaN</td>\n",
              "      <td>CHEV</td>\n",
              "      <td>PA</td>\n",
              "      <td>BK</td>\n",
              "      <td>GEORGIA ST/OLYMPIC</td>\n",
              "      <td>1FB70</td>\n",
              "      <td>1.0</td>\n",
              "      <td>8069A</td>\n",
              "      <td>NO STOPPING/STANDING</td>\n",
              "      <td>93.0</td>\n",
              "      <td>99999.0</td>\n",
              "      <td>99999.0</td>\n",
              "    </tr>\n",
              "  </tbody>\n",
              "</table>\n",
              "</div>"
            ],
            "text/plain": [
              "  Ticket number           Issue Date  Issue time Meter Id  Marked Time  \\\n",
              "0    1103341116  2015-12-21T00:00:00      1251.0      NaN          NaN   \n",
              "1    1103700150  2015-12-21T00:00:00      1435.0      NaN          NaN   \n",
              "2    1104803000  2015-12-21T00:00:00      2055.0      NaN          NaN   \n",
              "3    1104820732  2015-12-26T00:00:00      1515.0      NaN          NaN   \n",
              "4    1105461453  2015-09-15T00:00:00       115.0      NaN          NaN   \n",
              "\n",
              "  RP State Plate  Plate Expiry Date  VIN  Make Body Style Color  \\\n",
              "0             CA           200304.0  NaN  HOND         PA    GY   \n",
              "1             CA           201512.0  NaN   GMC         VN    WH   \n",
              "2             CA           201503.0  NaN  NISS         PA    BK   \n",
              "3             CA                NaN  NaN  ACUR         PA    WH   \n",
              "4             CA           200316.0  NaN  CHEV         PA    BK   \n",
              "\n",
              "             Location  Route  Agency Violation code Violation Description  \\\n",
              "0     13147 WELBY WAY  01521     1.0         4000A1    NO EVIDENCE OF REG   \n",
              "1       525 S MAIN ST   1C51     1.0         4000A1    NO EVIDENCE OF REG   \n",
              "2       200 WORLD WAY    2R2     2.0           8939            WHITE CURB   \n",
              "3       100 WORLD WAY   2F11     2.0            000                17104h   \n",
              "4  GEORGIA ST/OLYMPIC  1FB70     1.0          8069A  NO STOPPING/STANDING   \n",
              "\n",
              "   Fine amount   Latitude  Longitude  \n",
              "0         50.0    99999.0    99999.0  \n",
              "1         50.0    99999.0    99999.0  \n",
              "2         58.0  6439997.9  1802686.4  \n",
              "3          NaN  6440041.1  1802686.2  \n",
              "4         93.0    99999.0    99999.0  "
            ]
          },
          "metadata": {
            "tags": []
          },
          "execution_count": 8
        }
      ]
    },
    {
      "metadata": {
        "id": "MRexXkMLlA_E",
        "colab_type": "code",
        "outputId": "934ab4c1-6cb8-4553-f815-e6ebbf7c14be",
        "colab": {
          "base_uri": "https://localhost:8080/",
          "height": 357
        }
      },
      "cell_type": "code",
      "source": [
        "df.isnull().sum()"
      ],
      "execution_count": 0,
      "outputs": [
        {
          "output_type": "execute_result",
          "data": {
            "text/plain": [
              "Ticket number                  0\n",
              "Issue Date                   535\n",
              "Issue time                  2590\n",
              "Meter Id                 6472588\n",
              "Marked Time              8456519\n",
              "RP State Plate               765\n",
              "Plate Expiry Date         797010\n",
              "VIN                      8731405\n",
              "Make                        8767\n",
              "Body Style                  8898\n",
              "Color                       4119\n",
              "Location                     854\n",
              "Route                      65389\n",
              "Agency                       544\n",
              "Violation code                 0\n",
              "Violation Description        874\n",
              "Fine amount                 6514\n",
              "Latitude                       3\n",
              "Longitude                      3\n",
              "dtype: int64"
            ]
          },
          "metadata": {
            "tags": []
          },
          "execution_count": 9
        }
      ]
    },
    {
      "metadata": {
        "id": "esFT5ZfvCMjy",
        "colab_type": "text"
      },
      "cell_type": "markdown",
      "source": [
        "### We drop the columns 'Meter Id', 'Marked Time', and 'VIN' since  most of their values are missing..."
      ]
    },
    {
      "metadata": {
        "id": "ktYNipALBF6W",
        "colab_type": "code",
        "colab": {}
      },
      "cell_type": "code",
      "source": [
        "df.drop(['Meter Id','Marked Time','VIN'],axis=1,inplace=True)"
      ],
      "execution_count": 0,
      "outputs": []
    },
    {
      "metadata": {
        "id": "EDOzruGg5iCU",
        "colab_type": "text"
      },
      "cell_type": "markdown",
      "source": [
        "### Let's convert all date fields to pandas 'datetime' variables so that we can easily work with dates and times in our analysis."
      ]
    },
    {
      "metadata": {
        "id": "6Lx1hFadC0Od",
        "colab_type": "code",
        "colab": {}
      },
      "cell_type": "code",
      "source": [
        "def CreateDateTimeVariable(column):\n",
        "  column.fillna(0.0,inplace=True)\n",
        "  column = column/100\n",
        "  column = pd.to_datetime(column,format='%H.%M',errors = 'coerce').dt.time\n",
        "  column = pd.to_datetime(column,format='%H:%M:%S').dt.time\n",
        "  return column"
      ],
      "execution_count": 0,
      "outputs": []
    },
    {
      "metadata": {
        "id": "k8dun8b0lx5o",
        "colab_type": "code",
        "colab": {}
      },
      "cell_type": "code",
      "source": [
        "df['Issue Date'] = pd.to_datetime(df['Issue Date'],format = '%Y-%m-%d')\n",
        "\n",
        "df['Issue Date Month'] = df['Issue Date'].dt.month\n",
        "month_dict = {1:\"Jan\",2:\"Feb\", 3:\"Mar\", 4:\"Apr\", 5:\"May\",6: \"Jun\", 7:\"Jul\",8:\"Aug\",9:\"Sep\",10:\"Oct\",11:\"Nov\",12:\"Dec\"}\n",
        "df['Issue Date Month Name'] = df['Issue Date Month'].map(month_dict)\n",
        "\n",
        "df['Issue Date Day'] = df['Issue Date'].dt.day\n",
        "df['Issue Date Day of Week'] = df['Issue Date'].dt.weekday_name\n",
        " \n",
        "df['Issue time'] = CreateDateTimeVariable(df['Issue time'])\n",
        "\n",
        "df['Plate Expiry Date'].fillna(value = 201812.0,inplace=True)\n",
        "df['Plate Expiry Date'] = df['Plate Expiry Date']/100\n",
        "number_dec = df['Plate Expiry Date']%1\n",
        "number_dec.where(number_dec<=0.12,0.12)\n",
        "df['Plate Expiry Date'] = df['Plate Expiry Date'].astype(np.int64) + number_dec\n",
        "df['Plate Expiry Date'] = df['Plate Expiry Date'].astype(str)\n",
        "df['Plate Expiry Date'] = pd.to_datetime(df['Plate Expiry Date'],format='%Y.%m',errors='coerce')"
      ],
      "execution_count": 0,
      "outputs": []
    },
    {
      "metadata": {
        "id": "_XpoAyf2rFaL",
        "colab_type": "text"
      },
      "cell_type": "markdown",
      "source": [
        "### Let's get a barchart of the number of tickets issued per month...\n",
        "\n",
        "\n"
      ]
    },
    {
      "metadata": {
        "id": "pEaJMQskGHT-",
        "colab_type": "code",
        "outputId": "a6b8495c-b232-41d0-a07d-1a87112bcce0",
        "colab": {
          "base_uri": "https://localhost:8080/",
          "height": 421
        }
      },
      "cell_type": "code",
      "source": [
        "citations_per_month = df.groupby(df['Issue Date Month Name'])['Ticket number'].count().reset_index()\n",
        "citations_per_month.rename(columns = {'Ticket number': 'Number of Tickets'},inplace=True)\n",
        "citations_per_month"
      ],
      "execution_count": 0,
      "outputs": [
        {
          "output_type": "execute_result",
          "data": {
            "text/html": [
              "<div>\n",
              "<style scoped>\n",
              "    .dataframe tbody tr th:only-of-type {\n",
              "        vertical-align: middle;\n",
              "    }\n",
              "\n",
              "    .dataframe tbody tr th {\n",
              "        vertical-align: top;\n",
              "    }\n",
              "\n",
              "    .dataframe thead th {\n",
              "        text-align: right;\n",
              "    }\n",
              "</style>\n",
              "<table border=\"1\" class=\"dataframe\">\n",
              "  <thead>\n",
              "    <tr style=\"text-align: right;\">\n",
              "      <th></th>\n",
              "      <th>Issue Date Month Name</th>\n",
              "      <th>Number of Tickets</th>\n",
              "    </tr>\n",
              "  </thead>\n",
              "  <tbody>\n",
              "    <tr>\n",
              "      <th>0</th>\n",
              "      <td>Apr</td>\n",
              "      <td>732434</td>\n",
              "    </tr>\n",
              "    <tr>\n",
              "      <th>1</th>\n",
              "      <td>Aug</td>\n",
              "      <td>760805</td>\n",
              "    </tr>\n",
              "    <tr>\n",
              "      <th>2</th>\n",
              "      <td>Dec</td>\n",
              "      <td>723418</td>\n",
              "    </tr>\n",
              "    <tr>\n",
              "      <th>3</th>\n",
              "      <td>Feb</td>\n",
              "      <td>684398</td>\n",
              "    </tr>\n",
              "    <tr>\n",
              "      <th>4</th>\n",
              "      <td>Jan</td>\n",
              "      <td>807946</td>\n",
              "    </tr>\n",
              "    <tr>\n",
              "      <th>5</th>\n",
              "      <td>Jul</td>\n",
              "      <td>697655</td>\n",
              "    </tr>\n",
              "    <tr>\n",
              "      <th>6</th>\n",
              "      <td>Jun</td>\n",
              "      <td>743998</td>\n",
              "    </tr>\n",
              "    <tr>\n",
              "      <th>7</th>\n",
              "      <td>Mar</td>\n",
              "      <td>796876</td>\n",
              "    </tr>\n",
              "    <tr>\n",
              "      <th>8</th>\n",
              "      <td>May</td>\n",
              "      <td>753638</td>\n",
              "    </tr>\n",
              "    <tr>\n",
              "      <th>9</th>\n",
              "      <td>Nov</td>\n",
              "      <td>657713</td>\n",
              "    </tr>\n",
              "    <tr>\n",
              "      <th>10</th>\n",
              "      <td>Oct</td>\n",
              "      <td>717951</td>\n",
              "    </tr>\n",
              "    <tr>\n",
              "      <th>11</th>\n",
              "      <td>Sep</td>\n",
              "      <td>670347</td>\n",
              "    </tr>\n",
              "  </tbody>\n",
              "</table>\n",
              "</div>"
            ],
            "text/plain": [
              "   Issue Date Month Name  Number of Tickets\n",
              "0                    Apr             732434\n",
              "1                    Aug             760805\n",
              "2                    Dec             723418\n",
              "3                    Feb             684398\n",
              "4                    Jan             807946\n",
              "5                    Jul             697655\n",
              "6                    Jun             743998\n",
              "7                    Mar             796876\n",
              "8                    May             753638\n",
              "9                    Nov             657713\n",
              "10                   Oct             717951\n",
              "11                   Sep             670347"
            ]
          },
          "metadata": {
            "tags": []
          },
          "execution_count": 13
        }
      ]
    },
    {
      "metadata": {
        "id": "wGj0OeCYc0Zr",
        "colab_type": "code",
        "outputId": "44329c8f-561e-4ca5-afc8-a25845f7920d",
        "colab": {
          "base_uri": "https://localhost:8080/",
          "height": 393
        }
      },
      "cell_type": "code",
      "source": [
        "month_order = ['Jan','Feb','Mar','Apr','May','Jun','Jul','Aug','Sep','Oct','Nov','Dec']\n",
        "ax = citations_per_month.set_index(\"Issue Date Month Name\").loc[month_order].plot(kind=\"bar\", legend=False)\n",
        "for tick in ax.get_xticklabels():\n",
        "    tick.set_rotation(0)\n",
        "ax.yaxis.set_major_formatter(mpl.ticker.StrMethodFormatter('{x:,.0f}'))   \n",
        "ax.set_xlabel('Month',labelpad =15,fontweight='bold')\n",
        "ax.set_ylabel('Number of Citations',fontweight='bold')\n",
        "ax.set_title('Total Citations Issued By Month',fontsize=20,fontweight='bold')\n",
        "\n",
        "plt.show()"
      ],
      "execution_count": 0,
      "outputs": [
        {
          "output_type": "display_data",
          "data": {
            "image/png": "[encoded data removed]",
            "text/plain": [
              "<Figure size 576x396 with 1 Axes>"
            ]
          },
          "metadata": {
            "tags": []
          }
        }
      ]
    },
    {
      "metadata": {
        "id": "ZmvDFPTYfNcU",
        "colab_type": "text"
      },
      "cell_type": "markdown",
      "source": [
        "### How many citations were issued for each day of the week?"
      ]
    },
    {
      "metadata": {
        "id": "MeVn-fchUq2n",
        "colab_type": "code",
        "outputId": "dfccbca7-1a7c-4845-bb77-cbf1774704b9",
        "colab": {
          "base_uri": "https://localhost:8080/",
          "height": 266
        }
      },
      "cell_type": "code",
      "source": [
        "citations_per_weekday = df.groupby(df['Issue Date Day of Week'])['Ticket number'].count().reset_index()\n",
        "citations_per_weekday.rename(columns = {'Ticket number': 'Number of Tickets'},inplace=True)\n",
        "citations_per_weekday"
      ],
      "execution_count": 0,
      "outputs": [
        {
          "output_type": "execute_result",
          "data": {
            "text/html": [
              "<div>\n",
              "<style scoped>\n",
              "    .dataframe tbody tr th:only-of-type {\n",
              "        vertical-align: middle;\n",
              "    }\n",
              "\n",
              "    .dataframe tbody tr th {\n",
              "        vertical-align: top;\n",
              "    }\n",
              "\n",
              "    .dataframe thead th {\n",
              "        text-align: right;\n",
              "    }\n",
              "</style>\n",
              "<table border=\"1\" class=\"dataframe\">\n",
              "  <thead>\n",
              "    <tr style=\"text-align: right;\">\n",
              "      <th></th>\n",
              "      <th>Issue Date Day of Week</th>\n",
              "      <th>Number of Tickets</th>\n",
              "    </tr>\n",
              "  </thead>\n",
              "  <tbody>\n",
              "    <tr>\n",
              "      <th>0</th>\n",
              "      <td>Friday</td>\n",
              "      <td>1424611</td>\n",
              "    </tr>\n",
              "    <tr>\n",
              "      <th>1</th>\n",
              "      <td>Monday</td>\n",
              "      <td>1427306</td>\n",
              "    </tr>\n",
              "    <tr>\n",
              "      <th>2</th>\n",
              "      <td>Saturday</td>\n",
              "      <td>492124</td>\n",
              "    </tr>\n",
              "    <tr>\n",
              "      <th>3</th>\n",
              "      <td>Sunday</td>\n",
              "      <td>446726</td>\n",
              "    </tr>\n",
              "    <tr>\n",
              "      <th>4</th>\n",
              "      <td>Thursday</td>\n",
              "      <td>1638213</td>\n",
              "    </tr>\n",
              "    <tr>\n",
              "      <th>5</th>\n",
              "      <td>Tuesday</td>\n",
              "      <td>1701473</td>\n",
              "    </tr>\n",
              "    <tr>\n",
              "      <th>6</th>\n",
              "      <td>Wednesday</td>\n",
              "      <td>1616726</td>\n",
              "    </tr>\n",
              "  </tbody>\n",
              "</table>\n",
              "</div>"
            ],
            "text/plain": [
              "  Issue Date Day of Week  Number of Tickets\n",
              "0                 Friday            1424611\n",
              "1                 Monday            1427306\n",
              "2               Saturday             492124\n",
              "3                 Sunday             446726\n",
              "4               Thursday            1638213\n",
              "5                Tuesday            1701473\n",
              "6              Wednesday            1616726"
            ]
          },
          "metadata": {
            "tags": []
          },
          "execution_count": 15
        }
      ]
    },
    {
      "metadata": {
        "id": "NuPzw71FUjXB",
        "colab_type": "code",
        "outputId": "5deb57e0-d836-4edc-bc1b-72c87fde29b2",
        "colab": {
          "base_uri": "https://localhost:8080/",
          "height": 393
        }
      },
      "cell_type": "code",
      "source": [
        "day_order = [\"Sunday\",\"Monday\", \"Tuesday\", \"Wednesday\", \"Thursday\", \"Friday\", \"Saturday\"]\n",
        "ax = citations_per_weekday.set_index(\"Issue Date Day of Week\").loc[day_order].plot(kind=\"bar\", legend=False)\n",
        "for tick in ax.get_xticklabels():\n",
        "    tick.set_rotation(0)\n",
        "ax.yaxis.set_major_formatter(mpl.ticker.StrMethodFormatter('{x:,.0f}'))   \n",
        "ax.set_xlabel('Day of Week',labelpad =15,fontweight='bold')\n",
        "ax.set_ylabel('Number of Citations',fontweight='bold')\n",
        "ax.set_title('Total Citations Issued By Day of Week',fontsize=20,fontweight='bold')\n",
        "\n",
        "plt.show()"
      ],
      "execution_count": 0,
      "outputs": [
        {
          "output_type": "display_data",
          "data": {
            "image/png": "[encoded data removed]",
            "text/plain": [
              "<Figure size 576x396 with 1 Axes>"
            ]
          },
          "metadata": {
            "tags": []
          }
        }
      ]
    },
    {
      "metadata": {
        "id": "UGGMHyGMjloO",
        "colab_type": "text"
      },
      "cell_type": "markdown",
      "source": [
        "### Let's use the latitude and longitude info provided to produce a map showing where the citations were issued..."
      ]
    },
    {
      "metadata": {
        "id": "MPlL3cn_2PJ7",
        "colab_type": "code",
        "outputId": "40b5f52c-d877-4fb9-d9e9-bc6a3c769ca9",
        "colab": {
          "base_uri": "https://localhost:8080/",
          "height": 297
        }
      },
      "cell_type": "code",
      "source": [
        "coordinates.describe()"
      ],
      "execution_count": 43,
      "outputs": [
        {
          "output_type": "execute_result",
          "data": {
            "text/html": [
              "<div>\n",
              "<style scoped>\n",
              "    .dataframe tbody tr th:only-of-type {\n",
              "        vertical-align: middle;\n",
              "    }\n",
              "\n",
              "    .dataframe tbody tr th {\n",
              "        vertical-align: top;\n",
              "    }\n",
              "\n",
              "    .dataframe thead th {\n",
              "        text-align: right;\n",
              "    }\n",
              "</style>\n",
              "<table border=\"1\" class=\"dataframe\">\n",
              "  <thead>\n",
              "    <tr style=\"text-align: right;\">\n",
              "      <th></th>\n",
              "      <th>Unnamed: 0</th>\n",
              "      <th>Latitude</th>\n",
              "      <th>Longitude</th>\n",
              "      <th>Count</th>\n",
              "      <th>Lon</th>\n",
              "      <th>Lat</th>\n",
              "    </tr>\n",
              "  </thead>\n",
              "  <tbody>\n",
              "    <tr>\n",
              "      <th>count</th>\n",
              "      <td>716326.000000</td>\n",
              "      <td>7.163260e+05</td>\n",
              "      <td>7.163260e+05</td>\n",
              "      <td>716326.000000</td>\n",
              "      <td>716326.000000</td>\n",
              "      <td>716326.000000</td>\n",
              "    </tr>\n",
              "    <tr>\n",
              "      <th>mean</th>\n",
              "      <td>358162.500000</td>\n",
              "      <td>6.463841e+06</td>\n",
              "      <td>1.854419e+06</td>\n",
              "      <td>10.390895</td>\n",
              "      <td>-118.345951</td>\n",
              "      <td>34.067521</td>\n",
              "    </tr>\n",
              "    <tr>\n",
              "      <th>std</th>\n",
              "      <td>206785.648801</td>\n",
              "      <td>4.933780e+06</td>\n",
              "      <td>4.940503e+06</td>\n",
              "      <td>71.531312</td>\n",
              "      <td>0.407241</td>\n",
              "      <td>0.232636</td>\n",
              "    </tr>\n",
              "    <tr>\n",
              "      <th>min</th>\n",
              "      <td>0.000000</td>\n",
              "      <td>6.275463e+06</td>\n",
              "      <td>1.582640e+06</td>\n",
              "      <td>1.000000</td>\n",
              "      <td>-118.944791</td>\n",
              "      <td>-89.977899</td>\n",
              "    </tr>\n",
              "    <tr>\n",
              "      <th>25%</th>\n",
              "      <td>179081.250000</td>\n",
              "      <td>6.433912e+06</td>\n",
              "      <td>1.829179e+06</td>\n",
              "      <td>1.000000</td>\n",
              "      <td>-118.421959</td>\n",
              "      <td>34.018197</td>\n",
              "    </tr>\n",
              "    <tr>\n",
              "      <th>50%</th>\n",
              "      <td>358162.500000</td>\n",
              "      <td>6.462764e+06</td>\n",
              "      <td>1.844984e+06</td>\n",
              "      <td>2.000000</td>\n",
              "      <td>-118.326637</td>\n",
              "      <td>34.061679</td>\n",
              "    </tr>\n",
              "    <tr>\n",
              "      <th>75%</th>\n",
              "      <td>537243.750000</td>\n",
              "      <td>6.478113e+06</td>\n",
              "      <td>1.867983e+06</td>\n",
              "      <td>6.000000</td>\n",
              "      <td>-118.275757</td>\n",
              "      <td>34.125056</td>\n",
              "    </tr>\n",
              "    <tr>\n",
              "      <th>max</th>\n",
              "      <td>716325.000000</td>\n",
              "      <td>4.042322e+09</td>\n",
              "      <td>4.042322e+09</td>\n",
              "      <td>9827.000000</td>\n",
              "      <td>118.515748</td>\n",
              "      <td>34.748181</td>\n",
              "    </tr>\n",
              "  </tbody>\n",
              "</table>\n",
              "</div>"
            ],
            "text/plain": [
              "          Unnamed: 0      Latitude     Longitude          Count  \\\n",
              "count  716326.000000  7.163260e+05  7.163260e+05  716326.000000   \n",
              "mean   358162.500000  6.463841e+06  1.854419e+06      10.390895   \n",
              "std    206785.648801  4.933780e+06  4.940503e+06      71.531312   \n",
              "min         0.000000  6.275463e+06  1.582640e+06       1.000000   \n",
              "25%    179081.250000  6.433912e+06  1.829179e+06       1.000000   \n",
              "50%    358162.500000  6.462764e+06  1.844984e+06       2.000000   \n",
              "75%    537243.750000  6.478113e+06  1.867983e+06       6.000000   \n",
              "max    716325.000000  4.042322e+09  4.042322e+09    9827.000000   \n",
              "\n",
              "                 Lon            Lat  \n",
              "count  716326.000000  716326.000000  \n",
              "mean     -118.345951      34.067521  \n",
              "std         0.407241       0.232636  \n",
              "min      -118.944791     -89.977899  \n",
              "25%      -118.421959      34.018197  \n",
              "50%      -118.326637      34.061679  \n",
              "75%      -118.275757      34.125056  \n",
              "max       118.515748      34.748181  "
            ]
          },
          "metadata": {
            "tags": []
          },
          "execution_count": 43
        }
      ]
    },
    {
      "metadata": {
        "id": "vTAZhPkxCm2I",
        "colab_type": "code",
        "colab": {}
      },
      "cell_type": "code",
      "source": [
        "df_lat_lng = df.filter(['Latitude','Longitude'], axis=1)\n",
        "df_lat_lng = df_lat_lng[df_lat_lng.Latitude != 99999]   # Filter out erroneous and values\n",
        "df_lat_lng = df_lat_lng.dropna()\n",
        "df_lat_lng = df_lat_lng.groupby(['Latitude','Longitude']).size().reset_index()\n",
        "df_lat_lng = coordinates.merge(df_lat_lng, how='left', on=['Latitude','Longitude'])\n",
        "df_lat_lng = df_lat_lng.drop(['Unnamed: 0',0],axis=1)\n",
        "df_lat_lng = df_lat_lng[df_lat_lng.Lat > 0]"
      ],
      "execution_count": 0,
      "outputs": []
    },
    {
      "metadata": {
        "id": "JF4qSfzrGRfz",
        "colab_type": "code",
        "colab": {}
      },
      "cell_type": "code",
      "source": [
        "lat = np.asarray(df_lat_lng['Lat'])\n",
        "lng = np.asarray(df_lat_lng['Lon'])"
      ],
      "execution_count": 0,
      "outputs": []
    },
    {
      "metadata": {
        "id": "8ARR8_Uoijcj",
        "colab_type": "code",
        "outputId": "302b0fb4-b4d6-4de9-e5b8-2e333f1da4e0",
        "colab": {
          "base_uri": "https://localhost:8080/",
          "height": 483
        }
      },
      "cell_type": "code",
      "source": [
        "margin = 0.2                     # buffer to add to the range\n",
        "lat_min = min(lat) - margin\n",
        "lat_max = max(lat) + margin\n",
        "lng_min = min(lng) - margin\n",
        "lng_max = max(lng) + margin\n",
        "\n",
        "# create map using BASEMAP\n",
        "fig,ax = plt.subplots(figsize=(14,8))\n",
        "\n",
        "map = Basemap(llcrnrlon=lng_min,\n",
        "            llcrnrlat=lat_min,\n",
        "            urcrnrlon=lng_max,\n",
        "            urcrnrlat=lat_max,\n",
        "            lat_0=(lat_max - lat_min)/2,\n",
        "            lon_0=(lng_max-lng_min)/2,\n",
        "            projection='merc',\n",
        "            resolution = 'h',\n",
        "            area_thresh=10000.,\n",
        "            )\n",
        "map.drawcoastlines()\n",
        "map.drawcountries()\n",
        "map.drawstates()\n",
        "map.drawmapboundary(fill_color='#46bcec')\n",
        "map.fillcontinents(color = 'white',lake_color='#46bcec')\n",
        "\n",
        "# convert lat and long to map projection coordinates\n",
        "x,y = map(lng, lat)\n",
        "\n",
        "# plot points as red dots\n",
        "\n",
        "map.scatter(x,y, marker = 'o',s = 10, color='r',alpha=0.35, zorder=10)"
      ],
      "execution_count": 0,
      "outputs": [
        {
          "output_type": "execute_result",
          "data": {
            "text/plain": [
              "<matplotlib.collections.PathCollection at 0x7f7a777fbf60>"
            ]
          },
          "metadata": {
            "tags": []
          },
          "execution_count": 20
        },
        {
          "output_type": "display_data",
          "data": {
            "image/png": "[encoded data removed]",
            "text/plain": [
              "<Figure size 1008x576 with 1 Axes>"
            ]
          },
          "metadata": {
            "tags": []
          }
        }
      ]
    },
    {
      "metadata": {
        "id": "je96x4lacGal",
        "colab_type": "text"
      },
      "cell_type": "markdown",
      "source": [
        "### Where are the citations with the largest fines located?"
      ]
    },
    {
      "metadata": {
        "id": "ktMTd-aUcXPU",
        "colab_type": "code",
        "colab": {
          "base_uri": "https://localhost:8080/",
          "height": 1969
        },
        "outputId": "8f5c2529-990a-4913-db44-2f6fd4817007"
      },
      "cell_type": "code",
      "source": [
        "df_fine_analysis = df[['Longitude', 'Latitude','Fine amount']].copy()\n",
        "df_fine_analysis = (df_fine_analysis[df_fine_analysis.Longitude != 99999]).dropna()\n",
        "df_fine_analysis = df_fine_analysis.groupby(['Longitude','Latitude'])['Fine amount'].sum().reset_index()\n",
        "df_fine_analysis.sort_values(by='Fine amount',ascending=False)"
      ],
      "execution_count": 87,
      "outputs": [
        {
          "output_type": "execute_result",
          "data": {
            "text/html": [
              "<div>\n",
              "<style scoped>\n",
              "    .dataframe tbody tr th:only-of-type {\n",
              "        vertical-align: middle;\n",
              "    }\n",
              "\n",
              "    .dataframe tbody tr th {\n",
              "        vertical-align: top;\n",
              "    }\n",
              "\n",
              "    .dataframe thead th {\n",
              "        text-align: right;\n",
              "    }\n",
              "</style>\n",
              "<table border=\"1\" class=\"dataframe\">\n",
              "  <thead>\n",
              "    <tr style=\"text-align: right;\">\n",
              "      <th></th>\n",
              "      <th>Longitude</th>\n",
              "      <th>Latitude</th>\n",
              "      <th>Fine amount</th>\n",
              "    </tr>\n",
              "  </thead>\n",
              "  <tbody>\n",
              "    <tr>\n",
              "      <th>815656</th>\n",
              "      <td>1.859071e+06</td>\n",
              "      <td>6.458312e+06</td>\n",
              "      <td>472781.0</td>\n",
              "    </tr>\n",
              "    <tr>\n",
              "      <th>185659</th>\n",
              "      <td>1.819688e+06</td>\n",
              "      <td>6.419829e+06</td>\n",
              "      <td>440233.0</td>\n",
              "    </tr>\n",
              "    <tr>\n",
              "      <th>815665</th>\n",
              "      <td>1.859071e+06</td>\n",
              "      <td>6.458312e+06</td>\n",
              "      <td>323561.0</td>\n",
              "    </tr>\n",
              "    <tr>\n",
              "      <th>944666</th>\n",
              "      <td>1.882602e+06</td>\n",
              "      <td>6.448999e+06</td>\n",
              "      <td>319278.0</td>\n",
              "    </tr>\n",
              "    <tr>\n",
              "      <th>660890</th>\n",
              "      <td>1.849114e+06</td>\n",
              "      <td>6.463690e+06</td>\n",
              "      <td>314947.0</td>\n",
              "    </tr>\n",
              "    <tr>\n",
              "      <th>803283</th>\n",
              "      <td>1.858225e+06</td>\n",
              "      <td>6.467525e+06</td>\n",
              "      <td>269764.0</td>\n",
              "    </tr>\n",
              "    <tr>\n",
              "      <th>383244</th>\n",
              "      <td>1.836302e+06</td>\n",
              "      <td>6.448021e+06</td>\n",
              "      <td>267095.0</td>\n",
              "    </tr>\n",
              "    <tr>\n",
              "      <th>660897</th>\n",
              "      <td>1.849114e+06</td>\n",
              "      <td>6.463690e+06</td>\n",
              "      <td>264928.0</td>\n",
              "    </tr>\n",
              "    <tr>\n",
              "      <th>383245</th>\n",
              "      <td>1.836302e+06</td>\n",
              "      <td>6.448021e+06</td>\n",
              "      <td>216188.0</td>\n",
              "    </tr>\n",
              "    <tr>\n",
              "      <th>951055</th>\n",
              "      <td>1.883364e+06</td>\n",
              "      <td>6.449000e+06</td>\n",
              "      <td>215117.0</td>\n",
              "    </tr>\n",
              "    <tr>\n",
              "      <th>85370</th>\n",
              "      <td>1.803998e+06</td>\n",
              "      <td>6.442060e+06</td>\n",
              "      <td>210680.0</td>\n",
              "    </tr>\n",
              "    <tr>\n",
              "      <th>485499</th>\n",
              "      <td>1.840434e+06</td>\n",
              "      <td>6.421786e+06</td>\n",
              "      <td>207949.0</td>\n",
              "    </tr>\n",
              "    <tr>\n",
              "      <th>803757</th>\n",
              "      <td>1.858229e+06</td>\n",
              "      <td>6.472239e+06</td>\n",
              "      <td>205387.0</td>\n",
              "    </tr>\n",
              "    <tr>\n",
              "      <th>180170</th>\n",
              "      <td>1.819197e+06</td>\n",
              "      <td>6.421106e+06</td>\n",
              "      <td>202307.0</td>\n",
              "    </tr>\n",
              "    <tr>\n",
              "      <th>597011</th>\n",
              "      <td>1.845451e+06</td>\n",
              "      <td>6.426798e+06</td>\n",
              "      <td>199740.0</td>\n",
              "    </tr>\n",
              "    <tr>\n",
              "      <th>664953</th>\n",
              "      <td>1.849337e+06</td>\n",
              "      <td>6.457482e+06</td>\n",
              "      <td>198417.0</td>\n",
              "    </tr>\n",
              "    <tr>\n",
              "      <th>794082</th>\n",
              "      <td>1.857542e+06</td>\n",
              "      <td>6.462121e+06</td>\n",
              "      <td>197732.0</td>\n",
              "    </tr>\n",
              "    <tr>\n",
              "      <th>909893</th>\n",
              "      <td>1.876409e+06</td>\n",
              "      <td>6.447001e+06</td>\n",
              "      <td>195303.0</td>\n",
              "    </tr>\n",
              "    <tr>\n",
              "      <th>394367</th>\n",
              "      <td>1.836817e+06</td>\n",
              "      <td>6.427372e+06</td>\n",
              "      <td>192114.0</td>\n",
              "    </tr>\n",
              "    <tr>\n",
              "      <th>794087</th>\n",
              "      <td>1.857542e+06</td>\n",
              "      <td>6.462121e+06</td>\n",
              "      <td>190819.0</td>\n",
              "    </tr>\n",
              "    <tr>\n",
              "      <th>649293</th>\n",
              "      <td>1.848423e+06</td>\n",
              "      <td>6.463690e+06</td>\n",
              "      <td>186535.0</td>\n",
              "    </tr>\n",
              "    <tr>\n",
              "      <th>819949</th>\n",
              "      <td>1.859358e+06</td>\n",
              "      <td>6.457731e+06</td>\n",
              "      <td>185988.0</td>\n",
              "    </tr>\n",
              "    <tr>\n",
              "      <th>885283</th>\n",
              "      <td>1.867430e+06</td>\n",
              "      <td>6.470141e+06</td>\n",
              "      <td>185842.0</td>\n",
              "    </tr>\n",
              "    <tr>\n",
              "      <th>80096</th>\n",
              "      <td>1.802687e+06</td>\n",
              "      <td>6.439920e+06</td>\n",
              "      <td>182924.0</td>\n",
              "    </tr>\n",
              "    <tr>\n",
              "      <th>819947</th>\n",
              "      <td>1.859358e+06</td>\n",
              "      <td>6.457731e+06</td>\n",
              "      <td>181583.0</td>\n",
              "    </tr>\n",
              "    <tr>\n",
              "      <th>529023</th>\n",
              "      <td>1.842165e+06</td>\n",
              "      <td>6.483074e+06</td>\n",
              "      <td>181509.0</td>\n",
              "    </tr>\n",
              "    <tr>\n",
              "      <th>944667</th>\n",
              "      <td>1.882602e+06</td>\n",
              "      <td>6.448999e+06</td>\n",
              "      <td>181077.0</td>\n",
              "    </tr>\n",
              "    <tr>\n",
              "      <th>803285</th>\n",
              "      <td>1.858225e+06</td>\n",
              "      <td>6.467525e+06</td>\n",
              "      <td>176945.0</td>\n",
              "    </tr>\n",
              "    <tr>\n",
              "      <th>948090</th>\n",
              "      <td>1.882982e+06</td>\n",
              "      <td>6.449301e+06</td>\n",
              "      <td>172170.0</td>\n",
              "    </tr>\n",
              "    <tr>\n",
              "      <th>814002</th>\n",
              "      <td>1.858944e+06</td>\n",
              "      <td>6.458313e+06</td>\n",
              "      <td>171558.0</td>\n",
              "    </tr>\n",
              "    <tr>\n",
              "      <th>...</th>\n",
              "      <td>...</td>\n",
              "      <td>...</td>\n",
              "      <td>...</td>\n",
              "    </tr>\n",
              "    <tr>\n",
              "      <th>315389</th>\n",
              "      <td>1.832401e+06</td>\n",
              "      <td>6.429087e+06</td>\n",
              "      <td>25.0</td>\n",
              "    </tr>\n",
              "    <tr>\n",
              "      <th>673340</th>\n",
              "      <td>1.849755e+06</td>\n",
              "      <td>6.507301e+06</td>\n",
              "      <td>25.0</td>\n",
              "    </tr>\n",
              "    <tr>\n",
              "      <th>673372</th>\n",
              "      <td>1.849756e+06</td>\n",
              "      <td>6.507461e+06</td>\n",
              "      <td>25.0</td>\n",
              "    </tr>\n",
              "    <tr>\n",
              "      <th>863087</th>\n",
              "      <td>1.863416e+06</td>\n",
              "      <td>6.504027e+06</td>\n",
              "      <td>25.0</td>\n",
              "    </tr>\n",
              "    <tr>\n",
              "      <th>176919</th>\n",
              "      <td>1.818975e+06</td>\n",
              "      <td>6.424572e+06</td>\n",
              "      <td>25.0</td>\n",
              "    </tr>\n",
              "    <tr>\n",
              "      <th>18281</th>\n",
              "      <td>1.728619e+06</td>\n",
              "      <td>6.466798e+06</td>\n",
              "      <td>25.0</td>\n",
              "    </tr>\n",
              "    <tr>\n",
              "      <th>731845</th>\n",
              "      <td>1.853192e+06</td>\n",
              "      <td>6.482708e+06</td>\n",
              "      <td>10.0</td>\n",
              "    </tr>\n",
              "    <tr>\n",
              "      <th>493301</th>\n",
              "      <td>1.840742e+06</td>\n",
              "      <td>6.477453e+06</td>\n",
              "      <td>10.0</td>\n",
              "    </tr>\n",
              "    <tr>\n",
              "      <th>662821</th>\n",
              "      <td>1.849239e+06</td>\n",
              "      <td>6.469928e+06</td>\n",
              "      <td>10.0</td>\n",
              "    </tr>\n",
              "    <tr>\n",
              "      <th>164792</th>\n",
              "      <td>1.817734e+06</td>\n",
              "      <td>6.422866e+06</td>\n",
              "      <td>10.0</td>\n",
              "    </tr>\n",
              "    <tr>\n",
              "      <th>849508</th>\n",
              "      <td>1.861661e+06</td>\n",
              "      <td>6.478923e+06</td>\n",
              "      <td>10.0</td>\n",
              "    </tr>\n",
              "    <tr>\n",
              "      <th>675030</th>\n",
              "      <td>1.849875e+06</td>\n",
              "      <td>6.463690e+06</td>\n",
              "      <td>10.0</td>\n",
              "    </tr>\n",
              "    <tr>\n",
              "      <th>164689</th>\n",
              "      <td>1.817725e+06</td>\n",
              "      <td>6.422129e+06</td>\n",
              "      <td>10.0</td>\n",
              "    </tr>\n",
              "    <tr>\n",
              "      <th>698781</th>\n",
              "      <td>1.851272e+06</td>\n",
              "      <td>6.470345e+06</td>\n",
              "      <td>10.0</td>\n",
              "    </tr>\n",
              "    <tr>\n",
              "      <th>670142</th>\n",
              "      <td>1.849613e+06</td>\n",
              "      <td>6.474482e+06</td>\n",
              "      <td>10.0</td>\n",
              "    </tr>\n",
              "    <tr>\n",
              "      <th>717657</th>\n",
              "      <td>1.852394e+06</td>\n",
              "      <td>6.482888e+06</td>\n",
              "      <td>10.0</td>\n",
              "    </tr>\n",
              "    <tr>\n",
              "      <th>615202</th>\n",
              "      <td>1.846417e+06</td>\n",
              "      <td>6.487030e+06</td>\n",
              "      <td>10.0</td>\n",
              "    </tr>\n",
              "    <tr>\n",
              "      <th>17832</th>\n",
              "      <td>1.728181e+06</td>\n",
              "      <td>6.476633e+06</td>\n",
              "      <td>10.0</td>\n",
              "    </tr>\n",
              "    <tr>\n",
              "      <th>741217</th>\n",
              "      <td>1.853713e+06</td>\n",
              "      <td>6.482939e+06</td>\n",
              "      <td>10.0</td>\n",
              "    </tr>\n",
              "    <tr>\n",
              "      <th>385695</th>\n",
              "      <td>1.836400e+06</td>\n",
              "      <td>6.470895e+06</td>\n",
              "      <td>10.0</td>\n",
              "    </tr>\n",
              "    <tr>\n",
              "      <th>432939</th>\n",
              "      <td>1.838426e+06</td>\n",
              "      <td>6.496712e+06</td>\n",
              "      <td>10.0</td>\n",
              "    </tr>\n",
              "    <tr>\n",
              "      <th>537466</th>\n",
              "      <td>1.842529e+06</td>\n",
              "      <td>6.471520e+06</td>\n",
              "      <td>10.0</td>\n",
              "    </tr>\n",
              "    <tr>\n",
              "      <th>779713</th>\n",
              "      <td>1.856416e+06</td>\n",
              "      <td>6.476535e+06</td>\n",
              "      <td>10.0</td>\n",
              "    </tr>\n",
              "    <tr>\n",
              "      <th>307067</th>\n",
              "      <td>1.831768e+06</td>\n",
              "      <td>6.496086e+06</td>\n",
              "      <td>10.0</td>\n",
              "    </tr>\n",
              "    <tr>\n",
              "      <th>636432</th>\n",
              "      <td>1.847640e+06</td>\n",
              "      <td>6.486837e+06</td>\n",
              "      <td>10.0</td>\n",
              "    </tr>\n",
              "    <tr>\n",
              "      <th>734645</th>\n",
              "      <td>1.853317e+06</td>\n",
              "      <td>6.482773e+06</td>\n",
              "      <td>10.0</td>\n",
              "    </tr>\n",
              "    <tr>\n",
              "      <th>830111</th>\n",
              "      <td>1.860110e+06</td>\n",
              "      <td>6.460431e+06</td>\n",
              "      <td>10.0</td>\n",
              "    </tr>\n",
              "    <tr>\n",
              "      <th>501905</th>\n",
              "      <td>1.841045e+06</td>\n",
              "      <td>6.447730e+06</td>\n",
              "      <td>10.0</td>\n",
              "    </tr>\n",
              "    <tr>\n",
              "      <th>238399</th>\n",
              "      <td>1.824162e+06</td>\n",
              "      <td>6.464239e+06</td>\n",
              "      <td>10.0</td>\n",
              "    </tr>\n",
              "    <tr>\n",
              "      <th>638379</th>\n",
              "      <td>1.847801e+06</td>\n",
              "      <td>6.472953e+06</td>\n",
              "      <td>10.0</td>\n",
              "    </tr>\n",
              "  </tbody>\n",
              "</table>\n",
              "<p>1159827 rows × 3 columns</p>\n",
              "</div>"
            ],
            "text/plain": [
              "           Longitude      Latitude  Fine amount\n",
              "815656  1.859071e+06  6.458312e+06     472781.0\n",
              "185659  1.819688e+06  6.419829e+06     440233.0\n",
              "815665  1.859071e+06  6.458312e+06     323561.0\n",
              "944666  1.882602e+06  6.448999e+06     319278.0\n",
              "660890  1.849114e+06  6.463690e+06     314947.0\n",
              "803283  1.858225e+06  6.467525e+06     269764.0\n",
              "383244  1.836302e+06  6.448021e+06     267095.0\n",
              "660897  1.849114e+06  6.463690e+06     264928.0\n",
              "383245  1.836302e+06  6.448021e+06     216188.0\n",
              "951055  1.883364e+06  6.449000e+06     215117.0\n",
              "85370   1.803998e+06  6.442060e+06     210680.0\n",
              "485499  1.840434e+06  6.421786e+06     207949.0\n",
              "803757  1.858229e+06  6.472239e+06     205387.0\n",
              "180170  1.819197e+06  6.421106e+06     202307.0\n",
              "597011  1.845451e+06  6.426798e+06     199740.0\n",
              "664953  1.849337e+06  6.457482e+06     198417.0\n",
              "794082  1.857542e+06  6.462121e+06     197732.0\n",
              "909893  1.876409e+06  6.447001e+06     195303.0\n",
              "394367  1.836817e+06  6.427372e+06     192114.0\n",
              "794087  1.857542e+06  6.462121e+06     190819.0\n",
              "649293  1.848423e+06  6.463690e+06     186535.0\n",
              "819949  1.859358e+06  6.457731e+06     185988.0\n",
              "885283  1.867430e+06  6.470141e+06     185842.0\n",
              "80096   1.802687e+06  6.439920e+06     182924.0\n",
              "819947  1.859358e+06  6.457731e+06     181583.0\n",
              "529023  1.842165e+06  6.483074e+06     181509.0\n",
              "944667  1.882602e+06  6.448999e+06     181077.0\n",
              "803285  1.858225e+06  6.467525e+06     176945.0\n",
              "948090  1.882982e+06  6.449301e+06     172170.0\n",
              "814002  1.858944e+06  6.458313e+06     171558.0\n",
              "...              ...           ...          ...\n",
              "315389  1.832401e+06  6.429087e+06         25.0\n",
              "673340  1.849755e+06  6.507301e+06         25.0\n",
              "673372  1.849756e+06  6.507461e+06         25.0\n",
              "863087  1.863416e+06  6.504027e+06         25.0\n",
              "176919  1.818975e+06  6.424572e+06         25.0\n",
              "18281   1.728619e+06  6.466798e+06         25.0\n",
              "731845  1.853192e+06  6.482708e+06         10.0\n",
              "493301  1.840742e+06  6.477453e+06         10.0\n",
              "662821  1.849239e+06  6.469928e+06         10.0\n",
              "164792  1.817734e+06  6.422866e+06         10.0\n",
              "849508  1.861661e+06  6.478923e+06         10.0\n",
              "675030  1.849875e+06  6.463690e+06         10.0\n",
              "164689  1.817725e+06  6.422129e+06         10.0\n",
              "698781  1.851272e+06  6.470345e+06         10.0\n",
              "670142  1.849613e+06  6.474482e+06         10.0\n",
              "717657  1.852394e+06  6.482888e+06         10.0\n",
              "615202  1.846417e+06  6.487030e+06         10.0\n",
              "17832   1.728181e+06  6.476633e+06         10.0\n",
              "741217  1.853713e+06  6.482939e+06         10.0\n",
              "385695  1.836400e+06  6.470895e+06         10.0\n",
              "432939  1.838426e+06  6.496712e+06         10.0\n",
              "537466  1.842529e+06  6.471520e+06         10.0\n",
              "779713  1.856416e+06  6.476535e+06         10.0\n",
              "307067  1.831768e+06  6.496086e+06         10.0\n",
              "636432  1.847640e+06  6.486837e+06         10.0\n",
              "734645  1.853317e+06  6.482773e+06         10.0\n",
              "830111  1.860110e+06  6.460431e+06         10.0\n",
              "501905  1.841045e+06  6.447730e+06         10.0\n",
              "238399  1.824162e+06  6.464239e+06         10.0\n",
              "638379  1.847801e+06  6.472953e+06         10.0\n",
              "\n",
              "[1159827 rows x 3 columns]"
            ]
          },
          "metadata": {
            "tags": []
          },
          "execution_count": 87
        }
      ]
    }
  ]
}