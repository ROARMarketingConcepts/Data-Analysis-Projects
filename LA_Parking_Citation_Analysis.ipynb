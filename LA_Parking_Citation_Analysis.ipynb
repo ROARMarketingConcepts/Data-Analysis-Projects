{
  "nbformat": 4,
  "nbformat_minor": 0,
  "metadata": {
    "colab": {
      "name": "LA Parking Citation Analysis.ipynb",
      "version": "0.3.2",
      "provenance": [],
      "collapsed_sections": [],
      "include_colab_link": true
    },
    "kernelspec": {
      "name": "python3",
      "display_name": "Python 3"
    },
    "accelerator": "TPU"
  },
  "cells": [
    {
      "cell_type": "markdown",
      "metadata": {
        "id": "view-in-github",
        "colab_type": "text"
      },
      "source": [
        "<a href=\"https://colab.research.google.com/github/ROARMarketingConcepts/Data-Analysis-Projects/blob/master/LA_Parking_Citation_Analysis.ipynb\" target=\"_parent\"><img src=\"https://colab.research.google.com/assets/colab-badge.svg\" alt=\"Open In Colab\"/></a>"
      ]
    },
    {
      "metadata": {
        "id": "xrdB4Pvew0ah",
        "colab_type": "text"
      },
      "cell_type": "markdown",
      "source": [
        "## LA Parking Citation Analysis\n",
        "\n",
        "This dataset of parking citations for the city of Los Angeles. Parking citations with latitude / longitude (XY) in US Feet coordinates according to the NAD_1983_StatePlane_California_V_FIPS_0405_Feet projection.\n",
        "\n",
        "### Analysis performed by:\n",
        "\n",
        "Ken Wood\n",
        "\n",
        "Senior Marketing Strategist\n",
        "\n",
        "ken@roarmarketingconcepts.com"
      ]
    },
    {
      "metadata": {
        "id": "Q_Brip-8tdjE",
        "colab_type": "text"
      },
      "cell_type": "markdown",
      "source": [
        "\n",
        "\n",
        "\n",
        "---\n",
        "\n"
      ]
    },
    {
      "metadata": {
        "id": "9ALCkfYuqrTZ",
        "colab_type": "text"
      },
      "cell_type": "markdown",
      "source": [
        "### Mount my Google Drive where the Olist datasets are located..."
      ]
    },
    {
      "metadata": {
        "id": "Op1VaBbmzAds",
        "colab_type": "code",
        "outputId": "16140675-a196-4cb6-eebd-439838f8eba5",
        "colab": {
          "base_uri": "https://localhost:8080/",
          "height": 34
        }
      },
      "cell_type": "code",
      "source": [
        "from google.colab import drive\n",
        "drive.mount('/gdrive')"
      ],
      "execution_count": 1,
      "outputs": [
        {
          "output_type": "stream",
          "text": [
            "Drive already mounted at /gdrive; to attempt to forcibly remount, call drive.mount(\"/gdrive\", force_remount=True).\n"
          ],
          "name": "stdout"
        }
      ]
    },
    {
      "metadata": {
        "id": "DrdaZhEvlliM",
        "colab_type": "code",
        "colab": {
          "base_uri": "https://localhost:8080/",
          "height": 150
        },
        "outputId": "4918aca6-a554-41f3-c1fa-cdaf35536541"
      },
      "cell_type": "code",
      "source": [
        "!apt install proj-bin libproj-dev libgeos-dev"
      ],
      "execution_count": 2,
      "outputs": [
        {
          "output_type": "stream",
          "text": [
            "Reading package lists... Done\n",
            "Building dependency tree       \n",
            "Reading state information... Done\n",
            "libgeos-dev is already the newest version (3.6.2-1build2).\n",
            "libproj-dev is already the newest version (4.9.3-2).\n",
            "proj-bin is already the newest version (4.9.3-2).\n",
            "0 upgraded, 0 newly installed, 0 to remove and 13 not upgraded.\n"
          ],
          "name": "stdout"
        }
      ]
    },
    {
      "metadata": {
        "id": "twm5n0jglxFD",
        "colab_type": "code",
        "colab": {
          "base_uri": "https://localhost:8080/",
          "height": 860
        },
        "outputId": "fbeb6891-6e19-4b41-c4b7-4bfa60cb3088"
      },
      "cell_type": "code",
      "source": [
        "!pip install https://github.com/matplotlib/basemap/archive/v1.1.0.tar.gz\n",
        "!sudo pip install -U git+https://github.com/matplotlib/basemap.git"
      ],
      "execution_count": 3,
      "outputs": [
        {
          "output_type": "stream",
          "text": [
            "Collecting https://github.com/matplotlib/basemap/archive/v1.1.0.tar.gz\n",
            "\u001b[?25l  Downloading https://github.com/matplotlib/basemap/archive/v1.1.0.tar.gz (132.4MB)\n",
            "\u001b[K    100% |████████████████████████████████| 132.4MB 270kB/s \n",
            "\u001b[?25hRequirement already satisfied: numpy>=1.2.1 in /usr/local/lib/python3.6/dist-packages (from basemap==1.1.0) (1.14.6)\n",
            "Requirement already satisfied: matplotlib>=1.0.0 in /usr/local/lib/python3.6/dist-packages (from basemap==1.1.0) (3.0.2)\n",
            "Requirement already satisfied: pyproj>=1.9.3 in /usr/local/lib/python3.6/dist-packages (from basemap==1.1.0) (1.9.6)\n",
            "Requirement already satisfied: pyshp>=1.2.0 in /usr/local/lib/python3.6/dist-packages (from basemap==1.1.0) (2.0.1)\n",
            "Requirement already satisfied: cycler>=0.10 in /usr/local/lib/python3.6/dist-packages (from matplotlib>=1.0.0->basemap==1.1.0) (0.10.0)\n",
            "Requirement already satisfied: kiwisolver>=1.0.1 in /usr/local/lib/python3.6/dist-packages (from matplotlib>=1.0.0->basemap==1.1.0) (1.0.1)\n",
            "Requirement already satisfied: pyparsing!=2.0.4,!=2.1.2,!=2.1.6,>=2.0.1 in /usr/local/lib/python3.6/dist-packages (from matplotlib>=1.0.0->basemap==1.1.0) (2.3.1)\n",
            "Requirement already satisfied: python-dateutil>=2.1 in /usr/local/lib/python3.6/dist-packages (from matplotlib>=1.0.0->basemap==1.1.0) (2.5.3)\n",
            "Requirement already satisfied: six in /usr/local/lib/python3.6/dist-packages (from cycler>=0.10->matplotlib>=1.0.0->basemap==1.1.0) (1.11.0)\n",
            "Requirement already satisfied: setuptools in /usr/local/lib/python3.6/dist-packages (from kiwisolver>=1.0.1->matplotlib>=1.0.0->basemap==1.1.0) (40.6.3)\n",
            "Building wheels for collected packages: basemap\n",
            "  Running setup.py bdist_wheel for basemap ... \u001b[?25l-\b \b\\\b \b|\b \b/\b \b-\b \b\\\b \b|\b \b/\b \b-\b \b\\\b \b|\b \b/\b \b-\b \b\\\b \b|\b \b/\b \b-\b \b\\\b \b|\b \b/\b \b-\b \b\\\b \b|\b \b/\b \b-\b \b\\\b \b|\b \b/\b \bdone\n",
            "\u001b[?25h  Stored in directory: /tmp/pip-ephem-wheel-cache-t2s2nrc5/wheels/6c/c2/bd/d6fb8f2660e0591d357352aba1b117b3211d016994d933d792\n",
            "Successfully built basemap\n",
            "Installing collected packages: basemap\n",
            "  Found existing installation: basemap 1.2.0\n",
            "    Uninstalling basemap-1.2.0:\n",
            "      Successfully uninstalled basemap-1.2.0\n",
            "Successfully installed basemap-1.1.0\n",
            "\u001b[0;31;1mWARNING: The following packages were previously imported in this runtime:\n",
            "  [mpl_toolkits]\n",
            "You must restart the runtime in order to use newly installed versions.\u001b[0m\n",
            "Collecting git+https://github.com/matplotlib/basemap.git\n",
            "  Cloning https://github.com/matplotlib/basemap.git to /tmp/pip-req-build-feqfvcyd\n",
            "Requirement already satisfied, skipping upgrade: matplotlib!=3.0.1,>=1.0.0 in /usr/local/lib/python3.6/dist-packages (from basemap==1.2.0) (3.0.2)\n",
            "Requirement already satisfied, skipping upgrade: numpy>=1.2.1 in /usr/local/lib/python3.6/dist-packages (from basemap==1.2.0) (1.14.6)\n",
            "Requirement already satisfied, skipping upgrade: pyproj>=1.9.3 in /usr/local/lib/python3.6/dist-packages (from basemap==1.2.0) (1.9.6)\n",
            "Requirement already satisfied, skipping upgrade: pyshp>=1.2.0 in /usr/local/lib/python3.6/dist-packages (from basemap==1.2.0) (2.0.1)\n",
            "Requirement already satisfied, skipping upgrade: six in /usr/local/lib/python3.6/dist-packages (from basemap==1.2.0) (1.11.0)\n",
            "Requirement already satisfied, skipping upgrade: python-dateutil>=2.1 in /usr/local/lib/python3.6/dist-packages (from matplotlib!=3.0.1,>=1.0.0->basemap==1.2.0) (2.5.3)\n",
            "Requirement already satisfied, skipping upgrade: cycler>=0.10 in /usr/local/lib/python3.6/dist-packages (from matplotlib!=3.0.1,>=1.0.0->basemap==1.2.0) (0.10.0)\n",
            "Requirement already satisfied, skipping upgrade: pyparsing!=2.0.4,!=2.1.2,!=2.1.6,>=2.0.1 in /usr/local/lib/python3.6/dist-packages (from matplotlib!=3.0.1,>=1.0.0->basemap==1.2.0) (2.3.1)\n",
            "Requirement already satisfied, skipping upgrade: kiwisolver>=1.0.1 in /usr/local/lib/python3.6/dist-packages (from matplotlib!=3.0.1,>=1.0.0->basemap==1.2.0) (1.0.1)\n",
            "Requirement already satisfied, skipping upgrade: setuptools in /usr/local/lib/python3.6/dist-packages (from kiwisolver>=1.0.1->matplotlib!=3.0.1,>=1.0.0->basemap==1.2.0) (40.6.3)\n",
            "Building wheels for collected packages: basemap\n",
            "  Running setup.py bdist_wheel for basemap ... \u001b[?25l-\b \b\\\b \b|\b \b/\b \b-\b \b\\\b \b|\b \b/\b \b-\b \b\\\b \b|\b \b/\b \b-\b \b\\\b \b|\b \b/\b \b-\b \b\\\b \b|\b \b/\b \b-\b \b\\\b \b|\b \b/\b \b-\b \bdone\n",
            "\u001b[?25h  Stored in directory: /tmp/pip-ephem-wheel-cache-2mubpbo1/wheels/3f/f3/56/de548b66967d0d661612b7618022e2c0d4b86b9a638cf6ccf3\n",
            "Successfully built basemap\n",
            "Installing collected packages: basemap\n",
            "  Found existing installation: basemap 1.1.0\n",
            "    Uninstalling basemap-1.1.0:\n",
            "      Successfully uninstalled basemap-1.1.0\n",
            "Successfully installed basemap-1.2.0\n"
          ],
          "name": "stdout"
        }
      ]
    },
    {
      "metadata": {
        "id": "CaqrF3-Zq2PC",
        "colab_type": "text"
      },
      "cell_type": "markdown",
      "source": [
        "### Install some necessary packages to perform the required analysis..."
      ]
    },
    {
      "metadata": {
        "id": "fXW19Ug6MF-W",
        "colab_type": "code",
        "outputId": "a7352ca4-b27f-42af-fdd2-f9782031e399",
        "colab": {
          "base_uri": "https://localhost:8080/",
          "height": 167
        }
      },
      "cell_type": "code",
      "source": [
        "!pip install -U scikit-learn\n",
        "!pip install --user --upgrade tables\n",
        "\n",
        "import pandas as pd\n",
        "import numpy as np\n",
        "import sklearn\n",
        "import scipy\n",
        "import calendar\n",
        "from datetime import datetime as dt\n",
        "\n",
        "import matplotlib.pyplot as plt\n",
        "from matplotlib import interactive\n",
        "plt.rc(\"font\", size=14)\n",
        "from pylab import scatter, show, legend, xlabel, ylabel\n",
        "\n",
        "from mpl_toolkits.basemap import Basemap\n",
        "\n",
        "import seaborn as sns\n",
        "sns.set(style=\"white\")\n",
        "sns.set(style=\"whitegrid\", color_codes=True)\n",
        "\n",
        "# Ignore useless warnings (see SciPy issue #5998)\n",
        "import warnings\n",
        "warnings.filterwarnings(action=\"ignore\", message=\"^internal gelsd\")"
      ],
      "execution_count": 28,
      "outputs": [
        {
          "output_type": "stream",
          "text": [
            "Requirement already up-to-date: scikit-learn in /usr/local/lib/python3.6/dist-packages (0.20.2)\n",
            "Requirement already satisfied, skipping upgrade: scipy>=0.13.3 in /usr/local/lib/python3.6/dist-packages (from scikit-learn) (1.1.0)\n",
            "Requirement already satisfied, skipping upgrade: numpy>=1.8.2 in /usr/local/lib/python3.6/dist-packages (from scikit-learn) (1.14.6)\n",
            "Requirement already up-to-date: tables in /usr/local/lib/python3.6/dist-packages (3.4.4)\n",
            "Requirement already satisfied, skipping upgrade: six>=1.9.0 in /usr/local/lib/python3.6/dist-packages (from tables) (1.11.0)\n",
            "Requirement already satisfied, skipping upgrade: numpy>=1.8.0 in /usr/local/lib/python3.6/dist-packages (from tables) (1.14.6)\n",
            "Requirement already satisfied, skipping upgrade: numexpr>=2.5.2 in /usr/local/lib/python3.6/dist-packages (from tables) (2.6.9)\n"
          ],
          "name": "stdout"
        }
      ]
    },
    {
      "metadata": {
        "id": "UrkGvrxrDxb4",
        "colab_type": "code",
        "outputId": "054bf3c8-401f-40dd-f35e-409162b70ff8",
        "colab": {
          "base_uri": "https://localhost:8080/",
          "height": 59
        }
      },
      "cell_type": "code",
      "source": [
        "\"\"\"width = 28000000; lon_0 = -105; lat_0 = 40\n",
        "m = Basemap(width=width,height=width,projection='aeqd',\n",
        "            lat_0=lat_0,lon_0=lon_0)\n",
        "# fill background.\n",
        "m.drawmapboundary(fill_color='aqua')\n",
        "# draw coasts and fill continents.\n",
        "m.drawcoastlines(linewidth=0.5)\n",
        "m.fillcontinents(color='coral',lake_color='aqua')\n",
        "# 20 degree graticule.\n",
        "m.drawparallels(np.arange(-80,81,20))\n",
        "m.drawmeridians(np.arange(-180,180,20))\n",
        "# draw a black dot at the center.\n",
        "xpt, ypt = m(lon_0, lat_0)\n",
        "m.plot([xpt],[ypt],'ko')\n",
        "# draw the title.\n",
        "plt.title('Azimuthal Equidistant Projection')\n",
        "plt.show()\"\"\""
      ],
      "execution_count": 5,
      "outputs": [
        {
          "output_type": "execute_result",
          "data": {
            "text/plain": [
              "\"width = 28000000; lon_0 = -105; lat_0 = 40\\nm = Basemap(width=width,height=width,projection='aeqd',\\n            lat_0=lat_0,lon_0=lon_0)\\n# fill background.\\nm.drawmapboundary(fill_color='aqua')\\n# draw coasts and fill continents.\\nm.drawcoastlines(linewidth=0.5)\\nm.fillcontinents(color='coral',lake_color='aqua')\\n# 20 degree graticule.\\nm.drawparallels(np.arange(-80,81,20))\\nm.drawmeridians(np.arange(-180,180,20))\\n# draw a black dot at the center.\\nxpt, ypt = m(lon_0, lat_0)\\nm.plot([xpt],[ypt],'ko')\\n# draw the title.\\nplt.title('Azimuthal Equidistant Projection')\\nplt.show()\""
            ]
          },
          "metadata": {
            "tags": []
          },
          "execution_count": 5
        }
      ]
    },
    {
      "metadata": {
        "id": "58of5Ft_3qQ_",
        "colab_type": "code",
        "colab": {}
      },
      "cell_type": "code",
      "source": [
        "class color:\n",
        "   PURPLE = '\\033[95m'\n",
        "   CYAN = '\\033[96m'\n",
        "   DARKCYAN = '\\033[36m'\n",
        "   BLUE = '\\033[94m'\n",
        "   GREEN = '\\033[92m'\n",
        "   YELLOW = '\\033[93m'\n",
        "   RED = '\\033[91m'\n",
        "   BOLD = '\\033[1m'\n",
        "   UNDERLINE = '\\033[4m'\n",
        "   END = '\\033[0m'"
      ],
      "execution_count": 0,
      "outputs": []
    },
    {
      "metadata": {
        "id": "YsUIKTNDq_JY",
        "colab_type": "text"
      },
      "cell_type": "markdown",
      "source": [
        "### Load the dataset..."
      ]
    },
    {
      "metadata": {
        "id": "RpQYnzQpMOTm",
        "colab_type": "code",
        "outputId": "cf834bcd-70e9-4131-daae-b3c3dcdeec5f",
        "colab": {
          "base_uri": "https://localhost:8080/",
          "height": 81
        }
      },
      "cell_type": "code",
      "source": [
        "df = pd.read_csv('/gdrive/My Drive/Colab Notebooks/LA Parking Citations/los-angeles-parking-citations/parking-citations.csv')"
      ],
      "execution_count": 29,
      "outputs": [
        {
          "output_type": "stream",
          "text": [
            "/usr/local/lib/python3.6/dist-packages/IPython/core/interactiveshell.py:2718: DtypeWarning: Columns (0,7) have mixed types. Specify dtype option on import or set low_memory=False.\n",
            "  interactivity=interactivity, compiler=compiler, result=result)\n"
          ],
          "name": "stderr"
        }
      ]
    },
    {
      "metadata": {
        "id": "MRexXkMLlA_E",
        "colab_type": "code",
        "outputId": "9e730bb5-3673-4306-cab3-4f83d537450b",
        "colab": {
          "base_uri": "https://localhost:8080/",
          "height": 357
        }
      },
      "cell_type": "code",
      "source": [
        "df.isnull().sum()"
      ],
      "execution_count": 30,
      "outputs": [
        {
          "output_type": "execute_result",
          "data": {
            "text/plain": [
              "Ticket number                  0\n",
              "Issue Date                   535\n",
              "Issue time                  2590\n",
              "Meter Id                 6472588\n",
              "Marked Time              8456519\n",
              "RP State Plate               765\n",
              "Plate Expiry Date         797010\n",
              "VIN                      8731405\n",
              "Make                        8767\n",
              "Body Style                  8898\n",
              "Color                       4119\n",
              "Location                     854\n",
              "Route                      65389\n",
              "Agency                       544\n",
              "Violation code                 0\n",
              "Violation Description        874\n",
              "Fine amount                 6514\n",
              "Latitude                       3\n",
              "Longitude                      3\n",
              "dtype: int64"
            ]
          },
          "metadata": {
            "tags": []
          },
          "execution_count": 30
        }
      ]
    },
    {
      "metadata": {
        "id": "esFT5ZfvCMjy",
        "colab_type": "text"
      },
      "cell_type": "markdown",
      "source": [
        "### We drop the columns 'Meter Id', 'Marked Time', and 'VIN' since  most of their values are missing..."
      ]
    },
    {
      "metadata": {
        "id": "ktYNipALBF6W",
        "colab_type": "code",
        "colab": {}
      },
      "cell_type": "code",
      "source": [
        "df.drop(['Meter Id','Marked Time','VIN'],axis=1,inplace=True)"
      ],
      "execution_count": 0,
      "outputs": []
    },
    {
      "metadata": {
        "id": "EDOzruGg5iCU",
        "colab_type": "text"
      },
      "cell_type": "markdown",
      "source": [
        "### Let's convert all date fields to pandas 'datetime' variables so that we can easily work with dates and times in our analysis."
      ]
    },
    {
      "metadata": {
        "id": "6Lx1hFadC0Od",
        "colab_type": "code",
        "colab": {}
      },
      "cell_type": "code",
      "source": [
        "def CreateDateTimeVariable(column):\n",
        "  column.fillna(0.0,inplace=True)\n",
        "  column = column/100\n",
        "  column = pd.to_datetime(column,format='%H.%M',errors = 'coerce').dt.time\n",
        "  column = pd.to_datetime(column,format='%H:%M:%S').dt.time\n",
        "  return column"
      ],
      "execution_count": 0,
      "outputs": []
    },
    {
      "metadata": {
        "id": "k8dun8b0lx5o",
        "colab_type": "code",
        "colab": {}
      },
      "cell_type": "code",
      "source": [
        "df['Issue Date'] = pd.to_datetime(df['Issue Date'],format = '%Y-%m-%d')\n",
        "df['Issue Date Month'] = df['Issue Date'].dt.month\n",
        "df['Issue Date Day'] = df['Issue Date'].dt.day\n",
        "df['Issue Date Day of Week'] = df['Issue Date'].dt.weekday_name\n",
        "\n",
        "df['Issue time'] = CreateDateTimeVariable(df['Issue time'])\n",
        "\n",
        "df['Plate Expiry Date'].fillna(value = 201812.0,inplace=True)\n",
        "df['Plate Expiry Date'] = df['Plate Expiry Date']/100\n",
        "number_dec = df['Plate Expiry Date']%1\n",
        "number_dec.where(number_dec<=0.12,0.12)\n",
        "df['Plate Expiry Date'] = df['Plate Expiry Date'].astype(np.int64) + number_dec\n",
        "df['Plate Expiry Date'] = df['Plate Expiry Date'].astype(str)\n",
        "df['Plate Expiry Date'] = pd.to_datetime(df['Plate Expiry Date'],format='%Y.%m',errors='coerce')"
      ],
      "execution_count": 0,
      "outputs": []
    },
    {
      "metadata": {
        "id": "pEaJMQskGHT-",
        "colab_type": "code",
        "colab": {
          "base_uri": "https://localhost:8080/",
          "height": 421
        },
        "outputId": "a0dfcd24-df53-4461-d442-6a9b4b7ccbb3"
      },
      "cell_type": "code",
      "source": [
        "citations_per_month = df.groupby(df['Issue Date Month'])['Ticket number'].count().reset_index()\n",
        "citations_per_month.rename(columns = {'Ticket number': 'Number of Tickets'},inplace=True)\n",
        "citations_per_month"
      ],
      "execution_count": 35,
      "outputs": [
        {
          "output_type": "execute_result",
          "data": {
            "text/html": [
              "<div>\n",
              "<style scoped>\n",
              "    .dataframe tbody tr th:only-of-type {\n",
              "        vertical-align: middle;\n",
              "    }\n",
              "\n",
              "    .dataframe tbody tr th {\n",
              "        vertical-align: top;\n",
              "    }\n",
              "\n",
              "    .dataframe thead th {\n",
              "        text-align: right;\n",
              "    }\n",
              "</style>\n",
              "<table border=\"1\" class=\"dataframe\">\n",
              "  <thead>\n",
              "    <tr style=\"text-align: right;\">\n",
              "      <th></th>\n",
              "      <th>Issue Date Month</th>\n",
              "      <th>Number of Tickets</th>\n",
              "    </tr>\n",
              "  </thead>\n",
              "  <tbody>\n",
              "    <tr>\n",
              "      <th>0</th>\n",
              "      <td>1.0</td>\n",
              "      <td>807946</td>\n",
              "    </tr>\n",
              "    <tr>\n",
              "      <th>1</th>\n",
              "      <td>2.0</td>\n",
              "      <td>684398</td>\n",
              "    </tr>\n",
              "    <tr>\n",
              "      <th>2</th>\n",
              "      <td>3.0</td>\n",
              "      <td>796876</td>\n",
              "    </tr>\n",
              "    <tr>\n",
              "      <th>3</th>\n",
              "      <td>4.0</td>\n",
              "      <td>732434</td>\n",
              "    </tr>\n",
              "    <tr>\n",
              "      <th>4</th>\n",
              "      <td>5.0</td>\n",
              "      <td>753638</td>\n",
              "    </tr>\n",
              "    <tr>\n",
              "      <th>5</th>\n",
              "      <td>6.0</td>\n",
              "      <td>743998</td>\n",
              "    </tr>\n",
              "    <tr>\n",
              "      <th>6</th>\n",
              "      <td>7.0</td>\n",
              "      <td>697655</td>\n",
              "    </tr>\n",
              "    <tr>\n",
              "      <th>7</th>\n",
              "      <td>8.0</td>\n",
              "      <td>760805</td>\n",
              "    </tr>\n",
              "    <tr>\n",
              "      <th>8</th>\n",
              "      <td>9.0</td>\n",
              "      <td>670347</td>\n",
              "    </tr>\n",
              "    <tr>\n",
              "      <th>9</th>\n",
              "      <td>10.0</td>\n",
              "      <td>717951</td>\n",
              "    </tr>\n",
              "    <tr>\n",
              "      <th>10</th>\n",
              "      <td>11.0</td>\n",
              "      <td>657713</td>\n",
              "    </tr>\n",
              "    <tr>\n",
              "      <th>11</th>\n",
              "      <td>12.0</td>\n",
              "      <td>723418</td>\n",
              "    </tr>\n",
              "  </tbody>\n",
              "</table>\n",
              "</div>"
            ],
            "text/plain": [
              "    Issue Date Month  Number of Tickets\n",
              "0                1.0             807946\n",
              "1                2.0             684398\n",
              "2                3.0             796876\n",
              "3                4.0             732434\n",
              "4                5.0             753638\n",
              "5                6.0             743998\n",
              "6                7.0             697655\n",
              "7                8.0             760805\n",
              "8                9.0             670347\n",
              "9               10.0             717951\n",
              "10              11.0             657713\n",
              "11              12.0             723418"
            ]
          },
          "metadata": {
            "tags": []
          },
          "execution_count": 35
        }
      ]
    },
    {
      "metadata": {
        "id": "_XpoAyf2rFaL",
        "colab_type": "text"
      },
      "cell_type": "markdown",
      "source": [
        "### Let's get a barchart of the number of tickets issued per month...\n",
        "\n",
        "\n"
      ]
    },
    {
      "metadata": {
        "id": "jgf3T_xjGi_6",
        "colab_type": "code",
        "colab": {
          "base_uri": "https://localhost:8080/",
          "height": 403
        },
        "outputId": "a95b5b21-69f5-4cf7-d5ca-484918285947"
      },
      "cell_type": "code",
      "source": [
        "fig,ax = plt.subplots(figsize=(14,6))\n",
        "\n",
        "plt.bar(citations_per_month['Issue Date Month'],citations_per_month['Number of Tickets'])\n",
        "plt.xticks(citations_per_month['Issue Date Month'])\n",
        "ax.set_xlabel('Month')\n",
        "ax.set_ylabel('Number of Citations')\n",
        "ax.set_title('Total Citations Issued By Month')\n",
        "\n",
        "plt.show()"
      ],
      "execution_count": 36,
      "outputs": [
        {
          "output_type": "display_data",
          "data": {
            "image/png": "[encoded data removed]",
            "text/plain": [
              "<Figure size 1008x432 with 1 Axes>"
            ]
          },
          "metadata": {
            "tags": []
          }
        }
      ]
    },
    {
      "metadata": {
        "id": "MeVn-fchUq2n",
        "colab_type": "code",
        "colab": {
          "base_uri": "https://localhost:8080/",
          "height": 266
        },
        "outputId": "b5c2f12b-7352-4cba-99db-2a6e99600288"
      },
      "cell_type": "code",
      "source": [
        "citations_per_weekday = df.groupby(df['Issue Date Day of Week'])['Ticket number'].count().reset_index()\n",
        "citations_per_weekday.rename(columns = {'Ticket number': 'Number of Tickets'},inplace=True)\n",
        "citations_per_weekday"
      ],
      "execution_count": 38,
      "outputs": [
        {
          "output_type": "execute_result",
          "data": {
            "text/html": [
              "<div>\n",
              "<style scoped>\n",
              "    .dataframe tbody tr th:only-of-type {\n",
              "        vertical-align: middle;\n",
              "    }\n",
              "\n",
              "    .dataframe tbody tr th {\n",
              "        vertical-align: top;\n",
              "    }\n",
              "\n",
              "    .dataframe thead th {\n",
              "        text-align: right;\n",
              "    }\n",
              "</style>\n",
              "<table border=\"1\" class=\"dataframe\">\n",
              "  <thead>\n",
              "    <tr style=\"text-align: right;\">\n",
              "      <th></th>\n",
              "      <th>Issue Date Day of Week</th>\n",
              "      <th>Number of Tickets</th>\n",
              "    </tr>\n",
              "  </thead>\n",
              "  <tbody>\n",
              "    <tr>\n",
              "      <th>0</th>\n",
              "      <td>Friday</td>\n",
              "      <td>1424611</td>\n",
              "    </tr>\n",
              "    <tr>\n",
              "      <th>1</th>\n",
              "      <td>Monday</td>\n",
              "      <td>1427306</td>\n",
              "    </tr>\n",
              "    <tr>\n",
              "      <th>2</th>\n",
              "      <td>Saturday</td>\n",
              "      <td>492124</td>\n",
              "    </tr>\n",
              "    <tr>\n",
              "      <th>3</th>\n",
              "      <td>Sunday</td>\n",
              "      <td>446726</td>\n",
              "    </tr>\n",
              "    <tr>\n",
              "      <th>4</th>\n",
              "      <td>Thursday</td>\n",
              "      <td>1638213</td>\n",
              "    </tr>\n",
              "    <tr>\n",
              "      <th>5</th>\n",
              "      <td>Tuesday</td>\n",
              "      <td>1701473</td>\n",
              "    </tr>\n",
              "    <tr>\n",
              "      <th>6</th>\n",
              "      <td>Wednesday</td>\n",
              "      <td>1616726</td>\n",
              "    </tr>\n",
              "  </tbody>\n",
              "</table>\n",
              "</div>"
            ],
            "text/plain": [
              "  Issue Date Day of Week  Number of Tickets\n",
              "0                 Friday            1424611\n",
              "1                 Monday            1427306\n",
              "2               Saturday             492124\n",
              "3                 Sunday             446726\n",
              "4               Thursday            1638213\n",
              "5                Tuesday            1701473\n",
              "6              Wednesday            1616726"
            ]
          },
          "metadata": {
            "tags": []
          },
          "execution_count": 38
        }
      ]
    },
    {
      "metadata": {
        "id": "NuPzw71FUjXB",
        "colab_type": "code",
        "colab": {
          "base_uri": "https://localhost:8080/",
          "height": 403
        },
        "outputId": "cb3ba60e-1a43-4010-c3a3-1b6a85353b16"
      },
      "cell_type": "code",
      "source": [
        "fig,ax = plt.subplots(figsize=(14,6))\n",
        "\n",
        "plt.bar(citations_per_weekday['Issue Date Day of Week'],citations_per_weekday['Number of Tickets'])\n",
        "plt.xticks(citations_per_weekday['Issue Date Day of Week'])\n",
        "ax.set_xlabel('Day of Week')\n",
        "ax.set_ylabel('Number of Citations')\n",
        "ax.set_title('Total Citations Issued By Day of Week')\n",
        "\n",
        "plt.show()"
      ],
      "execution_count": 43,
      "outputs": [
        {
          "output_type": "display_data",
          "data": {
            "image/png": "[encoded data removed]",
            "text/plain": [
              "<Figure size 1008x432 with 1 Axes>"
            ]
          },
          "metadata": {
            "tags": []
          }
        }
      ]
    },
    {
      "metadata": {
        "id": "UGGMHyGMjloO",
        "colab_type": "text"
      },
      "cell_type": "markdown",
      "source": [
        "### Let's create the marketing funnel by left joining the 'mql' and 'cd' datasets. (Note that 'NaN's are leads that did not close.)"
      ]
    },
    {
      "metadata": {
        "id": "frwJ1yMBkLPw",
        "colab_type": "code",
        "colab": {}
      },
      "cell_type": "code",
      "source": [
        "mf = mql.merge(cd, on='mql_id', how='left')\n",
        "print(\"'mf' dimensions: {}\".format(mf.shape))\n",
        "mf.info()"
      ],
      "execution_count": 0,
      "outputs": []
    },
    {
      "metadata": {
        "id": "l-jX2-UJQwFJ",
        "colab_type": "code",
        "colab": {}
      },
      "cell_type": "code",
      "source": [
        "\"\"\"for key,value in dict.items():\n",
        "  print(color.BOLD+key+color.END,value.info(),'\\n')\"\"\" # print dataset name in BOLD"
      ],
      "execution_count": 0,
      "outputs": []
    },
    {
      "metadata": {
        "id": "4sp9aHaZucfk",
        "colab_type": "text"
      },
      "cell_type": "markdown",
      "source": [
        "### Now, we want to join information from the other datasets into the marketing funnel. Based on the schema diagram, 'order_items' should be the next dataset we merge.  Let's get some information about the 'order_items' dataset... We will merge it with the marketing funnel on the 'seller_id' column."
      ]
    },
    {
      "metadata": {
        "id": "6oar6q9wbkbA",
        "colab_type": "code",
        "colab": {}
      },
      "cell_type": "code",
      "source": [
        "order_items.info()"
      ],
      "execution_count": 0,
      "outputs": []
    },
    {
      "metadata": {
        "id": "380DTTBEcQ7d",
        "colab_type": "code",
        "colab": {}
      },
      "cell_type": "code",
      "source": [
        "mf_items = mf.merge(order_items, how='left', on='seller_id')\n",
        "mf_items['mql_id'].nunique()"
      ],
      "execution_count": 0,
      "outputs": []
    },
    {
      "metadata": {
        "id": "bYwdFATHkqNM",
        "colab_type": "code",
        "colab": {}
      },
      "cell_type": "code",
      "source": [
        "mf_items.info()"
      ],
      "execution_count": 0,
      "outputs": []
    },
    {
      "metadata": {
        "id": "RVFgKZZuhrgi",
        "colab_type": "text"
      },
      "cell_type": "markdown",
      "source": [
        "### Let's take a look at the 'sellers' dataset..."
      ]
    },
    {
      "metadata": {
        "id": "mXg0Ruq5mJta",
        "colab_type": "code",
        "colab": {}
      },
      "cell_type": "code",
      "source": [
        "sellers.info()"
      ],
      "execution_count": 0,
      "outputs": []
    },
    {
      "metadata": {
        "id": "Q6N3OGRZmghS",
        "colab_type": "code",
        "colab": {}
      },
      "cell_type": "code",
      "source": [
        "sellers['seller_id'].nunique()"
      ],
      "execution_count": 0,
      "outputs": []
    },
    {
      "metadata": {
        "id": "3TutCE9Ms6n7",
        "colab_type": "text"
      },
      "cell_type": "markdown",
      "source": [
        "### So we can conclude that the dataset has 3095 unique sellers.  Let's merge the seller information for each of the leads in the marketing funnel."
      ]
    },
    {
      "metadata": {
        "id": "0_VwQcW-wbSw",
        "colab_type": "code",
        "colab": {}
      },
      "cell_type": "code",
      "source": [
        "mf_sellers = mf.merge(sellers, how='left', on='seller_id')\n",
        "mf_sellers['mql_id'].nunique()"
      ],
      "execution_count": 0,
      "outputs": []
    },
    {
      "metadata": {
        "id": "_Fgp_fnlkcOk",
        "colab_type": "code",
        "colab": {}
      },
      "cell_type": "code",
      "source": [
        "mf_sellers['seller_id'].nunique()"
      ],
      "execution_count": 0,
      "outputs": []
    },
    {
      "metadata": {
        "id": "c2T2Ggh29rKb",
        "colab_type": "code",
        "colab": {}
      },
      "cell_type": "code",
      "source": [
        "geolocation.info()"
      ],
      "execution_count": 0,
      "outputs": []
    },
    {
      "metadata": {
        "id": "Xi9w8Ojq91qg",
        "colab_type": "text"
      },
      "cell_type": "markdown",
      "source": [
        "###Now, in order to merge the 'geolocation' information into the marketing funnel on *zip_code_prefix*, we need to remove the duplicate values in 'geolocation' and then change the column names in both datasets."
      ]
    },
    {
      "metadata": {
        "id": "jqLzfAYcVj46",
        "colab_type": "code",
        "colab": {}
      },
      "cell_type": "code",
      "source": [
        "geolocation['geolocation_zip_code_prefix'].value_counts()"
      ],
      "execution_count": 0,
      "outputs": []
    },
    {
      "metadata": {
        "id": "84x912rjPm2k",
        "colab_type": "code",
        "colab": {}
      },
      "cell_type": "code",
      "source": [
        "geolocation = geolocation.drop_duplicates('geolocation_zip_code_prefix',keep='first')\n",
        "geolocation['geolocation_zip_code_prefix'].value_counts()"
      ],
      "execution_count": 0,
      "outputs": []
    },
    {
      "metadata": {
        "id": "jfJ3G65M8Y25",
        "colab_type": "code",
        "colab": {}
      },
      "cell_type": "code",
      "source": [
        "mf_sellers.rename(columns = {'seller_zip_code_prefix':'zip_code_prefix'},inplace=True)\n",
        "geolocation.rename(columns = {'geolocation_zip_code_prefix':'zip_code_prefix'},inplace=True)"
      ],
      "execution_count": 0,
      "outputs": []
    },
    {
      "metadata": {
        "id": "O2U0bufinWWr",
        "colab_type": "text"
      },
      "cell_type": "markdown",
      "source": [
        "### We verify that the correct columns have been renamed..."
      ]
    },
    {
      "metadata": {
        "id": "zvEvm3T0B01k",
        "colab_type": "code",
        "colab": {}
      },
      "cell_type": "code",
      "source": [
        " # mf_sellers.info()"
      ],
      "execution_count": 0,
      "outputs": []
    },
    {
      "metadata": {
        "id": "S61xThSLsvAc",
        "colab_type": "code",
        "colab": {}
      },
      "cell_type": "code",
      "source": [
        "# geolocation.info()"
      ],
      "execution_count": 0,
      "outputs": []
    },
    {
      "metadata": {
        "id": "RzT_KtmID0gY",
        "colab_type": "code",
        "colab": {}
      },
      "cell_type": "code",
      "source": [
        "mf_sellers = pd.merge(mf_sellers,geolocation[['zip_code_prefix','geolocation_lat','geolocation_lng']], how = 'left',on='zip_code_prefix')\n",
        "mf_sellers.info()"
      ],
      "execution_count": 0,
      "outputs": []
    },
    {
      "metadata": {
        "id": "_o_N3WzDbi6U",
        "colab_type": "text"
      },
      "cell_type": "markdown",
      "source": [
        "### Let's take a look at the frequency of the unique values in each column of the 2 marketing funnels. For now, we will skip the id and date columns to keep our analysis clean.\n",
        "\n",
        "## mf_items:\n",
        "\n",
        "<class 'pandas.core.frame.DataFrame'>\n",
        "\n",
        "\n",
        "### Data columns (total 23 columns):\n",
        "\n",
        "mql_id                           12664 non-null object\n",
        "\n",
        "first_contact_date               12664 non-null datetime64[ns]\n",
        "\n",
        "landing_page_id                  12664 non-null object\n",
        "\n",
        "origin                           12597 non-null object\n",
        "\n",
        "seller_id                        5506 non-null object\n",
        "\n",
        "sdr_id                           5506 non-null object\n",
        "\n",
        "sr_id                            5506 non-null object\n",
        "\n",
        "won_date                         5506 non-null datetime64[ns]\n",
        "\n",
        "business_segment                 5505 non-null object\n",
        "\n",
        "lead_type                        5455 non-null object\n",
        "\n",
        "lead_behaviour_profile           3679 non-null object\n",
        "\n",
        "has_company                      88 non-null object\n",
        "\n",
        "has_gtin                         89 non-null object\n",
        "\n",
        "average_stock                    91 non-null object\n",
        "\n",
        "business_type                    5494 non-null object\n",
        "\n",
        "declared_product_catalog_size    69 non-null float64\n",
        "\n",
        "declared_monthly_revenue         5506 non-null float64\n",
        "\n",
        "order_id                         5044 non-null object\n",
        "\n",
        "order_item_id                    5044 non-null float64\n",
        "\n",
        "product_id                       5044 non-null object\n",
        "\n",
        "shipping_limit_date              5044 non-null datetime64[ns]\n",
        "\n",
        "price                            5044 non-null float64\n",
        "\n",
        "freight_value                    5044 non-null float64\n",
        "\n",
        "dtypes: datetime64[ns](3), float64(5), object(15)\n",
        "\n",
        "memory usage: 2.3+ MB"
      ]
    },
    {
      "metadata": {
        "id": "BpA-qrGEcCHh",
        "colab_type": "code",
        "colab": {}
      },
      "cell_type": "code",
      "source": [
        "columns = ['origin','business_segment','lead_type','lead_behaviour_profile','has_company','has_gtin','average_stock',\n",
        "           'business_type']\n",
        "\n",
        "for col in columns:\n",
        "    print(mf_items[col].value_counts(),'\\n\\n',mf_items[col].value_counts(normalize=True),'\\n\\n')\n",
        "    "
      ],
      "execution_count": 0,
      "outputs": []
    },
    {
      "metadata": {
        "id": "yIOUCb1yzawV",
        "colab_type": "code",
        "colab": {}
      },
      "cell_type": "code",
      "source": [
        "mf_items_origin = mf_items['origin'].value_counts(normalize=True).reset_index()"
      ],
      "execution_count": 0,
      "outputs": []
    },
    {
      "metadata": {
        "id": "JPBosWiv0ukt",
        "colab_type": "code",
        "colab": {}
      },
      "cell_type": "code",
      "source": [
        "fig,ax = plt.subplots(figsize=(14,6))\n",
        "\n",
        "order = []                        # Set up order for barchart\n",
        "for row in mf_items_origin['index']:\n",
        "  order.append(row)\n",
        "\n",
        "sns.countplot(mf_items['origin'].sort_values(), order=order, palette=\"Blues_d\")\n",
        "ax.set_xlabel('Lead Source')\n",
        "ax.set_title('Lead Source Distribution')\n",
        "\n",
        "plt.show()"
      ],
      "execution_count": 0,
      "outputs": []
    },
    {
      "metadata": {
        "id": "i58WGe3qRToa",
        "colab_type": "code",
        "colab": {}
      },
      "cell_type": "code",
      "source": [
        "fig,ax = plt.subplots(figsize=(14,6))\n",
        "\n",
        "order = []                        # Set up order for barchart\n",
        "for row in mf_items_origin['index']:\n",
        "  order.append(row)\n",
        "\n",
        "sns.barplot(x ='index',y = 'origin', data = mf_items_origin, order=order, palette=\"Blues_d\")\n",
        "ax.set_xlabel('Lead Source')\n",
        "ax.set_ylabel('Normalized Count - % of Total')\n",
        "ax.set_title('Lead Source Distribution')\n",
        "\n",
        "plt.show()"
      ],
      "execution_count": 0,
      "outputs": []
    },
    {
      "metadata": {
        "id": "31K1QNhyTNHm",
        "colab_type": "code",
        "colab": {}
      },
      "cell_type": "code",
      "source": [
        "mf_items_business_segment = mf_items['business_segment'].value_counts(normalize=True).reset_index()"
      ],
      "execution_count": 0,
      "outputs": []
    },
    {
      "metadata": {
        "id": "SdNkecyVSvRP",
        "colab_type": "code",
        "colab": {}
      },
      "cell_type": "code",
      "source": [
        "fig,ax = plt.subplots(figsize=(14,6))\n",
        "\n",
        "order = []                        # Set up order for barchart\n",
        "for row in mf_items_business_segment['index']:\n",
        "  order.append(row)\n",
        "\n",
        "graph = sns.barplot(x ='index',y = 'business_segment', data = mf_items_business_segment, order=order, palette=\"Blues_d\")\n",
        "ax.set_xlabel('Business Segment')\n",
        "ax.set_ylabel('Normalized Count - % of Total')\n",
        "ax.set_title('Business Segment Distribution')\n",
        "graph.set_xticklabels(order,rotation=90)\n",
        "\n",
        "plt.show()"
      ],
      "execution_count": 0,
      "outputs": []
    },
    {
      "metadata": {
        "id": "0_vXL4vIVoZH",
        "colab_type": "code",
        "colab": {}
      },
      "cell_type": "code",
      "source": [
        "mf_items_lead_type = mf_items['lead_type'].value_counts(normalize=True).reset_index()"
      ],
      "execution_count": 0,
      "outputs": []
    },
    {
      "metadata": {
        "id": "FG0KB6HUVw-D",
        "colab_type": "code",
        "colab": {}
      },
      "cell_type": "code",
      "source": [
        "fig,ax = plt.subplots(figsize=(14,6))\n",
        "\n",
        "order = []                        # Set up order for barchart\n",
        "for row in mf_items_lead_type['index']:\n",
        "  order.append(row)\n",
        "\n",
        "graph = sns.barplot(x ='index',y ='lead_type', data = mf_items_lead_type, order=order, palette=\"Blues_d\")\n",
        "ax.set_xlabel('Lead Type')\n",
        "ax.set_ylabel('Normalized Count - % of Total')\n",
        "ax.set_title('Lead Type Distribution')\n",
        "# graph.set_xticklabels(order,rotation=90)\n",
        "\n",
        "plt.show()"
      ],
      "execution_count": 0,
      "outputs": []
    },
    {
      "metadata": {
        "id": "5n1v68wbWj6G",
        "colab_type": "code",
        "colab": {}
      },
      "cell_type": "code",
      "source": [
        "mf_items_lead_behaviour_profile = mf_items['lead_behaviour_profile'].value_counts(normalize=True).reset_index()"
      ],
      "execution_count": 0,
      "outputs": []
    },
    {
      "metadata": {
        "id": "Zy_sjlPAW6hL",
        "colab_type": "code",
        "colab": {}
      },
      "cell_type": "code",
      "source": [
        "fig,ax = plt.subplots(figsize=(14,6))\n",
        "\n",
        "order = []                        # Set up order for barchart\n",
        "for row in mf_items_lead_behaviour_profile['index']:\n",
        "  order.append(row)\n",
        "\n",
        "graph = sns.barplot(x ='index',y ='lead_behaviour_profile', data = mf_items_lead_behaviour_profile, order=order, palette=\"Blues_d\")\n",
        "ax.set_xlabel('Lead Behaviour Profile')\n",
        "ax.set_ylabel('Normalized Count - % of Total')\n",
        "ax.set_title('Lead Behaviour Profile Distribution')\n",
        "# graph.set_xticklabels(order,rotation=90)\n",
        "\n",
        "plt.show()"
      ],
      "execution_count": 0,
      "outputs": []
    },
    {
      "metadata": {
        "id": "YCZn2axzXmMU",
        "colab_type": "code",
        "colab": {}
      },
      "cell_type": "code",
      "source": [
        "mf_items_business_type = mf_items['business_type'].value_counts(normalize=True).reset_index()"
      ],
      "execution_count": 0,
      "outputs": []
    },
    {
      "metadata": {
        "id": "3f3rWNBNXuJ3",
        "colab_type": "code",
        "colab": {}
      },
      "cell_type": "code",
      "source": [
        "fig,ax = plt.subplots(figsize=(4,4))\n",
        "\n",
        "order = []                        # Set up order for barchart\n",
        "for row in mf_items_business_type['index']:\n",
        "  order.append(row)\n",
        "\n",
        "graph = sns.barplot(x ='index',y ='business_type', data = mf_items_business_type, order=order, palette=\"Blues_d\")\n",
        "ax.set_xlabel('Business Type Profile')\n",
        "ax.set_ylabel('Normalized Count - % of Total')\n",
        "ax.set_title('Business Type Profile Distribution')\n",
        "# graph.set_xticklabels(order,rotation=90)\n",
        "\n",
        "plt.show()"
      ],
      "execution_count": 0,
      "outputs": []
    },
    {
      "metadata": {
        "id": "Asz_e3fbqhnO",
        "colab_type": "text"
      },
      "cell_type": "markdown",
      "source": [
        "### Now, let's look at the 'mf_sellers' dataset.  We would like to get more information about where the sellers are located.  We can use the 'geolocation_lat' and 'geolocation_lng' fields and Python's 'Basemap' package to plot geographies.  We start with a basic Basemap plot of Earth."
      ]
    },
    {
      "metadata": {
        "id": "ZIhfmKA-nZuP",
        "colab_type": "code",
        "colab": {}
      },
      "cell_type": "code",
      "source": [
        "map = Basemap()\n",
        "\n",
        "map.drawcoastlines()\n",
        "\n",
        "plt.show()\n",
        "plt.savefig('test.png')"
      ],
      "execution_count": 0,
      "outputs": []
    },
    {
      "metadata": {
        "id": "Z8LeM3bfn3CU",
        "colab_type": "code",
        "colab": {}
      },
      "cell_type": "code",
      "source": [
        "map = Basemap(projection='ortho', \n",
        "              lat_0=0, lon_0=-90)\n",
        "\n",
        "#Fill the globe with a blue color \n",
        "map.drawmapboundary(fill_color='aqua')\n",
        "\n",
        "#Fill the continents with the land color\n",
        "map.fillcontinents(color='coral',lake_color='aqua')\n",
        "\n",
        "map.drawcoastlines()\n",
        "\n",
        "plt.show()"
      ],
      "execution_count": 0,
      "outputs": []
    },
    {
      "metadata": {
        "id": "dtQTyOrjq5CP",
        "colab_type": "code",
        "colab": {}
      },
      "cell_type": "code",
      "source": [
        "mf_sellers.info()"
      ],
      "execution_count": 0,
      "outputs": []
    },
    {
      "metadata": {
        "id": "D0VY_8I9a6f1",
        "colab_type": "text"
      },
      "cell_type": "markdown",
      "source": [
        "### Determine range to print based on min, max lat and long of the data"
      ]
    },
    {
      "metadata": {
        "id": "c8so4_ItWNbW",
        "colab_type": "code",
        "colab": {}
      },
      "cell_type": "code",
      "source": [
        "lat = np.asarray(mf_sellers['geolocation_lat'].dropna())\n",
        "lng = np.asarray(mf_sellers['geolocation_lng'].dropna())"
      ],
      "execution_count": 0,
      "outputs": []
    },
    {
      "metadata": {
        "id": "YHybb6LaNr-y",
        "colab_type": "code",
        "colab": {}
      },
      "cell_type": "code",
      "source": [
        "from geopy.geocoders import Nominatim\n",
        "\n",
        "geolocator = Nominatim()\n",
        "\n",
        "def PlotCity(city):\n",
        "  loc1 = geolocator.geocode(city)\n",
        "  x, y = map(loc1.longitude, loc1.latitude)\n",
        "  ax.plot(x, y, 'ok', markersize=10)\n",
        "  plt.text(x, y, city, fontsize=12,fontweight='bold')\n",
        "  return\n",
        " "
      ],
      "execution_count": 0,
      "outputs": []
    },
    {
      "metadata": {
        "id": "x-V2EyQMFats",
        "colab_type": "code",
        "colab": {}
      },
      "cell_type": "code",
      "source": [
        "margin = .2                     # buffer to add to the range\n",
        "lat_min = min(lat) - margin\n",
        "lat_max = max(lat) + margin\n",
        "lng_min = min(lng) - margin\n",
        "lng_max = max(lng) + margin\n",
        "\n",
        "# create map using BASEMAP\n",
        "fig,ax = plt.subplots(figsize=(14,8))\n",
        "\n",
        "map = Basemap(llcrnrlon=lng_min,\n",
        "            llcrnrlat=lat_min,\n",
        "            urcrnrlon=lng_max,\n",
        "            urcrnrlat=lat_max,\n",
        "            lat_0=(lat_max - lat_min)/2,\n",
        "            lon_0=(lng_max-lng_min)/2,\n",
        "            projection='merc',\n",
        "            resolution = 'h',\n",
        "            area_thresh=10000.,\n",
        "            )\n",
        "map.drawcoastlines()\n",
        "map.drawcountries()\n",
        "map.drawstates()\n",
        "map.drawmapboundary(fill_color='#46bcec')\n",
        "map.fillcontinents(color = 'white',lake_color='#46bcec')\n",
        "\n",
        "# convert lat and long to map projection coordinates\n",
        "x,y = map(lng, lat)\n",
        "\n",
        "# plot points as red dots\n",
        "\n",
        "map.scatter(x,y, marker = 'o', s=20,color='r',alpha=0.35, zorder=10)\n",
        "\n",
        "# Find and plot major cities\n",
        "\n",
        "city_list = ['Sao Paulo','Rio de Janeiro','Curitiba','Brasilia','Natal','Uberaba','Salvador-BA','Porto Alegre','Itajai']\n",
        "\n",
        "for city in city_list:\n",
        "  PlotCity(city)\n",
        "\n",
        "plt.title(\"Olist Seller Locations in Brazil\",fontsize=20,fontweight='bold')\n",
        "plt.show()"
      ],
      "execution_count": 0,
      "outputs": []
    },
    {
      "metadata": {
        "id": "Nron3SckrpGU",
        "colab_type": "text"
      },
      "cell_type": "markdown",
      "source": [
        "### Let's look at characteristics of the closed deals..."
      ]
    },
    {
      "metadata": {
        "id": "RXXQ0LLfrShF",
        "colab_type": "code",
        "colab": {}
      },
      "cell_type": "code",
      "source": [
        "cd.info()"
      ],
      "execution_count": 0,
      "outputs": []
    },
    {
      "metadata": {
        "id": "CxSMj1jwk4g5",
        "colab_type": "text"
      },
      "cell_type": "markdown",
      "source": [
        "### If we merge 'cd' with 'order_items' we find out about sellers and items that associated with closed deals."
      ]
    },
    {
      "metadata": {
        "id": "Nl3SlaGKsLmm",
        "colab_type": "code",
        "colab": {}
      },
      "cell_type": "code",
      "source": [
        "cd_items = cd.merge(order_items,how='left',on='seller_id')\n",
        "print(cd_items['mql_id'].nunique())\n",
        "cd_items.info()"
      ],
      "execution_count": 0,
      "outputs": []
    },
    {
      "metadata": {
        "id": "xDCCFb96owri",
        "colab_type": "text"
      },
      "cell_type": "markdown",
      "source": [
        "### Let's determine how many 'order_id's are associated with each closed deal 'mql_id'.  We'll also determine the revenue associated with each if these 'mql_id's."
      ]
    },
    {
      "metadata": {
        "id": "7hsddyGBmncG",
        "colab_type": "code",
        "colab": {}
      },
      "cell_type": "code",
      "source": [
        "order_ids_per_mql = cd_items.groupby(['mql_id'])['order_id'].count().reset_index()\n",
        "order_ids_per_mql = order_ids_per_mql[order_ids_per_mql.order_id != 0]  # Delete rows where count(order_id) = 0\n",
        "order_ids_per_mql.rename(columns = {'order_id':'num_order_ids'},inplace=True)\n",
        "order_ids_per_mql.sort_values(by='num_order_ids',ascending=False)"
      ],
      "execution_count": 0,
      "outputs": []
    },
    {
      "metadata": {
        "id": "s4OvR9tHqIxL",
        "colab_type": "text"
      },
      "cell_type": "markdown",
      "source": [
        "### Now we can merge the 'orders' and 'order_payments' and 'order_reviews' information for each 'order_id' in 'cd_items'. However, before we do that, let's add a column to the 'order_payments' dataset."
      ]
    },
    {
      "metadata": {
        "id": "hBeP5o8CoX23",
        "colab_type": "code",
        "colab": {}
      },
      "cell_type": "code",
      "source": [
        "order_payments.head()"
      ],
      "execution_count": 0,
      "outputs": []
    },
    {
      "metadata": {
        "id": "ibongoFgo_JT",
        "colab_type": "text"
      },
      "cell_type": "markdown",
      "source": [
        "### We will add a column called 'total_payment' which is the product of the 'payment_installments' and 'payment_value'."
      ]
    },
    {
      "metadata": {
        "id": "8CNEdKzZpWDZ",
        "colab_type": "code",
        "colab": {}
      },
      "cell_type": "code",
      "source": [
        "order_payments['total_payment'] = order_payments['payment_installments']*order_payments['payment_value']"
      ],
      "execution_count": 0,
      "outputs": []
    },
    {
      "metadata": {
        "id": "vHUb4oZMLwUs",
        "colab_type": "code",
        "colab": {}
      },
      "cell_type": "code",
      "source": [
        "from functools import reduce\n",
        "\n",
        "dfs_to_merge = [cd_items,orders,order_payments,order_reviews]\n",
        "cd_order_info = reduce(lambda left,right: pd.merge(left,right,on=['order_id'],how='left'), dfs_to_merge)\n",
        "cd_order_info.info()"
      ],
      "execution_count": 0,
      "outputs": []
    },
    {
      "metadata": {
        "id": "U6GBEOH4OEju",
        "colab_type": "text"
      },
      "cell_type": "markdown",
      "source": [
        "### What is the revenue value for each closed deal 'mql_id'?"
      ]
    },
    {
      "metadata": {
        "id": "nw22CwrWODxr",
        "colab_type": "code",
        "colab": {}
      },
      "cell_type": "code",
      "source": [
        "revenue_per_mql = cd_order_info.groupby(['mql_id'])['total_payment'].sum().reset_index()\n",
        "revenue_per_mql = revenue_per_mql[revenue_per_mql.total_payment != 0]  # Delete rows where sum(total_payment) = 0\n",
        "top_20_mqls= revenue_per_mql.sort_values(by='total_payment',ascending=False).head(20)\n",
        "top_20_mqls"
      ],
      "execution_count": 0,
      "outputs": []
    },
    {
      "metadata": {
        "id": "fHdENZikQxfJ",
        "colab_type": "code",
        "colab": {}
      },
      "cell_type": "code",
      "source": [
        "import matplotlib.ticker as mtick\n",
        "\n",
        "fig,ax = plt.subplots(figsize=(14,6))\n",
        "\n",
        "order = []                        # Set up order for barchart\n",
        "for row in top_20_mqls['mql_id']:\n",
        "  order.append(row)\n",
        "\n",
        "graph = sns.barplot(x ='mql_id',y ='total_payment', data = top_20_mqls, order=order, palette=\"Blues_d\")\n",
        "\n",
        "fmt = '${x:,.0f}'\n",
        "tick = mtick.StrMethodFormatter(fmt)\n",
        "ax.yaxis.set_major_formatter(tick) \n",
        "ax.set_xlabel('Closed Deal mql_id')\n",
        "ax.set_ylabel('Revenue')\n",
        "ax.set_title('Top 20 Closed Deal mql_ids by Revenue',fontsize=20,fontweight='bold')\n",
        "graph.set_xticklabels(order,rotation=90)\n",
        "\n",
        "plt.show()"
      ],
      "execution_count": 0,
      "outputs": []
    },
    {
      "metadata": {
        "id": "EiEQO0jOW4Ne",
        "colab_type": "text"
      },
      "cell_type": "markdown",
      "source": [
        "### Let's merge the customer information into the 'cd_items' dataset..."
      ]
    },
    {
      "metadata": {
        "id": "PrQcj-u1WBfp",
        "colab_type": "code",
        "colab": {}
      },
      "cell_type": "code",
      "source": [
        "cd_order_customer_info = cd_order_info.merge(customers,how='left', on='customer_id')\n",
        "cd_order_customer_info.info()"
      ],
      "execution_count": 0,
      "outputs": []
    },
    {
      "metadata": {
        "id": "4Rssb-ijjIvA",
        "colab_type": "text"
      },
      "cell_type": "markdown",
      "source": [
        "### Let's merge the customer geographical location info into the 'cd_order_customer_info' dataset."
      ]
    },
    {
      "metadata": {
        "id": "ysOtlVvsi13R",
        "colab_type": "code",
        "colab": {}
      },
      "cell_type": "code",
      "source": [
        "cd_order_customer_info.rename(columns = {'customer_zip_code_prefix':'zip_code_prefix'},inplace=True)\n",
        "cd_order_customer_info = pd.merge(cd_order_customer_info,geolocation[['zip_code_prefix','geolocation_lat','geolocation_lng']], how = 'left',on='zip_code_prefix')\n",
        "cd_order_customer_info.info()"
      ],
      "execution_count": 0,
      "outputs": []
    },
    {
      "metadata": {
        "id": "5Fa8X7uWLAeh",
        "colab_type": "code",
        "colab": {}
      },
      "cell_type": "code",
      "source": [
        "num_customers_per_cd_mql = cd_order_customer_info.groupby(['mql_id'])['customer_id'].count().reset_index()\n",
        "num_customers_per_cd_mql = num_customers_per_cd_mql[num_customers_per_cd_mql.customer_id !=0]\n",
        "num_customers_per_cd_mql.rename(columns = {'customer_id': 'num_customer_ids'},inplace=True)\n",
        "num_customers_per_cd_mql"
      ],
      "execution_count": 0,
      "outputs": []
    },
    {
      "metadata": {
        "id": "Au3sHMETOqFo",
        "colab_type": "code",
        "colab": {}
      },
      "cell_type": "code",
      "source": [
        "num_products_per_cd_mql = cd_order_customer_info.groupby(['mql_id'])['product_id'].count().reset_index()\n",
        "num_products_per_cd_mql = num_products_per_cd_mql[num_products_per_cd_mql.product_id !=0]\n",
        "num_products_per_cd_mql.rename(columns = {'product_id': 'num_product_ids'},inplace=True)\n",
        "num_products_per_cd_mql"
      ],
      "execution_count": 0,
      "outputs": []
    },
    {
      "metadata": {
        "id": "P4c74qGYocEu",
        "colab_type": "text"
      },
      "cell_type": "markdown",
      "source": [
        "### Let's plot the customer locations for the closed deal 'mql_id's..."
      ]
    },
    {
      "metadata": {
        "id": "ZfCdQtEIlz06",
        "colab_type": "code",
        "colab": {}
      },
      "cell_type": "code",
      "source": [
        "lat = np.asarray(cd_order_customer_info['geolocation_lat'].dropna())\n",
        "lng = np.asarray(cd_order_customer_info['geolocation_lng'].dropna())"
      ],
      "execution_count": 0,
      "outputs": []
    },
    {
      "metadata": {
        "id": "6MAE3pWjmGaT",
        "colab_type": "code",
        "colab": {}
      },
      "cell_type": "code",
      "source": [
        "margin = .2                     # buffer to add to the range\n",
        "lat_min = min(lat) - margin\n",
        "lat_max = max(lat) + margin\n",
        "lng_min = min(lng) - margin\n",
        "lng_max = max(lng) + margin\n",
        "\n",
        "# create map using BASEMAP\n",
        "fig,ax = plt.subplots(figsize=(14,8))\n",
        "\n",
        "map = Basemap(llcrnrlon=lng_min,\n",
        "            llcrnrlat=lat_min,\n",
        "            urcrnrlon=lng_max,\n",
        "            urcrnrlat=lat_max,\n",
        "            lat_0=(lat_max - lat_min)/2,\n",
        "            lon_0=(lng_max-lng_min)/2,\n",
        "            projection='merc',\n",
        "            resolution = 'h',\n",
        "            area_thresh=10000.,\n",
        "            )\n",
        "map.drawcoastlines()\n",
        "map.drawcountries()\n",
        "map.drawstates()\n",
        "map.drawmapboundary(fill_color='#46bcec')\n",
        "map.fillcontinents(color = 'white',lake_color='#46bcec')\n",
        "\n",
        "# convert lat and long to map projection coordinates\n",
        "x,y = map(lng, lat)\n",
        "\n",
        "# plot points as red dots\n",
        "\n",
        "map.scatter(x,y, marker = 'o',s = 10, color='r',alpha=0.35, zorder=10)\n",
        "\n",
        "# Find and plot major cities\n",
        "\n",
        "city_list = ['Sao Paulo','Rio de Janeiro','Curitiba','Brasilia','Natal','Uberaba','Salvador-BA','Porto Alegre','Itajai']\n",
        "\n",
        "for city in city_list:\n",
        "  PlotCity(city)\n",
        "\n",
        "plt.title(\"Olist Customer Locations in Brazil\",fontsize=20,fontweight='bold')\n",
        "plt.show()"
      ],
      "execution_count": 0,
      "outputs": []
    },
    {
      "metadata": {
        "id": "n2hgxRxL4N0s",
        "colab_type": "text"
      },
      "cell_type": "markdown",
      "source": [
        "### Let's get the first contact date for each of the closed deal mql_id's.  We can get that from the 'mql' dataset."
      ]
    },
    {
      "metadata": {
        "id": "Ze-cZpiS4m-f",
        "colab_type": "code",
        "colab": {}
      },
      "cell_type": "code",
      "source": [
        "cd_order_customer_info = cd_order_info.merge(mql[['mql_id','first_contact_date']],how='inner', on='mql_id')\n",
        "cd_order_customer_info.info()"
      ],
      "execution_count": 0,
      "outputs": []
    },
    {
      "metadata": {
        "id": "a3ddZYx37HXX",
        "colab_type": "code",
        "colab": {}
      },
      "cell_type": "code",
      "source": [
        "cd_order_customer_info['lead_conversion_time'] = cd_order_customer_info['won_date'] - cd_order_customer_info['first_contact_date']\n",
        "cd_order_customer_info['lead_conversion_time'] = cd_order_customer_info['lead_conversion_time'].dt.days  # Strip out days from timedelta variable\n",
        "cd_order_customer_info['lead_conversion_time'] = cd_order_customer_info['lead_conversion_time'].apply(np.float32)\n",
        "cd_order_customer_info['lead_conversion_time'].head()"
      ],
      "execution_count": 0,
      "outputs": []
    },
    {
      "metadata": {
        "id": "zKktYQHrukqQ",
        "colab_type": "text"
      },
      "cell_type": "markdown",
      "source": [
        "### Some statistics on the lead conversion times (measured in days) for the closed deals...  Notice that the standard deviation is higher than the mean value!  Let's see how closed deal revenue affects the lead conversion time."
      ]
    },
    {
      "metadata": {
        "id": "Ax91HJghyfjC",
        "colab_type": "code",
        "colab": {}
      },
      "cell_type": "code",
      "source": [
        "cd_order_customer_info['lead_conversion_time'].describe()"
      ],
      "execution_count": 0,
      "outputs": []
    },
    {
      "metadata": {
        "id": "3-9Fu7Pa_qFR",
        "colab_type": "code",
        "colab": {}
      },
      "cell_type": "code",
      "source": [
        "cd_order_customer_info.sort_values(by ='lead_conversion_time',ascending=False).head(50)"
      ],
      "execution_count": 0,
      "outputs": []
    },
    {
      "metadata": {
        "id": "EkKCa40hyOf2",
        "colab_type": "code",
        "colab": {}
      },
      "cell_type": "code",
      "source": [
        "revenue_per_mql = cd_order_customer_info.groupby(['mql_id','lead_conversion_time'])['total_payment'].sum().reset_index()\n",
        "revenue_per_mql = revenue_per_mql[revenue_per_mql.total_payment != 0]  # Delete rows where sum('total_payment') = 0\n",
        "cd_mqls_by_revenue = revenue_per_mql.sort_values(by='total_payment',ascending=False)\n",
        "top_20_mqls= revenue_per_mql.sort_values(by='total_payment',ascending=False).head(20)"
      ],
      "execution_count": 0,
      "outputs": []
    },
    {
      "metadata": {
        "id": "1qYcQVvSEaKp",
        "colab_type": "code",
        "colab": {}
      },
      "cell_type": "code",
      "source": [
        "\n",
        "fig,ax = plt.subplots(figsize=(14,6))\n",
        "\n",
        "x = top_20_mqls['mql_id']\n",
        "y1 = top_20_mqls['lead_conversion_time']\n",
        "y2 = top_20_mqls['total_payment']\n",
        "\n",
        "plt.subplot(1,2,1)\n",
        "plt.plot(x,y1, 'o-',color='red')\n",
        "plt.title('Lead Conversion Time - Top 20 mql_ids by Revenue')\n",
        "plt.ylabel('Lead Conversion Time (Days)')\n",
        "\n",
        "plt.xticks(rotation=90)\n",
        "\n",
        "ax2 = plt.subplot(1,2,2)\n",
        "plt.bar(x, y2)\n",
        "plt.title('Closed Deal Revenue')\n",
        "plt.xlabel('mql_id')\n",
        "plt.ylabel('Revenue')\n",
        "\n",
        "fmt = '${x:,.0f}'\n",
        "tick = mtick.StrMethodFormatter(fmt)\n",
        "ax2.yaxis.set_major_formatter(tick) \n",
        "\n",
        "plt.xticks(rotation=90)\n",
        "\n",
        "plt.show()"
      ],
      "execution_count": 0,
      "outputs": []
    },
    {
      "metadata": {
        "id": "6VF3OxtgBtfA",
        "colab_type": "code",
        "colab": {}
      },
      "cell_type": "code",
      "source": [
        "fig, ax1 = plt.subplots(figsize=(14,6))\n",
        "\n",
        "color = 'tab:blue'\n",
        "ax1.set_ylabel('Revenue', color=color)  # we already handled the x-label with ax1\n",
        "ax1.bar(top_20_mqls['mql_id'], top_20_mqls['total_payment'], color=color)\n",
        "fmt = '${x:,.0f}'\n",
        "tick = mtick.StrMethodFormatter(fmt)\n",
        "ax1.yaxis.set_major_formatter(tick) \n",
        "ax1.tick_params(axis='y', labelcolor=color)\n",
        "\n",
        "plt.xticks(rotation=90)\n",
        "\n",
        "ax2 = ax1.twinx()  # instantiate a second axes that shares the same x-axis\n",
        "\n",
        "color = 'tab:red'\n",
        "ax2.set_xlabel('mql_id')\n",
        "ax2.set_ylabel('Lead Conversion Time (Days)', color=color, rotation=270,labelpad=15)\n",
        "ax2.plot(top_20_mqls['mql_id'], top_20_mqls['lead_conversion_time'], color=color)\n",
        "ax2.tick_params(axis='both', labelcolor=color)\n",
        "ax2.grid(None)\n",
        "\n",
        "\n",
        "\n",
        "fig.tight_layout()  # otherwise the right y-label is slightly clipped\n",
        "plt.show()"
      ],
      "execution_count": 0,
      "outputs": []
    },
    {
      "metadata": {
        "id": "b6RcZLOutADA",
        "colab_type": "text"
      },
      "cell_type": "markdown",
      "source": [
        "### What kind of customer review scores did the top closed deals generate? We have a sorted list of the closed deal 'mql_id's according to revenue generated in 'cd_mqls_by_revenue'. We need to generate a list of 'order_id's for each 'mql_id'."
      ]
    },
    {
      "metadata": {
        "id": "p05ToNmVuuBr",
        "colab_type": "code",
        "colab": {}
      },
      "cell_type": "code",
      "source": [
        "mean_review_score_per_mql = cd_order_customer_info.groupby(['mql_id'])['review_score'].mean().reset_index()\n",
        "mean_review_score_per_mql.rename(columns = {'review_score':'mean_review_score'},inplace=True)\n",
        "mean_review_score_per_mql.dropna(inplace=True)"
      ],
      "execution_count": 0,
      "outputs": []
    },
    {
      "metadata": {
        "id": "wuzATBa32cNz",
        "colab_type": "code",
        "colab": {}
      },
      "cell_type": "code",
      "source": [
        "cd_mqls_by_revenue = cd_mqls_by_revenue.merge(mean_review_score_per_mql,how='left',on='mql_id')\n",
        "top_mql_mean_scores = cd_mqls_by_revenue.head(20)"
      ],
      "execution_count": 0,
      "outputs": []
    },
    {
      "metadata": {
        "id": "ffq6SsxF39mL",
        "colab_type": "code",
        "colab": {}
      },
      "cell_type": "code",
      "source": [
        "fig, ax1 = plt.subplots(figsize=(14,6))\n",
        "\n",
        "color = 'tab:blue'\n",
        "ax1.set_ylabel('Revenue', color=color)  # we already handled the x-label with ax1\n",
        "ax1.bar(top_mql_mean_scores['mql_id'], top_mql_mean_scores['total_payment'], color=color)\n",
        "fmt = '${x:,.0f}'\n",
        "tick = mtick.StrMethodFormatter(fmt)\n",
        "ax1.yaxis.set_major_formatter(tick) \n",
        "ax1.tick_params(axis='y', labelcolor=color)\n",
        "\n",
        "plt.xticks(rotation=90)\n",
        "\n",
        "ax2 = ax1.twinx()  # instantiate a second axes that shares the same x-axis\n",
        "\n",
        "color = 'tab:red'\n",
        "ax2.set_xlabel('mql_id')\n",
        "ax2.set_ylabel('Mean Review Score', color=color, rotation=270,labelpad=15)\n",
        "ax2.plot(top_mql_mean_scores['mql_id'], top_mql_mean_scores['mean_review_score'], color=color)\n",
        "ax2.tick_params(axis='both', labelcolor=color)\n",
        "ax2.grid(None)\n",
        "\n",
        "fig.tight_layout()  # otherwise the right y-label is slightly clipped\n",
        "plt.show()"
      ],
      "execution_count": 0,
      "outputs": []
    },
    {
      "metadata": {
        "id": "tIErqaPTBhLl",
        "colab_type": "text"
      },
      "cell_type": "markdown",
      "source": [
        "### Let's look at some other characteristics of the top closed deal 'mql_id's...\n",
        "\n",
        "We'll look at:\n",
        "\n",
        "*  Number of 'order_id's\n",
        "*  Number of 'customer_id's\n",
        "*  Number of 'product_id's\n",
        "\n",
        "\n",
        "\n",
        "\n"
      ]
    },
    {
      "metadata": {
        "id": "ZfCRtAaCPfAu",
        "colab_type": "code",
        "colab": {}
      },
      "cell_type": "code",
      "source": [
        "dfs_to_merge = [cd_mqls_by_revenue,order_ids_per_mql,num_customers_per_cd_mql,num_products_per_cd_mql]\n",
        "cd_mql_by_revenue = reduce(lambda left,right: pd.merge(left,right,on=['mql_id'],how='left'), dfs_to_merge)\n",
        "cd_mql_by_revenue"
      ],
      "execution_count": 0,
      "outputs": []
    }
  ]
}