{
  "nbformat": 4,
  "nbformat_minor": 0,
  "metadata": {
    "colab": {
      "name": "LA Parking Citation Analysis.ipynb",
      "version": "0.3.2",
      "provenance": [],
      "collapsed_sections": [],
      "include_colab_link": true
    },
    "kernelspec": {
      "name": "python3",
      "display_name": "Python 3"
    },
    "accelerator": "TPU"
  },
  "cells": [
    {
      "cell_type": "markdown",
      "metadata": {
        "id": "view-in-github",
        "colab_type": "text"
      },
      "source": [
        "<a href=\"https://colab.research.google.com/github/ROARMarketingConcepts/Data-Analysis-Projects/blob/master/LA_Parking_Citation_Analysis.ipynb\" target=\"_parent\"><img src=\"https://colab.research.google.com/assets/colab-badge.svg\" alt=\"Open In Colab\"/></a>"
      ]
    },
    {
      "metadata": {
        "id": "xrdB4Pvew0ah",
        "colab_type": "text"
      },
      "cell_type": "markdown",
      "source": [
        "## LA Parking Citation Analysis\n",
        "\n",
        "This is a marketing funnel dataset from sellers that filled in requests of contact to sell their products on the Olist Store. The dataset has information of 8k Marketing Qualified Leads (MQLs) that requested contact between 6/1/17 and 6/1/18. They were randomly sampled from the total of MQLs. Its features allows viewing a sales process from multiple dimensions: lead category, catalog size, behaviour profile, etc.\n",
        "\n",
        "This dataset was generously provided by Olist, the largest department store in Brazilian marketplaces. Olist connects small businesses from all over Brazil to channels without hassle and with a single contract. Those merchants are able to sell their products through the Olist Store and ship them directly to the customers using Olist logistics partners. \n",
        "\n",
        "### Analysis performed by:\n",
        "\n",
        "Ken Wood\n",
        "\n",
        "Senior Marketing Strategist\n",
        "\n",
        "ken@roarmarketingconcepts.com"
      ]
    },
    {
      "metadata": {
        "id": "ztXJYWRmFDrQ",
        "colab_type": "text"
      },
      "cell_type": "markdown",
      "source": [
        "### Here are some suggested analyses for this dataset: \n",
        "\n",
        "\n",
        "1.   Customer Lifetime Value:  How much a customer will bring in future revenue?\n",
        "2.   SR/SDR Optimization: Which SR or SDR should talk with each kind of lead?\n",
        "3.   Closing Prediction: Which deals will be closed?"
      ]
    },
    {
      "metadata": {
        "id": "Q_Brip-8tdjE",
        "colab_type": "text"
      },
      "cell_type": "markdown",
      "source": [
        "\n",
        "\n",
        "\n",
        "---\n",
        "\n"
      ]
    },
    {
      "metadata": {
        "id": "9ALCkfYuqrTZ",
        "colab_type": "text"
      },
      "cell_type": "markdown",
      "source": [
        "### Mount my Google Drive where the Olist datasets are located..."
      ]
    },
    {
      "metadata": {
        "id": "Op1VaBbmzAds",
        "colab_type": "code",
        "outputId": "79ef059f-79b8-4fdf-9715-6547ca41e312",
        "colab": {
          "base_uri": "https://localhost:8080/",
          "height": 34
        }
      },
      "cell_type": "code",
      "source": [
        "from google.colab import drive\n",
        "drive.mount('/gdrive')"
      ],
      "execution_count": 0,
      "outputs": [
        {
          "output_type": "stream",
          "text": [
            "Drive already mounted at /gdrive; to attempt to forcibly remount, call drive.mount(\"/gdrive\", force_remount=True).\n"
          ],
          "name": "stdout"
        }
      ]
    },
    {
      "metadata": {
        "id": "DrdaZhEvlliM",
        "colab_type": "code",
        "outputId": "5c0e5bc3-c188-4c19-e71b-638e1c7b5b21",
        "colab": {
          "base_uri": "https://localhost:8080/",
          "height": 150
        }
      },
      "cell_type": "code",
      "source": [
        "!apt install proj-bin libproj-dev libgeos-dev"
      ],
      "execution_count": 0,
      "outputs": [
        {
          "output_type": "stream",
          "text": [
            "Reading package lists... Done\n",
            "Building dependency tree       \n",
            "Reading state information... Done\n",
            "libgeos-dev is already the newest version (3.6.2-1build2).\n",
            "libproj-dev is already the newest version (4.9.3-2).\n",
            "proj-bin is already the newest version (4.9.3-2).\n",
            "0 upgraded, 0 newly installed, 0 to remove and 13 not upgraded.\n"
          ],
          "name": "stdout"
        }
      ]
    },
    {
      "metadata": {
        "id": "twm5n0jglxFD",
        "colab_type": "code",
        "outputId": "11481c31-99f9-4e8c-de88-70f6cd254b11",
        "colab": {
          "base_uri": "https://localhost:8080/",
          "height": 435
        }
      },
      "cell_type": "code",
      "source": [
        "# !pip install https://github.com/matplotlib/basemap/archive/v1.1.0.tar.gz\n",
        "!sudo pip install -U git+https://github.com/matplotlib/basemap.git"
      ],
      "execution_count": 0,
      "outputs": [
        {
          "output_type": "stream",
          "text": [
            "Collecting git+https://github.com/matplotlib/basemap.git\n",
            "  Cloning https://github.com/matplotlib/basemap.git to /tmp/pip-req-build-ge0lfecn\n",
            "Requirement already satisfied, skipping upgrade: matplotlib!=3.0.1,>=1.0.0 in /usr/local/lib/python3.6/dist-packages (from basemap==1.2.0) (3.0.2)\n",
            "Requirement already satisfied, skipping upgrade: numpy>=1.2.1 in /usr/local/lib/python3.6/dist-packages (from basemap==1.2.0) (1.14.6)\n",
            "Requirement already satisfied, skipping upgrade: pyproj>=1.9.3 in /usr/local/lib/python3.6/dist-packages (from basemap==1.2.0) (1.9.6)\n",
            "Requirement already satisfied, skipping upgrade: pyshp>=1.2.0 in /usr/local/lib/python3.6/dist-packages (from basemap==1.2.0) (2.0.1)\n",
            "Requirement already satisfied, skipping upgrade: six in /usr/local/lib/python3.6/dist-packages (from basemap==1.2.0) (1.11.0)\n",
            "Requirement already satisfied, skipping upgrade: python-dateutil>=2.1 in /usr/local/lib/python3.6/dist-packages (from matplotlib!=3.0.1,>=1.0.0->basemap==1.2.0) (2.5.3)\n",
            "Requirement already satisfied, skipping upgrade: cycler>=0.10 in /usr/local/lib/python3.6/dist-packages (from matplotlib!=3.0.1,>=1.0.0->basemap==1.2.0) (0.10.0)\n",
            "Requirement already satisfied, skipping upgrade: kiwisolver>=1.0.1 in /usr/local/lib/python3.6/dist-packages (from matplotlib!=3.0.1,>=1.0.0->basemap==1.2.0) (1.0.1)\n",
            "Requirement already satisfied, skipping upgrade: pyparsing!=2.0.4,!=2.1.2,!=2.1.6,>=2.0.1 in /usr/local/lib/python3.6/dist-packages (from matplotlib!=3.0.1,>=1.0.0->basemap==1.2.0) (2.3.1)\n",
            "Requirement already satisfied, skipping upgrade: setuptools in /usr/local/lib/python3.6/dist-packages (from kiwisolver>=1.0.1->matplotlib!=3.0.1,>=1.0.0->basemap==1.2.0) (40.6.3)\n",
            "Building wheels for collected packages: basemap\n",
            "  Running setup.py bdist_wheel for basemap ... \u001b[?25l-\b \b\\\b \b|\b \b/\b \b-\b \b\\\b \b|\b \b/\b \b-\b \b\\\b \b|\b \b/\b \b-\b \b\\\b \b|\b \b/\b \b-\b \b\\\b \b|\b \b/\b \b-\b \b\\\b \b|\b \b/\b \b-\b \b\\\b \b|\b \b/\b \bdone\n",
            "\u001b[?25h  Stored in directory: /tmp/pip-ephem-wheel-cache-nyyas68h/wheels/3f/f3/56/de548b66967d0d661612b7618022e2c0d4b86b9a638cf6ccf3\n",
            "Successfully built basemap\n",
            "Installing collected packages: basemap\n",
            "  Found existing installation: basemap 1.2.0\n",
            "    Uninstalling basemap-1.2.0:\n",
            "      Successfully uninstalled basemap-1.2.0\n",
            "Successfully installed basemap-1.2.0\n"
          ],
          "name": "stdout"
        }
      ]
    },
    {
      "metadata": {
        "id": "CaqrF3-Zq2PC",
        "colab_type": "text"
      },
      "cell_type": "markdown",
      "source": [
        "### Install some necessary packages to perform the required analysis..."
      ]
    },
    {
      "metadata": {
        "id": "fXW19Ug6MF-W",
        "colab_type": "code",
        "outputId": "a063e654-d086-4d24-a699-ccf041db278e",
        "colab": {
          "base_uri": "https://localhost:8080/",
          "height": 167
        }
      },
      "cell_type": "code",
      "source": [
        "!pip install -U scikit-learn\n",
        "!pip install --user --upgrade tables\n",
        "\n",
        "import pandas as pd\n",
        "import numpy as np\n",
        "import sklearn\n",
        "import scipy\n",
        "from datetime import datetime as dt\n",
        "\n",
        "import matplotlib.pyplot as plt\n",
        "from matplotlib import interactive\n",
        "plt.rc(\"font\", size=14)\n",
        "from pylab import scatter, show, legend, xlabel, ylabel\n",
        "\n",
        "from mpl_toolkits.basemap import Basemap\n",
        "\n",
        "import seaborn as sns\n",
        "sns.set(style=\"white\")\n",
        "sns.set(style=\"whitegrid\", color_codes=True)\n",
        "\n",
        "# Ignore useless warnings (see SciPy issue #5998)\n",
        "import warnings\n",
        "warnings.filterwarnings(action=\"ignore\", message=\"^internal gelsd\")"
      ],
      "execution_count": 0,
      "outputs": [
        {
          "output_type": "stream",
          "text": [
            "Requirement already up-to-date: scikit-learn in /usr/local/lib/python3.6/dist-packages (0.20.2)\n",
            "Requirement already satisfied, skipping upgrade: numpy>=1.8.2 in /usr/local/lib/python3.6/dist-packages (from scikit-learn) (1.14.6)\n",
            "Requirement already satisfied, skipping upgrade: scipy>=0.13.3 in /usr/local/lib/python3.6/dist-packages (from scikit-learn) (1.1.0)\n",
            "Requirement already up-to-date: tables in /usr/local/lib/python3.6/dist-packages (3.4.4)\n",
            "Requirement already satisfied, skipping upgrade: six>=1.9.0 in /usr/local/lib/python3.6/dist-packages (from tables) (1.11.0)\n",
            "Requirement already satisfied, skipping upgrade: numexpr>=2.5.2 in /usr/local/lib/python3.6/dist-packages (from tables) (2.6.9)\n",
            "Requirement already satisfied, skipping upgrade: numpy>=1.8.0 in /usr/local/lib/python3.6/dist-packages (from tables) (1.14.6)\n"
          ],
          "name": "stdout"
        }
      ]
    },
    {
      "metadata": {
        "id": "UrkGvrxrDxb4",
        "colab_type": "code",
        "outputId": "0ef0b44e-b5eb-4ed2-b314-2ae0465cb073",
        "colab": {
          "base_uri": "https://localhost:8080/",
          "height": 59
        }
      },
      "cell_type": "code",
      "source": [
        "\"\"\"width = 28000000; lon_0 = -105; lat_0 = 40\n",
        "m = Basemap(width=width,height=width,projection='aeqd',\n",
        "            lat_0=lat_0,lon_0=lon_0)\n",
        "# fill background.\n",
        "m.drawmapboundary(fill_color='aqua')\n",
        "# draw coasts and fill continents.\n",
        "m.drawcoastlines(linewidth=0.5)\n",
        "m.fillcontinents(color='coral',lake_color='aqua')\n",
        "# 20 degree graticule.\n",
        "m.drawparallels(np.arange(-80,81,20))\n",
        "m.drawmeridians(np.arange(-180,180,20))\n",
        "# draw a black dot at the center.\n",
        "xpt, ypt = m(lon_0, lat_0)\n",
        "m.plot([xpt],[ypt],'ko')\n",
        "# draw the title.\n",
        "plt.title('Azimuthal Equidistant Projection')\n",
        "plt.show()\"\"\""
      ],
      "execution_count": 0,
      "outputs": [
        {
          "output_type": "execute_result",
          "data": {
            "text/plain": [
              "\"width = 28000000; lon_0 = -105; lat_0 = 40\\nm = Basemap(width=width,height=width,projection='aeqd',\\n            lat_0=lat_0,lon_0=lon_0)\\n# fill background.\\nm.drawmapboundary(fill_color='aqua')\\n# draw coasts and fill continents.\\nm.drawcoastlines(linewidth=0.5)\\nm.fillcontinents(color='coral',lake_color='aqua')\\n# 20 degree graticule.\\nm.drawparallels(np.arange(-80,81,20))\\nm.drawmeridians(np.arange(-180,180,20))\\n# draw a black dot at the center.\\nxpt, ypt = m(lon_0, lat_0)\\nm.plot([xpt],[ypt],'ko')\\n# draw the title.\\nplt.title('Azimuthal Equidistant Projection')\\nplt.show()\""
            ]
          },
          "metadata": {
            "tags": []
          },
          "execution_count": 5
        }
      ]
    },
    {
      "metadata": {
        "id": "58of5Ft_3qQ_",
        "colab_type": "code",
        "colab": {}
      },
      "cell_type": "code",
      "source": [
        "class color:\n",
        "   PURPLE = '\\033[95m'\n",
        "   CYAN = '\\033[96m'\n",
        "   DARKCYAN = '\\033[36m'\n",
        "   BLUE = '\\033[94m'\n",
        "   GREEN = '\\033[92m'\n",
        "   YELLOW = '\\033[93m'\n",
        "   RED = '\\033[91m'\n",
        "   BOLD = '\\033[1m'\n",
        "   UNDERLINE = '\\033[4m'\n",
        "   END = '\\033[0m'"
      ],
      "execution_count": 0,
      "outputs": []
    },
    {
      "metadata": {
        "id": "YsUIKTNDq_JY",
        "colab_type": "text"
      },
      "cell_type": "markdown",
      "source": [
        "### Load the dataset..."
      ]
    },
    {
      "metadata": {
        "id": "RpQYnzQpMOTm",
        "colab_type": "code",
        "outputId": "8cb4e010-0d11-414d-dfac-18124cdd03a3",
        "colab": {
          "base_uri": "https://localhost:8080/",
          "height": 81
        }
      },
      "cell_type": "code",
      "source": [
        "df = pd.read_csv('/gdrive/My Drive/Colab Notebooks/LA Parking Citations/los-angeles-parking-citations/parking-citations.csv')"
      ],
      "execution_count": 0,
      "outputs": [
        {
          "output_type": "stream",
          "text": [
            "/usr/local/lib/python3.6/dist-packages/IPython/core/interactiveshell.py:2718: DtypeWarning: Columns (0,7) have mixed types. Specify dtype option on import or set low_memory=False.\n",
            "  interactivity=interactivity, compiler=compiler, result=result)\n"
          ],
          "name": "stderr"
        }
      ]
    },
    {
      "metadata": {
        "id": "MRexXkMLlA_E",
        "colab_type": "code",
        "outputId": "1aa75a0e-a6e5-48bd-f651-b67082ceeb21",
        "colab": {
          "base_uri": "https://localhost:8080/",
          "height": 425
        }
      },
      "cell_type": "code",
      "source": [
        "df.info()"
      ],
      "execution_count": 0,
      "outputs": [
        {
          "output_type": "stream",
          "text": [
            "<class 'pandas.core.frame.DataFrame'>\n",
            "RangeIndex: 8747714 entries, 0 to 8747713\n",
            "Data columns (total 19 columns):\n",
            "Ticket number            object\n",
            "Issue Date               object\n",
            "Issue time               float64\n",
            "Meter Id                 object\n",
            "Marked Time              float64\n",
            "RP State Plate           object\n",
            "Plate Expiry Date        float64\n",
            "VIN                      object\n",
            "Make                     object\n",
            "Body Style               object\n",
            "Color                    object\n",
            "Location                 object\n",
            "Route                    object\n",
            "Agency                   float64\n",
            "Violation code           object\n",
            "Violation Description    object\n",
            "Fine amount              float64\n",
            "Latitude                 float64\n",
            "Longitude                float64\n",
            "dtypes: float64(7), object(12)\n",
            "memory usage: 1.2+ GB\n"
          ],
          "name": "stdout"
        }
      ]
    },
    {
      "metadata": {
        "id": "EDOzruGg5iCU",
        "colab_type": "text"
      },
      "cell_type": "markdown",
      "source": [
        "### Let's convert all date fields to pandas 'datetime' variables so that we can easily work with dates and times in our analysis."
      ]
    },
    {
      "metadata": {
        "id": "k8dun8b0lx5o",
        "colab_type": "code",
        "colab": {}
      },
      "cell_type": "code",
      "source": [
        "df['Issue Date'] = pd.to_datetime(df['Issue Date'],format = '%Y-%m-%d')\n",
        "\n",
        "df['Issue time'] = df['Issue time']/100   # Wrangle the 'Issue time' column to convert to a datetime variable\n",
        "df['Issue time'] = pd.to_datetime(df['Issue time'],format='%H.%M',errors = 'coerce').dt.time\n",
        "\n",
        "df['Day of Week'] = df['Issue Date'].dt.weekday_name"
      ],
      "execution_count": 0,
      "outputs": []
    },
    {
      "metadata": {
        "id": "VvaoVEaeKSJ0",
        "colab_type": "code",
        "colab": {}
      },
      "cell_type": "code",
      "source": [
        "df['Plate Expiry Date'] = df['Plate Expiry Date']\n",
        "# df['Plate Expiry Date'] = pd.to_datetime(df['Plate Expiry Date'],format='%Y.%m',errors='coerce')"
      ],
      "execution_count": 0,
      "outputs": []
    },
    {
      "metadata": {
        "id": "sEBHzz6DDlkJ",
        "colab_type": "code",
        "outputId": "d4d25722-798f-439e-fa8e-8723fe412efc",
        "colab": {
          "base_uri": "https://localhost:8080/",
          "height": 588
        }
      },
      "cell_type": "code",
      "source": [
        "df.head(10)"
      ],
      "execution_count": 0,
      "outputs": [
        {
          "output_type": "execute_result",
          "data": {
            "text/html": [
              "<div>\n",
              "<style scoped>\n",
              "    .dataframe tbody tr th:only-of-type {\n",
              "        vertical-align: middle;\n",
              "    }\n",
              "\n",
              "    .dataframe tbody tr th {\n",
              "        vertical-align: top;\n",
              "    }\n",
              "\n",
              "    .dataframe thead th {\n",
              "        text-align: right;\n",
              "    }\n",
              "</style>\n",
              "<table border=\"1\" class=\"dataframe\">\n",
              "  <thead>\n",
              "    <tr style=\"text-align: right;\">\n",
              "      <th></th>\n",
              "      <th>Ticket number</th>\n",
              "      <th>Issue Date</th>\n",
              "      <th>Issue time</th>\n",
              "      <th>Meter Id</th>\n",
              "      <th>Marked Time</th>\n",
              "      <th>RP State Plate</th>\n",
              "      <th>Plate Expiry Date</th>\n",
              "      <th>VIN</th>\n",
              "      <th>Make</th>\n",
              "      <th>Body Style</th>\n",
              "      <th>Color</th>\n",
              "      <th>Location</th>\n",
              "      <th>Route</th>\n",
              "      <th>Agency</th>\n",
              "      <th>Violation code</th>\n",
              "      <th>Violation Description</th>\n",
              "      <th>Fine amount</th>\n",
              "      <th>Latitude</th>\n",
              "      <th>Longitude</th>\n",
              "    </tr>\n",
              "  </thead>\n",
              "  <tbody>\n",
              "    <tr>\n",
              "      <th>0</th>\n",
              "      <td>1103341116</td>\n",
              "      <td>2015-12-21T00:00:00</td>\n",
              "      <td>1251.0</td>\n",
              "      <td>NaN</td>\n",
              "      <td>NaN</td>\n",
              "      <td>CA</td>\n",
              "      <td>200304.0</td>\n",
              "      <td>NaN</td>\n",
              "      <td>HOND</td>\n",
              "      <td>PA</td>\n",
              "      <td>GY</td>\n",
              "      <td>13147 WELBY WAY</td>\n",
              "      <td>01521</td>\n",
              "      <td>1.0</td>\n",
              "      <td>4000A1</td>\n",
              "      <td>NO EVIDENCE OF REG</td>\n",
              "      <td>50.0</td>\n",
              "      <td>99999.0</td>\n",
              "      <td>99999.0</td>\n",
              "    </tr>\n",
              "    <tr>\n",
              "      <th>1</th>\n",
              "      <td>1103700150</td>\n",
              "      <td>2015-12-21T00:00:00</td>\n",
              "      <td>1435.0</td>\n",
              "      <td>NaN</td>\n",
              "      <td>NaN</td>\n",
              "      <td>CA</td>\n",
              "      <td>201512.0</td>\n",
              "      <td>NaN</td>\n",
              "      <td>GMC</td>\n",
              "      <td>VN</td>\n",
              "      <td>WH</td>\n",
              "      <td>525 S MAIN ST</td>\n",
              "      <td>1C51</td>\n",
              "      <td>1.0</td>\n",
              "      <td>4000A1</td>\n",
              "      <td>NO EVIDENCE OF REG</td>\n",
              "      <td>50.0</td>\n",
              "      <td>99999.0</td>\n",
              "      <td>99999.0</td>\n",
              "    </tr>\n",
              "    <tr>\n",
              "      <th>2</th>\n",
              "      <td>1104803000</td>\n",
              "      <td>2015-12-21T00:00:00</td>\n",
              "      <td>2055.0</td>\n",
              "      <td>NaN</td>\n",
              "      <td>NaN</td>\n",
              "      <td>CA</td>\n",
              "      <td>201503.0</td>\n",
              "      <td>NaN</td>\n",
              "      <td>NISS</td>\n",
              "      <td>PA</td>\n",
              "      <td>BK</td>\n",
              "      <td>200 WORLD WAY</td>\n",
              "      <td>2R2</td>\n",
              "      <td>2.0</td>\n",
              "      <td>8939</td>\n",
              "      <td>WHITE CURB</td>\n",
              "      <td>58.0</td>\n",
              "      <td>6439997.9</td>\n",
              "      <td>1802686.4</td>\n",
              "    </tr>\n",
              "    <tr>\n",
              "      <th>3</th>\n",
              "      <td>1104820732</td>\n",
              "      <td>2015-12-26T00:00:00</td>\n",
              "      <td>1515.0</td>\n",
              "      <td>NaN</td>\n",
              "      <td>NaN</td>\n",
              "      <td>CA</td>\n",
              "      <td>NaN</td>\n",
              "      <td>NaN</td>\n",
              "      <td>ACUR</td>\n",
              "      <td>PA</td>\n",
              "      <td>WH</td>\n",
              "      <td>100 WORLD WAY</td>\n",
              "      <td>2F11</td>\n",
              "      <td>2.0</td>\n",
              "      <td>000</td>\n",
              "      <td>17104h</td>\n",
              "      <td>NaN</td>\n",
              "      <td>6440041.1</td>\n",
              "      <td>1802686.2</td>\n",
              "    </tr>\n",
              "    <tr>\n",
              "      <th>4</th>\n",
              "      <td>1105461453</td>\n",
              "      <td>2015-09-15T00:00:00</td>\n",
              "      <td>115.0</td>\n",
              "      <td>NaN</td>\n",
              "      <td>NaN</td>\n",
              "      <td>CA</td>\n",
              "      <td>200316.0</td>\n",
              "      <td>NaN</td>\n",
              "      <td>CHEV</td>\n",
              "      <td>PA</td>\n",
              "      <td>BK</td>\n",
              "      <td>GEORGIA ST/OLYMPIC</td>\n",
              "      <td>1FB70</td>\n",
              "      <td>1.0</td>\n",
              "      <td>8069A</td>\n",
              "      <td>NO STOPPING/STANDING</td>\n",
              "      <td>93.0</td>\n",
              "      <td>99999.0</td>\n",
              "      <td>99999.0</td>\n",
              "    </tr>\n",
              "    <tr>\n",
              "      <th>5</th>\n",
              "      <td>1106226590</td>\n",
              "      <td>2015-09-15T00:00:00</td>\n",
              "      <td>19.0</td>\n",
              "      <td>NaN</td>\n",
              "      <td>NaN</td>\n",
              "      <td>CA</td>\n",
              "      <td>201507.0</td>\n",
              "      <td>NaN</td>\n",
              "      <td>CHEV</td>\n",
              "      <td>VN</td>\n",
              "      <td>GY</td>\n",
              "      <td>SAN PEDRO S/O BOYD</td>\n",
              "      <td>1A35W</td>\n",
              "      <td>1.0</td>\n",
              "      <td>4000A1</td>\n",
              "      <td>NO EVIDENCE OF REG</td>\n",
              "      <td>50.0</td>\n",
              "      <td>99999.0</td>\n",
              "      <td>99999.0</td>\n",
              "    </tr>\n",
              "    <tr>\n",
              "      <th>6</th>\n",
              "      <td>1106500452</td>\n",
              "      <td>2015-12-17T00:00:00</td>\n",
              "      <td>1710.0</td>\n",
              "      <td>NaN</td>\n",
              "      <td>NaN</td>\n",
              "      <td>CA</td>\n",
              "      <td>201605.0</td>\n",
              "      <td>NaN</td>\n",
              "      <td>MAZD</td>\n",
              "      <td>PA</td>\n",
              "      <td>BL</td>\n",
              "      <td>SUNSET/ALVARADO</td>\n",
              "      <td>00217</td>\n",
              "      <td>1.0</td>\n",
              "      <td>8070</td>\n",
              "      <td>PARK IN GRID LOCK ZN</td>\n",
              "      <td>163.0</td>\n",
              "      <td>99999.0</td>\n",
              "      <td>99999.0</td>\n",
              "    </tr>\n",
              "    <tr>\n",
              "      <th>7</th>\n",
              "      <td>1106500463</td>\n",
              "      <td>2015-12-17T00:00:00</td>\n",
              "      <td>1710.0</td>\n",
              "      <td>NaN</td>\n",
              "      <td>NaN</td>\n",
              "      <td>CA</td>\n",
              "      <td>201602.0</td>\n",
              "      <td>NaN</td>\n",
              "      <td>TOYO</td>\n",
              "      <td>PA</td>\n",
              "      <td>BK</td>\n",
              "      <td>SUNSET/ALVARADO</td>\n",
              "      <td>00217</td>\n",
              "      <td>1.0</td>\n",
              "      <td>8070</td>\n",
              "      <td>PARK IN GRID LOCK ZN</td>\n",
              "      <td>163.0</td>\n",
              "      <td>99999.0</td>\n",
              "      <td>99999.0</td>\n",
              "    </tr>\n",
              "    <tr>\n",
              "      <th>8</th>\n",
              "      <td>1106506402</td>\n",
              "      <td>2015-12-22T00:00:00</td>\n",
              "      <td>945.0</td>\n",
              "      <td>NaN</td>\n",
              "      <td>NaN</td>\n",
              "      <td>CA</td>\n",
              "      <td>201605.0</td>\n",
              "      <td>NaN</td>\n",
              "      <td>CHEV</td>\n",
              "      <td>PA</td>\n",
              "      <td>BR</td>\n",
              "      <td>721 S WESTLAKE</td>\n",
              "      <td>2A75</td>\n",
              "      <td>1.0</td>\n",
              "      <td>8069AA</td>\n",
              "      <td>NO STOP/STAND AM</td>\n",
              "      <td>93.0</td>\n",
              "      <td>99999.0</td>\n",
              "      <td>99999.0</td>\n",
              "    </tr>\n",
              "    <tr>\n",
              "      <th>9</th>\n",
              "      <td>1106506413</td>\n",
              "      <td>2015-12-22T00:00:00</td>\n",
              "      <td>1100.0</td>\n",
              "      <td>NaN</td>\n",
              "      <td>NaN</td>\n",
              "      <td>CA</td>\n",
              "      <td>201701.0</td>\n",
              "      <td>NaN</td>\n",
              "      <td>NISS</td>\n",
              "      <td>PA</td>\n",
              "      <td>SI</td>\n",
              "      <td>1159 HUNTLEY DR</td>\n",
              "      <td>2A75</td>\n",
              "      <td>1.0</td>\n",
              "      <td>8069AA</td>\n",
              "      <td>NO STOP/STAND AM</td>\n",
              "      <td>93.0</td>\n",
              "      <td>99999.0</td>\n",
              "      <td>99999.0</td>\n",
              "    </tr>\n",
              "  </tbody>\n",
              "</table>\n",
              "</div>"
            ],
            "text/plain": [
              "  Ticket number           Issue Date  Issue time Meter Id  Marked Time  \\\n",
              "0    1103341116  2015-12-21T00:00:00      1251.0      NaN          NaN   \n",
              "1    1103700150  2015-12-21T00:00:00      1435.0      NaN          NaN   \n",
              "2    1104803000  2015-12-21T00:00:00      2055.0      NaN          NaN   \n",
              "3    1104820732  2015-12-26T00:00:00      1515.0      NaN          NaN   \n",
              "4    1105461453  2015-09-15T00:00:00       115.0      NaN          NaN   \n",
              "5    1106226590  2015-09-15T00:00:00        19.0      NaN          NaN   \n",
              "6    1106500452  2015-12-17T00:00:00      1710.0      NaN          NaN   \n",
              "7    1106500463  2015-12-17T00:00:00      1710.0      NaN          NaN   \n",
              "8    1106506402  2015-12-22T00:00:00       945.0      NaN          NaN   \n",
              "9    1106506413  2015-12-22T00:00:00      1100.0      NaN          NaN   \n",
              "\n",
              "  RP State Plate  Plate Expiry Date  VIN  Make Body Style Color  \\\n",
              "0             CA           200304.0  NaN  HOND         PA    GY   \n",
              "1             CA           201512.0  NaN   GMC         VN    WH   \n",
              "2             CA           201503.0  NaN  NISS         PA    BK   \n",
              "3             CA                NaN  NaN  ACUR         PA    WH   \n",
              "4             CA           200316.0  NaN  CHEV         PA    BK   \n",
              "5             CA           201507.0  NaN  CHEV         VN    GY   \n",
              "6             CA           201605.0  NaN  MAZD         PA    BL   \n",
              "7             CA           201602.0  NaN  TOYO         PA    BK   \n",
              "8             CA           201605.0  NaN  CHEV         PA    BR   \n",
              "9             CA           201701.0  NaN  NISS         PA    SI   \n",
              "\n",
              "             Location  Route  Agency Violation code Violation Description  \\\n",
              "0     13147 WELBY WAY  01521     1.0         4000A1    NO EVIDENCE OF REG   \n",
              "1       525 S MAIN ST   1C51     1.0         4000A1    NO EVIDENCE OF REG   \n",
              "2       200 WORLD WAY    2R2     2.0           8939            WHITE CURB   \n",
              "3       100 WORLD WAY   2F11     2.0            000                17104h   \n",
              "4  GEORGIA ST/OLYMPIC  1FB70     1.0          8069A  NO STOPPING/STANDING   \n",
              "5  SAN PEDRO S/O BOYD  1A35W     1.0         4000A1    NO EVIDENCE OF REG   \n",
              "6     SUNSET/ALVARADO  00217     1.0           8070  PARK IN GRID LOCK ZN   \n",
              "7     SUNSET/ALVARADO  00217     1.0           8070  PARK IN GRID LOCK ZN   \n",
              "8      721 S WESTLAKE   2A75     1.0         8069AA      NO STOP/STAND AM   \n",
              "9     1159 HUNTLEY DR   2A75     1.0         8069AA      NO STOP/STAND AM   \n",
              "\n",
              "   Fine amount   Latitude  Longitude  \n",
              "0         50.0    99999.0    99999.0  \n",
              "1         50.0    99999.0    99999.0  \n",
              "2         58.0  6439997.9  1802686.4  \n",
              "3          NaN  6440041.1  1802686.2  \n",
              "4         93.0    99999.0    99999.0  \n",
              "5         50.0    99999.0    99999.0  \n",
              "6        163.0    99999.0    99999.0  \n",
              "7        163.0    99999.0    99999.0  \n",
              "8         93.0    99999.0    99999.0  \n",
              "9         93.0    99999.0    99999.0  "
            ]
          },
          "metadata": {
            "tags": []
          },
          "execution_count": 24
        }
      ]
    },
    {
      "metadata": {
        "id": "2dHLk0jRKbhd",
        "colab_type": "code",
        "colab": {}
      },
      "cell_type": "code",
      "source": [
        "df['Plate Expiry Date'] = pd.to_datetime(df['Plate Expiry Date'],format='%Y.%mm',errors = 'coerce')"
      ],
      "execution_count": 0,
      "outputs": []
    },
    {
      "metadata": {
        "id": "-JH9gPmsFCyY",
        "colab_type": "code",
        "outputId": "ef8791b6-0c43-454c-b7bd-adfc063e8e68",
        "colab": {
          "base_uri": "https://localhost:8080/",
          "height": 348
        }
      },
      "cell_type": "code",
      "source": [
        "df.head()"
      ],
      "execution_count": 0,
      "outputs": [
        {
          "output_type": "execute_result",
          "data": {
            "text/html": [
              "<div>\n",
              "<style scoped>\n",
              "    .dataframe tbody tr th:only-of-type {\n",
              "        vertical-align: middle;\n",
              "    }\n",
              "\n",
              "    .dataframe tbody tr th {\n",
              "        vertical-align: top;\n",
              "    }\n",
              "\n",
              "    .dataframe thead th {\n",
              "        text-align: right;\n",
              "    }\n",
              "</style>\n",
              "<table border=\"1\" class=\"dataframe\">\n",
              "  <thead>\n",
              "    <tr style=\"text-align: right;\">\n",
              "      <th></th>\n",
              "      <th>Ticket number</th>\n",
              "      <th>Issue Date</th>\n",
              "      <th>Issue time</th>\n",
              "      <th>Meter Id</th>\n",
              "      <th>Marked Time</th>\n",
              "      <th>RP State Plate</th>\n",
              "      <th>Plate Expiry Date</th>\n",
              "      <th>VIN</th>\n",
              "      <th>Make</th>\n",
              "      <th>Body Style</th>\n",
              "      <th>Color</th>\n",
              "      <th>Location</th>\n",
              "      <th>Route</th>\n",
              "      <th>Agency</th>\n",
              "      <th>Violation code</th>\n",
              "      <th>Violation Description</th>\n",
              "      <th>Fine amount</th>\n",
              "      <th>Latitude</th>\n",
              "      <th>Longitude</th>\n",
              "      <th>Day of Week</th>\n",
              "    </tr>\n",
              "  </thead>\n",
              "  <tbody>\n",
              "    <tr>\n",
              "      <th>0</th>\n",
              "      <td>1103341116</td>\n",
              "      <td>2015-12-21</td>\n",
              "      <td>12:51:00</td>\n",
              "      <td>NaN</td>\n",
              "      <td>NaN</td>\n",
              "      <td>CA</td>\n",
              "      <td>NaT</td>\n",
              "      <td>NaN</td>\n",
              "      <td>HOND</td>\n",
              "      <td>PA</td>\n",
              "      <td>GY</td>\n",
              "      <td>13147 WELBY WAY</td>\n",
              "      <td>01521</td>\n",
              "      <td>1.0</td>\n",
              "      <td>4000A1</td>\n",
              "      <td>NO EVIDENCE OF REG</td>\n",
              "      <td>50.0</td>\n",
              "      <td>99999.0</td>\n",
              "      <td>99999.0</td>\n",
              "      <td>Monday</td>\n",
              "    </tr>\n",
              "    <tr>\n",
              "      <th>1</th>\n",
              "      <td>1103700150</td>\n",
              "      <td>2015-12-21</td>\n",
              "      <td>14:35:00</td>\n",
              "      <td>NaN</td>\n",
              "      <td>NaN</td>\n",
              "      <td>CA</td>\n",
              "      <td>NaT</td>\n",
              "      <td>NaN</td>\n",
              "      <td>GMC</td>\n",
              "      <td>VN</td>\n",
              "      <td>WH</td>\n",
              "      <td>525 S MAIN ST</td>\n",
              "      <td>1C51</td>\n",
              "      <td>1.0</td>\n",
              "      <td>4000A1</td>\n",
              "      <td>NO EVIDENCE OF REG</td>\n",
              "      <td>50.0</td>\n",
              "      <td>99999.0</td>\n",
              "      <td>99999.0</td>\n",
              "      <td>Monday</td>\n",
              "    </tr>\n",
              "    <tr>\n",
              "      <th>2</th>\n",
              "      <td>1104803000</td>\n",
              "      <td>2015-12-21</td>\n",
              "      <td>20:55:00</td>\n",
              "      <td>NaN</td>\n",
              "      <td>NaN</td>\n",
              "      <td>CA</td>\n",
              "      <td>NaT</td>\n",
              "      <td>NaN</td>\n",
              "      <td>NISS</td>\n",
              "      <td>PA</td>\n",
              "      <td>BK</td>\n",
              "      <td>200 WORLD WAY</td>\n",
              "      <td>2R2</td>\n",
              "      <td>2.0</td>\n",
              "      <td>8939</td>\n",
              "      <td>WHITE CURB</td>\n",
              "      <td>58.0</td>\n",
              "      <td>6439997.9</td>\n",
              "      <td>1802686.4</td>\n",
              "      <td>Monday</td>\n",
              "    </tr>\n",
              "    <tr>\n",
              "      <th>3</th>\n",
              "      <td>1104820732</td>\n",
              "      <td>2015-12-26</td>\n",
              "      <td>15:15:00</td>\n",
              "      <td>NaN</td>\n",
              "      <td>NaN</td>\n",
              "      <td>CA</td>\n",
              "      <td>NaT</td>\n",
              "      <td>NaN</td>\n",
              "      <td>ACUR</td>\n",
              "      <td>PA</td>\n",
              "      <td>WH</td>\n",
              "      <td>100 WORLD WAY</td>\n",
              "      <td>2F11</td>\n",
              "      <td>2.0</td>\n",
              "      <td>000</td>\n",
              "      <td>17104h</td>\n",
              "      <td>NaN</td>\n",
              "      <td>6440041.1</td>\n",
              "      <td>1802686.2</td>\n",
              "      <td>Saturday</td>\n",
              "    </tr>\n",
              "    <tr>\n",
              "      <th>4</th>\n",
              "      <td>1105461453</td>\n",
              "      <td>2015-09-15</td>\n",
              "      <td>01:15:00</td>\n",
              "      <td>NaN</td>\n",
              "      <td>NaN</td>\n",
              "      <td>CA</td>\n",
              "      <td>NaT</td>\n",
              "      <td>NaN</td>\n",
              "      <td>CHEV</td>\n",
              "      <td>PA</td>\n",
              "      <td>BK</td>\n",
              "      <td>GEORGIA ST/OLYMPIC</td>\n",
              "      <td>1FB70</td>\n",
              "      <td>1.0</td>\n",
              "      <td>8069A</td>\n",
              "      <td>NO STOPPING/STANDING</td>\n",
              "      <td>93.0</td>\n",
              "      <td>99999.0</td>\n",
              "      <td>99999.0</td>\n",
              "      <td>Tuesday</td>\n",
              "    </tr>\n",
              "  </tbody>\n",
              "</table>\n",
              "</div>"
            ],
            "text/plain": [
              "  Ticket number Issue Date Issue time Meter Id  Marked Time RP State Plate  \\\n",
              "0    1103341116 2015-12-21   12:51:00      NaN          NaN             CA   \n",
              "1    1103700150 2015-12-21   14:35:00      NaN          NaN             CA   \n",
              "2    1104803000 2015-12-21   20:55:00      NaN          NaN             CA   \n",
              "3    1104820732 2015-12-26   15:15:00      NaN          NaN             CA   \n",
              "4    1105461453 2015-09-15   01:15:00      NaN          NaN             CA   \n",
              "\n",
              "  Plate Expiry Date  VIN  Make Body Style Color            Location  Route  \\\n",
              "0               NaT  NaN  HOND         PA    GY     13147 WELBY WAY  01521   \n",
              "1               NaT  NaN   GMC         VN    WH       525 S MAIN ST   1C51   \n",
              "2               NaT  NaN  NISS         PA    BK       200 WORLD WAY    2R2   \n",
              "3               NaT  NaN  ACUR         PA    WH       100 WORLD WAY   2F11   \n",
              "4               NaT  NaN  CHEV         PA    BK  GEORGIA ST/OLYMPIC  1FB70   \n",
              "\n",
              "   Agency Violation code Violation Description  Fine amount   Latitude  \\\n",
              "0     1.0         4000A1    NO EVIDENCE OF REG         50.0    99999.0   \n",
              "1     1.0         4000A1    NO EVIDENCE OF REG         50.0    99999.0   \n",
              "2     2.0           8939            WHITE CURB         58.0  6439997.9   \n",
              "3     2.0            000                17104h          NaN  6440041.1   \n",
              "4     1.0          8069A  NO STOPPING/STANDING         93.0    99999.0   \n",
              "\n",
              "   Longitude Day of Week  \n",
              "0    99999.0      Monday  \n",
              "1    99999.0      Monday  \n",
              "2  1802686.4      Monday  \n",
              "3  1802686.2    Saturday  \n",
              "4    99999.0     Tuesday  "
            ]
          },
          "metadata": {
            "tags": []
          },
          "execution_count": 14
        }
      ]
    },
    {
      "metadata": {
        "id": "_XpoAyf2rFaL",
        "colab_type": "text"
      },
      "cell_type": "markdown",
      "source": [
        "### Let's look at the properties of each of the datasets...\n",
        "\n",
        "\n"
      ]
    },
    {
      "metadata": {
        "id": "NOk4xCOcypbW",
        "colab_type": "code",
        "outputId": "a4d2f06f-c96e-4825-ff96-931cb7e777d1",
        "colab": {
          "base_uri": "https://localhost:8080/",
          "height": 245
        }
      },
      "cell_type": "code",
      "source": [
        "dict = {'mql':mql,'cd':cd,'product_category':product_category,'order_payments':order_payments,'customers':customers,\n",
        "        'order_items':order_items,'products':products,'geolocation':geolocation,'order_reviews':order_reviews,'orders':orders,'sellers':sellers}\n",
        "for key,value in dict.items():\n",
        "  print(color.BOLD+key+color.END,value.info(),'\\n')  # print dataset name in BOLD"
      ],
      "execution_count": 0,
      "outputs": [
        {
          "output_type": "error",
          "ename": "NameError",
          "evalue": "ignored",
          "traceback": [
            "\u001b[0;31m---------------------------------------------------------------------------\u001b[0m",
            "\u001b[0;31mNameError\u001b[0m                                 Traceback (most recent call last)",
            "\u001b[0;32m<ipython-input-12-4bd28fdf3af7>\u001b[0m in \u001b[0;36m<module>\u001b[0;34m()\u001b[0m\n\u001b[0;32m----> 1\u001b[0;31m dict = {'mql':mql,'cd':cd,'product_category':product_category,'order_payments':order_payments,'customers':customers,\n\u001b[0m\u001b[1;32m      2\u001b[0m         'order_items':order_items,'products':products,'geolocation':geolocation,'order_reviews':order_reviews,'orders':orders,'sellers':sellers}\n\u001b[1;32m      3\u001b[0m \u001b[0;32mfor\u001b[0m \u001b[0mkey\u001b[0m\u001b[0;34m,\u001b[0m\u001b[0mvalue\u001b[0m \u001b[0;32min\u001b[0m \u001b[0mdict\u001b[0m\u001b[0;34m.\u001b[0m\u001b[0mitems\u001b[0m\u001b[0;34m(\u001b[0m\u001b[0;34m)\u001b[0m\u001b[0;34m:\u001b[0m\u001b[0;34m\u001b[0m\u001b[0;34m\u001b[0m\u001b[0m\n\u001b[1;32m      4\u001b[0m   \u001b[0mprint\u001b[0m\u001b[0;34m(\u001b[0m\u001b[0mcolor\u001b[0m\u001b[0;34m.\u001b[0m\u001b[0mBOLD\u001b[0m\u001b[0;34m+\u001b[0m\u001b[0mkey\u001b[0m\u001b[0;34m+\u001b[0m\u001b[0mcolor\u001b[0m\u001b[0;34m.\u001b[0m\u001b[0mEND\u001b[0m\u001b[0;34m,\u001b[0m\u001b[0mvalue\u001b[0m\u001b[0;34m.\u001b[0m\u001b[0minfo\u001b[0m\u001b[0;34m(\u001b[0m\u001b[0;34m)\u001b[0m\u001b[0;34m,\u001b[0m\u001b[0;34m'\\n'\u001b[0m\u001b[0;34m)\u001b[0m  \u001b[0;31m# print dataset name in BOLD\u001b[0m\u001b[0;34m\u001b[0m\u001b[0;34m\u001b[0m\u001b[0m\n",
            "\u001b[0;31mNameError\u001b[0m: name 'mql' is not defined"
          ]
        }
      ]
    },
    {
      "metadata": {
        "id": "HwZduydUEEPE",
        "colab_type": "text"
      },
      "cell_type": "markdown",
      "source": [
        "### We can conclude that there is a unique 'seller_id' for each closed deal 'mql_id'."
      ]
    },
    {
      "metadata": {
        "id": "GoijFg3DDq7p",
        "colab_type": "code",
        "colab": {}
      },
      "cell_type": "code",
      "source": [
        "print(cd['mql_id'].nunique())\n",
        "print(cd['seller_id'].nunique())"
      ],
      "execution_count": 0,
      "outputs": []
    },
    {
      "metadata": {
        "id": "UGGMHyGMjloO",
        "colab_type": "text"
      },
      "cell_type": "markdown",
      "source": [
        "### Let's create the marketing funnel by left joining the 'mql' and 'cd' datasets. (Note that 'NaN's are leads that did not close.)"
      ]
    },
    {
      "metadata": {
        "id": "frwJ1yMBkLPw",
        "colab_type": "code",
        "colab": {}
      },
      "cell_type": "code",
      "source": [
        "mf = mql.merge(cd, on='mql_id', how='left')\n",
        "print(\"'mf' dimensions: {}\".format(mf.shape))\n",
        "mf.info()"
      ],
      "execution_count": 0,
      "outputs": []
    },
    {
      "metadata": {
        "id": "l-jX2-UJQwFJ",
        "colab_type": "code",
        "colab": {}
      },
      "cell_type": "code",
      "source": [
        "\"\"\"for key,value in dict.items():\n",
        "  print(color.BOLD+key+color.END,value.info(),'\\n')\"\"\" # print dataset name in BOLD"
      ],
      "execution_count": 0,
      "outputs": []
    },
    {
      "metadata": {
        "id": "4sp9aHaZucfk",
        "colab_type": "text"
      },
      "cell_type": "markdown",
      "source": [
        "### Now, we want to join information from the other datasets into the marketing funnel. Based on the schema diagram, 'order_items' should be the next dataset we merge.  Let's get some information about the 'order_items' dataset... We will merge it with the marketing funnel on the 'seller_id' column."
      ]
    },
    {
      "metadata": {
        "id": "6oar6q9wbkbA",
        "colab_type": "code",
        "colab": {}
      },
      "cell_type": "code",
      "source": [
        "order_items.info()"
      ],
      "execution_count": 0,
      "outputs": []
    },
    {
      "metadata": {
        "id": "380DTTBEcQ7d",
        "colab_type": "code",
        "colab": {}
      },
      "cell_type": "code",
      "source": [
        "mf_items = mf.merge(order_items, how='left', on='seller_id')\n",
        "mf_items['mql_id'].nunique()"
      ],
      "execution_count": 0,
      "outputs": []
    },
    {
      "metadata": {
        "id": "bYwdFATHkqNM",
        "colab_type": "code",
        "colab": {}
      },
      "cell_type": "code",
      "source": [
        "mf_items.info()"
      ],
      "execution_count": 0,
      "outputs": []
    },
    {
      "metadata": {
        "id": "RVFgKZZuhrgi",
        "colab_type": "text"
      },
      "cell_type": "markdown",
      "source": [
        "### Let's take a look at the 'sellers' dataset..."
      ]
    },
    {
      "metadata": {
        "id": "mXg0Ruq5mJta",
        "colab_type": "code",
        "colab": {}
      },
      "cell_type": "code",
      "source": [
        "sellers.info()"
      ],
      "execution_count": 0,
      "outputs": []
    },
    {
      "metadata": {
        "id": "Q6N3OGRZmghS",
        "colab_type": "code",
        "colab": {}
      },
      "cell_type": "code",
      "source": [
        "sellers['seller_id'].nunique()"
      ],
      "execution_count": 0,
      "outputs": []
    },
    {
      "metadata": {
        "id": "3TutCE9Ms6n7",
        "colab_type": "text"
      },
      "cell_type": "markdown",
      "source": [
        "### So we can conclude that the dataset has 3095 unique sellers.  Let's merge the seller information for each of the leads in the marketing funnel."
      ]
    },
    {
      "metadata": {
        "id": "0_VwQcW-wbSw",
        "colab_type": "code",
        "colab": {}
      },
      "cell_type": "code",
      "source": [
        "mf_sellers = mf.merge(sellers, how='left', on='seller_id')\n",
        "mf_sellers['mql_id'].nunique()"
      ],
      "execution_count": 0,
      "outputs": []
    },
    {
      "metadata": {
        "id": "_Fgp_fnlkcOk",
        "colab_type": "code",
        "colab": {}
      },
      "cell_type": "code",
      "source": [
        "mf_sellers['seller_id'].nunique()"
      ],
      "execution_count": 0,
      "outputs": []
    },
    {
      "metadata": {
        "id": "c2T2Ggh29rKb",
        "colab_type": "code",
        "colab": {}
      },
      "cell_type": "code",
      "source": [
        "geolocation.info()"
      ],
      "execution_count": 0,
      "outputs": []
    },
    {
      "metadata": {
        "id": "Xi9w8Ojq91qg",
        "colab_type": "text"
      },
      "cell_type": "markdown",
      "source": [
        "###Now, in order to merge the 'geolocation' information into the marketing funnel on *zip_code_prefix*, we need to remove the duplicate values in 'geolocation' and then change the column names in both datasets."
      ]
    },
    {
      "metadata": {
        "id": "jqLzfAYcVj46",
        "colab_type": "code",
        "colab": {}
      },
      "cell_type": "code",
      "source": [
        "geolocation['geolocation_zip_code_prefix'].value_counts()"
      ],
      "execution_count": 0,
      "outputs": []
    },
    {
      "metadata": {
        "id": "84x912rjPm2k",
        "colab_type": "code",
        "colab": {}
      },
      "cell_type": "code",
      "source": [
        "geolocation = geolocation.drop_duplicates('geolocation_zip_code_prefix',keep='first')\n",
        "geolocation['geolocation_zip_code_prefix'].value_counts()"
      ],
      "execution_count": 0,
      "outputs": []
    },
    {
      "metadata": {
        "id": "jfJ3G65M8Y25",
        "colab_type": "code",
        "colab": {}
      },
      "cell_type": "code",
      "source": [
        "mf_sellers.rename(columns = {'seller_zip_code_prefix':'zip_code_prefix'},inplace=True)\n",
        "geolocation.rename(columns = {'geolocation_zip_code_prefix':'zip_code_prefix'},inplace=True)"
      ],
      "execution_count": 0,
      "outputs": []
    },
    {
      "metadata": {
        "id": "O2U0bufinWWr",
        "colab_type": "text"
      },
      "cell_type": "markdown",
      "source": [
        "### We verify that the correct columns have been renamed..."
      ]
    },
    {
      "metadata": {
        "id": "zvEvm3T0B01k",
        "colab_type": "code",
        "colab": {}
      },
      "cell_type": "code",
      "source": [
        " # mf_sellers.info()"
      ],
      "execution_count": 0,
      "outputs": []
    },
    {
      "metadata": {
        "id": "S61xThSLsvAc",
        "colab_type": "code",
        "colab": {}
      },
      "cell_type": "code",
      "source": [
        "# geolocation.info()"
      ],
      "execution_count": 0,
      "outputs": []
    },
    {
      "metadata": {
        "id": "RzT_KtmID0gY",
        "colab_type": "code",
        "colab": {}
      },
      "cell_type": "code",
      "source": [
        "mf_sellers = pd.merge(mf_sellers,geolocation[['zip_code_prefix','geolocation_lat','geolocation_lng']], how = 'left',on='zip_code_prefix')\n",
        "mf_sellers.info()"
      ],
      "execution_count": 0,
      "outputs": []
    },
    {
      "metadata": {
        "id": "_o_N3WzDbi6U",
        "colab_type": "text"
      },
      "cell_type": "markdown",
      "source": [
        "### Let's take a look at the frequency of the unique values in each column of the 2 marketing funnels. For now, we will skip the id and date columns to keep our analysis clean.\n",
        "\n",
        "## mf_items:\n",
        "\n",
        "<class 'pandas.core.frame.DataFrame'>\n",
        "\n",
        "\n",
        "### Data columns (total 23 columns):\n",
        "\n",
        "mql_id                           12664 non-null object\n",
        "\n",
        "first_contact_date               12664 non-null datetime64[ns]\n",
        "\n",
        "landing_page_id                  12664 non-null object\n",
        "\n",
        "origin                           12597 non-null object\n",
        "\n",
        "seller_id                        5506 non-null object\n",
        "\n",
        "sdr_id                           5506 non-null object\n",
        "\n",
        "sr_id                            5506 non-null object\n",
        "\n",
        "won_date                         5506 non-null datetime64[ns]\n",
        "\n",
        "business_segment                 5505 non-null object\n",
        "\n",
        "lead_type                        5455 non-null object\n",
        "\n",
        "lead_behaviour_profile           3679 non-null object\n",
        "\n",
        "has_company                      88 non-null object\n",
        "\n",
        "has_gtin                         89 non-null object\n",
        "\n",
        "average_stock                    91 non-null object\n",
        "\n",
        "business_type                    5494 non-null object\n",
        "\n",
        "declared_product_catalog_size    69 non-null float64\n",
        "\n",
        "declared_monthly_revenue         5506 non-null float64\n",
        "\n",
        "order_id                         5044 non-null object\n",
        "\n",
        "order_item_id                    5044 non-null float64\n",
        "\n",
        "product_id                       5044 non-null object\n",
        "\n",
        "shipping_limit_date              5044 non-null datetime64[ns]\n",
        "\n",
        "price                            5044 non-null float64\n",
        "\n",
        "freight_value                    5044 non-null float64\n",
        "\n",
        "dtypes: datetime64[ns](3), float64(5), object(15)\n",
        "\n",
        "memory usage: 2.3+ MB"
      ]
    },
    {
      "metadata": {
        "id": "BpA-qrGEcCHh",
        "colab_type": "code",
        "colab": {}
      },
      "cell_type": "code",
      "source": [
        "columns = ['origin','business_segment','lead_type','lead_behaviour_profile','has_company','has_gtin','average_stock',\n",
        "           'business_type']\n",
        "\n",
        "for col in columns:\n",
        "    print(mf_items[col].value_counts(),'\\n\\n',mf_items[col].value_counts(normalize=True),'\\n\\n')\n",
        "    "
      ],
      "execution_count": 0,
      "outputs": []
    },
    {
      "metadata": {
        "id": "yIOUCb1yzawV",
        "colab_type": "code",
        "colab": {}
      },
      "cell_type": "code",
      "source": [
        "mf_items_origin = mf_items['origin'].value_counts(normalize=True).reset_index()"
      ],
      "execution_count": 0,
      "outputs": []
    },
    {
      "metadata": {
        "id": "JPBosWiv0ukt",
        "colab_type": "code",
        "colab": {}
      },
      "cell_type": "code",
      "source": [
        "fig,ax = plt.subplots(figsize=(14,6))\n",
        "\n",
        "order = []                        # Set up order for barchart\n",
        "for row in mf_items_origin['index']:\n",
        "  order.append(row)\n",
        "\n",
        "sns.countplot(mf_items['origin'].sort_values(), order=order, palette=\"Blues_d\")\n",
        "ax.set_xlabel('Lead Source')\n",
        "ax.set_title('Lead Source Distribution')\n",
        "\n",
        "plt.show()"
      ],
      "execution_count": 0,
      "outputs": []
    },
    {
      "metadata": {
        "id": "i58WGe3qRToa",
        "colab_type": "code",
        "colab": {}
      },
      "cell_type": "code",
      "source": [
        "fig,ax = plt.subplots(figsize=(14,6))\n",
        "\n",
        "order = []                        # Set up order for barchart\n",
        "for row in mf_items_origin['index']:\n",
        "  order.append(row)\n",
        "\n",
        "sns.barplot(x ='index',y = 'origin', data = mf_items_origin, order=order, palette=\"Blues_d\")\n",
        "ax.set_xlabel('Lead Source')\n",
        "ax.set_ylabel('Normalized Count - % of Total')\n",
        "ax.set_title('Lead Source Distribution')\n",
        "\n",
        "plt.show()"
      ],
      "execution_count": 0,
      "outputs": []
    },
    {
      "metadata": {
        "id": "31K1QNhyTNHm",
        "colab_type": "code",
        "colab": {}
      },
      "cell_type": "code",
      "source": [
        "mf_items_business_segment = mf_items['business_segment'].value_counts(normalize=True).reset_index()"
      ],
      "execution_count": 0,
      "outputs": []
    },
    {
      "metadata": {
        "id": "SdNkecyVSvRP",
        "colab_type": "code",
        "colab": {}
      },
      "cell_type": "code",
      "source": [
        "fig,ax = plt.subplots(figsize=(14,6))\n",
        "\n",
        "order = []                        # Set up order for barchart\n",
        "for row in mf_items_business_segment['index']:\n",
        "  order.append(row)\n",
        "\n",
        "graph = sns.barplot(x ='index',y = 'business_segment', data = mf_items_business_segment, order=order, palette=\"Blues_d\")\n",
        "ax.set_xlabel('Business Segment')\n",
        "ax.set_ylabel('Normalized Count - % of Total')\n",
        "ax.set_title('Business Segment Distribution')\n",
        "graph.set_xticklabels(order,rotation=90)\n",
        "\n",
        "plt.show()"
      ],
      "execution_count": 0,
      "outputs": []
    },
    {
      "metadata": {
        "id": "0_vXL4vIVoZH",
        "colab_type": "code",
        "colab": {}
      },
      "cell_type": "code",
      "source": [
        "mf_items_lead_type = mf_items['lead_type'].value_counts(normalize=True).reset_index()"
      ],
      "execution_count": 0,
      "outputs": []
    },
    {
      "metadata": {
        "id": "FG0KB6HUVw-D",
        "colab_type": "code",
        "colab": {}
      },
      "cell_type": "code",
      "source": [
        "fig,ax = plt.subplots(figsize=(14,6))\n",
        "\n",
        "order = []                        # Set up order for barchart\n",
        "for row in mf_items_lead_type['index']:\n",
        "  order.append(row)\n",
        "\n",
        "graph = sns.barplot(x ='index',y ='lead_type', data = mf_items_lead_type, order=order, palette=\"Blues_d\")\n",
        "ax.set_xlabel('Lead Type')\n",
        "ax.set_ylabel('Normalized Count - % of Total')\n",
        "ax.set_title('Lead Type Distribution')\n",
        "# graph.set_xticklabels(order,rotation=90)\n",
        "\n",
        "plt.show()"
      ],
      "execution_count": 0,
      "outputs": []
    },
    {
      "metadata": {
        "id": "5n1v68wbWj6G",
        "colab_type": "code",
        "colab": {}
      },
      "cell_type": "code",
      "source": [
        "mf_items_lead_behaviour_profile = mf_items['lead_behaviour_profile'].value_counts(normalize=True).reset_index()"
      ],
      "execution_count": 0,
      "outputs": []
    },
    {
      "metadata": {
        "id": "Zy_sjlPAW6hL",
        "colab_type": "code",
        "colab": {}
      },
      "cell_type": "code",
      "source": [
        "fig,ax = plt.subplots(figsize=(14,6))\n",
        "\n",
        "order = []                        # Set up order for barchart\n",
        "for row in mf_items_lead_behaviour_profile['index']:\n",
        "  order.append(row)\n",
        "\n",
        "graph = sns.barplot(x ='index',y ='lead_behaviour_profile', data = mf_items_lead_behaviour_profile, order=order, palette=\"Blues_d\")\n",
        "ax.set_xlabel('Lead Behaviour Profile')\n",
        "ax.set_ylabel('Normalized Count - % of Total')\n",
        "ax.set_title('Lead Behaviour Profile Distribution')\n",
        "# graph.set_xticklabels(order,rotation=90)\n",
        "\n",
        "plt.show()"
      ],
      "execution_count": 0,
      "outputs": []
    },
    {
      "metadata": {
        "id": "YCZn2axzXmMU",
        "colab_type": "code",
        "colab": {}
      },
      "cell_type": "code",
      "source": [
        "mf_items_business_type = mf_items['business_type'].value_counts(normalize=True).reset_index()"
      ],
      "execution_count": 0,
      "outputs": []
    },
    {
      "metadata": {
        "id": "3f3rWNBNXuJ3",
        "colab_type": "code",
        "colab": {}
      },
      "cell_type": "code",
      "source": [
        "fig,ax = plt.subplots(figsize=(4,4))\n",
        "\n",
        "order = []                        # Set up order for barchart\n",
        "for row in mf_items_business_type['index']:\n",
        "  order.append(row)\n",
        "\n",
        "graph = sns.barplot(x ='index',y ='business_type', data = mf_items_business_type, order=order, palette=\"Blues_d\")\n",
        "ax.set_xlabel('Business Type Profile')\n",
        "ax.set_ylabel('Normalized Count - % of Total')\n",
        "ax.set_title('Business Type Profile Distribution')\n",
        "# graph.set_xticklabels(order,rotation=90)\n",
        "\n",
        "plt.show()"
      ],
      "execution_count": 0,
      "outputs": []
    },
    {
      "metadata": {
        "id": "Asz_e3fbqhnO",
        "colab_type": "text"
      },
      "cell_type": "markdown",
      "source": [
        "### Now, let's look at the 'mf_sellers' dataset.  We would like to get more information about where the sellers are located.  We can use the 'geolocation_lat' and 'geolocation_lng' fields and Python's 'Basemap' package to plot geographies.  We start with a basic Basemap plot of Earth."
      ]
    },
    {
      "metadata": {
        "id": "ZIhfmKA-nZuP",
        "colab_type": "code",
        "colab": {}
      },
      "cell_type": "code",
      "source": [
        "map = Basemap()\n",
        "\n",
        "map.drawcoastlines()\n",
        "\n",
        "plt.show()\n",
        "plt.savefig('test.png')"
      ],
      "execution_count": 0,
      "outputs": []
    },
    {
      "metadata": {
        "id": "Z8LeM3bfn3CU",
        "colab_type": "code",
        "colab": {}
      },
      "cell_type": "code",
      "source": [
        "map = Basemap(projection='ortho', \n",
        "              lat_0=0, lon_0=-90)\n",
        "\n",
        "#Fill the globe with a blue color \n",
        "map.drawmapboundary(fill_color='aqua')\n",
        "\n",
        "#Fill the continents with the land color\n",
        "map.fillcontinents(color='coral',lake_color='aqua')\n",
        "\n",
        "map.drawcoastlines()\n",
        "\n",
        "plt.show()"
      ],
      "execution_count": 0,
      "outputs": []
    },
    {
      "metadata": {
        "id": "dtQTyOrjq5CP",
        "colab_type": "code",
        "colab": {}
      },
      "cell_type": "code",
      "source": [
        "mf_sellers.info()"
      ],
      "execution_count": 0,
      "outputs": []
    },
    {
      "metadata": {
        "id": "D0VY_8I9a6f1",
        "colab_type": "text"
      },
      "cell_type": "markdown",
      "source": [
        "### Determine range to print based on min, max lat and long of the data"
      ]
    },
    {
      "metadata": {
        "id": "c8so4_ItWNbW",
        "colab_type": "code",
        "colab": {}
      },
      "cell_type": "code",
      "source": [
        "lat = np.asarray(mf_sellers['geolocation_lat'].dropna())\n",
        "lng = np.asarray(mf_sellers['geolocation_lng'].dropna())"
      ],
      "execution_count": 0,
      "outputs": []
    },
    {
      "metadata": {
        "id": "YHybb6LaNr-y",
        "colab_type": "code",
        "colab": {}
      },
      "cell_type": "code",
      "source": [
        "from geopy.geocoders import Nominatim\n",
        "\n",
        "geolocator = Nominatim()\n",
        "\n",
        "def PlotCity(city):\n",
        "  loc1 = geolocator.geocode(city)\n",
        "  x, y = map(loc1.longitude, loc1.latitude)\n",
        "  ax.plot(x, y, 'ok', markersize=10)\n",
        "  plt.text(x, y, city, fontsize=12,fontweight='bold')\n",
        "  return\n",
        " "
      ],
      "execution_count": 0,
      "outputs": []
    },
    {
      "metadata": {
        "id": "x-V2EyQMFats",
        "colab_type": "code",
        "colab": {}
      },
      "cell_type": "code",
      "source": [
        "margin = .2                     # buffer to add to the range\n",
        "lat_min = min(lat) - margin\n",
        "lat_max = max(lat) + margin\n",
        "lng_min = min(lng) - margin\n",
        "lng_max = max(lng) + margin\n",
        "\n",
        "# create map using BASEMAP\n",
        "fig,ax = plt.subplots(figsize=(14,8))\n",
        "\n",
        "map = Basemap(llcrnrlon=lng_min,\n",
        "            llcrnrlat=lat_min,\n",
        "            urcrnrlon=lng_max,\n",
        "            urcrnrlat=lat_max,\n",
        "            lat_0=(lat_max - lat_min)/2,\n",
        "            lon_0=(lng_max-lng_min)/2,\n",
        "            projection='merc',\n",
        "            resolution = 'h',\n",
        "            area_thresh=10000.,\n",
        "            )\n",
        "map.drawcoastlines()\n",
        "map.drawcountries()\n",
        "map.drawstates()\n",
        "map.drawmapboundary(fill_color='#46bcec')\n",
        "map.fillcontinents(color = 'white',lake_color='#46bcec')\n",
        "\n",
        "# convert lat and long to map projection coordinates\n",
        "x,y = map(lng, lat)\n",
        "\n",
        "# plot points as red dots\n",
        "\n",
        "map.scatter(x,y, marker = 'o', s=20,color='r',alpha=0.35, zorder=10)\n",
        "\n",
        "# Find and plot major cities\n",
        "\n",
        "city_list = ['Sao Paulo','Rio de Janeiro','Curitiba','Brasilia','Natal','Uberaba','Salvador-BA','Porto Alegre','Itajai']\n",
        "\n",
        "for city in city_list:\n",
        "  PlotCity(city)\n",
        "\n",
        "plt.title(\"Olist Seller Locations in Brazil\",fontsize=20,fontweight='bold')\n",
        "plt.show()"
      ],
      "execution_count": 0,
      "outputs": []
    },
    {
      "metadata": {
        "id": "Nron3SckrpGU",
        "colab_type": "text"
      },
      "cell_type": "markdown",
      "source": [
        "### Let's look at characteristics of the closed deals..."
      ]
    },
    {
      "metadata": {
        "id": "RXXQ0LLfrShF",
        "colab_type": "code",
        "colab": {}
      },
      "cell_type": "code",
      "source": [
        "cd.info()"
      ],
      "execution_count": 0,
      "outputs": []
    },
    {
      "metadata": {
        "id": "CxSMj1jwk4g5",
        "colab_type": "text"
      },
      "cell_type": "markdown",
      "source": [
        "### If we merge 'cd' with 'order_items' we find out about sellers and items that associated with closed deals."
      ]
    },
    {
      "metadata": {
        "id": "Nl3SlaGKsLmm",
        "colab_type": "code",
        "colab": {}
      },
      "cell_type": "code",
      "source": [
        "cd_items = cd.merge(order_items,how='left',on='seller_id')\n",
        "print(cd_items['mql_id'].nunique())\n",
        "cd_items.info()"
      ],
      "execution_count": 0,
      "outputs": []
    },
    {
      "metadata": {
        "id": "xDCCFb96owri",
        "colab_type": "text"
      },
      "cell_type": "markdown",
      "source": [
        "### Let's determine how many 'order_id's are associated with each closed deal 'mql_id'.  We'll also determine the revenue associated with each if these 'mql_id's."
      ]
    },
    {
      "metadata": {
        "id": "7hsddyGBmncG",
        "colab_type": "code",
        "colab": {}
      },
      "cell_type": "code",
      "source": [
        "order_ids_per_mql = cd_items.groupby(['mql_id'])['order_id'].count().reset_index()\n",
        "order_ids_per_mql = order_ids_per_mql[order_ids_per_mql.order_id != 0]  # Delete rows where count(order_id) = 0\n",
        "order_ids_per_mql.rename(columns = {'order_id':'num_order_ids'},inplace=True)\n",
        "order_ids_per_mql.sort_values(by='num_order_ids',ascending=False)"
      ],
      "execution_count": 0,
      "outputs": []
    },
    {
      "metadata": {
        "id": "s4OvR9tHqIxL",
        "colab_type": "text"
      },
      "cell_type": "markdown",
      "source": [
        "### Now we can merge the 'orders' and 'order_payments' and 'order_reviews' information for each 'order_id' in 'cd_items'. However, before we do that, let's add a column to the 'order_payments' dataset."
      ]
    },
    {
      "metadata": {
        "id": "hBeP5o8CoX23",
        "colab_type": "code",
        "colab": {}
      },
      "cell_type": "code",
      "source": [
        "order_payments.head()"
      ],
      "execution_count": 0,
      "outputs": []
    },
    {
      "metadata": {
        "id": "ibongoFgo_JT",
        "colab_type": "text"
      },
      "cell_type": "markdown",
      "source": [
        "### We will add a column called 'total_payment' which is the product of the 'payment_installments' and 'payment_value'."
      ]
    },
    {
      "metadata": {
        "id": "8CNEdKzZpWDZ",
        "colab_type": "code",
        "colab": {}
      },
      "cell_type": "code",
      "source": [
        "order_payments['total_payment'] = order_payments['payment_installments']*order_payments['payment_value']"
      ],
      "execution_count": 0,
      "outputs": []
    },
    {
      "metadata": {
        "id": "vHUb4oZMLwUs",
        "colab_type": "code",
        "colab": {}
      },
      "cell_type": "code",
      "source": [
        "from functools import reduce\n",
        "\n",
        "dfs_to_merge = [cd_items,orders,order_payments,order_reviews]\n",
        "cd_order_info = reduce(lambda left,right: pd.merge(left,right,on=['order_id'],how='left'), dfs_to_merge)\n",
        "cd_order_info.info()"
      ],
      "execution_count": 0,
      "outputs": []
    },
    {
      "metadata": {
        "id": "U6GBEOH4OEju",
        "colab_type": "text"
      },
      "cell_type": "markdown",
      "source": [
        "### What is the revenue value for each closed deal 'mql_id'?"
      ]
    },
    {
      "metadata": {
        "id": "nw22CwrWODxr",
        "colab_type": "code",
        "colab": {}
      },
      "cell_type": "code",
      "source": [
        "revenue_per_mql = cd_order_info.groupby(['mql_id'])['total_payment'].sum().reset_index()\n",
        "revenue_per_mql = revenue_per_mql[revenue_per_mql.total_payment != 0]  # Delete rows where sum(total_payment) = 0\n",
        "top_20_mqls= revenue_per_mql.sort_values(by='total_payment',ascending=False).head(20)\n",
        "top_20_mqls"
      ],
      "execution_count": 0,
      "outputs": []
    },
    {
      "metadata": {
        "id": "fHdENZikQxfJ",
        "colab_type": "code",
        "colab": {}
      },
      "cell_type": "code",
      "source": [
        "import matplotlib.ticker as mtick\n",
        "\n",
        "fig,ax = plt.subplots(figsize=(14,6))\n",
        "\n",
        "order = []                        # Set up order for barchart\n",
        "for row in top_20_mqls['mql_id']:\n",
        "  order.append(row)\n",
        "\n",
        "graph = sns.barplot(x ='mql_id',y ='total_payment', data = top_20_mqls, order=order, palette=\"Blues_d\")\n",
        "\n",
        "fmt = '${x:,.0f}'\n",
        "tick = mtick.StrMethodFormatter(fmt)\n",
        "ax.yaxis.set_major_formatter(tick) \n",
        "ax.set_xlabel('Closed Deal mql_id')\n",
        "ax.set_ylabel('Revenue')\n",
        "ax.set_title('Top 20 Closed Deal mql_ids by Revenue',fontsize=20,fontweight='bold')\n",
        "graph.set_xticklabels(order,rotation=90)\n",
        "\n",
        "plt.show()"
      ],
      "execution_count": 0,
      "outputs": []
    },
    {
      "metadata": {
        "id": "EiEQO0jOW4Ne",
        "colab_type": "text"
      },
      "cell_type": "markdown",
      "source": [
        "### Let's merge the customer information into the 'cd_items' dataset..."
      ]
    },
    {
      "metadata": {
        "id": "PrQcj-u1WBfp",
        "colab_type": "code",
        "colab": {}
      },
      "cell_type": "code",
      "source": [
        "cd_order_customer_info = cd_order_info.merge(customers,how='left', on='customer_id')\n",
        "cd_order_customer_info.info()"
      ],
      "execution_count": 0,
      "outputs": []
    },
    {
      "metadata": {
        "id": "4Rssb-ijjIvA",
        "colab_type": "text"
      },
      "cell_type": "markdown",
      "source": [
        "### Let's merge the customer geographical location info into the 'cd_order_customer_info' dataset."
      ]
    },
    {
      "metadata": {
        "id": "ysOtlVvsi13R",
        "colab_type": "code",
        "colab": {}
      },
      "cell_type": "code",
      "source": [
        "cd_order_customer_info.rename(columns = {'customer_zip_code_prefix':'zip_code_prefix'},inplace=True)\n",
        "cd_order_customer_info = pd.merge(cd_order_customer_info,geolocation[['zip_code_prefix','geolocation_lat','geolocation_lng']], how = 'left',on='zip_code_prefix')\n",
        "cd_order_customer_info.info()"
      ],
      "execution_count": 0,
      "outputs": []
    },
    {
      "metadata": {
        "id": "5Fa8X7uWLAeh",
        "colab_type": "code",
        "colab": {}
      },
      "cell_type": "code",
      "source": [
        "num_customers_per_cd_mql = cd_order_customer_info.groupby(['mql_id'])['customer_id'].count().reset_index()\n",
        "num_customers_per_cd_mql = num_customers_per_cd_mql[num_customers_per_cd_mql.customer_id !=0]\n",
        "num_customers_per_cd_mql.rename(columns = {'customer_id': 'num_customer_ids'},inplace=True)\n",
        "num_customers_per_cd_mql"
      ],
      "execution_count": 0,
      "outputs": []
    },
    {
      "metadata": {
        "id": "Au3sHMETOqFo",
        "colab_type": "code",
        "colab": {}
      },
      "cell_type": "code",
      "source": [
        "num_products_per_cd_mql = cd_order_customer_info.groupby(['mql_id'])['product_id'].count().reset_index()\n",
        "num_products_per_cd_mql = num_products_per_cd_mql[num_products_per_cd_mql.product_id !=0]\n",
        "num_products_per_cd_mql.rename(columns = {'product_id': 'num_product_ids'},inplace=True)\n",
        "num_products_per_cd_mql"
      ],
      "execution_count": 0,
      "outputs": []
    },
    {
      "metadata": {
        "id": "P4c74qGYocEu",
        "colab_type": "text"
      },
      "cell_type": "markdown",
      "source": [
        "### Let's plot the customer locations for the closed deal 'mql_id's..."
      ]
    },
    {
      "metadata": {
        "id": "ZfCdQtEIlz06",
        "colab_type": "code",
        "colab": {}
      },
      "cell_type": "code",
      "source": [
        "lat = np.asarray(cd_order_customer_info['geolocation_lat'].dropna())\n",
        "lng = np.asarray(cd_order_customer_info['geolocation_lng'].dropna())"
      ],
      "execution_count": 0,
      "outputs": []
    },
    {
      "metadata": {
        "id": "6MAE3pWjmGaT",
        "colab_type": "code",
        "colab": {}
      },
      "cell_type": "code",
      "source": [
        "margin = .2                     # buffer to add to the range\n",
        "lat_min = min(lat) - margin\n",
        "lat_max = max(lat) + margin\n",
        "lng_min = min(lng) - margin\n",
        "lng_max = max(lng) + margin\n",
        "\n",
        "# create map using BASEMAP\n",
        "fig,ax = plt.subplots(figsize=(14,8))\n",
        "\n",
        "map = Basemap(llcrnrlon=lng_min,\n",
        "            llcrnrlat=lat_min,\n",
        "            urcrnrlon=lng_max,\n",
        "            urcrnrlat=lat_max,\n",
        "            lat_0=(lat_max - lat_min)/2,\n",
        "            lon_0=(lng_max-lng_min)/2,\n",
        "            projection='merc',\n",
        "            resolution = 'h',\n",
        "            area_thresh=10000.,\n",
        "            )\n",
        "map.drawcoastlines()\n",
        "map.drawcountries()\n",
        "map.drawstates()\n",
        "map.drawmapboundary(fill_color='#46bcec')\n",
        "map.fillcontinents(color = 'white',lake_color='#46bcec')\n",
        "\n",
        "# convert lat and long to map projection coordinates\n",
        "x,y = map(lng, lat)\n",
        "\n",
        "# plot points as red dots\n",
        "\n",
        "map.scatter(x,y, marker = 'o',s = 10, color='r',alpha=0.35, zorder=10)\n",
        "\n",
        "# Find and plot major cities\n",
        "\n",
        "city_list = ['Sao Paulo','Rio de Janeiro','Curitiba','Brasilia','Natal','Uberaba','Salvador-BA','Porto Alegre','Itajai']\n",
        "\n",
        "for city in city_list:\n",
        "  PlotCity(city)\n",
        "\n",
        "plt.title(\"Olist Customer Locations in Brazil\",fontsize=20,fontweight='bold')\n",
        "plt.show()"
      ],
      "execution_count": 0,
      "outputs": []
    },
    {
      "metadata": {
        "id": "n2hgxRxL4N0s",
        "colab_type": "text"
      },
      "cell_type": "markdown",
      "source": [
        "### Let's get the first contact date for each of the closed deal mql_id's.  We can get that from the 'mql' dataset."
      ]
    },
    {
      "metadata": {
        "id": "Ze-cZpiS4m-f",
        "colab_type": "code",
        "colab": {}
      },
      "cell_type": "code",
      "source": [
        "cd_order_customer_info = cd_order_info.merge(mql[['mql_id','first_contact_date']],how='inner', on='mql_id')\n",
        "cd_order_customer_info.info()"
      ],
      "execution_count": 0,
      "outputs": []
    },
    {
      "metadata": {
        "id": "a3ddZYx37HXX",
        "colab_type": "code",
        "colab": {}
      },
      "cell_type": "code",
      "source": [
        "cd_order_customer_info['lead_conversion_time'] = cd_order_customer_info['won_date'] - cd_order_customer_info['first_contact_date']\n",
        "cd_order_customer_info['lead_conversion_time'] = cd_order_customer_info['lead_conversion_time'].dt.days  # Strip out days from timedelta variable\n",
        "cd_order_customer_info['lead_conversion_time'] = cd_order_customer_info['lead_conversion_time'].apply(np.float32)\n",
        "cd_order_customer_info['lead_conversion_time'].head()"
      ],
      "execution_count": 0,
      "outputs": []
    },
    {
      "metadata": {
        "id": "zKktYQHrukqQ",
        "colab_type": "text"
      },
      "cell_type": "markdown",
      "source": [
        "### Some statistics on the lead conversion times (measured in days) for the closed deals...  Notice that the standard deviation is higher than the mean value!  Let's see how closed deal revenue affects the lead conversion time."
      ]
    },
    {
      "metadata": {
        "id": "Ax91HJghyfjC",
        "colab_type": "code",
        "colab": {}
      },
      "cell_type": "code",
      "source": [
        "cd_order_customer_info['lead_conversion_time'].describe()"
      ],
      "execution_count": 0,
      "outputs": []
    },
    {
      "metadata": {
        "id": "3-9Fu7Pa_qFR",
        "colab_type": "code",
        "colab": {}
      },
      "cell_type": "code",
      "source": [
        "cd_order_customer_info.sort_values(by ='lead_conversion_time',ascending=False).head(50)"
      ],
      "execution_count": 0,
      "outputs": []
    },
    {
      "metadata": {
        "id": "EkKCa40hyOf2",
        "colab_type": "code",
        "colab": {}
      },
      "cell_type": "code",
      "source": [
        "revenue_per_mql = cd_order_customer_info.groupby(['mql_id','lead_conversion_time'])['total_payment'].sum().reset_index()\n",
        "revenue_per_mql = revenue_per_mql[revenue_per_mql.total_payment != 0]  # Delete rows where sum('total_payment') = 0\n",
        "cd_mqls_by_revenue = revenue_per_mql.sort_values(by='total_payment',ascending=False)\n",
        "top_20_mqls= revenue_per_mql.sort_values(by='total_payment',ascending=False).head(20)"
      ],
      "execution_count": 0,
      "outputs": []
    },
    {
      "metadata": {
        "id": "1qYcQVvSEaKp",
        "colab_type": "code",
        "colab": {}
      },
      "cell_type": "code",
      "source": [
        "\n",
        "fig,ax = plt.subplots(figsize=(14,6))\n",
        "\n",
        "x = top_20_mqls['mql_id']\n",
        "y1 = top_20_mqls['lead_conversion_time']\n",
        "y2 = top_20_mqls['total_payment']\n",
        "\n",
        "plt.subplot(1,2,1)\n",
        "plt.plot(x,y1, 'o-',color='red')\n",
        "plt.title('Lead Conversion Time - Top 20 mql_ids by Revenue')\n",
        "plt.ylabel('Lead Conversion Time (Days)')\n",
        "\n",
        "plt.xticks(rotation=90)\n",
        "\n",
        "ax2 = plt.subplot(1,2,2)\n",
        "plt.bar(x, y2)\n",
        "plt.title('Closed Deal Revenue')\n",
        "plt.xlabel('mql_id')\n",
        "plt.ylabel('Revenue')\n",
        "\n",
        "fmt = '${x:,.0f}'\n",
        "tick = mtick.StrMethodFormatter(fmt)\n",
        "ax2.yaxis.set_major_formatter(tick) \n",
        "\n",
        "plt.xticks(rotation=90)\n",
        "\n",
        "plt.show()"
      ],
      "execution_count": 0,
      "outputs": []
    },
    {
      "metadata": {
        "id": "6VF3OxtgBtfA",
        "colab_type": "code",
        "colab": {}
      },
      "cell_type": "code",
      "source": [
        "fig, ax1 = plt.subplots(figsize=(14,6))\n",
        "\n",
        "color = 'tab:blue'\n",
        "ax1.set_ylabel('Revenue', color=color)  # we already handled the x-label with ax1\n",
        "ax1.bar(top_20_mqls['mql_id'], top_20_mqls['total_payment'], color=color)\n",
        "fmt = '${x:,.0f}'\n",
        "tick = mtick.StrMethodFormatter(fmt)\n",
        "ax1.yaxis.set_major_formatter(tick) \n",
        "ax1.tick_params(axis='y', labelcolor=color)\n",
        "\n",
        "plt.xticks(rotation=90)\n",
        "\n",
        "ax2 = ax1.twinx()  # instantiate a second axes that shares the same x-axis\n",
        "\n",
        "color = 'tab:red'\n",
        "ax2.set_xlabel('mql_id')\n",
        "ax2.set_ylabel('Lead Conversion Time (Days)', color=color, rotation=270,labelpad=15)\n",
        "ax2.plot(top_20_mqls['mql_id'], top_20_mqls['lead_conversion_time'], color=color)\n",
        "ax2.tick_params(axis='both', labelcolor=color)\n",
        "ax2.grid(None)\n",
        "\n",
        "\n",
        "\n",
        "fig.tight_layout()  # otherwise the right y-label is slightly clipped\n",
        "plt.show()"
      ],
      "execution_count": 0,
      "outputs": []
    },
    {
      "metadata": {
        "id": "b6RcZLOutADA",
        "colab_type": "text"
      },
      "cell_type": "markdown",
      "source": [
        "### What kind of customer review scores did the top closed deals generate? We have a sorted list of the closed deal 'mql_id's according to revenue generated in 'cd_mqls_by_revenue'. We need to generate a list of 'order_id's for each 'mql_id'."
      ]
    },
    {
      "metadata": {
        "id": "p05ToNmVuuBr",
        "colab_type": "code",
        "colab": {}
      },
      "cell_type": "code",
      "source": [
        "mean_review_score_per_mql = cd_order_customer_info.groupby(['mql_id'])['review_score'].mean().reset_index()\n",
        "mean_review_score_per_mql.rename(columns = {'review_score':'mean_review_score'},inplace=True)\n",
        "mean_review_score_per_mql.dropna(inplace=True)"
      ],
      "execution_count": 0,
      "outputs": []
    },
    {
      "metadata": {
        "id": "wuzATBa32cNz",
        "colab_type": "code",
        "colab": {}
      },
      "cell_type": "code",
      "source": [
        "cd_mqls_by_revenue = cd_mqls_by_revenue.merge(mean_review_score_per_mql,how='left',on='mql_id')\n",
        "top_mql_mean_scores = cd_mqls_by_revenue.head(20)"
      ],
      "execution_count": 0,
      "outputs": []
    },
    {
      "metadata": {
        "id": "ffq6SsxF39mL",
        "colab_type": "code",
        "colab": {}
      },
      "cell_type": "code",
      "source": [
        "fig, ax1 = plt.subplots(figsize=(14,6))\n",
        "\n",
        "color = 'tab:blue'\n",
        "ax1.set_ylabel('Revenue', color=color)  # we already handled the x-label with ax1\n",
        "ax1.bar(top_mql_mean_scores['mql_id'], top_mql_mean_scores['total_payment'], color=color)\n",
        "fmt = '${x:,.0f}'\n",
        "tick = mtick.StrMethodFormatter(fmt)\n",
        "ax1.yaxis.set_major_formatter(tick) \n",
        "ax1.tick_params(axis='y', labelcolor=color)\n",
        "\n",
        "plt.xticks(rotation=90)\n",
        "\n",
        "ax2 = ax1.twinx()  # instantiate a second axes that shares the same x-axis\n",
        "\n",
        "color = 'tab:red'\n",
        "ax2.set_xlabel('mql_id')\n",
        "ax2.set_ylabel('Mean Review Score', color=color, rotation=270,labelpad=15)\n",
        "ax2.plot(top_mql_mean_scores['mql_id'], top_mql_mean_scores['mean_review_score'], color=color)\n",
        "ax2.tick_params(axis='both', labelcolor=color)\n",
        "ax2.grid(None)\n",
        "\n",
        "fig.tight_layout()  # otherwise the right y-label is slightly clipped\n",
        "plt.show()"
      ],
      "execution_count": 0,
      "outputs": []
    },
    {
      "metadata": {
        "id": "tIErqaPTBhLl",
        "colab_type": "text"
      },
      "cell_type": "markdown",
      "source": [
        "### Let's look at some other characteristics of the top closed deal 'mql_id's...\n",
        "\n",
        "We'll look at:\n",
        "\n",
        "*  Number of 'order_id's\n",
        "*  Number of 'customer_id's\n",
        "*  Number of 'product_id's\n",
        "\n",
        "\n",
        "\n",
        "\n"
      ]
    },
    {
      "metadata": {
        "id": "ZfCRtAaCPfAu",
        "colab_type": "code",
        "colab": {}
      },
      "cell_type": "code",
      "source": [
        "dfs_to_merge = [cd_mqls_by_revenue,order_ids_per_mql,num_customers_per_cd_mql,num_products_per_cd_mql]\n",
        "cd_mql_by_revenue = reduce(lambda left,right: pd.merge(left,right,on=['mql_id'],how='left'), dfs_to_merge)\n",
        "cd_mql_by_revenue"
      ],
      "execution_count": 0,
      "outputs": []
    }
  ]
}