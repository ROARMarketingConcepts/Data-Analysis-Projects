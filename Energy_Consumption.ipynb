{
  "nbformat": 4,
  "nbformat_minor": 0,
  "metadata": {
    "colab": {
      "name": "Energy Consumption.ipynb",
      "version": "0.3.2",
      "provenance": [],
      "include_colab_link": true
    },
    "kernelspec": {
      "name": "python3",
      "display_name": "Python 3"
    },
    "accelerator": "TPU"
  },
  "cells": [
    {
      "cell_type": "markdown",
      "metadata": {
        "id": "view-in-github",
        "colab_type": "text"
      },
      "source": [
        "<a href=\"https://colab.research.google.com/github/ROARMarketingConcepts/Data-Projects/blob/master/Energy_Consumption.ipynb\" target=\"_parent\"><img src=\"https://colab.research.google.com/assets/colab-badge.svg\" alt=\"Open In Colab\"/></a>"
      ]
    },
    {
      "metadata": {
        "id": "8dPXubfWRiJY",
        "colab_type": "code",
        "outputId": "b39de97b-aa44-4db3-a7a2-a4c655600577",
        "colab": {
          "base_uri": "https://localhost:8080/",
          "height": 34
        }
      },
      "cell_type": "code",
      "source": [
        "from google.colab import drive\n",
        "drive.mount('/content/drive/')"
      ],
      "execution_count": 0,
      "outputs": [
        {
          "output_type": "stream",
          "text": [
            "Drive already mounted at /content/drive/; to attempt to forcibly remount, call drive.mount(\"/content/drive/\", force_remount=True).\n"
          ],
          "name": "stdout"
        }
      ]
    },
    {
      "metadata": {
        "id": "yjwLvwUzc3MJ",
        "colab_type": "code",
        "colab": {}
      },
      "cell_type": "code",
      "source": [
        "import pandas as pd\n",
        "import numpy as np\n",
        "import sklearn\n",
        "import scipy\n",
        "import time\n",
        "import datetime\n",
        "\n",
        "import matplotlib.pyplot as plt\n",
        "from matplotlib import interactive\n",
        "plt.rc(\"font\", size=14)\n",
        "from pylab import scatter, show, legend, xlabel, ylabel\n",
        "\n",
        "import seaborn as sns\n",
        "sns.set(style=\"white\")\n",
        "sns.set(style=\"whitegrid\", color_codes=True)\n",
        "\n",
        "# Ignore useless warnings (see SciPy issue #5998)\n",
        "import warnings\n",
        "warnings.filterwarnings(action=\"ignore\", message=\"^internal gelsd\")"
      ],
      "execution_count": 0,
      "outputs": []
    },
    {
      "metadata": {
        "id": "okZm00vCdCfT",
        "colab_type": "code",
        "outputId": "3ae3016c-7d38-4e70-f84f-59b60bad898c",
        "colab": {
          "base_uri": "https://localhost:8080/",
          "height": 323
        }
      },
      "cell_type": "code",
      "source": [
        "df = pd.read_csv('/content/drive/My Drive/Colab Notebooks/Energy Consumption Data Analysis/hourly-energy-consumption/pjm_hourly_est.csv')\n",
        "df.info()"
      ],
      "execution_count": 0,
      "outputs": [
        {
          "output_type": "stream",
          "text": [
            "<class 'pandas.core.frame.DataFrame'>\n",
            "RangeIndex: 178262 entries, 0 to 178261\n",
            "Data columns (total 13 columns):\n",
            "Datetime    178262 non-null object\n",
            "AEP         121273 non-null float64\n",
            "COMED       66497 non-null float64\n",
            "DAYTON      121275 non-null float64\n",
            "DEOK        57739 non-null float64\n",
            "DOM         116189 non-null float64\n",
            "DUQ         119068 non-null float64\n",
            "EKPC        45334 non-null float64\n",
            "FE          62874 non-null float64\n",
            "NI          58450 non-null float64\n",
            "PJME        145366 non-null float64\n",
            "PJMW        143206 non-null float64\n",
            "PJM_Load    32896 non-null float64\n",
            "dtypes: float64(12), object(1)\n",
            "memory usage: 17.7+ MB\n"
          ],
          "name": "stdout"
        }
      ]
    },
    {
      "metadata": {
        "id": "byu3baqHzrgt",
        "colab_type": "code",
        "outputId": "df34cc0b-0874-44b3-aabc-ae7dc36a6e2f",
        "colab": {
          "base_uri": "https://localhost:8080/",
          "height": 204
        }
      },
      "cell_type": "code",
      "source": [
        "df.head()"
      ],
      "execution_count": 0,
      "outputs": [
        {
          "output_type": "execute_result",
          "data": {
            "text/html": [
              "<div>\n",
              "<style scoped>\n",
              "    .dataframe tbody tr th:only-of-type {\n",
              "        vertical-align: middle;\n",
              "    }\n",
              "\n",
              "    .dataframe tbody tr th {\n",
              "        vertical-align: top;\n",
              "    }\n",
              "\n",
              "    .dataframe thead th {\n",
              "        text-align: right;\n",
              "    }\n",
              "</style>\n",
              "<table border=\"1\" class=\"dataframe\">\n",
              "  <thead>\n",
              "    <tr style=\"text-align: right;\">\n",
              "      <th></th>\n",
              "      <th>Datetime</th>\n",
              "      <th>AEP</th>\n",
              "      <th>COMED</th>\n",
              "      <th>DAYTON</th>\n",
              "      <th>DEOK</th>\n",
              "      <th>DOM</th>\n",
              "      <th>DUQ</th>\n",
              "      <th>EKPC</th>\n",
              "      <th>FE</th>\n",
              "      <th>NI</th>\n",
              "      <th>PJME</th>\n",
              "      <th>PJMW</th>\n",
              "      <th>PJM_Load</th>\n",
              "    </tr>\n",
              "  </thead>\n",
              "  <tbody>\n",
              "    <tr>\n",
              "      <th>0</th>\n",
              "      <td>1998-12-31 01:00:00</td>\n",
              "      <td>NaN</td>\n",
              "      <td>NaN</td>\n",
              "      <td>NaN</td>\n",
              "      <td>NaN</td>\n",
              "      <td>NaN</td>\n",
              "      <td>NaN</td>\n",
              "      <td>NaN</td>\n",
              "      <td>NaN</td>\n",
              "      <td>NaN</td>\n",
              "      <td>NaN</td>\n",
              "      <td>NaN</td>\n",
              "      <td>29309.0</td>\n",
              "    </tr>\n",
              "    <tr>\n",
              "      <th>1</th>\n",
              "      <td>1998-12-31 02:00:00</td>\n",
              "      <td>NaN</td>\n",
              "      <td>NaN</td>\n",
              "      <td>NaN</td>\n",
              "      <td>NaN</td>\n",
              "      <td>NaN</td>\n",
              "      <td>NaN</td>\n",
              "      <td>NaN</td>\n",
              "      <td>NaN</td>\n",
              "      <td>NaN</td>\n",
              "      <td>NaN</td>\n",
              "      <td>NaN</td>\n",
              "      <td>28236.0</td>\n",
              "    </tr>\n",
              "    <tr>\n",
              "      <th>2</th>\n",
              "      <td>1998-12-31 03:00:00</td>\n",
              "      <td>NaN</td>\n",
              "      <td>NaN</td>\n",
              "      <td>NaN</td>\n",
              "      <td>NaN</td>\n",
              "      <td>NaN</td>\n",
              "      <td>NaN</td>\n",
              "      <td>NaN</td>\n",
              "      <td>NaN</td>\n",
              "      <td>NaN</td>\n",
              "      <td>NaN</td>\n",
              "      <td>NaN</td>\n",
              "      <td>27692.0</td>\n",
              "    </tr>\n",
              "    <tr>\n",
              "      <th>3</th>\n",
              "      <td>1998-12-31 04:00:00</td>\n",
              "      <td>NaN</td>\n",
              "      <td>NaN</td>\n",
              "      <td>NaN</td>\n",
              "      <td>NaN</td>\n",
              "      <td>NaN</td>\n",
              "      <td>NaN</td>\n",
              "      <td>NaN</td>\n",
              "      <td>NaN</td>\n",
              "      <td>NaN</td>\n",
              "      <td>NaN</td>\n",
              "      <td>NaN</td>\n",
              "      <td>27596.0</td>\n",
              "    </tr>\n",
              "    <tr>\n",
              "      <th>4</th>\n",
              "      <td>1998-12-31 05:00:00</td>\n",
              "      <td>NaN</td>\n",
              "      <td>NaN</td>\n",
              "      <td>NaN</td>\n",
              "      <td>NaN</td>\n",
              "      <td>NaN</td>\n",
              "      <td>NaN</td>\n",
              "      <td>NaN</td>\n",
              "      <td>NaN</td>\n",
              "      <td>NaN</td>\n",
              "      <td>NaN</td>\n",
              "      <td>NaN</td>\n",
              "      <td>27888.0</td>\n",
              "    </tr>\n",
              "  </tbody>\n",
              "</table>\n",
              "</div>"
            ],
            "text/plain": [
              "              Datetime  AEP  COMED  DAYTON  DEOK  DOM  DUQ  EKPC  FE  NI  \\\n",
              "0  1998-12-31 01:00:00  NaN    NaN     NaN   NaN  NaN  NaN   NaN NaN NaN   \n",
              "1  1998-12-31 02:00:00  NaN    NaN     NaN   NaN  NaN  NaN   NaN NaN NaN   \n",
              "2  1998-12-31 03:00:00  NaN    NaN     NaN   NaN  NaN  NaN   NaN NaN NaN   \n",
              "3  1998-12-31 04:00:00  NaN    NaN     NaN   NaN  NaN  NaN   NaN NaN NaN   \n",
              "4  1998-12-31 05:00:00  NaN    NaN     NaN   NaN  NaN  NaN   NaN NaN NaN   \n",
              "\n",
              "   PJME  PJMW  PJM_Load  \n",
              "0   NaN   NaN   29309.0  \n",
              "1   NaN   NaN   28236.0  \n",
              "2   NaN   NaN   27692.0  \n",
              "3   NaN   NaN   27596.0  \n",
              "4   NaN   NaN   27888.0  "
            ]
          },
          "metadata": {
            "tags": []
          },
          "execution_count": 4
        }
      ]
    },
    {
      "metadata": {
        "id": "FkQVqdTNCiUo",
        "colab_type": "text"
      },
      "cell_type": "markdown",
      "source": [
        "### Let's convert all the 'NaN' fields to zeroes..."
      ]
    },
    {
      "metadata": {
        "id": "Bbb_FEMOCsMU",
        "colab_type": "code",
        "colab": {}
      },
      "cell_type": "code",
      "source": [
        "df = df.fillna(0.0, axis=1)"
      ],
      "execution_count": 0,
      "outputs": []
    },
    {
      "metadata": {
        "id": "da_2nSIQm7sR",
        "colab_type": "text"
      },
      "cell_type": "markdown",
      "source": [
        "### The date and time in the 'Datetime' column is a string object variable.  We need to convert it to a datetime variable and then extract all the time and date data."
      ]
    },
    {
      "metadata": {
        "id": "hzZxZ2tsvhi4",
        "colab_type": "code",
        "colab": {}
      },
      "cell_type": "code",
      "source": [
        "import calendar\n",
        "import datetime as dt\n",
        "\n",
        "df['Datetime'] = pd.to_datetime(df['Datetime'])\n",
        "df['Date'] = df['Datetime'].dt.date\n",
        "df['Year'] = df['Datetime'].dt.year\n",
        "\n",
        "df['Month'] = df['Datetime'].dt.month\n",
        "# df['Month'] = df['Month'].apply(lambda x: calendar.month_abbr[x])    # Get month name from month index\n",
        "\n",
        "df['Day'] = df['Datetime'].dt.day\n",
        "\n",
        "df['Weekday'] = df['Datetime'].dt.dayofweek\n",
        "# df['Weekday'] = df['Datetime'].apply(lambda x: dt.datetime.strftime(x, '%A'))  # Get day of week name from dayofweek index\n",
        "\n",
        "df['Hour'] = df['Datetime'].dt.hour"
      ],
      "execution_count": 0,
      "outputs": []
    },
    {
      "metadata": {
        "id": "WG6YoCRGzzu6",
        "colab_type": "code",
        "outputId": "5b765a52-9c44-4ad8-ebf2-f5c51fcb3da2",
        "colab": {
          "base_uri": "https://localhost:8080/",
          "height": 119
        }
      },
      "cell_type": "code",
      "source": [
        "df['Weekday'].head()"
      ],
      "execution_count": 0,
      "outputs": [
        {
          "output_type": "execute_result",
          "data": {
            "text/plain": [
              "0    3\n",
              "1    3\n",
              "2    3\n",
              "3    3\n",
              "4    3\n",
              "Name: Weekday, dtype: int64"
            ]
          },
          "metadata": {
            "tags": []
          },
          "execution_count": 7
        }
      ]
    },
    {
      "metadata": {
        "id": "dbedEYlLzpSH",
        "colab_type": "text"
      },
      "cell_type": "markdown",
      "source": [
        "We have 20 years of data...but many values for PJM_Load are either missing or equal to zero."
      ]
    },
    {
      "metadata": {
        "id": "3rkUc14jykRN",
        "colab_type": "code",
        "outputId": "a1fd279a-be12-426d-f4ae-936b17787103",
        "colab": {
          "base_uri": "https://localhost:8080/",
          "height": 51
        }
      },
      "cell_type": "code",
      "source": [
        "df['Year'].unique()"
      ],
      "execution_count": 0,
      "outputs": [
        {
          "output_type": "execute_result",
          "data": {
            "text/plain": [
              "array([1998, 1999, 2000, 2001, 2002, 2003, 2004, 2005, 2006, 2007, 2008,\n",
              "       2009, 2010, 2011, 2012, 2013, 2014, 2015, 2016, 2017, 2018])"
            ]
          },
          "metadata": {
            "tags": []
          },
          "execution_count": 8
        }
      ]
    },
    {
      "metadata": {
        "id": "yH_nZ3YJ0G66",
        "colab_type": "text"
      },
      "cell_type": "markdown",
      "source": [
        "Let's find and keep the rows where PJM_Load $\\neq$ 0   This reduces the dataset from 178262 rows to 32896 rows."
      ]
    },
    {
      "metadata": {
        "id": "pF7uHdFn0VX_",
        "colab_type": "code",
        "outputId": "700e7780-97c3-4399-b41c-c3562d35d979",
        "colab": {
          "base_uri": "https://localhost:8080/",
          "height": 425
        }
      },
      "cell_type": "code",
      "source": [
        "df = df[df.PJM_Load != 0.0]\n",
        "df.info()"
      ],
      "execution_count": 0,
      "outputs": [
        {
          "output_type": "stream",
          "text": [
            "<class 'pandas.core.frame.DataFrame'>\n",
            "Int64Index: 32896 entries, 0 to 32895\n",
            "Data columns (total 19 columns):\n",
            "Datetime    32896 non-null datetime64[ns]\n",
            "AEP         32896 non-null float64\n",
            "COMED       32896 non-null float64\n",
            "DAYTON      32896 non-null float64\n",
            "DEOK        32896 non-null float64\n",
            "DOM         32896 non-null float64\n",
            "DUQ         32896 non-null float64\n",
            "EKPC        32896 non-null float64\n",
            "FE          32896 non-null float64\n",
            "NI          32896 non-null float64\n",
            "PJME        32896 non-null float64\n",
            "PJMW        32896 non-null float64\n",
            "PJM_Load    32896 non-null float64\n",
            "Date        32896 non-null object\n",
            "Year        32896 non-null int64\n",
            "Month       32896 non-null int64\n",
            "Day         32896 non-null int64\n",
            "Weekday     32896 non-null int64\n",
            "Hour        32896 non-null int64\n",
            "dtypes: datetime64[ns](1), float64(12), int64(5), object(1)\n",
            "memory usage: 5.0+ MB\n"
          ],
          "name": "stdout"
        }
      ]
    },
    {
      "metadata": {
        "id": "cWLP-e4ND_R9",
        "colab_type": "text"
      },
      "cell_type": "markdown",
      "source": [
        "Calculate the load by month per year..."
      ]
    },
    {
      "metadata": {
        "id": "l73CgnqP0Ixl",
        "colab_type": "code",
        "outputId": "0a748c61-1c87-4876-f584-581830261540",
        "colab": {
          "base_uri": "https://localhost:8080/",
          "height": 1475
        }
      },
      "cell_type": "code",
      "source": [
        "monthly_load_per_year = df.groupby(['Year','Month'])['PJM_Load'].sum().reset_index()\n",
        "monthly_load_per_year"
      ],
      "execution_count": 0,
      "outputs": [
        {
          "output_type": "execute_result",
          "data": {
            "text/html": [
              "<div>\n",
              "<style scoped>\n",
              "    .dataframe tbody tr th:only-of-type {\n",
              "        vertical-align: middle;\n",
              "    }\n",
              "\n",
              "    .dataframe tbody tr th {\n",
              "        vertical-align: top;\n",
              "    }\n",
              "\n",
              "    .dataframe thead th {\n",
              "        text-align: right;\n",
              "    }\n",
              "</style>\n",
              "<table border=\"1\" class=\"dataframe\">\n",
              "  <thead>\n",
              "    <tr style=\"text-align: right;\">\n",
              "      <th></th>\n",
              "      <th>Year</th>\n",
              "      <th>Month</th>\n",
              "      <th>PJM_Load</th>\n",
              "    </tr>\n",
              "  </thead>\n",
              "  <tbody>\n",
              "    <tr>\n",
              "      <th>0</th>\n",
              "      <td>1998</td>\n",
              "      <td>4</td>\n",
              "      <td>18258202.0</td>\n",
              "    </tr>\n",
              "    <tr>\n",
              "      <th>1</th>\n",
              "      <td>1998</td>\n",
              "      <td>5</td>\n",
              "      <td>19914613.0</td>\n",
              "    </tr>\n",
              "    <tr>\n",
              "      <th>2</th>\n",
              "      <td>1998</td>\n",
              "      <td>6</td>\n",
              "      <td>21413823.0</td>\n",
              "    </tr>\n",
              "    <tr>\n",
              "      <th>3</th>\n",
              "      <td>1998</td>\n",
              "      <td>7</td>\n",
              "      <td>24449999.0</td>\n",
              "    </tr>\n",
              "    <tr>\n",
              "      <th>4</th>\n",
              "      <td>1998</td>\n",
              "      <td>8</td>\n",
              "      <td>24685281.0</td>\n",
              "    </tr>\n",
              "    <tr>\n",
              "      <th>5</th>\n",
              "      <td>1998</td>\n",
              "      <td>9</td>\n",
              "      <td>21446221.0</td>\n",
              "    </tr>\n",
              "    <tr>\n",
              "      <th>6</th>\n",
              "      <td>1998</td>\n",
              "      <td>10</td>\n",
              "      <td>19094647.0</td>\n",
              "    </tr>\n",
              "    <tr>\n",
              "      <th>7</th>\n",
              "      <td>1998</td>\n",
              "      <td>11</td>\n",
              "      <td>19145916.0</td>\n",
              "    </tr>\n",
              "    <tr>\n",
              "      <th>8</th>\n",
              "      <td>1998</td>\n",
              "      <td>12</td>\n",
              "      <td>21333067.0</td>\n",
              "    </tr>\n",
              "    <tr>\n",
              "      <th>9</th>\n",
              "      <td>1999</td>\n",
              "      <td>1</td>\n",
              "      <td>22901603.0</td>\n",
              "    </tr>\n",
              "    <tr>\n",
              "      <th>10</th>\n",
              "      <td>1999</td>\n",
              "      <td>2</td>\n",
              "      <td>19989436.0</td>\n",
              "    </tr>\n",
              "    <tr>\n",
              "      <th>11</th>\n",
              "      <td>1999</td>\n",
              "      <td>3</td>\n",
              "      <td>21448620.0</td>\n",
              "    </tr>\n",
              "    <tr>\n",
              "      <th>12</th>\n",
              "      <td>1999</td>\n",
              "      <td>4</td>\n",
              "      <td>18416083.0</td>\n",
              "    </tr>\n",
              "    <tr>\n",
              "      <th>13</th>\n",
              "      <td>1999</td>\n",
              "      <td>5</td>\n",
              "      <td>19243349.0</td>\n",
              "    </tr>\n",
              "    <tr>\n",
              "      <th>14</th>\n",
              "      <td>1999</td>\n",
              "      <td>6</td>\n",
              "      <td>22707744.0</td>\n",
              "    </tr>\n",
              "    <tr>\n",
              "      <th>15</th>\n",
              "      <td>1999</td>\n",
              "      <td>7</td>\n",
              "      <td>27487675.0</td>\n",
              "    </tr>\n",
              "    <tr>\n",
              "      <th>16</th>\n",
              "      <td>1999</td>\n",
              "      <td>8</td>\n",
              "      <td>24908011.0</td>\n",
              "    </tr>\n",
              "    <tr>\n",
              "      <th>17</th>\n",
              "      <td>1999</td>\n",
              "      <td>9</td>\n",
              "      <td>20981847.0</td>\n",
              "    </tr>\n",
              "    <tr>\n",
              "      <th>18</th>\n",
              "      <td>1999</td>\n",
              "      <td>10</td>\n",
              "      <td>19648508.0</td>\n",
              "    </tr>\n",
              "    <tr>\n",
              "      <th>19</th>\n",
              "      <td>1999</td>\n",
              "      <td>11</td>\n",
              "      <td>19600795.0</td>\n",
              "    </tr>\n",
              "    <tr>\n",
              "      <th>20</th>\n",
              "      <td>1999</td>\n",
              "      <td>12</td>\n",
              "      <td>22271506.0</td>\n",
              "    </tr>\n",
              "    <tr>\n",
              "      <th>21</th>\n",
              "      <td>2000</td>\n",
              "      <td>1</td>\n",
              "      <td>24061729.0</td>\n",
              "    </tr>\n",
              "    <tr>\n",
              "      <th>22</th>\n",
              "      <td>2000</td>\n",
              "      <td>2</td>\n",
              "      <td>21501663.0</td>\n",
              "    </tr>\n",
              "    <tr>\n",
              "      <th>23</th>\n",
              "      <td>2000</td>\n",
              "      <td>3</td>\n",
              "      <td>20759960.0</td>\n",
              "    </tr>\n",
              "    <tr>\n",
              "      <th>24</th>\n",
              "      <td>2000</td>\n",
              "      <td>4</td>\n",
              "      <td>18969551.0</td>\n",
              "    </tr>\n",
              "    <tr>\n",
              "      <th>25</th>\n",
              "      <td>2000</td>\n",
              "      <td>5</td>\n",
              "      <td>20711085.0</td>\n",
              "    </tr>\n",
              "    <tr>\n",
              "      <th>26</th>\n",
              "      <td>2000</td>\n",
              "      <td>6</td>\n",
              "      <td>23472915.0</td>\n",
              "    </tr>\n",
              "    <tr>\n",
              "      <th>27</th>\n",
              "      <td>2000</td>\n",
              "      <td>7</td>\n",
              "      <td>23660398.0</td>\n",
              "    </tr>\n",
              "    <tr>\n",
              "      <th>28</th>\n",
              "      <td>2000</td>\n",
              "      <td>8</td>\n",
              "      <td>24498907.0</td>\n",
              "    </tr>\n",
              "    <tr>\n",
              "      <th>29</th>\n",
              "      <td>2000</td>\n",
              "      <td>9</td>\n",
              "      <td>21368483.0</td>\n",
              "    </tr>\n",
              "    <tr>\n",
              "      <th>30</th>\n",
              "      <td>2000</td>\n",
              "      <td>10</td>\n",
              "      <td>20156640.0</td>\n",
              "    </tr>\n",
              "    <tr>\n",
              "      <th>31</th>\n",
              "      <td>2000</td>\n",
              "      <td>11</td>\n",
              "      <td>20720606.0</td>\n",
              "    </tr>\n",
              "    <tr>\n",
              "      <th>32</th>\n",
              "      <td>2000</td>\n",
              "      <td>12</td>\n",
              "      <td>24582137.0</td>\n",
              "    </tr>\n",
              "    <tr>\n",
              "      <th>33</th>\n",
              "      <td>2001</td>\n",
              "      <td>1</td>\n",
              "      <td>24335585.0</td>\n",
              "    </tr>\n",
              "    <tr>\n",
              "      <th>34</th>\n",
              "      <td>2001</td>\n",
              "      <td>2</td>\n",
              "      <td>20886586.0</td>\n",
              "    </tr>\n",
              "    <tr>\n",
              "      <th>35</th>\n",
              "      <td>2001</td>\n",
              "      <td>3</td>\n",
              "      <td>22292885.0</td>\n",
              "    </tr>\n",
              "    <tr>\n",
              "      <th>36</th>\n",
              "      <td>2001</td>\n",
              "      <td>4</td>\n",
              "      <td>19407746.0</td>\n",
              "    </tr>\n",
              "    <tr>\n",
              "      <th>37</th>\n",
              "      <td>2001</td>\n",
              "      <td>5</td>\n",
              "      <td>20434869.0</td>\n",
              "    </tr>\n",
              "    <tr>\n",
              "      <th>38</th>\n",
              "      <td>2001</td>\n",
              "      <td>6</td>\n",
              "      <td>23710239.0</td>\n",
              "    </tr>\n",
              "    <tr>\n",
              "      <th>39</th>\n",
              "      <td>2001</td>\n",
              "      <td>7</td>\n",
              "      <td>24317498.0</td>\n",
              "    </tr>\n",
              "    <tr>\n",
              "      <th>40</th>\n",
              "      <td>2001</td>\n",
              "      <td>8</td>\n",
              "      <td>27128576.0</td>\n",
              "    </tr>\n",
              "    <tr>\n",
              "      <th>41</th>\n",
              "      <td>2001</td>\n",
              "      <td>9</td>\n",
              "      <td>20971032.0</td>\n",
              "    </tr>\n",
              "    <tr>\n",
              "      <th>42</th>\n",
              "      <td>2001</td>\n",
              "      <td>10</td>\n",
              "      <td>20318878.0</td>\n",
              "    </tr>\n",
              "    <tr>\n",
              "      <th>43</th>\n",
              "      <td>2001</td>\n",
              "      <td>11</td>\n",
              "      <td>19585025.0</td>\n",
              "    </tr>\n",
              "    <tr>\n",
              "      <th>44</th>\n",
              "      <td>2001</td>\n",
              "      <td>12</td>\n",
              "      <td>21964888.0</td>\n",
              "    </tr>\n",
              "    <tr>\n",
              "      <th>45</th>\n",
              "      <td>2002</td>\n",
              "      <td>1</td>\n",
              "      <td>31569.0</td>\n",
              "    </tr>\n",
              "  </tbody>\n",
              "</table>\n",
              "</div>"
            ],
            "text/plain": [
              "    Year  Month    PJM_Load\n",
              "0   1998      4  18258202.0\n",
              "1   1998      5  19914613.0\n",
              "2   1998      6  21413823.0\n",
              "3   1998      7  24449999.0\n",
              "4   1998      8  24685281.0\n",
              "5   1998      9  21446221.0\n",
              "6   1998     10  19094647.0\n",
              "7   1998     11  19145916.0\n",
              "8   1998     12  21333067.0\n",
              "9   1999      1  22901603.0\n",
              "10  1999      2  19989436.0\n",
              "11  1999      3  21448620.0\n",
              "12  1999      4  18416083.0\n",
              "13  1999      5  19243349.0\n",
              "14  1999      6  22707744.0\n",
              "15  1999      7  27487675.0\n",
              "16  1999      8  24908011.0\n",
              "17  1999      9  20981847.0\n",
              "18  1999     10  19648508.0\n",
              "19  1999     11  19600795.0\n",
              "20  1999     12  22271506.0\n",
              "21  2000      1  24061729.0\n",
              "22  2000      2  21501663.0\n",
              "23  2000      3  20759960.0\n",
              "24  2000      4  18969551.0\n",
              "25  2000      5  20711085.0\n",
              "26  2000      6  23472915.0\n",
              "27  2000      7  23660398.0\n",
              "28  2000      8  24498907.0\n",
              "29  2000      9  21368483.0\n",
              "30  2000     10  20156640.0\n",
              "31  2000     11  20720606.0\n",
              "32  2000     12  24582137.0\n",
              "33  2001      1  24335585.0\n",
              "34  2001      2  20886586.0\n",
              "35  2001      3  22292885.0\n",
              "36  2001      4  19407746.0\n",
              "37  2001      5  20434869.0\n",
              "38  2001      6  23710239.0\n",
              "39  2001      7  24317498.0\n",
              "40  2001      8  27128576.0\n",
              "41  2001      9  20971032.0\n",
              "42  2001     10  20318878.0\n",
              "43  2001     11  19585025.0\n",
              "44  2001     12  21964888.0\n",
              "45  2002      1     31569.0"
            ]
          },
          "metadata": {
            "tags": []
          },
          "execution_count": 18
        }
      ]
    },
    {
      "metadata": {
        "id": "f91_ZKYZ82xy",
        "colab_type": "text"
      },
      "cell_type": "markdown",
      "source": [
        "### Let's plot this data as a bar chart..."
      ]
    },
    {
      "metadata": {
        "id": "vr9XPVZI-mhG",
        "colab_type": "code",
        "colab": {
          "base_uri": "https://localhost:8080/",
          "height": 426
        },
        "outputId": "bd431600-ce37-417b-d79a-60d56e38fbad"
      },
      "cell_type": "code",
      "source": [
        "ax = sns.barplot(x=\"Year\", y=\"PJM_Load\", hue=\"Month\", data=monthly_load_per_year)"
      ],
      "execution_count": 19,
      "outputs": [
        {
          "output_type": "stream",
          "text": [
            "/usr/local/lib/python3.6/dist-packages/seaborn/categorical.py:1468: FutureWarning: remove_na is deprecated and is a private function. Do not use.\n",
            "  stat_data = remove_na(group_data[hue_mask])\n"
          ],
          "name": "stderr"
        },
        {
          "output_type": "display_data",
          "data": {
            "image/png": "[encoded data removed]",
            "text/plain": [
              "<matplotlib.figure.Figure at 0x7f0abe770e48>"
            ]
          },
          "metadata": {
            "tags": []
          }
        }
      ]
    }
  ]
}