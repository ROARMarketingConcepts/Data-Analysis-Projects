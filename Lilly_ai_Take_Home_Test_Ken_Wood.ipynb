{
  "nbformat": 4,
  "nbformat_minor": 0,
  "metadata": {
    "colab": {
      "name": "Lilly.ai Take Home Test - Ken Wood.ipynb",
      "provenance": [],
      "collapsed_sections": [],
      "authorship_tag": "ABX9TyMDeR/VBr2nzzJy7KG/CUbY",
      "include_colab_link": true
    },
    "kernelspec": {
      "name": "python3",
      "display_name": "Python 3"
    },
    "language_info": {
      "name": "python"
    }
  },
  "cells": [
    {
      "cell_type": "markdown",
      "metadata": {
        "id": "view-in-github",
        "colab_type": "text"
      },
      "source": [
        "<a href=\"https://colab.research.google.com/github/ROARMarketingConcepts/Data-Analysis-Projects/blob/master/Lilly_ai_Take_Home_Test_Ken_Wood.ipynb\" target=\"_parent\"><img src=\"https://colab.research.google.com/assets/colab-badge.svg\" alt=\"Open In Colab\"/></a>"
      ]
    },
    {
      "cell_type": "markdown",
      "metadata": {
        "id": "cB3m_jk_u_wq"
      },
      "source": [
        "#### Lilly.ai - Take Home Test\n",
        "#### Ken Wood\n",
        "\n",
        "#### 12/1/21"
      ]
    },
    {
      "cell_type": "markdown",
      "metadata": {
        "id": "cUnw8ZZu6Ct6"
      },
      "source": [
        "The executive team is interested to know over time:\n",
        "\n",
        "a. How Customers are searching and buying various products.\n",
        "\n",
        "b. Any insight about the products.\n",
        "\n",
        "c. Any interesting pattern from your analysis.\n",
        "\n",
        "You can also include the following in your analysis\n",
        "1. Search to Product-View conversion rate\n",
        "2. Product-View to Order-Complete conversion rate"
      ]
    },
    {
      "cell_type": "markdown",
      "metadata": {
        "id": "ghm3BfBSzvgg"
      },
      "source": [
        "Column Definitions of `event_logs_v2.csv`\n",
        "\n",
        "Column | Definition\n",
        "--- | ---\n",
        "`event_code` | Refer to the below table for the event_code and event_name map\n",
        "`event_timestamp` | `UTC timestamp when the event happened`\n",
        "`user_id` | `the user who caused the event`\n",
        "`product_id` | `user interacted with the product`"
      ]
    },
    {
      "cell_type": "markdown",
      "metadata": {
        "id": "B6LQVDLl0_7m"
      },
      "source": [
        "`event_code` mapping\n",
        "\n",
        "Event_Code|Event_Name| Description\n",
        "--- |--- |---\n",
        "`1` | `Search` | When a user does a product search on the website.\n",
        "`2` | `Product_View` | When a user clicks on one of the products in the  search result. This can happen after the Search event.\n",
        "`3` | `Order-Complete` | When a user orders a product. This can happen after the Product_View event."
      ]
    },
    {
      "cell_type": "markdown",
      "metadata": {
        "id": "wF9CBbOivhe_"
      },
      "source": [
        "Import Python packages we will need..."
      ]
    },
    {
      "cell_type": "code",
      "metadata": {
        "id": "_iqVGY0tvm_I"
      },
      "source": [
        "import pandas as pd\n",
        "import seaborn as sns"
      ],
      "execution_count": 213,
      "outputs": []
    },
    {
      "cell_type": "markdown",
      "metadata": {
        "id": "pFlsOQG1vKBw"
      },
      "source": [
        "Mount Google Drive where `event_logs_v2.csv` resides..."
      ]
    },
    {
      "cell_type": "code",
      "metadata": {
        "colab": {
          "base_uri": "https://localhost:8080/"
        },
        "id": "wgf6mTiKvTx_",
        "outputId": "9f2eaf72-f4d7-4935-8ef4-e749452fc7a6"
      },
      "source": [
        "from google.colab import drive\n",
        "drive.mount('/gdrive')\n",
        "%cd /gdrive"
      ],
      "execution_count": 214,
      "outputs": [
        {
          "output_type": "stream",
          "name": "stdout",
          "text": [
            "Drive already mounted at /gdrive; to attempt to forcibly remount, call drive.mount(\"/gdrive\", force_remount=True).\n",
            "/gdrive\n"
          ]
        }
      ]
    },
    {
      "cell_type": "markdown",
      "metadata": {
        "id": "xKoRZ-zvwNiA"
      },
      "source": [
        "Load the input data file and quickly inspect it..."
      ]
    },
    {
      "cell_type": "code",
      "metadata": {
        "colab": {
          "base_uri": "https://localhost:8080/",
          "height": 204
        },
        "id": "wycHyP-pwNJD",
        "outputId": "3e1579dd-2df5-4033-c6f3-dc946e42b1f4"
      },
      "source": [
        "df = pd.read_csv('/gdrive/MyDrive/Colab Notebooks/Lily.ai Take Home Test/event_logs_v2.csv')\n",
        "df.head()"
      ],
      "execution_count": 215,
      "outputs": [
        {
          "output_type": "execute_result",
          "data": {
            "text/html": [
              "<div>\n",
              "<style scoped>\n",
              "    .dataframe tbody tr th:only-of-type {\n",
              "        vertical-align: middle;\n",
              "    }\n",
              "\n",
              "    .dataframe tbody tr th {\n",
              "        vertical-align: top;\n",
              "    }\n",
              "\n",
              "    .dataframe thead th {\n",
              "        text-align: right;\n",
              "    }\n",
              "</style>\n",
              "<table border=\"1\" class=\"dataframe\">\n",
              "  <thead>\n",
              "    <tr style=\"text-align: right;\">\n",
              "      <th></th>\n",
              "      <th>event_code</th>\n",
              "      <th>event_timestamp</th>\n",
              "      <th>user_id</th>\n",
              "      <th>product_id</th>\n",
              "    </tr>\n",
              "  </thead>\n",
              "  <tbody>\n",
              "    <tr>\n",
              "      <th>0</th>\n",
              "      <td>2</td>\n",
              "      <td>2020-11-29T20:04:54Z</td>\n",
              "      <td>13fe7bed08c78ca6f563430b4fd284a1</td>\n",
              "      <td>cc5d78fc86ca1ea6dab7595d8b09a030</td>\n",
              "    </tr>\n",
              "    <tr>\n",
              "      <th>1</th>\n",
              "      <td>2</td>\n",
              "      <td>2020-11-29T20:04:59Z</td>\n",
              "      <td>f081f5ce4e8bdd61d618bd64f0647e46</td>\n",
              "      <td>7b82f5b46759a9f238982f2a7c367ba1</td>\n",
              "    </tr>\n",
              "    <tr>\n",
              "      <th>2</th>\n",
              "      <td>2</td>\n",
              "      <td>2020-11-29T19:58:19Z</td>\n",
              "      <td>d43f081630bd3a13518ea950213d7bcf</td>\n",
              "      <td>bf91bb4cd7e62b353232e709a30f52be</td>\n",
              "    </tr>\n",
              "    <tr>\n",
              "      <th>3</th>\n",
              "      <td>2</td>\n",
              "      <td>2020-11-29T19:58:34Z</td>\n",
              "      <td>5257b92203fd1122a1d9d09e0a236eb2</td>\n",
              "      <td>a1317a5b5531f4dd2d1bbbf9f0ebecca</td>\n",
              "    </tr>\n",
              "    <tr>\n",
              "      <th>4</th>\n",
              "      <td>2</td>\n",
              "      <td>2020-11-29T19:58:44Z</td>\n",
              "      <td>0434613b9d24b9f475bde53472787825</td>\n",
              "      <td>0b3ffd66553d9a2440b1ff8500b6b686</td>\n",
              "    </tr>\n",
              "  </tbody>\n",
              "</table>\n",
              "</div>"
            ],
            "text/plain": [
              "   event_code  ...                        product_id\n",
              "0           2  ...  cc5d78fc86ca1ea6dab7595d8b09a030\n",
              "1           2  ...  7b82f5b46759a9f238982f2a7c367ba1\n",
              "2           2  ...  bf91bb4cd7e62b353232e709a30f52be\n",
              "3           2  ...  a1317a5b5531f4dd2d1bbbf9f0ebecca\n",
              "4           2  ...  0b3ffd66553d9a2440b1ff8500b6b686\n",
              "\n",
              "[5 rows x 4 columns]"
            ]
          },
          "metadata": {},
          "execution_count": 215
        }
      ]
    },
    {
      "cell_type": "code",
      "metadata": {
        "colab": {
          "base_uri": "https://localhost:8080/"
        },
        "id": "vKTipNj0w4tE",
        "outputId": "8ac8c5e8-f000-4251-d4f1-0c61757f02dc"
      },
      "source": [
        "df.info()"
      ],
      "execution_count": 216,
      "outputs": [
        {
          "output_type": "stream",
          "name": "stdout",
          "text": [
            "<class 'pandas.core.frame.DataFrame'>\n",
            "RangeIndex: 1265614 entries, 0 to 1265613\n",
            "Data columns (total 4 columns):\n",
            " #   Column           Non-Null Count    Dtype \n",
            "---  ------           --------------    ----- \n",
            " 0   event_code       1265614 non-null  int64 \n",
            " 1   event_timestamp  1265614 non-null  object\n",
            " 2   user_id          1265614 non-null  object\n",
            " 3   product_id       1152471 non-null  object\n",
            "dtypes: int64(1), object(3)\n",
            "memory usage: 38.6+ MB\n"
          ]
        }
      ]
    },
    {
      "cell_type": "markdown",
      "metadata": {
        "id": "2rC_GypsM0W9"
      },
      "source": [
        "Convert `event_timestamp` feature to datetime variable type."
      ]
    },
    {
      "cell_type": "code",
      "metadata": {
        "id": "GluTNOqaNAyw"
      },
      "source": [
        "df['event_timestamp'] = pd.to_datetime(df['event_timestamp'])"
      ],
      "execution_count": 217,
      "outputs": []
    },
    {
      "cell_type": "markdown",
      "metadata": {
        "id": "X8sbcRzxzYcE"
      },
      "source": [
        "Extract hour from event_timestamp..."
      ]
    },
    {
      "cell_type": "code",
      "metadata": {
        "id": "QPHi-RmZzEyw"
      },
      "source": [
        "df['event_hour'] = df['event_timestamp'].dt.hour"
      ],
      "execution_count": 218,
      "outputs": []
    },
    {
      "cell_type": "code",
      "metadata": {
        "colab": {
          "base_uri": "https://localhost:8080/",
          "height": 204
        },
        "id": "sSOuMcPrzTX0",
        "outputId": "9491cc2c-4152-4803-ff70-c9f152b80fa2"
      },
      "source": [
        "df.head()"
      ],
      "execution_count": 219,
      "outputs": [
        {
          "output_type": "execute_result",
          "data": {
            "text/html": [
              "<div>\n",
              "<style scoped>\n",
              "    .dataframe tbody tr th:only-of-type {\n",
              "        vertical-align: middle;\n",
              "    }\n",
              "\n",
              "    .dataframe tbody tr th {\n",
              "        vertical-align: top;\n",
              "    }\n",
              "\n",
              "    .dataframe thead th {\n",
              "        text-align: right;\n",
              "    }\n",
              "</style>\n",
              "<table border=\"1\" class=\"dataframe\">\n",
              "  <thead>\n",
              "    <tr style=\"text-align: right;\">\n",
              "      <th></th>\n",
              "      <th>event_code</th>\n",
              "      <th>event_timestamp</th>\n",
              "      <th>user_id</th>\n",
              "      <th>product_id</th>\n",
              "      <th>event_hour</th>\n",
              "    </tr>\n",
              "  </thead>\n",
              "  <tbody>\n",
              "    <tr>\n",
              "      <th>0</th>\n",
              "      <td>2</td>\n",
              "      <td>2020-11-29 20:04:54+00:00</td>\n",
              "      <td>13fe7bed08c78ca6f563430b4fd284a1</td>\n",
              "      <td>cc5d78fc86ca1ea6dab7595d8b09a030</td>\n",
              "      <td>20</td>\n",
              "    </tr>\n",
              "    <tr>\n",
              "      <th>1</th>\n",
              "      <td>2</td>\n",
              "      <td>2020-11-29 20:04:59+00:00</td>\n",
              "      <td>f081f5ce4e8bdd61d618bd64f0647e46</td>\n",
              "      <td>7b82f5b46759a9f238982f2a7c367ba1</td>\n",
              "      <td>20</td>\n",
              "    </tr>\n",
              "    <tr>\n",
              "      <th>2</th>\n",
              "      <td>2</td>\n",
              "      <td>2020-11-29 19:58:19+00:00</td>\n",
              "      <td>d43f081630bd3a13518ea950213d7bcf</td>\n",
              "      <td>bf91bb4cd7e62b353232e709a30f52be</td>\n",
              "      <td>19</td>\n",
              "    </tr>\n",
              "    <tr>\n",
              "      <th>3</th>\n",
              "      <td>2</td>\n",
              "      <td>2020-11-29 19:58:34+00:00</td>\n",
              "      <td>5257b92203fd1122a1d9d09e0a236eb2</td>\n",
              "      <td>a1317a5b5531f4dd2d1bbbf9f0ebecca</td>\n",
              "      <td>19</td>\n",
              "    </tr>\n",
              "    <tr>\n",
              "      <th>4</th>\n",
              "      <td>2</td>\n",
              "      <td>2020-11-29 19:58:44+00:00</td>\n",
              "      <td>0434613b9d24b9f475bde53472787825</td>\n",
              "      <td>0b3ffd66553d9a2440b1ff8500b6b686</td>\n",
              "      <td>19</td>\n",
              "    </tr>\n",
              "  </tbody>\n",
              "</table>\n",
              "</div>"
            ],
            "text/plain": [
              "   event_code  ... event_hour\n",
              "0           2  ...         20\n",
              "1           2  ...         20\n",
              "2           2  ...         19\n",
              "3           2  ...         19\n",
              "4           2  ...         19\n",
              "\n",
              "[5 rows x 5 columns]"
            ]
          },
          "metadata": {},
          "execution_count": 219
        }
      ]
    },
    {
      "cell_type": "code",
      "metadata": {
        "colab": {
          "base_uri": "https://localhost:8080/"
        },
        "id": "XSMm0tyWzEuJ",
        "outputId": "53b19960-9739-49e6-d872-39eb5b0ca4c2"
      },
      "source": [
        "df.info()"
      ],
      "execution_count": 220,
      "outputs": [
        {
          "output_type": "stream",
          "name": "stdout",
          "text": [
            "<class 'pandas.core.frame.DataFrame'>\n",
            "RangeIndex: 1265614 entries, 0 to 1265613\n",
            "Data columns (total 5 columns):\n",
            " #   Column           Non-Null Count    Dtype              \n",
            "---  ------           --------------    -----              \n",
            " 0   event_code       1265614 non-null  int64              \n",
            " 1   event_timestamp  1265614 non-null  datetime64[ns, UTC]\n",
            " 2   user_id          1265614 non-null  object             \n",
            " 3   product_id       1152471 non-null  object             \n",
            " 4   event_hour       1265614 non-null  int64              \n",
            "dtypes: datetime64[ns, UTC](1), int64(2), object(2)\n",
            "memory usage: 48.3+ MB\n"
          ]
        }
      ]
    },
    {
      "cell_type": "code",
      "metadata": {
        "colab": {
          "base_uri": "https://localhost:8080/"
        },
        "id": "JDZnCXXZxF53",
        "outputId": "190c6323-5aeb-4f8a-e69a-ccadf45d8f98"
      },
      "source": [
        "df.isnull().sum()"
      ],
      "execution_count": 221,
      "outputs": [
        {
          "output_type": "execute_result",
          "data": {
            "text/plain": [
              "event_code              0\n",
              "event_timestamp         0\n",
              "user_id                 0\n",
              "product_id         113143\n",
              "event_hour              0\n",
              "dtype: int64"
            ]
          },
          "metadata": {},
          "execution_count": 221
        }
      ]
    },
    {
      "cell_type": "markdown",
      "metadata": {
        "id": "aNbcqpgsxNo7"
      },
      "source": [
        "113143 nulls found in the `product_id` feature. These nulls only occur for the `event_code`= 1 events."
      ]
    },
    {
      "cell_type": "code",
      "metadata": {
        "colab": {
          "base_uri": "https://localhost:8080/"
        },
        "id": "JVYDjghHxd3q",
        "outputId": "fa217e16-f00d-46f6-bbd7-5b2b2bfb1ad9"
      },
      "source": [
        "pct_total = sum(df['product_id'].isnull())/len(df)\n",
        "pct_total"
      ],
      "execution_count": 222,
      "outputs": [
        {
          "output_type": "execute_result",
          "data": {
            "text/plain": [
              "0.08939771525915484"
            ]
          },
          "metadata": {},
          "execution_count": 222
        }
      ]
    },
    {
      "cell_type": "markdown",
      "metadata": {
        "id": "jMmX2E7G7hGO"
      },
      "source": [
        "Get value counts for each feature..."
      ]
    },
    {
      "cell_type": "code",
      "metadata": {
        "id": "DEXJ7-tw66k7",
        "colab": {
          "base_uri": "https://localhost:8080/"
        },
        "outputId": "fc8b9535-4d1b-4849-9916-3fb74343e7ad"
      },
      "source": [
        "df['event_code'].value_counts()\n"
      ],
      "execution_count": 223,
      "outputs": [
        {
          "output_type": "execute_result",
          "data": {
            "text/plain": [
              "2    1108507\n",
              "1     113143\n",
              "3      43964\n",
              "Name: event_code, dtype: int64"
            ]
          },
          "metadata": {},
          "execution_count": 223
        }
      ]
    },
    {
      "cell_type": "code",
      "metadata": {
        "colab": {
          "base_uri": "https://localhost:8080/"
        },
        "id": "HV9mTPzn7vEh",
        "outputId": "f11f230a-78ab-48ed-9ce1-dd4cb5e8c449"
      },
      "source": [
        "df['product_id'].value_counts()"
      ],
      "execution_count": 224,
      "outputs": [
        {
          "output_type": "execute_result",
          "data": {
            "text/plain": [
              "941e2727e3c31d1ff974a8433d1cb4b3    1073\n",
              "0437700657ed3847e99d97bd34bc937c     516\n",
              "0dcb511d0224643296d15f25db78bec1     239\n",
              "953b527ac3bcea845a5469c73c10f35d      72\n",
              "fe57a0cbf58a87ca1916215e6f984892      56\n",
              "                                    ... \n",
              "80648fe130d6ad5358b919d8dc71e473       1\n",
              "699592ee8cc221f9fa28397d4183b3db       1\n",
              "10be11d4ae425744c45a6ff9911e18da       1\n",
              "16cebbec47af3f66bc8ad845c94ab51c       1\n",
              "798b9e76e1a6c947d242acb6fa64c3ca       1\n",
              "Name: product_id, Length: 814313, dtype: int64"
            ]
          },
          "metadata": {},
          "execution_count": 224
        }
      ]
    },
    {
      "cell_type": "markdown",
      "metadata": {
        "id": "JN2KtAKn8Fyc"
      },
      "source": [
        "We have 814313 unique `product_id`s."
      ]
    },
    {
      "cell_type": "code",
      "metadata": {
        "colab": {
          "base_uri": "https://localhost:8080/"
        },
        "id": "A6YlgWVO8T67",
        "outputId": "073124f0-8ac9-4c95-8247-e5ef14be42dd"
      },
      "source": [
        "df['user_id'].value_counts()"
      ],
      "execution_count": 225,
      "outputs": [
        {
          "output_type": "execute_result",
          "data": {
            "text/plain": [
              "37a6259cc0c1dae299a7866489dff0bd    153034\n",
              "f460272f363fa96fccd7b997d37e107c       887\n",
              "033ea91087ca037570781bfba82149c4       846\n",
              "d4489e6c512a746c16d72ed2562a246c       742\n",
              "3e932b9b3de21ea6e61a088b8075c678       739\n",
              "                                     ...  \n",
              "2c0a95863fd53b19759f6eb6d48095bb         1\n",
              "ab59f9afeac923c5f90fc94e4b9b0aec         1\n",
              "339b6eaaa3c0b38320bbe26fbbe57f68         1\n",
              "f3456785eae9e26b0189b804d8501484         1\n",
              "e62162754c8981b1b4cc52c6cb3aebeb         1\n",
              "Name: user_id, Length: 222194, dtype: int64"
            ]
          },
          "metadata": {},
          "execution_count": 225
        }
      ]
    },
    {
      "cell_type": "markdown",
      "metadata": {
        "id": "VQmHSAM38avi"
      },
      "source": [
        "We have 222194 unique `user_id`s."
      ]
    },
    {
      "cell_type": "code",
      "metadata": {
        "colab": {
          "base_uri": "https://localhost:8080/"
        },
        "id": "vc_pPVFB1SIQ",
        "outputId": "6c96c66c-ac72-4941-ebea-b7bffee26d81"
      },
      "source": [
        "df['event_hour'].value_counts()"
      ],
      "execution_count": 240,
      "outputs": [
        {
          "output_type": "execute_result",
          "data": {
            "text/plain": [
              "2     82482\n",
              "3     79082\n",
              "1     77846\n",
              "4     70335\n",
              "20    68879\n",
              "0     67996\n",
              "18    67120\n",
              "19    66438\n",
              "21    65338\n",
              "17    64417\n",
              "23    63844\n",
              "22    62793\n",
              "16    62197\n",
              "15    59049\n",
              "5     56240\n",
              "14    52128\n",
              "6     41350\n",
              "13    38248\n",
              "7     29230\n",
              "12    24922\n",
              "8     20407\n",
              "11    16711\n",
              "9     14963\n",
              "10    13599\n",
              "Name: event_hour, dtype: int64"
            ]
          },
          "metadata": {},
          "execution_count": 240
        }
      ]
    },
    {
      "cell_type": "markdown",
      "metadata": {
        "id": "9XbJxTY_2M3m"
      },
      "source": [
        "The data show that most events occur between 2 AM and 3 AM UTC time. This converts to 9 PM to 10 PM EST. This would make sense since most on-line browsing and purchases occur during the evening hours."
      ]
    },
    {
      "cell_type": "markdown",
      "metadata": {
        "id": "XxZ1egNk9DSb"
      },
      "source": [
        "Let's calculate the `Search` to `Product_View` conversion rate"
      ]
    },
    {
      "cell_type": "code",
      "metadata": {
        "colab": {
          "base_uri": "https://localhost:8080/"
        },
        "id": "e0-yNFjr92_1",
        "outputId": "be2eaec5-fd3d-46ae-df24-5fb0b76fd589"
      },
      "source": [
        "search_to_product_view_conv_rate = len(df[df['event_code']==2])/len(df)\n",
        "search_to_product_view_conv_rate"
      ],
      "execution_count": 226,
      "outputs": [
        {
          "output_type": "execute_result",
          "data": {
            "text/plain": [
              "0.8758649951723038"
            ]
          },
          "metadata": {},
          "execution_count": 226
        }
      ]
    },
    {
      "cell_type": "markdown",
      "metadata": {
        "id": "58XmEEj3XEuO"
      },
      "source": [
        "After performing a search, there is a  88% chance that a user will click on a `product_view`."
      ]
    },
    {
      "cell_type": "markdown",
      "metadata": {
        "id": "zT75LIgdTdl1"
      },
      "source": [
        "Let's calculate the `Product_View` to `Order_Complete` conversion rate"
      ]
    },
    {
      "cell_type": "code",
      "metadata": {
        "colab": {
          "base_uri": "https://localhost:8080/"
        },
        "id": "wzfmpZ9wPbUz",
        "outputId": "dc63408a-a122-4ca1-84ab-44ffb09cc487"
      },
      "source": [
        "product_view_to_order_complete_conv_rate = len(df[df['event_code']==3])/len(df[df['event_code']==2])\n",
        "product_view_to_order_complete_conv_rate"
      ],
      "execution_count": 227,
      "outputs": [
        {
          "output_type": "execute_result",
          "data": {
            "text/plain": [
              "0.039660552436746"
            ]
          },
          "metadata": {},
          "execution_count": 227
        }
      ]
    },
    {
      "cell_type": "markdown",
      "metadata": {
        "id": "gP2EpgztXS86"
      },
      "source": [
        "After clicking on a `product_view`, there is a 4% chance that a user will complete an order."
      ]
    },
    {
      "cell_type": "markdown",
      "metadata": {
        "id": "izV623ohYZB2"
      },
      "source": [
        "How are Customers searching and buying various products?"
      ]
    },
    {
      "cell_type": "code",
      "metadata": {
        "colab": {
          "base_uri": "https://localhost:8080/",
          "height": 204
        },
        "id": "7V6O7t4oYi1t",
        "outputId": "75a615c7-dd85-4549-cbee-6cd61e30fb41"
      },
      "source": [
        "event_code_product_id = df.groupby(['product_id','event_code']).count()\\\n",
        "  .sort_values('event_timestamp',ascending=False)\\\n",
        "  .rename(columns={'event_timestamp':'count'}).drop(['user_id','event_hour'],axis=1).reset_index()\n",
        "\n",
        "event_code_product_id.head()"
      ],
      "execution_count": 228,
      "outputs": [
        {
          "output_type": "execute_result",
          "data": {
            "text/html": [
              "<div>\n",
              "<style scoped>\n",
              "    .dataframe tbody tr th:only-of-type {\n",
              "        vertical-align: middle;\n",
              "    }\n",
              "\n",
              "    .dataframe tbody tr th {\n",
              "        vertical-align: top;\n",
              "    }\n",
              "\n",
              "    .dataframe thead th {\n",
              "        text-align: right;\n",
              "    }\n",
              "</style>\n",
              "<table border=\"1\" class=\"dataframe\">\n",
              "  <thead>\n",
              "    <tr style=\"text-align: right;\">\n",
              "      <th></th>\n",
              "      <th>product_id</th>\n",
              "      <th>event_code</th>\n",
              "      <th>count</th>\n",
              "    </tr>\n",
              "  </thead>\n",
              "  <tbody>\n",
              "    <tr>\n",
              "      <th>0</th>\n",
              "      <td>941e2727e3c31d1ff974a8433d1cb4b3</td>\n",
              "      <td>2</td>\n",
              "      <td>1073</td>\n",
              "    </tr>\n",
              "    <tr>\n",
              "      <th>1</th>\n",
              "      <td>0437700657ed3847e99d97bd34bc937c</td>\n",
              "      <td>2</td>\n",
              "      <td>516</td>\n",
              "    </tr>\n",
              "    <tr>\n",
              "      <th>2</th>\n",
              "      <td>0dcb511d0224643296d15f25db78bec1</td>\n",
              "      <td>2</td>\n",
              "      <td>239</td>\n",
              "    </tr>\n",
              "    <tr>\n",
              "      <th>3</th>\n",
              "      <td>953b527ac3bcea845a5469c73c10f35d</td>\n",
              "      <td>2</td>\n",
              "      <td>72</td>\n",
              "    </tr>\n",
              "    <tr>\n",
              "      <th>4</th>\n",
              "      <td>fe57a0cbf58a87ca1916215e6f984892</td>\n",
              "      <td>2</td>\n",
              "      <td>56</td>\n",
              "    </tr>\n",
              "  </tbody>\n",
              "</table>\n",
              "</div>"
            ],
            "text/plain": [
              "                         product_id  event_code  count\n",
              "0  941e2727e3c31d1ff974a8433d1cb4b3           2   1073\n",
              "1  0437700657ed3847e99d97bd34bc937c           2    516\n",
              "2  0dcb511d0224643296d15f25db78bec1           2    239\n",
              "3  953b527ac3bcea845a5469c73c10f35d           2     72\n",
              "4  fe57a0cbf58a87ca1916215e6f984892           2     56"
            ]
          },
          "metadata": {},
          "execution_count": 228
        }
      ]
    },
    {
      "cell_type": "markdown",
      "metadata": {
        "id": "J7W8HyTwcorF"
      },
      "source": [
        "Top 10 `product_ids` by `Product_View`"
      ]
    },
    {
      "cell_type": "code",
      "metadata": {
        "colab": {
          "base_uri": "https://localhost:8080/",
          "height": 359
        },
        "id": "QfHMWMPec3rO",
        "outputId": "b2ad1631-f4f0-4ff9-cc73-0fe48e9ba6f5"
      },
      "source": [
        "product_id_product_view = event_code_product_id[event_code_product_id['event_code']==2].head(10)\n",
        "product_id_product_view"
      ],
      "execution_count": 229,
      "outputs": [
        {
          "output_type": "execute_result",
          "data": {
            "text/html": [
              "<div>\n",
              "<style scoped>\n",
              "    .dataframe tbody tr th:only-of-type {\n",
              "        vertical-align: middle;\n",
              "    }\n",
              "\n",
              "    .dataframe tbody tr th {\n",
              "        vertical-align: top;\n",
              "    }\n",
              "\n",
              "    .dataframe thead th {\n",
              "        text-align: right;\n",
              "    }\n",
              "</style>\n",
              "<table border=\"1\" class=\"dataframe\">\n",
              "  <thead>\n",
              "    <tr style=\"text-align: right;\">\n",
              "      <th></th>\n",
              "      <th>product_id</th>\n",
              "      <th>event_code</th>\n",
              "      <th>count</th>\n",
              "    </tr>\n",
              "  </thead>\n",
              "  <tbody>\n",
              "    <tr>\n",
              "      <th>0</th>\n",
              "      <td>941e2727e3c31d1ff974a8433d1cb4b3</td>\n",
              "      <td>2</td>\n",
              "      <td>1073</td>\n",
              "    </tr>\n",
              "    <tr>\n",
              "      <th>1</th>\n",
              "      <td>0437700657ed3847e99d97bd34bc937c</td>\n",
              "      <td>2</td>\n",
              "      <td>516</td>\n",
              "    </tr>\n",
              "    <tr>\n",
              "      <th>2</th>\n",
              "      <td>0dcb511d0224643296d15f25db78bec1</td>\n",
              "      <td>2</td>\n",
              "      <td>239</td>\n",
              "    </tr>\n",
              "    <tr>\n",
              "      <th>3</th>\n",
              "      <td>953b527ac3bcea845a5469c73c10f35d</td>\n",
              "      <td>2</td>\n",
              "      <td>72</td>\n",
              "    </tr>\n",
              "    <tr>\n",
              "      <th>4</th>\n",
              "      <td>fe57a0cbf58a87ca1916215e6f984892</td>\n",
              "      <td>2</td>\n",
              "      <td>56</td>\n",
              "    </tr>\n",
              "    <tr>\n",
              "      <th>5</th>\n",
              "      <td>538a004b9a3f3bdcfb9c3e541cc5028a</td>\n",
              "      <td>2</td>\n",
              "      <td>38</td>\n",
              "    </tr>\n",
              "    <tr>\n",
              "      <th>6</th>\n",
              "      <td>c3fc0f28899397acdb90a2044b656ae8</td>\n",
              "      <td>2</td>\n",
              "      <td>36</td>\n",
              "    </tr>\n",
              "    <tr>\n",
              "      <th>7</th>\n",
              "      <td>ed6612c3e7ced2398b46588d878fbafa</td>\n",
              "      <td>2</td>\n",
              "      <td>36</td>\n",
              "    </tr>\n",
              "    <tr>\n",
              "      <th>8</th>\n",
              "      <td>f82feff59a02a5617b5ce59025ab33e7</td>\n",
              "      <td>2</td>\n",
              "      <td>35</td>\n",
              "    </tr>\n",
              "    <tr>\n",
              "      <th>9</th>\n",
              "      <td>0339499794d659877c2c3b3c573d3686</td>\n",
              "      <td>2</td>\n",
              "      <td>34</td>\n",
              "    </tr>\n",
              "  </tbody>\n",
              "</table>\n",
              "</div>"
            ],
            "text/plain": [
              "                         product_id  event_code  count\n",
              "0  941e2727e3c31d1ff974a8433d1cb4b3           2   1073\n",
              "1  0437700657ed3847e99d97bd34bc937c           2    516\n",
              "2  0dcb511d0224643296d15f25db78bec1           2    239\n",
              "3  953b527ac3bcea845a5469c73c10f35d           2     72\n",
              "4  fe57a0cbf58a87ca1916215e6f984892           2     56\n",
              "5  538a004b9a3f3bdcfb9c3e541cc5028a           2     38\n",
              "6  c3fc0f28899397acdb90a2044b656ae8           2     36\n",
              "7  ed6612c3e7ced2398b46588d878fbafa           2     36\n",
              "8  f82feff59a02a5617b5ce59025ab33e7           2     35\n",
              "9  0339499794d659877c2c3b3c573d3686           2     34"
            ]
          },
          "metadata": {},
          "execution_count": 229
        }
      ]
    },
    {
      "cell_type": "code",
      "metadata": {
        "colab": {
          "base_uri": "https://localhost:8080/",
          "height": 644
        },
        "id": "w50ZkNplekA1",
        "outputId": "6d3b1d36-b4d5-43b2-a6bc-f2b8acb7dfb0"
      },
      "source": [
        "sns.set_theme(style=\"whitegrid\")\n",
        "sns.set(rc = {'figure.figsize':(15,10)})\n",
        "ax = sns.barplot(x=\"count\", y=\"product_id\", data=product_id_product_view)\n",
        "ax.set_title('Top 10 Product_IDs viewed in Search')"
      ],
      "execution_count": 230,
      "outputs": [
        {
          "output_type": "execute_result",
          "data": {
            "text/plain": [
              "Text(0.5, 1.0, 'Top 10 Product_IDs viewed in Search')"
            ]
          },
          "metadata": {},
          "execution_count": 230
        },
        {
          "output_type": "display_data",
          "data": {
            "image/png": "[encoded data removed]",
            "text/plain": [
              "<Figure size 1080x720 with 1 Axes>"
            ]
          },
          "metadata": {}
        }
      ]
    },
    {
      "cell_type": "markdown",
      "metadata": {
        "id": "JO6IwAvadLGv"
      },
      "source": [
        "Top 10 `product_ids` by `Order_Complete`"
      ]
    },
    {
      "cell_type": "code",
      "metadata": {
        "colab": {
          "base_uri": "https://localhost:8080/",
          "height": 359
        },
        "id": "CT8u3VDpdbB_",
        "outputId": "d61d0c7e-4696-415d-9e56-4489bc42ff0e"
      },
      "source": [
        "product_id_order_complete = event_code_product_id[event_code_product_id['event_code']==3].head(10)\n",
        "product_id_order_complete"
      ],
      "execution_count": 231,
      "outputs": [
        {
          "output_type": "execute_result",
          "data": {
            "text/html": [
              "<div>\n",
              "<style scoped>\n",
              "    .dataframe tbody tr th:only-of-type {\n",
              "        vertical-align: middle;\n",
              "    }\n",
              "\n",
              "    .dataframe tbody tr th {\n",
              "        vertical-align: top;\n",
              "    }\n",
              "\n",
              "    .dataframe thead th {\n",
              "        text-align: right;\n",
              "    }\n",
              "</style>\n",
              "<table border=\"1\" class=\"dataframe\">\n",
              "  <thead>\n",
              "    <tr style=\"text-align: right;\">\n",
              "      <th></th>\n",
              "      <th>product_id</th>\n",
              "      <th>event_code</th>\n",
              "      <th>count</th>\n",
              "    </tr>\n",
              "  </thead>\n",
              "  <tbody>\n",
              "    <tr>\n",
              "      <th>671</th>\n",
              "      <td>5dfc7eeb2e6b7eedbcfab1c1300e1651</td>\n",
              "      <td>3</td>\n",
              "      <td>10</td>\n",
              "    </tr>\n",
              "    <tr>\n",
              "      <th>1401</th>\n",
              "      <td>ce791b58226735543a441f6298225c89</td>\n",
              "      <td>3</td>\n",
              "      <td>8</td>\n",
              "    </tr>\n",
              "    <tr>\n",
              "      <th>1416</th>\n",
              "      <td>5383fd2c284529baf7a325be4bc7bfec</td>\n",
              "      <td>3</td>\n",
              "      <td>8</td>\n",
              "    </tr>\n",
              "    <tr>\n",
              "      <th>1868</th>\n",
              "      <td>27ca9bc27aaa03262b233e09347ca2df</td>\n",
              "      <td>3</td>\n",
              "      <td>8</td>\n",
              "    </tr>\n",
              "    <tr>\n",
              "      <th>2110</th>\n",
              "      <td>df96f9e52177728cc4b01e9ec1fff5fa</td>\n",
              "      <td>3</td>\n",
              "      <td>8</td>\n",
              "    </tr>\n",
              "    <tr>\n",
              "      <th>2270</th>\n",
              "      <td>e600f5408df18f1cd253f55de1ee1ac4</td>\n",
              "      <td>3</td>\n",
              "      <td>7</td>\n",
              "    </tr>\n",
              "    <tr>\n",
              "      <th>3413</th>\n",
              "      <td>e707c00ea56170cd9e9d77b0487c8b6f</td>\n",
              "      <td>3</td>\n",
              "      <td>7</td>\n",
              "    </tr>\n",
              "    <tr>\n",
              "      <th>5784</th>\n",
              "      <td>55d95b96a80f1faeef7ba05b827fafe7</td>\n",
              "      <td>3</td>\n",
              "      <td>6</td>\n",
              "    </tr>\n",
              "    <tr>\n",
              "      <th>5888</th>\n",
              "      <td>981de7e445692f2f5300a2cebcd43abb</td>\n",
              "      <td>3</td>\n",
              "      <td>6</td>\n",
              "    </tr>\n",
              "    <tr>\n",
              "      <th>6368</th>\n",
              "      <td>d5e28fb0e05ee7221e7500b59c216cc9</td>\n",
              "      <td>3</td>\n",
              "      <td>6</td>\n",
              "    </tr>\n",
              "  </tbody>\n",
              "</table>\n",
              "</div>"
            ],
            "text/plain": [
              "                            product_id  event_code  count\n",
              "671   5dfc7eeb2e6b7eedbcfab1c1300e1651           3     10\n",
              "1401  ce791b58226735543a441f6298225c89           3      8\n",
              "1416  5383fd2c284529baf7a325be4bc7bfec           3      8\n",
              "1868  27ca9bc27aaa03262b233e09347ca2df           3      8\n",
              "2110  df96f9e52177728cc4b01e9ec1fff5fa           3      8\n",
              "2270  e600f5408df18f1cd253f55de1ee1ac4           3      7\n",
              "3413  e707c00ea56170cd9e9d77b0487c8b6f           3      7\n",
              "5784  55d95b96a80f1faeef7ba05b827fafe7           3      6\n",
              "5888  981de7e445692f2f5300a2cebcd43abb           3      6\n",
              "6368  d5e28fb0e05ee7221e7500b59c216cc9           3      6"
            ]
          },
          "metadata": {},
          "execution_count": 231
        }
      ]
    },
    {
      "cell_type": "code",
      "metadata": {
        "colab": {
          "base_uri": "https://localhost:8080/",
          "height": 644
        },
        "id": "JYj9jHoAftBB",
        "outputId": "e3845c2e-504b-4bec-fe39-cb935e4e7b70"
      },
      "source": [
        "sns.set_theme(style=\"whitegrid\")\n",
        "sns.set(rc = {'figure.figsize':(15,10)})\n",
        "ax = sns.barplot(x=\"count\", y=\"product_id\", data=product_id_order_complete)\n",
        "ax.set_title('Top 10 Product_IDs Purchased')"
      ],
      "execution_count": 232,
      "outputs": [
        {
          "output_type": "execute_result",
          "data": {
            "text/plain": [
              "Text(0.5, 1.0, 'Top 10 Product_IDs Purchased')"
            ]
          },
          "metadata": {},
          "execution_count": 232
        },
        {
          "output_type": "display_data",
          "data": {
            "image/png": "[encoded data removed]",
            "text/plain": [
              "<Figure size 1080x720 with 1 Axes>"
            ]
          },
          "metadata": {}
        }
      ]
    },
    {
      "cell_type": "markdown",
      "metadata": {
        "id": "e2QLlw_Pzsqk"
      },
      "source": [
        "Let's determine which hours have the highest product searches and product purchases."
      ]
    },
    {
      "cell_type": "code",
      "metadata": {
        "colab": {
          "base_uri": "https://localhost:8080/",
          "height": 793
        },
        "id": "mL_OQEMl0Jz6",
        "outputId": "b4ec90b0-8b6d-4325-f700-286566094389"
      },
      "source": [
        "product_searches = df[df['event_code']==2]\n",
        "product_searches_by_hour = product_searches.groupby(['event_hour']).count().drop(['event_timestamp','user_id','product_id'],axis=1)\\\n",
        "    .sort_values(by='event_code',ascending=False).reset_index().rename(columns={'event_hour':'hour_of_day','event_code':'product_search_count'})\n",
        "product_searches_by_hour.head(24)"
      ],
      "execution_count": 254,
      "outputs": [
        {
          "output_type": "execute_result",
          "data": {
            "text/html": [
              "<div>\n",
              "<style scoped>\n",
              "    .dataframe tbody tr th:only-of-type {\n",
              "        vertical-align: middle;\n",
              "    }\n",
              "\n",
              "    .dataframe tbody tr th {\n",
              "        vertical-align: top;\n",
              "    }\n",
              "\n",
              "    .dataframe thead th {\n",
              "        text-align: right;\n",
              "    }\n",
              "</style>\n",
              "<table border=\"1\" class=\"dataframe\">\n",
              "  <thead>\n",
              "    <tr style=\"text-align: right;\">\n",
              "      <th></th>\n",
              "      <th>hour_of_day</th>\n",
              "      <th>product_search_count</th>\n",
              "    </tr>\n",
              "  </thead>\n",
              "  <tbody>\n",
              "    <tr>\n",
              "      <th>0</th>\n",
              "      <td>2</td>\n",
              "      <td>72583</td>\n",
              "    </tr>\n",
              "    <tr>\n",
              "      <th>1</th>\n",
              "      <td>3</td>\n",
              "      <td>69679</td>\n",
              "    </tr>\n",
              "    <tr>\n",
              "      <th>2</th>\n",
              "      <td>1</td>\n",
              "      <td>68770</td>\n",
              "    </tr>\n",
              "    <tr>\n",
              "      <th>3</th>\n",
              "      <td>4</td>\n",
              "      <td>62196</td>\n",
              "    </tr>\n",
              "    <tr>\n",
              "      <th>4</th>\n",
              "      <td>0</td>\n",
              "      <td>59681</td>\n",
              "    </tr>\n",
              "    <tr>\n",
              "      <th>5</th>\n",
              "      <td>20</td>\n",
              "      <td>59505</td>\n",
              "    </tr>\n",
              "    <tr>\n",
              "      <th>6</th>\n",
              "      <td>18</td>\n",
              "      <td>58187</td>\n",
              "    </tr>\n",
              "    <tr>\n",
              "      <th>7</th>\n",
              "      <td>19</td>\n",
              "      <td>57420</td>\n",
              "    </tr>\n",
              "    <tr>\n",
              "      <th>8</th>\n",
              "      <td>21</td>\n",
              "      <td>56538</td>\n",
              "    </tr>\n",
              "    <tr>\n",
              "      <th>9</th>\n",
              "      <td>17</td>\n",
              "      <td>55858</td>\n",
              "    </tr>\n",
              "    <tr>\n",
              "      <th>10</th>\n",
              "      <td>23</td>\n",
              "      <td>55606</td>\n",
              "    </tr>\n",
              "    <tr>\n",
              "      <th>11</th>\n",
              "      <td>22</td>\n",
              "      <td>54410</td>\n",
              "    </tr>\n",
              "    <tr>\n",
              "      <th>12</th>\n",
              "      <td>16</td>\n",
              "      <td>54048</td>\n",
              "    </tr>\n",
              "    <tr>\n",
              "      <th>13</th>\n",
              "      <td>15</td>\n",
              "      <td>51353</td>\n",
              "    </tr>\n",
              "    <tr>\n",
              "      <th>14</th>\n",
              "      <td>5</td>\n",
              "      <td>49662</td>\n",
              "    </tr>\n",
              "    <tr>\n",
              "      <th>15</th>\n",
              "      <td>14</td>\n",
              "      <td>45581</td>\n",
              "    </tr>\n",
              "    <tr>\n",
              "      <th>16</th>\n",
              "      <td>6</td>\n",
              "      <td>36517</td>\n",
              "    </tr>\n",
              "    <tr>\n",
              "      <th>17</th>\n",
              "      <td>13</td>\n",
              "      <td>33997</td>\n",
              "    </tr>\n",
              "    <tr>\n",
              "      <th>18</th>\n",
              "      <td>7</td>\n",
              "      <td>25967</td>\n",
              "    </tr>\n",
              "    <tr>\n",
              "      <th>19</th>\n",
              "      <td>12</td>\n",
              "      <td>22258</td>\n",
              "    </tr>\n",
              "    <tr>\n",
              "      <th>20</th>\n",
              "      <td>8</td>\n",
              "      <td>18107</td>\n",
              "    </tr>\n",
              "    <tr>\n",
              "      <th>21</th>\n",
              "      <td>11</td>\n",
              "      <td>15007</td>\n",
              "    </tr>\n",
              "    <tr>\n",
              "      <th>22</th>\n",
              "      <td>9</td>\n",
              "      <td>13384</td>\n",
              "    </tr>\n",
              "    <tr>\n",
              "      <th>23</th>\n",
              "      <td>10</td>\n",
              "      <td>12193</td>\n",
              "    </tr>\n",
              "  </tbody>\n",
              "</table>\n",
              "</div>"
            ],
            "text/plain": [
              "    hour_of_day  product_search_count\n",
              "0             2                 72583\n",
              "1             3                 69679\n",
              "2             1                 68770\n",
              "3             4                 62196\n",
              "4             0                 59681\n",
              "5            20                 59505\n",
              "6            18                 58187\n",
              "7            19                 57420\n",
              "8            21                 56538\n",
              "9            17                 55858\n",
              "10           23                 55606\n",
              "11           22                 54410\n",
              "12           16                 54048\n",
              "13           15                 51353\n",
              "14            5                 49662\n",
              "15           14                 45581\n",
              "16            6                 36517\n",
              "17           13                 33997\n",
              "18            7                 25967\n",
              "19           12                 22258\n",
              "20            8                 18107\n",
              "21           11                 15007\n",
              "22            9                 13384\n",
              "23           10                 12193"
            ]
          },
          "metadata": {},
          "execution_count": 254
        }
      ]
    },
    {
      "cell_type": "code",
      "metadata": {
        "colab": {
          "base_uri": "https://localhost:8080/",
          "height": 644
        },
        "id": "Lvq2713r60H0",
        "outputId": "99df4f32-31c9-4ef5-e8c4-e3c5c7348210"
      },
      "source": [
        "sns.set_theme(style=\"whitegrid\")\n",
        "sns.set(rc = {'figure.figsize':(15,10)})\n",
        "ax = sns.barplot(x=\"hour_of_day\", y=\"product_search_count\", data=product_searches_by_hour)\n",
        "ax.set_title('Product Search Count by Hour of Day (UTC)')"
      ],
      "execution_count": 263,
      "outputs": [
        {
          "output_type": "execute_result",
          "data": {
            "text/plain": [
              "Text(0.5, 1.0, 'Product Search Count by Hour of Day (UTC)')"
            ]
          },
          "metadata": {},
          "execution_count": 263
        },
        {
          "output_type": "display_data",
          "data": {
            "image/png": "[encoded data removed]",
            "text/plain": [
              "<Figure size 1080x720 with 1 Axes>"
            ]
          },
          "metadata": {}
        }
      ]
    },
    {
      "cell_type": "code",
      "metadata": {
        "colab": {
          "base_uri": "https://localhost:8080/",
          "height": 793
        },
        "id": "rKArS3F44IRH",
        "outputId": "816a55c6-e990-46e8-9911-bf887e970279"
      },
      "source": [
        "product_purchases = df[df['event_code']==3]\n",
        "product_purchases_by_hour = product_purchases.groupby(['event_hour']).count().drop(['event_timestamp','user_id','product_id'],axis=1)\\\n",
        "  .sort_values(by='event_code', ascending=False).reset_index().rename(columns={'event_hour':'hour_of_day','event_code':'purchase_count'})\n",
        "product_purchases_by_hour.head(24)"
      ],
      "execution_count": 256,
      "outputs": [
        {
          "output_type": "execute_result",
          "data": {
            "text/html": [
              "<div>\n",
              "<style scoped>\n",
              "    .dataframe tbody tr th:only-of-type {\n",
              "        vertical-align: middle;\n",
              "    }\n",
              "\n",
              "    .dataframe tbody tr th {\n",
              "        vertical-align: top;\n",
              "    }\n",
              "\n",
              "    .dataframe thead th {\n",
              "        text-align: right;\n",
              "    }\n",
              "</style>\n",
              "<table border=\"1\" class=\"dataframe\">\n",
              "  <thead>\n",
              "    <tr style=\"text-align: right;\">\n",
              "      <th></th>\n",
              "      <th>hour_of_day</th>\n",
              "      <th>purchase_count</th>\n",
              "    </tr>\n",
              "  </thead>\n",
              "  <tbody>\n",
              "    <tr>\n",
              "      <th>0</th>\n",
              "      <td>20</td>\n",
              "      <td>2737</td>\n",
              "    </tr>\n",
              "    <tr>\n",
              "      <th>1</th>\n",
              "      <td>18</td>\n",
              "      <td>2679</td>\n",
              "    </tr>\n",
              "    <tr>\n",
              "      <th>2</th>\n",
              "      <td>2</td>\n",
              "      <td>2657</td>\n",
              "    </tr>\n",
              "    <tr>\n",
              "      <th>3</th>\n",
              "      <td>16</td>\n",
              "      <td>2593</td>\n",
              "    </tr>\n",
              "    <tr>\n",
              "      <th>4</th>\n",
              "      <td>15</td>\n",
              "      <td>2570</td>\n",
              "    </tr>\n",
              "    <tr>\n",
              "      <th>5</th>\n",
              "      <td>19</td>\n",
              "      <td>2536</td>\n",
              "    </tr>\n",
              "    <tr>\n",
              "      <th>6</th>\n",
              "      <td>17</td>\n",
              "      <td>2532</td>\n",
              "    </tr>\n",
              "    <tr>\n",
              "      <th>7</th>\n",
              "      <td>3</td>\n",
              "      <td>2510</td>\n",
              "    </tr>\n",
              "    <tr>\n",
              "      <th>8</th>\n",
              "      <td>21</td>\n",
              "      <td>2370</td>\n",
              "    </tr>\n",
              "    <tr>\n",
              "      <th>9</th>\n",
              "      <td>22</td>\n",
              "      <td>2276</td>\n",
              "    </tr>\n",
              "    <tr>\n",
              "      <th>10</th>\n",
              "      <td>1</td>\n",
              "      <td>2263</td>\n",
              "    </tr>\n",
              "    <tr>\n",
              "      <th>11</th>\n",
              "      <td>14</td>\n",
              "      <td>2171</td>\n",
              "    </tr>\n",
              "    <tr>\n",
              "      <th>12</th>\n",
              "      <td>23</td>\n",
              "      <td>2168</td>\n",
              "    </tr>\n",
              "    <tr>\n",
              "      <th>13</th>\n",
              "      <td>0</td>\n",
              "      <td>2106</td>\n",
              "    </tr>\n",
              "    <tr>\n",
              "      <th>14</th>\n",
              "      <td>4</td>\n",
              "      <td>2065</td>\n",
              "    </tr>\n",
              "    <tr>\n",
              "      <th>15</th>\n",
              "      <td>5</td>\n",
              "      <td>1742</td>\n",
              "    </tr>\n",
              "    <tr>\n",
              "      <th>16</th>\n",
              "      <td>6</td>\n",
              "      <td>1392</td>\n",
              "    </tr>\n",
              "    <tr>\n",
              "      <th>17</th>\n",
              "      <td>13</td>\n",
              "      <td>1210</td>\n",
              "    </tr>\n",
              "    <tr>\n",
              "      <th>18</th>\n",
              "      <td>7</td>\n",
              "      <td>909</td>\n",
              "    </tr>\n",
              "    <tr>\n",
              "      <th>19</th>\n",
              "      <td>12</td>\n",
              "      <td>684</td>\n",
              "    </tr>\n",
              "    <tr>\n",
              "      <th>20</th>\n",
              "      <td>8</td>\n",
              "      <td>622</td>\n",
              "    </tr>\n",
              "    <tr>\n",
              "      <th>21</th>\n",
              "      <td>11</td>\n",
              "      <td>420</td>\n",
              "    </tr>\n",
              "    <tr>\n",
              "      <th>22</th>\n",
              "      <td>10</td>\n",
              "      <td>376</td>\n",
              "    </tr>\n",
              "    <tr>\n",
              "      <th>23</th>\n",
              "      <td>9</td>\n",
              "      <td>376</td>\n",
              "    </tr>\n",
              "  </tbody>\n",
              "</table>\n",
              "</div>"
            ],
            "text/plain": [
              "    hour_of_day  purchase_count\n",
              "0            20            2737\n",
              "1            18            2679\n",
              "2             2            2657\n",
              "3            16            2593\n",
              "4            15            2570\n",
              "5            19            2536\n",
              "6            17            2532\n",
              "7             3            2510\n",
              "8            21            2370\n",
              "9            22            2276\n",
              "10            1            2263\n",
              "11           14            2171\n",
              "12           23            2168\n",
              "13            0            2106\n",
              "14            4            2065\n",
              "15            5            1742\n",
              "16            6            1392\n",
              "17           13            1210\n",
              "18            7             909\n",
              "19           12             684\n",
              "20            8             622\n",
              "21           11             420\n",
              "22           10             376\n",
              "23            9             376"
            ]
          },
          "metadata": {},
          "execution_count": 256
        }
      ]
    },
    {
      "cell_type": "code",
      "metadata": {
        "colab": {
          "base_uri": "https://localhost:8080/",
          "height": 644
        },
        "id": "HxgV1En27YIH",
        "outputId": "6722c069-4089-4864-a58f-35485b5c8723"
      },
      "source": [
        "sns.set_theme(style=\"whitegrid\")\n",
        "sns.set(rc = {'figure.figsize':(15,10)})\n",
        "ax = sns.barplot(x=\"hour_of_day\", y=\"purchase_count\", data=product_purchases_by_hour)\n",
        "ax.set_title('Product Purchases Count by Hour of Day (UTC)')"
      ],
      "execution_count": 262,
      "outputs": [
        {
          "output_type": "execute_result",
          "data": {
            "text/plain": [
              "Text(0.5, 1.0, 'Product Purchases Count by Hour of Day (UTC)')"
            ]
          },
          "metadata": {},
          "execution_count": 262
        },
        {
          "output_type": "display_data",
          "data": {
            "image/png": "[encoded data removed]",
            "text/plain": [
              "<Figure size 1080x720 with 1 Axes>"
            ]
          },
          "metadata": {}
        }
      ]
    }
  ]
}