{
  "nbformat": 4,
  "nbformat_minor": 0,
  "metadata": {
    "colab": {
      "name": "Lilly.ai Take Home Test - Ken Wood.ipynb",
      "provenance": [],
      "collapsed_sections": [],
      "authorship_tag": "ABX9TyO9rXkz4RupiFEOtXDA2A9j",
      "include_colab_link": true
    },
    "kernelspec": {
      "name": "python3",
      "display_name": "Python 3"
    },
    "language_info": {
      "name": "python"
    }
  },
  "cells": [
    {
      "cell_type": "markdown",
      "metadata": {
        "id": "view-in-github",
        "colab_type": "text"
      },
      "source": [
        "<a href=\"https://colab.research.google.com/github/ROARMarketingConcepts/Data-Analysis-Projects/blob/master/Lilly_ai_Take_Home_Test_Ken_Wood.ipynb\" target=\"_parent\"><img src=\"https://colab.research.google.com/assets/colab-badge.svg\" alt=\"Open In Colab\"/></a>"
      ]
    },
    {
      "cell_type": "markdown",
      "metadata": {
        "id": "cB3m_jk_u_wq"
      },
      "source": [
        "#### Lilly.ai - Take Home Test\n",
        "#### Ken Wood\n",
        "\n",
        "#### 12/1/21"
      ]
    },
    {
      "cell_type": "markdown",
      "metadata": {
        "id": "cUnw8ZZu6Ct6"
      },
      "source": [
        "The executive team is interested to know over time:\n",
        "\n",
        "a. How Customers are searching and buying various products.\n",
        "\n",
        "b. Any insight about the products.\n",
        "\n",
        "c. Any interesting pattern from your analysis.\n",
        "\n",
        "You can also include the following in your analysis\n",
        "1. Search to Product-View conversion rate\n",
        "2. Product-View to Order-Complete conversion rate"
      ]
    },
    {
      "cell_type": "markdown",
      "metadata": {
        "id": "ghm3BfBSzvgg"
      },
      "source": [
        "Column Definitions of `event_logs_v2.csv`\n",
        "\n",
        "Column | Definition\n",
        "--- | ---\n",
        "`event_code` | Refer to the below table for the event_code and event_name map\n",
        "`event_timestamp` | `UTC timestamp when the event happened`\n",
        "`user_id` | `the user who caused the event`\n",
        "`product_id` | `user interacted with the product`"
      ]
    },
    {
      "cell_type": "markdown",
      "metadata": {
        "id": "B6LQVDLl0_7m"
      },
      "source": [
        "`event_code` mapping\n",
        "\n",
        "Event_Code|Event_Name| Description\n",
        "--- |--- |---\n",
        "`1` | `Search` | When a user does a product search on the website.\n",
        "`2` | `Product_View` | When a user clicks on one of the products in the  search result. This can happen after the Search event.\n",
        "`3` | `Order-Complete` | When a user orders a product. This can happen after the Product_View event."
      ]
    },
    {
      "cell_type": "markdown",
      "metadata": {
        "id": "wF9CBbOivhe_"
      },
      "source": [
        "Import Python packages we will need..."
      ]
    },
    {
      "cell_type": "code",
      "metadata": {
        "id": "_iqVGY0tvm_I"
      },
      "source": [
        "import pandas as pd\n",
        "import seaborn as sns"
      ],
      "execution_count": 96,
      "outputs": []
    },
    {
      "cell_type": "markdown",
      "metadata": {
        "id": "pFlsOQG1vKBw"
      },
      "source": [
        "Mount Google Drive where `event_logs_v2.csv` resides..."
      ]
    },
    {
      "cell_type": "code",
      "metadata": {
        "colab": {
          "base_uri": "https://localhost:8080/"
        },
        "id": "wgf6mTiKvTx_",
        "outputId": "befd30f1-5a44-415c-958d-79cba73aae66"
      },
      "source": [
        "from google.colab import drive\n",
        "drive.mount('/gdrive')\n",
        "%cd /gdrive"
      ],
      "execution_count": 97,
      "outputs": [
        {
          "output_type": "stream",
          "name": "stdout",
          "text": [
            "Drive already mounted at /gdrive; to attempt to forcibly remount, call drive.mount(\"/gdrive\", force_remount=True).\n",
            "/gdrive\n"
          ]
        }
      ]
    },
    {
      "cell_type": "markdown",
      "metadata": {
        "id": "xKoRZ-zvwNiA"
      },
      "source": [
        "Load the input data file and quickly inspect it..."
      ]
    },
    {
      "cell_type": "code",
      "metadata": {
        "colab": {
          "base_uri": "https://localhost:8080/",
          "height": 204
        },
        "id": "wycHyP-pwNJD",
        "outputId": "28ca960e-2beb-4af3-fe8f-aafcfe6de0df"
      },
      "source": [
        "df = pd.read_csv('/gdrive/MyDrive/Colab Notebooks/Lily.ai Take Home Test/event_logs_v2.csv')\n",
        "df.head()"
      ],
      "execution_count": 98,
      "outputs": [
        {
          "output_type": "execute_result",
          "data": {
            "text/html": [
              "<div>\n",
              "<style scoped>\n",
              "    .dataframe tbody tr th:only-of-type {\n",
              "        vertical-align: middle;\n",
              "    }\n",
              "\n",
              "    .dataframe tbody tr th {\n",
              "        vertical-align: top;\n",
              "    }\n",
              "\n",
              "    .dataframe thead th {\n",
              "        text-align: right;\n",
              "    }\n",
              "</style>\n",
              "<table border=\"1\" class=\"dataframe\">\n",
              "  <thead>\n",
              "    <tr style=\"text-align: right;\">\n",
              "      <th></th>\n",
              "      <th>event_code</th>\n",
              "      <th>event_timestamp</th>\n",
              "      <th>user_id</th>\n",
              "      <th>product_id</th>\n",
              "    </tr>\n",
              "  </thead>\n",
              "  <tbody>\n",
              "    <tr>\n",
              "      <th>0</th>\n",
              "      <td>2</td>\n",
              "      <td>2020-11-29T20:04:54Z</td>\n",
              "      <td>13fe7bed08c78ca6f563430b4fd284a1</td>\n",
              "      <td>cc5d78fc86ca1ea6dab7595d8b09a030</td>\n",
              "    </tr>\n",
              "    <tr>\n",
              "      <th>1</th>\n",
              "      <td>2</td>\n",
              "      <td>2020-11-29T20:04:59Z</td>\n",
              "      <td>f081f5ce4e8bdd61d618bd64f0647e46</td>\n",
              "      <td>7b82f5b46759a9f238982f2a7c367ba1</td>\n",
              "    </tr>\n",
              "    <tr>\n",
              "      <th>2</th>\n",
              "      <td>2</td>\n",
              "      <td>2020-11-29T19:58:19Z</td>\n",
              "      <td>d43f081630bd3a13518ea950213d7bcf</td>\n",
              "      <td>bf91bb4cd7e62b353232e709a30f52be</td>\n",
              "    </tr>\n",
              "    <tr>\n",
              "      <th>3</th>\n",
              "      <td>2</td>\n",
              "      <td>2020-11-29T19:58:34Z</td>\n",
              "      <td>5257b92203fd1122a1d9d09e0a236eb2</td>\n",
              "      <td>a1317a5b5531f4dd2d1bbbf9f0ebecca</td>\n",
              "    </tr>\n",
              "    <tr>\n",
              "      <th>4</th>\n",
              "      <td>2</td>\n",
              "      <td>2020-11-29T19:58:44Z</td>\n",
              "      <td>0434613b9d24b9f475bde53472787825</td>\n",
              "      <td>0b3ffd66553d9a2440b1ff8500b6b686</td>\n",
              "    </tr>\n",
              "  </tbody>\n",
              "</table>\n",
              "</div>"
            ],
            "text/plain": [
              "   event_code  ...                        product_id\n",
              "0           2  ...  cc5d78fc86ca1ea6dab7595d8b09a030\n",
              "1           2  ...  7b82f5b46759a9f238982f2a7c367ba1\n",
              "2           2  ...  bf91bb4cd7e62b353232e709a30f52be\n",
              "3           2  ...  a1317a5b5531f4dd2d1bbbf9f0ebecca\n",
              "4           2  ...  0b3ffd66553d9a2440b1ff8500b6b686\n",
              "\n",
              "[5 rows x 4 columns]"
            ]
          },
          "metadata": {},
          "execution_count": 98
        }
      ]
    },
    {
      "cell_type": "code",
      "metadata": {
        "colab": {
          "base_uri": "https://localhost:8080/"
        },
        "id": "vKTipNj0w4tE",
        "outputId": "e8896880-52ea-4a0a-c916-375a978f85e8"
      },
      "source": [
        "df.info()"
      ],
      "execution_count": 99,
      "outputs": [
        {
          "output_type": "stream",
          "name": "stdout",
          "text": [
            "<class 'pandas.core.frame.DataFrame'>\n",
            "RangeIndex: 1265614 entries, 0 to 1265613\n",
            "Data columns (total 4 columns):\n",
            " #   Column           Non-Null Count    Dtype \n",
            "---  ------           --------------    ----- \n",
            " 0   event_code       1265614 non-null  int64 \n",
            " 1   event_timestamp  1265614 non-null  object\n",
            " 2   user_id          1265614 non-null  object\n",
            " 3   product_id       1152471 non-null  object\n",
            "dtypes: int64(1), object(3)\n",
            "memory usage: 38.6+ MB\n"
          ]
        }
      ]
    },
    {
      "cell_type": "markdown",
      "metadata": {
        "id": "2rC_GypsM0W9"
      },
      "source": [
        "Convert `event_timestamp` feature to datetime variable type."
      ]
    },
    {
      "cell_type": "code",
      "metadata": {
        "id": "GluTNOqaNAyw"
      },
      "source": [
        "df['event_timestamp'] = pd.to_datetime(df['event_timestamp'])"
      ],
      "execution_count": 100,
      "outputs": []
    },
    {
      "cell_type": "code",
      "metadata": {
        "colab": {
          "base_uri": "https://localhost:8080/"
        },
        "id": "XSMm0tyWzEuJ",
        "outputId": "f1e1a834-2509-48b7-894c-4c25e10723f4"
      },
      "source": [
        "df.info()"
      ],
      "execution_count": 101,
      "outputs": [
        {
          "output_type": "stream",
          "name": "stdout",
          "text": [
            "<class 'pandas.core.frame.DataFrame'>\n",
            "RangeIndex: 1265614 entries, 0 to 1265613\n",
            "Data columns (total 4 columns):\n",
            " #   Column           Non-Null Count    Dtype              \n",
            "---  ------           --------------    -----              \n",
            " 0   event_code       1265614 non-null  int64              \n",
            " 1   event_timestamp  1265614 non-null  datetime64[ns, UTC]\n",
            " 2   user_id          1265614 non-null  object             \n",
            " 3   product_id       1152471 non-null  object             \n",
            "dtypes: datetime64[ns, UTC](1), int64(1), object(2)\n",
            "memory usage: 38.6+ MB\n"
          ]
        }
      ]
    },
    {
      "cell_type": "code",
      "metadata": {
        "colab": {
          "base_uri": "https://localhost:8080/"
        },
        "id": "JDZnCXXZxF53",
        "outputId": "19e9e6a3-749e-423f-a447-bd3b411188a1"
      },
      "source": [
        "df.isnull().sum()"
      ],
      "execution_count": 102,
      "outputs": [
        {
          "output_type": "execute_result",
          "data": {
            "text/plain": [
              "event_code              0\n",
              "event_timestamp         0\n",
              "user_id                 0\n",
              "product_id         113143\n",
              "dtype: int64"
            ]
          },
          "metadata": {},
          "execution_count": 102
        }
      ]
    },
    {
      "cell_type": "markdown",
      "metadata": {
        "id": "aNbcqpgsxNo7"
      },
      "source": [
        "113143 nulls found in the `product_id` feature. These nulls only occur for the `event_code`= 1 events."
      ]
    },
    {
      "cell_type": "code",
      "metadata": {
        "colab": {
          "base_uri": "https://localhost:8080/"
        },
        "id": "JVYDjghHxd3q",
        "outputId": "4dd22c23-e717-43cb-f9f0-8cba6b42e904"
      },
      "source": [
        "pct_total = sum(df['product_id'].isnull())/len(df)\n",
        "pct_total"
      ],
      "execution_count": 103,
      "outputs": [
        {
          "output_type": "execute_result",
          "data": {
            "text/plain": [
              "0.08939771525915484"
            ]
          },
          "metadata": {},
          "execution_count": 103
        }
      ]
    },
    {
      "cell_type": "markdown",
      "metadata": {
        "id": "jMmX2E7G7hGO"
      },
      "source": [
        "Get value counts for each feature..."
      ]
    },
    {
      "cell_type": "code",
      "metadata": {
        "id": "DEXJ7-tw66k7",
        "colab": {
          "base_uri": "https://localhost:8080/"
        },
        "outputId": "8d0d1b5d-b959-4a05-f1d4-a2e1fc6e528d"
      },
      "source": [
        "df['event_code'].value_counts()\n"
      ],
      "execution_count": 104,
      "outputs": [
        {
          "output_type": "execute_result",
          "data": {
            "text/plain": [
              "2    1108507\n",
              "1     113143\n",
              "3      43964\n",
              "Name: event_code, dtype: int64"
            ]
          },
          "metadata": {},
          "execution_count": 104
        }
      ]
    },
    {
      "cell_type": "code",
      "metadata": {
        "colab": {
          "base_uri": "https://localhost:8080/"
        },
        "id": "HV9mTPzn7vEh",
        "outputId": "1501e206-471c-4247-bdc5-d598cee083c8"
      },
      "source": [
        "df['product_id'].value_counts()"
      ],
      "execution_count": 105,
      "outputs": [
        {
          "output_type": "execute_result",
          "data": {
            "text/plain": [
              "941e2727e3c31d1ff974a8433d1cb4b3    1073\n",
              "0437700657ed3847e99d97bd34bc937c     516\n",
              "0dcb511d0224643296d15f25db78bec1     239\n",
              "953b527ac3bcea845a5469c73c10f35d      72\n",
              "fe57a0cbf58a87ca1916215e6f984892      56\n",
              "                                    ... \n",
              "80648fe130d6ad5358b919d8dc71e473       1\n",
              "699592ee8cc221f9fa28397d4183b3db       1\n",
              "10be11d4ae425744c45a6ff9911e18da       1\n",
              "16cebbec47af3f66bc8ad845c94ab51c       1\n",
              "798b9e76e1a6c947d242acb6fa64c3ca       1\n",
              "Name: product_id, Length: 814313, dtype: int64"
            ]
          },
          "metadata": {},
          "execution_count": 105
        }
      ]
    },
    {
      "cell_type": "markdown",
      "metadata": {
        "id": "JN2KtAKn8Fyc"
      },
      "source": [
        "We have 814313 unique `product_id`s."
      ]
    },
    {
      "cell_type": "code",
      "metadata": {
        "colab": {
          "base_uri": "https://localhost:8080/"
        },
        "id": "A6YlgWVO8T67",
        "outputId": "c75359a4-f962-4685-8bd0-d0e25e97a58b"
      },
      "source": [
        "df['user_id'].value_counts()"
      ],
      "execution_count": 106,
      "outputs": [
        {
          "output_type": "execute_result",
          "data": {
            "text/plain": [
              "37a6259cc0c1dae299a7866489dff0bd    153034\n",
              "f460272f363fa96fccd7b997d37e107c       887\n",
              "033ea91087ca037570781bfba82149c4       846\n",
              "d4489e6c512a746c16d72ed2562a246c       742\n",
              "3e932b9b3de21ea6e61a088b8075c678       739\n",
              "                                     ...  \n",
              "2c0a95863fd53b19759f6eb6d48095bb         1\n",
              "ab59f9afeac923c5f90fc94e4b9b0aec         1\n",
              "339b6eaaa3c0b38320bbe26fbbe57f68         1\n",
              "f3456785eae9e26b0189b804d8501484         1\n",
              "e62162754c8981b1b4cc52c6cb3aebeb         1\n",
              "Name: user_id, Length: 222194, dtype: int64"
            ]
          },
          "metadata": {},
          "execution_count": 106
        }
      ]
    },
    {
      "cell_type": "markdown",
      "metadata": {
        "id": "VQmHSAM38avi"
      },
      "source": [
        "We have 222194 unique `user_id`s."
      ]
    },
    {
      "cell_type": "markdown",
      "metadata": {
        "id": "XxZ1egNk9DSb"
      },
      "source": [
        "Let's calculate the `Search` to `Product_View` conversion rate"
      ]
    },
    {
      "cell_type": "code",
      "metadata": {
        "colab": {
          "base_uri": "https://localhost:8080/"
        },
        "id": "e0-yNFjr92_1",
        "outputId": "37358252-e4bc-42ba-907f-55595bd225f9"
      },
      "source": [
        "search_to_product_view_conv_rate = len(df[df['event_code']==2])/len(df)\n",
        "search_to_product_view_conv_rate"
      ],
      "execution_count": 125,
      "outputs": [
        {
          "output_type": "execute_result",
          "data": {
            "text/plain": [
              "0.8758649951723038"
            ]
          },
          "metadata": {},
          "execution_count": 125
        }
      ]
    },
    {
      "cell_type": "markdown",
      "metadata": {
        "id": "58XmEEj3XEuO"
      },
      "source": [
        "After performing a search, there is a  88% chance that a user will click on a `product_view`."
      ]
    },
    {
      "cell_type": "markdown",
      "metadata": {
        "id": "zT75LIgdTdl1"
      },
      "source": [
        "Let's calculate the `Product_View` to `Order_Complete` conversion rate"
      ]
    },
    {
      "cell_type": "code",
      "metadata": {
        "colab": {
          "base_uri": "https://localhost:8080/"
        },
        "id": "wzfmpZ9wPbUz",
        "outputId": "5afd6cf9-7bb8-4237-99f5-80bc9cab2bb8"
      },
      "source": [
        "product_view_to_order_complete_conv_rate = len(df[df['event_code']==3])/len(df[df['event_code']==2])\n",
        "product_view_to_order_complete_conv_rate"
      ],
      "execution_count": 126,
      "outputs": [
        {
          "output_type": "execute_result",
          "data": {
            "text/plain": [
              "0.039660552436746"
            ]
          },
          "metadata": {},
          "execution_count": 126
        }
      ]
    },
    {
      "cell_type": "markdown",
      "metadata": {
        "id": "gP2EpgztXS86"
      },
      "source": [
        "After clicking on a `product_view`, there is a 4% chance that a user will complete an order."
      ]
    },
    {
      "cell_type": "markdown",
      "metadata": {
        "id": "izV623ohYZB2"
      },
      "source": [
        "How are Customers searching and buying various products?"
      ]
    },
    {
      "cell_type": "code",
      "metadata": {
        "colab": {
          "base_uri": "https://localhost:8080/",
          "height": 204
        },
        "id": "7V6O7t4oYi1t",
        "outputId": "311795d8-d6c5-4d64-ff42-91bc452aa313"
      },
      "source": [
        "event_code_product_id = df.groupby(['product_id','event_code']).count()\\\n",
        "  .sort_values('event_timestamp',ascending=False)\\\n",
        "  .rename(columns={'event_timestamp':'count'}).drop(['user_id'],axis=1).reset_index()\n",
        "  \n",
        "event_code_product_id.head()"
      ],
      "execution_count": 149,
      "outputs": [
        {
          "output_type": "execute_result",
          "data": {
            "text/html": [
              "<div>\n",
              "<style scoped>\n",
              "    .dataframe tbody tr th:only-of-type {\n",
              "        vertical-align: middle;\n",
              "    }\n",
              "\n",
              "    .dataframe tbody tr th {\n",
              "        vertical-align: top;\n",
              "    }\n",
              "\n",
              "    .dataframe thead th {\n",
              "        text-align: right;\n",
              "    }\n",
              "</style>\n",
              "<table border=\"1\" class=\"dataframe\">\n",
              "  <thead>\n",
              "    <tr style=\"text-align: right;\">\n",
              "      <th></th>\n",
              "      <th>product_id</th>\n",
              "      <th>event_code</th>\n",
              "      <th>count</th>\n",
              "    </tr>\n",
              "  </thead>\n",
              "  <tbody>\n",
              "    <tr>\n",
              "      <th>0</th>\n",
              "      <td>941e2727e3c31d1ff974a8433d1cb4b3</td>\n",
              "      <td>2</td>\n",
              "      <td>1073</td>\n",
              "    </tr>\n",
              "    <tr>\n",
              "      <th>1</th>\n",
              "      <td>0437700657ed3847e99d97bd34bc937c</td>\n",
              "      <td>2</td>\n",
              "      <td>516</td>\n",
              "    </tr>\n",
              "    <tr>\n",
              "      <th>2</th>\n",
              "      <td>0dcb511d0224643296d15f25db78bec1</td>\n",
              "      <td>2</td>\n",
              "      <td>239</td>\n",
              "    </tr>\n",
              "    <tr>\n",
              "      <th>3</th>\n",
              "      <td>953b527ac3bcea845a5469c73c10f35d</td>\n",
              "      <td>2</td>\n",
              "      <td>72</td>\n",
              "    </tr>\n",
              "    <tr>\n",
              "      <th>4</th>\n",
              "      <td>fe57a0cbf58a87ca1916215e6f984892</td>\n",
              "      <td>2</td>\n",
              "      <td>56</td>\n",
              "    </tr>\n",
              "  </tbody>\n",
              "</table>\n",
              "</div>"
            ],
            "text/plain": [
              "                         product_id  event_code  count\n",
              "0  941e2727e3c31d1ff974a8433d1cb4b3           2   1073\n",
              "1  0437700657ed3847e99d97bd34bc937c           2    516\n",
              "2  0dcb511d0224643296d15f25db78bec1           2    239\n",
              "3  953b527ac3bcea845a5469c73c10f35d           2     72\n",
              "4  fe57a0cbf58a87ca1916215e6f984892           2     56"
            ]
          },
          "metadata": {},
          "execution_count": 149
        }
      ]
    },
    {
      "cell_type": "markdown",
      "metadata": {
        "id": "J7W8HyTwcorF"
      },
      "source": [
        "Top 10 `product_ids` by `Product_View`"
      ]
    },
    {
      "cell_type": "code",
      "metadata": {
        "colab": {
          "base_uri": "https://localhost:8080/",
          "height": 359
        },
        "id": "QfHMWMPec3rO",
        "outputId": "bcdfbb72-c274-49e9-d29e-d5abd9e5fb34"
      },
      "source": [
        "product_id_product_view = event_code_product_id[event_code_product_id['event_code']==2].head(10)\n",
        "product_id_product_view"
      ],
      "execution_count": 160,
      "outputs": [
        {
          "output_type": "execute_result",
          "data": {
            "text/html": [
              "<div>\n",
              "<style scoped>\n",
              "    .dataframe tbody tr th:only-of-type {\n",
              "        vertical-align: middle;\n",
              "    }\n",
              "\n",
              "    .dataframe tbody tr th {\n",
              "        vertical-align: top;\n",
              "    }\n",
              "\n",
              "    .dataframe thead th {\n",
              "        text-align: right;\n",
              "    }\n",
              "</style>\n",
              "<table border=\"1\" class=\"dataframe\">\n",
              "  <thead>\n",
              "    <tr style=\"text-align: right;\">\n",
              "      <th></th>\n",
              "      <th>product_id</th>\n",
              "      <th>event_code</th>\n",
              "      <th>count</th>\n",
              "    </tr>\n",
              "  </thead>\n",
              "  <tbody>\n",
              "    <tr>\n",
              "      <th>0</th>\n",
              "      <td>941e2727e3c31d1ff974a8433d1cb4b3</td>\n",
              "      <td>2</td>\n",
              "      <td>1073</td>\n",
              "    </tr>\n",
              "    <tr>\n",
              "      <th>1</th>\n",
              "      <td>0437700657ed3847e99d97bd34bc937c</td>\n",
              "      <td>2</td>\n",
              "      <td>516</td>\n",
              "    </tr>\n",
              "    <tr>\n",
              "      <th>2</th>\n",
              "      <td>0dcb511d0224643296d15f25db78bec1</td>\n",
              "      <td>2</td>\n",
              "      <td>239</td>\n",
              "    </tr>\n",
              "    <tr>\n",
              "      <th>3</th>\n",
              "      <td>953b527ac3bcea845a5469c73c10f35d</td>\n",
              "      <td>2</td>\n",
              "      <td>72</td>\n",
              "    </tr>\n",
              "    <tr>\n",
              "      <th>4</th>\n",
              "      <td>fe57a0cbf58a87ca1916215e6f984892</td>\n",
              "      <td>2</td>\n",
              "      <td>56</td>\n",
              "    </tr>\n",
              "    <tr>\n",
              "      <th>5</th>\n",
              "      <td>538a004b9a3f3bdcfb9c3e541cc5028a</td>\n",
              "      <td>2</td>\n",
              "      <td>38</td>\n",
              "    </tr>\n",
              "    <tr>\n",
              "      <th>6</th>\n",
              "      <td>c3fc0f28899397acdb90a2044b656ae8</td>\n",
              "      <td>2</td>\n",
              "      <td>36</td>\n",
              "    </tr>\n",
              "    <tr>\n",
              "      <th>7</th>\n",
              "      <td>ed6612c3e7ced2398b46588d878fbafa</td>\n",
              "      <td>2</td>\n",
              "      <td>36</td>\n",
              "    </tr>\n",
              "    <tr>\n",
              "      <th>8</th>\n",
              "      <td>f82feff59a02a5617b5ce59025ab33e7</td>\n",
              "      <td>2</td>\n",
              "      <td>35</td>\n",
              "    </tr>\n",
              "    <tr>\n",
              "      <th>9</th>\n",
              "      <td>0339499794d659877c2c3b3c573d3686</td>\n",
              "      <td>2</td>\n",
              "      <td>34</td>\n",
              "    </tr>\n",
              "  </tbody>\n",
              "</table>\n",
              "</div>"
            ],
            "text/plain": [
              "                         product_id  event_code  count\n",
              "0  941e2727e3c31d1ff974a8433d1cb4b3           2   1073\n",
              "1  0437700657ed3847e99d97bd34bc937c           2    516\n",
              "2  0dcb511d0224643296d15f25db78bec1           2    239\n",
              "3  953b527ac3bcea845a5469c73c10f35d           2     72\n",
              "4  fe57a0cbf58a87ca1916215e6f984892           2     56\n",
              "5  538a004b9a3f3bdcfb9c3e541cc5028a           2     38\n",
              "6  c3fc0f28899397acdb90a2044b656ae8           2     36\n",
              "7  ed6612c3e7ced2398b46588d878fbafa           2     36\n",
              "8  f82feff59a02a5617b5ce59025ab33e7           2     35\n",
              "9  0339499794d659877c2c3b3c573d3686           2     34"
            ]
          },
          "metadata": {},
          "execution_count": 160
        }
      ]
    },
    {
      "cell_type": "code",
      "metadata": {
        "colab": {
          "base_uri": "https://localhost:8080/",
          "height": 644
        },
        "id": "w50ZkNplekA1",
        "outputId": "27c03fbc-4283-45a6-ff38-467743224f0d"
      },
      "source": [
        "sns.set_theme(style=\"whitegrid\")\n",
        "sns.set(rc = {'figure.figsize':(15,10)})\n",
        "ax = sns.barplot(x=\"count\", y=\"product_id\", data=product_id_product_view)\n",
        "ax.set_title('Top 10 Product_IDs viewed in Search')"
      ],
      "execution_count": 162,
      "outputs": [
        {
          "output_type": "execute_result",
          "data": {
            "text/plain": [
              "Text(0.5, 1.0, 'Top 10 Product_IDs viewed in Search')"
            ]
          },
          "metadata": {},
          "execution_count": 162
        },
        {
          "output_type": "display_data",
          "data": {
            "image/png": "[encoded data removed]",
            "text/plain": [
              "<Figure size 1080x720 with 1 Axes>"
            ]
          },
          "metadata": {}
        }
      ]
    },
    {
      "cell_type": "markdown",
      "metadata": {
        "id": "JO6IwAvadLGv"
      },
      "source": [
        "Top 10 `product_ids` by `Order_Complete`"
      ]
    },
    {
      "cell_type": "code",
      "metadata": {
        "colab": {
          "base_uri": "https://localhost:8080/",
          "height": 359
        },
        "id": "CT8u3VDpdbB_",
        "outputId": "7da8fdcd-3bbc-46ee-ef61-5b47dbfe9197"
      },
      "source": [
        "product_id_order_complete = event_code_product_id[event_code_product_id['event_code']==3].head(10)\n",
        "product_id_order_complete"
      ],
      "execution_count": 163,
      "outputs": [
        {
          "output_type": "execute_result",
          "data": {
            "text/html": [
              "<div>\n",
              "<style scoped>\n",
              "    .dataframe tbody tr th:only-of-type {\n",
              "        vertical-align: middle;\n",
              "    }\n",
              "\n",
              "    .dataframe tbody tr th {\n",
              "        vertical-align: top;\n",
              "    }\n",
              "\n",
              "    .dataframe thead th {\n",
              "        text-align: right;\n",
              "    }\n",
              "</style>\n",
              "<table border=\"1\" class=\"dataframe\">\n",
              "  <thead>\n",
              "    <tr style=\"text-align: right;\">\n",
              "      <th></th>\n",
              "      <th>product_id</th>\n",
              "      <th>event_code</th>\n",
              "      <th>count</th>\n",
              "    </tr>\n",
              "  </thead>\n",
              "  <tbody>\n",
              "    <tr>\n",
              "      <th>671</th>\n",
              "      <td>5dfc7eeb2e6b7eedbcfab1c1300e1651</td>\n",
              "      <td>3</td>\n",
              "      <td>10</td>\n",
              "    </tr>\n",
              "    <tr>\n",
              "      <th>1401</th>\n",
              "      <td>ce791b58226735543a441f6298225c89</td>\n",
              "      <td>3</td>\n",
              "      <td>8</td>\n",
              "    </tr>\n",
              "    <tr>\n",
              "      <th>1416</th>\n",
              "      <td>5383fd2c284529baf7a325be4bc7bfec</td>\n",
              "      <td>3</td>\n",
              "      <td>8</td>\n",
              "    </tr>\n",
              "    <tr>\n",
              "      <th>1868</th>\n",
              "      <td>27ca9bc27aaa03262b233e09347ca2df</td>\n",
              "      <td>3</td>\n",
              "      <td>8</td>\n",
              "    </tr>\n",
              "    <tr>\n",
              "      <th>2110</th>\n",
              "      <td>df96f9e52177728cc4b01e9ec1fff5fa</td>\n",
              "      <td>3</td>\n",
              "      <td>8</td>\n",
              "    </tr>\n",
              "    <tr>\n",
              "      <th>2270</th>\n",
              "      <td>e600f5408df18f1cd253f55de1ee1ac4</td>\n",
              "      <td>3</td>\n",
              "      <td>7</td>\n",
              "    </tr>\n",
              "    <tr>\n",
              "      <th>3413</th>\n",
              "      <td>e707c00ea56170cd9e9d77b0487c8b6f</td>\n",
              "      <td>3</td>\n",
              "      <td>7</td>\n",
              "    </tr>\n",
              "    <tr>\n",
              "      <th>5784</th>\n",
              "      <td>55d95b96a80f1faeef7ba05b827fafe7</td>\n",
              "      <td>3</td>\n",
              "      <td>6</td>\n",
              "    </tr>\n",
              "    <tr>\n",
              "      <th>5888</th>\n",
              "      <td>981de7e445692f2f5300a2cebcd43abb</td>\n",
              "      <td>3</td>\n",
              "      <td>6</td>\n",
              "    </tr>\n",
              "    <tr>\n",
              "      <th>6368</th>\n",
              "      <td>d5e28fb0e05ee7221e7500b59c216cc9</td>\n",
              "      <td>3</td>\n",
              "      <td>6</td>\n",
              "    </tr>\n",
              "  </tbody>\n",
              "</table>\n",
              "</div>"
            ],
            "text/plain": [
              "                            product_id  event_code  count\n",
              "671   5dfc7eeb2e6b7eedbcfab1c1300e1651           3     10\n",
              "1401  ce791b58226735543a441f6298225c89           3      8\n",
              "1416  5383fd2c284529baf7a325be4bc7bfec           3      8\n",
              "1868  27ca9bc27aaa03262b233e09347ca2df           3      8\n",
              "2110  df96f9e52177728cc4b01e9ec1fff5fa           3      8\n",
              "2270  e600f5408df18f1cd253f55de1ee1ac4           3      7\n",
              "3413  e707c00ea56170cd9e9d77b0487c8b6f           3      7\n",
              "5784  55d95b96a80f1faeef7ba05b827fafe7           3      6\n",
              "5888  981de7e445692f2f5300a2cebcd43abb           3      6\n",
              "6368  d5e28fb0e05ee7221e7500b59c216cc9           3      6"
            ]
          },
          "metadata": {},
          "execution_count": 163
        }
      ]
    },
    {
      "cell_type": "code",
      "metadata": {
        "colab": {
          "base_uri": "https://localhost:8080/",
          "height": 644
        },
        "id": "JYj9jHoAftBB",
        "outputId": "72c471a8-1218-4ebb-f0a0-0d6851bcc1ea"
      },
      "source": [
        "sns.set_theme(style=\"whitegrid\")\n",
        "sns.set(rc = {'figure.figsize':(15,10)})\n",
        "ax = sns.barplot(x=\"count\", y=\"product_id\", data=product_id_order_complete)\n",
        "ax.set_title('Top 10 Product_IDs Purchased')"
      ],
      "execution_count": 164,
      "outputs": [
        {
          "output_type": "execute_result",
          "data": {
            "text/plain": [
              "Text(0.5, 1.0, 'Top 10 Product_IDs Purchased')"
            ]
          },
          "metadata": {},
          "execution_count": 164
        },
        {
          "output_type": "display_data",
          "data": {
            "image/png": "[encoded data removed]",
            "text/plain": [
              "<Figure size 1080x720 with 1 Axes>"
            ]
          },
          "metadata": {}
        }
      ]
    }
  ]
}