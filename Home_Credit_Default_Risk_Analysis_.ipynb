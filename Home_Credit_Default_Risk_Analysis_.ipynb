{
  "nbformat": 4,
  "nbformat_minor": 0,
  "metadata": {
    "colab": {
      "name": "Home Credit Default Risk Analysis .ipynb",
      "version": "0.3.2",
      "provenance": [],
      "collapsed_sections": [],
      "include_colab_link": true
    },
    "kernelspec": {
      "name": "python3",
      "display_name": "Python 3"
    },
    "accelerator": "TPU"
  },
  "cells": [
    {
      "cell_type": "markdown",
      "metadata": {
        "id": "view-in-github",
        "colab_type": "text"
      },
      "source": [
        "<a href=\"https://colab.research.google.com/github/ROARMarketingConcepts/Data-Analysis-Projects/blob/master/Home_Credit_Default_Risk_Analysis_.ipynb\" target=\"_parent\"><img src=\"https://colab.research.google.com/assets/colab-badge.svg\" alt=\"Open In Colab\"/></a>"
      ]
    },
    {
      "metadata": {
        "id": "xrdB4Pvew0ah",
        "colab_type": "text"
      },
      "cell_type": "markdown",
      "source": [
        "## Home Credit Default Risk Analysis\n",
        "\n",
        "Many people struggle to get loans due to insufficient or non-existent credit histories. And, unfortunately, this population is often taken advantage of by untrustworthy lenders.\n",
        "\n",
        "**Home Credit Group**\n",
        "\n",
        "Home Credit strives to broaden financial inclusion for the unbanked population by providing a positive and safe borrowing experience. In order to make sure this underserved population has a positive loan experience, Home Credit makes use of a variety of alternative data--including telco and transactional information--to predict their clients' repayment abilities.\n",
        "\n",
        "While Home Credit is currently using various statistical and machine learning methods to make these predictions, they're challenging Kagglers to help them unlock the full potential of their data. Doing so will ensure that clients capable of repayment are not rejected and that loans are given with a principal, maturity, and repayment calendar that will empower their clients to be successful.\n",
        "\n",
        "### Analysis performed by:\n",
        "\n",
        "Ken Wood\n",
        "\n",
        "Marketing Data Scientist\n",
        "\n",
        "ken@roarmarketingconcepts.com"
      ]
    },
    {
      "metadata": {
        "id": "Q_Brip-8tdjE",
        "colab_type": "text"
      },
      "cell_type": "markdown",
      "source": [
        "\n",
        "\n",
        "\n",
        "---\n",
        "\n"
      ]
    },
    {
      "metadata": {
        "id": "9ALCkfYuqrTZ",
        "colab_type": "text"
      },
      "cell_type": "markdown",
      "source": [
        "### Mount the Google Drive where the dataset files are located..."
      ]
    },
    {
      "metadata": {
        "id": "Op1VaBbmzAds",
        "colab_type": "code",
        "outputId": "73e57898-894e-4dd0-f386-5dac3b1cca5b",
        "colab": {
          "base_uri": "https://localhost:8080/",
          "height": 129
        }
      },
      "cell_type": "code",
      "source": [
        "from google.colab import drive\n",
        "drive.mount('/gdrive')"
      ],
      "execution_count": 0,
      "outputs": [
        {
          "output_type": "stream",
          "text": [
            "Go to this URL in a browser: https://accounts.google.com/o/oauth2/auth?client_id=947318989803-6bn6qk8qdgf4n4g3pfee6491hc0brc4i.apps.googleusercontent.com&redirect_uri=urn%3Aietf%3Awg%3Aoauth%3A2.0%3Aoob&scope=email%20https%3A%2F%2Fwww.googleapis.com%2Fauth%2Fdocs.test%20https%3A%2F%2Fwww.googleapis.com%2Fauth%2Fdrive%20https%3A%2F%2Fwww.googleapis.com%2Fauth%2Fdrive.photos.readonly%20https%3A%2F%2Fwww.googleapis.com%2Fauth%2Fpeopleapi.readonly&response_type=code\n",
            "\n",
            "Enter your authorization code:\n",
            "··········\n",
            "Mounted at /gdrive\n"
          ],
          "name": "stdout"
        }
      ]
    },
    {
      "metadata": {
        "id": "DrdaZhEvlliM",
        "colab_type": "code",
        "colab": {}
      },
      "cell_type": "code",
      "source": [
        "# !apt install proj-bin libproj-dev libgeos-dev"
      ],
      "execution_count": 0,
      "outputs": []
    },
    {
      "metadata": {
        "id": "twm5n0jglxFD",
        "colab_type": "code",
        "colab": {}
      },
      "cell_type": "code",
      "source": [
        "# !pip install https://github.com/matplotlib/basemap/archive/v1.1.0.tar.gz\n",
        "# !sudo pip install -U git+https://github.com/matplotlib/basemap.git"
      ],
      "execution_count": 0,
      "outputs": []
    },
    {
      "metadata": {
        "id": "CaqrF3-Zq2PC",
        "colab_type": "text"
      },
      "cell_type": "markdown",
      "source": [
        "### Install some necessary packages to perform the required analysis..."
      ]
    },
    {
      "metadata": {
        "id": "fXW19Ug6MF-W",
        "colab_type": "code",
        "colab": {}
      },
      "cell_type": "code",
      "source": [
        "# !pip install -U scikit-learn\n",
        "# !pip install --user --upgrade tables\n",
        "\n",
        "# !pip install sqlalchemy\n",
        "# !pip install psycopg2-binary\n",
        "\n",
        "import pandas as pd\n",
        "import numpy as np\n",
        "import sklearn\n",
        "import scipy\n",
        "\n",
        "import matplotlib.pyplot as plt\n",
        "from matplotlib import interactive\n",
        "plt.rc(\"font\", size=14)\n",
        "from pylab import scatter, show, legend, xlabel, ylabel\n",
        "\n",
        "# from mpl_toolkits.basemap import Basemap\n",
        "\n",
        "import seaborn as sns\n",
        "sns.set(style=\"white\")\n",
        "sns.set(style=\"whitegrid\", color_codes=True)\n",
        "\n",
        "# Ignore useless warnings (see SciPy issue #5998)\n",
        "import warnings\n",
        "warnings.filterwarnings(action=\"ignore\", message=\"^internal gelsd\")"
      ],
      "execution_count": 0,
      "outputs": []
    },
    {
      "metadata": {
        "id": "58of5Ft_3qQ_",
        "colab_type": "code",
        "colab": {}
      },
      "cell_type": "code",
      "source": [
        "class color:\n",
        "   PURPLE = '\\033[95m'\n",
        "   CYAN = '\\033[96m'\n",
        "   DARKCYAN = '\\033[36m'\n",
        "   BLUE = '\\033[94m'\n",
        "   GREEN = '\\033[92m'\n",
        "   YELLOW = '\\033[93m'\n",
        "   RED = '\\033[91m'\n",
        "   BOLD = '\\033[1m'\n",
        "   UNDERLINE = '\\033[4m'\n",
        "   END = '\\033[0m'"
      ],
      "execution_count": 0,
      "outputs": []
    },
    {
      "metadata": {
        "id": "jNgCePt_izk6",
        "colab_type": "text"
      },
      "cell_type": "markdown",
      "source": [
        "### Let's list the datasets available to us..."
      ]
    },
    {
      "metadata": {
        "id": "UZexvxceerZH",
        "colab_type": "code",
        "outputId": "3a0ad1c6-8931-47a0-ff34-8983d7341b51",
        "colab": {
          "base_uri": "https://localhost:8080/",
          "height": 255
        }
      },
      "cell_type": "code",
      "source": [
        "import os\n",
        "\n",
        "print('### Home Credit Default Risk Analysis ###\\n')\n",
        "for idx, file in enumerate(os.listdir('/gdrive/My Drive/Colab Notebooks/Home Credit Default Risk/files')):\n",
        "    print(idx, '-', file)"
      ],
      "execution_count": 0,
      "outputs": [
        {
          "output_type": "stream",
          "text": [
            "### Home Credit Default Risk Analysis ###\n",
            "\n",
            "0 - HomeCredit_columns_description.csv\n",
            "1 - sample_submission.csv\n",
            "2 - application_test.csv\n",
            "3 - bureau_balance.csv\n",
            "4 - bureau.csv\n",
            "5 - credit_card_balance.csv\n",
            "6 - installments_payments.csv\n",
            "7 - POS_CASH_balance.csv\n",
            "8 - previous_application.csv\n",
            "9 - home_credit.png\n",
            "10 - HomeCredit_columns_description.gsheet\n",
            "11 - application_train_files\n"
          ],
          "name": "stdout"
        }
      ]
    },
    {
      "metadata": {
        "id": "YsUIKTNDq_JY",
        "colab_type": "text"
      },
      "cell_type": "markdown",
      "source": [
        "### Load the datasets..."
      ]
    },
    {
      "metadata": {
        "id": "RpQYnzQpMOTm",
        "colab_type": "code",
        "colab": {}
      },
      "cell_type": "code",
      "source": [
        "# application_train = pd.read_csv('/gdrive/My Drive/Colab Notebooks/Home Credit Default Risk/files/application_train_files/application_train.csv')\n",
        "bureau_balance = pd.read_csv('/gdrive/My Drive/Colab Notebooks/Home Credit Default Risk/files/bureau_balance.csv')\n",
        "bureau = pd.read_csv('/gdrive/My Drive/Colab Notebooks/Home Credit Default Risk/files/bureau.csv')\n",
        "# credit_card_balance = pd.read_csv('/gdrive/My Drive/Colab Notebooks/Home Credit Default Risk/files/credit_card_balance.csv')\n",
        "# installments_payments = pd.read_csv('/gdrive/My Drive/Colab Notebooks/Home Credit Default Risk/files/installments_payments.csv')\n",
        "# POS_CASH_balance = pd.read_csv('/gdrive/My Drive/Colab Notebooks/Home Credit Default Risk/files/POS_CASH_balance.csv')\n",
        "# previous_application = pd.read_csv('/gdrive/My Drive/Colab Notebooks/Home Credit Default Risk/files/previous_application.csv')"
      ],
      "execution_count": 0,
      "outputs": []
    },
    {
      "metadata": {
        "id": "itlRr01HwS5L",
        "colab_type": "text"
      },
      "cell_type": "markdown",
      "source": [
        "### Let's get some preliminary information about each of the datasets..."
      ]
    },
    {
      "metadata": {
        "id": "JqGazW5Gtk3g",
        "colab_type": "code",
        "outputId": "baa2ae4c-49d3-4ac1-bf81-4c5b20425496",
        "colab": {
          "base_uri": "https://localhost:8080/",
          "height": 102
        }
      },
      "cell_type": "code",
      "source": [
        "application_train.info()"
      ],
      "execution_count": 0,
      "outputs": [
        {
          "output_type": "stream",
          "text": [
            "<class 'pandas.core.frame.DataFrame'>\n",
            "RangeIndex: 307511 entries, 0 to 307510\n",
            "Columns: 122 entries, SK_ID_CURR to AMT_REQ_CREDIT_BUREAU_YEAR\n",
            "dtypes: float64(65), int64(41), object(16)\n",
            "memory usage: 286.2+ MB\n"
          ],
          "name": "stdout"
        }
      ]
    },
    {
      "metadata": {
        "id": "hc3UL5TEUQ8S",
        "colab_type": "code",
        "outputId": "7e95e8ca-2288-4cf3-8919-449e69fa5e11",
        "colab": {
          "base_uri": "https://localhost:8080/",
          "height": 258
        }
      },
      "cell_type": "code",
      "source": [
        "application_train.head()"
      ],
      "execution_count": 0,
      "outputs": [
        {
          "output_type": "execute_result",
          "data": {
            "text/html": [
              "<div>\n",
              "<style scoped>\n",
              "    .dataframe tbody tr th:only-of-type {\n",
              "        vertical-align: middle;\n",
              "    }\n",
              "\n",
              "    .dataframe tbody tr th {\n",
              "        vertical-align: top;\n",
              "    }\n",
              "\n",
              "    .dataframe thead th {\n",
              "        text-align: right;\n",
              "    }\n",
              "</style>\n",
              "<table border=\"1\" class=\"dataframe\">\n",
              "  <thead>\n",
              "    <tr style=\"text-align: right;\">\n",
              "      <th></th>\n",
              "      <th>SK_ID_CURR</th>\n",
              "      <th>TARGET</th>\n",
              "      <th>NAME_CONTRACT_TYPE</th>\n",
              "      <th>CODE_GENDER</th>\n",
              "      <th>FLAG_OWN_CAR</th>\n",
              "      <th>FLAG_OWN_REALTY</th>\n",
              "      <th>CNT_CHILDREN</th>\n",
              "      <th>AMT_INCOME_TOTAL</th>\n",
              "      <th>AMT_CREDIT</th>\n",
              "      <th>AMT_ANNUITY</th>\n",
              "      <th>...</th>\n",
              "      <th>FLAG_DOCUMENT_18</th>\n",
              "      <th>FLAG_DOCUMENT_19</th>\n",
              "      <th>FLAG_DOCUMENT_20</th>\n",
              "      <th>FLAG_DOCUMENT_21</th>\n",
              "      <th>AMT_REQ_CREDIT_BUREAU_HOUR</th>\n",
              "      <th>AMT_REQ_CREDIT_BUREAU_DAY</th>\n",
              "      <th>AMT_REQ_CREDIT_BUREAU_WEEK</th>\n",
              "      <th>AMT_REQ_CREDIT_BUREAU_MON</th>\n",
              "      <th>AMT_REQ_CREDIT_BUREAU_QRT</th>\n",
              "      <th>AMT_REQ_CREDIT_BUREAU_YEAR</th>\n",
              "    </tr>\n",
              "  </thead>\n",
              "  <tbody>\n",
              "    <tr>\n",
              "      <th>0</th>\n",
              "      <td>100002</td>\n",
              "      <td>1</td>\n",
              "      <td>Cash loans</td>\n",
              "      <td>M</td>\n",
              "      <td>N</td>\n",
              "      <td>Y</td>\n",
              "      <td>0</td>\n",
              "      <td>202500.0</td>\n",
              "      <td>406597.5</td>\n",
              "      <td>24700.5</td>\n",
              "      <td>...</td>\n",
              "      <td>0</td>\n",
              "      <td>0</td>\n",
              "      <td>0</td>\n",
              "      <td>0</td>\n",
              "      <td>0.0</td>\n",
              "      <td>0.0</td>\n",
              "      <td>0.0</td>\n",
              "      <td>0.0</td>\n",
              "      <td>0.0</td>\n",
              "      <td>1.0</td>\n",
              "    </tr>\n",
              "    <tr>\n",
              "      <th>1</th>\n",
              "      <td>100003</td>\n",
              "      <td>0</td>\n",
              "      <td>Cash loans</td>\n",
              "      <td>F</td>\n",
              "      <td>N</td>\n",
              "      <td>N</td>\n",
              "      <td>0</td>\n",
              "      <td>270000.0</td>\n",
              "      <td>1293502.5</td>\n",
              "      <td>35698.5</td>\n",
              "      <td>...</td>\n",
              "      <td>0</td>\n",
              "      <td>0</td>\n",
              "      <td>0</td>\n",
              "      <td>0</td>\n",
              "      <td>0.0</td>\n",
              "      <td>0.0</td>\n",
              "      <td>0.0</td>\n",
              "      <td>0.0</td>\n",
              "      <td>0.0</td>\n",
              "      <td>0.0</td>\n",
              "    </tr>\n",
              "    <tr>\n",
              "      <th>2</th>\n",
              "      <td>100004</td>\n",
              "      <td>0</td>\n",
              "      <td>Revolving loans</td>\n",
              "      <td>M</td>\n",
              "      <td>Y</td>\n",
              "      <td>Y</td>\n",
              "      <td>0</td>\n",
              "      <td>67500.0</td>\n",
              "      <td>135000.0</td>\n",
              "      <td>6750.0</td>\n",
              "      <td>...</td>\n",
              "      <td>0</td>\n",
              "      <td>0</td>\n",
              "      <td>0</td>\n",
              "      <td>0</td>\n",
              "      <td>0.0</td>\n",
              "      <td>0.0</td>\n",
              "      <td>0.0</td>\n",
              "      <td>0.0</td>\n",
              "      <td>0.0</td>\n",
              "      <td>0.0</td>\n",
              "    </tr>\n",
              "    <tr>\n",
              "      <th>3</th>\n",
              "      <td>100006</td>\n",
              "      <td>0</td>\n",
              "      <td>Cash loans</td>\n",
              "      <td>F</td>\n",
              "      <td>N</td>\n",
              "      <td>Y</td>\n",
              "      <td>0</td>\n",
              "      <td>135000.0</td>\n",
              "      <td>312682.5</td>\n",
              "      <td>29686.5</td>\n",
              "      <td>...</td>\n",
              "      <td>0</td>\n",
              "      <td>0</td>\n",
              "      <td>0</td>\n",
              "      <td>0</td>\n",
              "      <td>NaN</td>\n",
              "      <td>NaN</td>\n",
              "      <td>NaN</td>\n",
              "      <td>NaN</td>\n",
              "      <td>NaN</td>\n",
              "      <td>NaN</td>\n",
              "    </tr>\n",
              "    <tr>\n",
              "      <th>4</th>\n",
              "      <td>100007</td>\n",
              "      <td>0</td>\n",
              "      <td>Cash loans</td>\n",
              "      <td>M</td>\n",
              "      <td>N</td>\n",
              "      <td>Y</td>\n",
              "      <td>0</td>\n",
              "      <td>121500.0</td>\n",
              "      <td>513000.0</td>\n",
              "      <td>21865.5</td>\n",
              "      <td>...</td>\n",
              "      <td>0</td>\n",
              "      <td>0</td>\n",
              "      <td>0</td>\n",
              "      <td>0</td>\n",
              "      <td>0.0</td>\n",
              "      <td>0.0</td>\n",
              "      <td>0.0</td>\n",
              "      <td>0.0</td>\n",
              "      <td>0.0</td>\n",
              "      <td>0.0</td>\n",
              "    </tr>\n",
              "  </tbody>\n",
              "</table>\n",
              "<p>5 rows × 122 columns</p>\n",
              "</div>"
            ],
            "text/plain": [
              "   SK_ID_CURR  TARGET NAME_CONTRACT_TYPE CODE_GENDER FLAG_OWN_CAR  \\\n",
              "0      100002       1         Cash loans           M            N   \n",
              "1      100003       0         Cash loans           F            N   \n",
              "2      100004       0    Revolving loans           M            Y   \n",
              "3      100006       0         Cash loans           F            N   \n",
              "4      100007       0         Cash loans           M            N   \n",
              "\n",
              "  FLAG_OWN_REALTY  CNT_CHILDREN  AMT_INCOME_TOTAL  AMT_CREDIT  AMT_ANNUITY  \\\n",
              "0               Y             0          202500.0    406597.5      24700.5   \n",
              "1               N             0          270000.0   1293502.5      35698.5   \n",
              "2               Y             0           67500.0    135000.0       6750.0   \n",
              "3               Y             0          135000.0    312682.5      29686.5   \n",
              "4               Y             0          121500.0    513000.0      21865.5   \n",
              "\n",
              "              ...              FLAG_DOCUMENT_18 FLAG_DOCUMENT_19  \\\n",
              "0             ...                             0                0   \n",
              "1             ...                             0                0   \n",
              "2             ...                             0                0   \n",
              "3             ...                             0                0   \n",
              "4             ...                             0                0   \n",
              "\n",
              "  FLAG_DOCUMENT_20 FLAG_DOCUMENT_21 AMT_REQ_CREDIT_BUREAU_HOUR  \\\n",
              "0                0                0                        0.0   \n",
              "1                0                0                        0.0   \n",
              "2                0                0                        0.0   \n",
              "3                0                0                        NaN   \n",
              "4                0                0                        0.0   \n",
              "\n",
              "  AMT_REQ_CREDIT_BUREAU_DAY  AMT_REQ_CREDIT_BUREAU_WEEK  \\\n",
              "0                       0.0                         0.0   \n",
              "1                       0.0                         0.0   \n",
              "2                       0.0                         0.0   \n",
              "3                       NaN                         NaN   \n",
              "4                       0.0                         0.0   \n",
              "\n",
              "   AMT_REQ_CREDIT_BUREAU_MON  AMT_REQ_CREDIT_BUREAU_QRT  \\\n",
              "0                        0.0                        0.0   \n",
              "1                        0.0                        0.0   \n",
              "2                        0.0                        0.0   \n",
              "3                        NaN                        NaN   \n",
              "4                        0.0                        0.0   \n",
              "\n",
              "   AMT_REQ_CREDIT_BUREAU_YEAR  \n",
              "0                         1.0  \n",
              "1                         0.0  \n",
              "2                         0.0  \n",
              "3                         NaN  \n",
              "4                         0.0  \n",
              "\n",
              "[5 rows x 122 columns]"
            ]
          },
          "metadata": {
            "tags": []
          },
          "execution_count": 36
        }
      ]
    },
    {
      "metadata": {
        "id": "CowZ4vj9ljB3",
        "colab_type": "text"
      },
      "cell_type": "markdown",
      "source": [
        "### Separate 'application_train' into the numerical and categorical variables..."
      ]
    },
    {
      "metadata": {
        "id": "kdW2XQXFhTtS",
        "colab_type": "code",
        "colab": {}
      },
      "cell_type": "code",
      "source": [
        "application_train_index_target = application_train[['SK_ID_CURR','TARGET']]\n",
        "application_train_cat = application_train.select_dtypes(include=['object'])\n",
        "application_train_num =  application_train.select_dtypes(include=['int64','float64'])\n",
        "application_train_num = application_train_num.drop(['SK_ID_CURR','TARGET'],axis=1)"
      ],
      "execution_count": 0,
      "outputs": []
    },
    {
      "metadata": {
        "id": "c1Ny39ecm9gG",
        "colab_type": "text"
      },
      "cell_type": "markdown",
      "source": [
        "### Let’s convert the categorical variables from text to numbers. First, we take care of the missing values using pandas 'ffill' method (propagate last valid observation forward to next valid).  Then we use the sklearn function **OrdinalEncoder** which encodes categorical features as an integer array."
      ]
    },
    {
      "metadata": {
        "id": "z068nqQs0i0T",
        "colab_type": "code",
        "outputId": "e3071b63-04ce-4b85-e376-ab96be0faa56",
        "colab": {
          "base_uri": "https://localhost:8080/",
          "height": 102
        }
      },
      "cell_type": "code",
      "source": [
        "application_train_cat.fillna(method='ffill',inplace=True)"
      ],
      "execution_count": 0,
      "outputs": [
        {
          "output_type": "stream",
          "text": [
            "/usr/local/lib/python3.6/dist-packages/pandas/core/frame.py:3035: SettingWithCopyWarning: \n",
            "A value is trying to be set on a copy of a slice from a DataFrame\n",
            "\n",
            "See the caveats in the documentation: http://pandas.pydata.org/pandas-docs/stable/indexing.html#indexing-view-versus-copy\n",
            "  downcast=downcast, **kwargs)\n"
          ],
          "name": "stderr"
        }
      ]
    },
    {
      "metadata": {
        "id": "viX-_n8SnLce",
        "colab_type": "code",
        "colab": {}
      },
      "cell_type": "code",
      "source": [
        "from sklearn.preprocessing import OrdinalEncoder"
      ],
      "execution_count": 0,
      "outputs": []
    },
    {
      "metadata": {
        "id": "H8FhdQcbnRBL",
        "colab_type": "code",
        "outputId": "31b34a92-6b08-4d7e-9444-912661fad99f",
        "colab": {
          "base_uri": "https://localhost:8080/",
          "height": 357
        }
      },
      "cell_type": "code",
      "source": [
        "ordinal_encoder = OrdinalEncoder()\n",
        "application_train_cat_encoded = ordinal_encoder.fit_transform(application_train_cat)\n",
        "application_train_cat_encoded[:10]"
      ],
      "execution_count": 0,
      "outputs": [
        {
          "output_type": "execute_result",
          "data": {
            "text/plain": [
              "array([[ 0.,  1.,  0.,  1.,  6.,  7.,  4.,  3.,  1.,  8.,  6.,  5.,  2.,\n",
              "         0.,  5.,  0.],\n",
              "       [ 0.,  0.,  0.,  0.,  1.,  4.,  1.,  1.,  1.,  3.,  1., 39.,  2.,\n",
              "         0.,  0.,  0.],\n",
              "       [ 1.,  1.,  1.,  1.,  6.,  7.,  4.,  3.,  1.,  8.,  1., 11.,  2.,\n",
              "         0.,  0.,  0.],\n",
              "       [ 0.,  0.,  0.,  1.,  6.,  7.,  4.,  0.,  1.,  8.,  6.,  5.,  2.,\n",
              "         0.,  0.,  0.],\n",
              "       [ 0.,  1.,  0.,  1.,  6.,  7.,  4.,  3.,  1.,  3.,  4., 37.,  2.,\n",
              "         0.,  0.,  0.],\n",
              "       [ 0.,  1.,  0.,  1.,  5.,  4.,  4.,  1.,  1.,  8.,  6., 33.,  2.,\n",
              "         0.,  0.,  0.],\n",
              "       [ 0.,  0.,  1.,  1.,  6.,  1.,  1.,  1.,  1.,  0.,  3.,  5.,  2.,\n",
              "         0.,  0.,  0.],\n",
              "       [ 0.,  1.,  1.,  1.,  6.,  4.,  1.,  1.,  1., 10.,  1., 33.,  2.,\n",
              "         0.,  0.,  0.],\n",
              "       [ 0.,  0.,  0.,  1.,  0.,  3.,  4.,  1.,  1., 10.,  6., 57.,  2.,\n",
              "         0.,  0.,  0.],\n",
              "       [ 1.,  1.,  0.,  1.,  6.,  7.,  4.,  3.,  1.,  8.,  4.,  9.,  2.,\n",
              "         0.,  0.,  0.]])"
            ]
          },
          "metadata": {
            "tags": []
          },
          "execution_count": 26
        }
      ]
    },
    {
      "metadata": {
        "id": "n6RjJrKWyAaa",
        "colab_type": "code",
        "outputId": "314d1550-5926-4c6b-e6f7-5cb3a165c89d",
        "colab": {
          "base_uri": "https://localhost:8080/",
          "height": 816
        }
      },
      "cell_type": "code",
      "source": [
        "ordinal_encoder.categories_"
      ],
      "execution_count": 0,
      "outputs": [
        {
          "output_type": "execute_result",
          "data": {
            "text/plain": [
              "[array(['Cash loans', 'Revolving loans'], dtype=object),\n",
              " array(['F', 'M', 'XNA'], dtype=object),\n",
              " array(['N', 'Y'], dtype=object),\n",
              " array(['N', 'Y'], dtype=object),\n",
              " array(['Children', 'Family', 'Group of people', 'Other_A', 'Other_B',\n",
              "        'Spouse, partner', 'Unaccompanied'], dtype=object),\n",
              " array(['Businessman', 'Commercial associate', 'Maternity leave',\n",
              "        'Pensioner', 'State servant', 'Student', 'Unemployed', 'Working'],\n",
              "       dtype=object),\n",
              " array(['Academic degree', 'Higher education', 'Incomplete higher',\n",
              "        'Lower secondary', 'Secondary / secondary special'], dtype=object),\n",
              " array(['Civil marriage', 'Married', 'Separated', 'Single / not married',\n",
              "        'Unknown', 'Widow'], dtype=object),\n",
              " array(['Co-op apartment', 'House / apartment', 'Municipal apartment',\n",
              "        'Office apartment', 'Rented apartment', 'With parents'],\n",
              "       dtype=object),\n",
              " array(['Accountants', 'Cleaning staff', 'Cooking staff', 'Core staff',\n",
              "        'Drivers', 'HR staff', 'High skill tech staff', 'IT staff',\n",
              "        'Laborers', 'Low-skill Laborers', 'Managers', 'Medicine staff',\n",
              "        'Private service staff', 'Realty agents', 'Sales staff',\n",
              "        'Secretaries', 'Security staff', 'Waiters/barmen staff'],\n",
              "       dtype=object),\n",
              " array(['FRIDAY', 'MONDAY', 'SATURDAY', 'SUNDAY', 'THURSDAY', 'TUESDAY',\n",
              "        'WEDNESDAY'], dtype=object),\n",
              " array(['Advertising', 'Agriculture', 'Bank', 'Business Entity Type 1',\n",
              "        'Business Entity Type 2', 'Business Entity Type 3', 'Cleaning',\n",
              "        'Construction', 'Culture', 'Electricity', 'Emergency',\n",
              "        'Government', 'Hotel', 'Housing', 'Industry: type 1',\n",
              "        'Industry: type 10', 'Industry: type 11', 'Industry: type 12',\n",
              "        'Industry: type 13', 'Industry: type 2', 'Industry: type 3',\n",
              "        'Industry: type 4', 'Industry: type 5', 'Industry: type 6',\n",
              "        'Industry: type 7', 'Industry: type 8', 'Industry: type 9',\n",
              "        'Insurance', 'Kindergarten', 'Legal Services', 'Medicine',\n",
              "        'Military', 'Mobile', 'Other', 'Police', 'Postal', 'Realtor',\n",
              "        'Religion', 'Restaurant', 'School', 'Security',\n",
              "        'Security Ministries', 'Self-employed', 'Services', 'Telecom',\n",
              "        'Trade: type 1', 'Trade: type 2', 'Trade: type 3', 'Trade: type 4',\n",
              "        'Trade: type 5', 'Trade: type 6', 'Trade: type 7',\n",
              "        'Transport: type 1', 'Transport: type 2', 'Transport: type 3',\n",
              "        'Transport: type 4', 'University', 'XNA'], dtype=object),\n",
              " array(['not specified', 'org spec account', 'reg oper account',\n",
              "        'reg oper spec account'], dtype=object),\n",
              " array(['block of flats', 'specific housing', 'terraced house'],\n",
              "       dtype=object),\n",
              " array(['Block', 'Mixed', 'Monolithic', 'Others', 'Panel', 'Stone, brick',\n",
              "        'Wooden'], dtype=object),\n",
              " array(['No', 'Yes'], dtype=object)]"
            ]
          },
          "metadata": {
            "tags": []
          },
          "execution_count": 27
        }
      ]
    },
    {
      "metadata": {
        "id": "PJlChSMd3d0I",
        "colab_type": "text"
      },
      "cell_type": "markdown",
      "source": [
        "### If we want to put it back into a Pandas DataFrame, it’s simple:"
      ]
    },
    {
      "metadata": {
        "id": "KQyFSLvMNWqV",
        "colab_type": "code",
        "outputId": "45250c2b-2185-4257-c118-6f3aaef95426",
        "colab": {
          "base_uri": "https://localhost:8080/",
          "height": 229
        }
      },
      "cell_type": "code",
      "source": [
        "application_train_cat = pd.DataFrame(application_train_cat_encoded,columns = application_train_cat.columns)\n",
        "application_train_cat.head()"
      ],
      "execution_count": 0,
      "outputs": [
        {
          "output_type": "execute_result",
          "data": {
            "text/html": [
              "<div>\n",
              "<style scoped>\n",
              "    .dataframe tbody tr th:only-of-type {\n",
              "        vertical-align: middle;\n",
              "    }\n",
              "\n",
              "    .dataframe tbody tr th {\n",
              "        vertical-align: top;\n",
              "    }\n",
              "\n",
              "    .dataframe thead th {\n",
              "        text-align: right;\n",
              "    }\n",
              "</style>\n",
              "<table border=\"1\" class=\"dataframe\">\n",
              "  <thead>\n",
              "    <tr style=\"text-align: right;\">\n",
              "      <th></th>\n",
              "      <th>NAME_CONTRACT_TYPE</th>\n",
              "      <th>CODE_GENDER</th>\n",
              "      <th>FLAG_OWN_CAR</th>\n",
              "      <th>FLAG_OWN_REALTY</th>\n",
              "      <th>NAME_TYPE_SUITE</th>\n",
              "      <th>NAME_INCOME_TYPE</th>\n",
              "      <th>NAME_EDUCATION_TYPE</th>\n",
              "      <th>NAME_FAMILY_STATUS</th>\n",
              "      <th>NAME_HOUSING_TYPE</th>\n",
              "      <th>OCCUPATION_TYPE</th>\n",
              "      <th>WEEKDAY_APPR_PROCESS_START</th>\n",
              "      <th>ORGANIZATION_TYPE</th>\n",
              "      <th>FONDKAPREMONT_MODE</th>\n",
              "      <th>HOUSETYPE_MODE</th>\n",
              "      <th>WALLSMATERIAL_MODE</th>\n",
              "      <th>EMERGENCYSTATE_MODE</th>\n",
              "    </tr>\n",
              "  </thead>\n",
              "  <tbody>\n",
              "    <tr>\n",
              "      <th>0</th>\n",
              "      <td>0.0</td>\n",
              "      <td>1.0</td>\n",
              "      <td>0.0</td>\n",
              "      <td>1.0</td>\n",
              "      <td>6.0</td>\n",
              "      <td>7.0</td>\n",
              "      <td>4.0</td>\n",
              "      <td>3.0</td>\n",
              "      <td>1.0</td>\n",
              "      <td>8.0</td>\n",
              "      <td>6.0</td>\n",
              "      <td>5.0</td>\n",
              "      <td>2.0</td>\n",
              "      <td>0.0</td>\n",
              "      <td>5.0</td>\n",
              "      <td>0.0</td>\n",
              "    </tr>\n",
              "    <tr>\n",
              "      <th>1</th>\n",
              "      <td>0.0</td>\n",
              "      <td>0.0</td>\n",
              "      <td>0.0</td>\n",
              "      <td>0.0</td>\n",
              "      <td>1.0</td>\n",
              "      <td>4.0</td>\n",
              "      <td>1.0</td>\n",
              "      <td>1.0</td>\n",
              "      <td>1.0</td>\n",
              "      <td>3.0</td>\n",
              "      <td>1.0</td>\n",
              "      <td>39.0</td>\n",
              "      <td>2.0</td>\n",
              "      <td>0.0</td>\n",
              "      <td>0.0</td>\n",
              "      <td>0.0</td>\n",
              "    </tr>\n",
              "    <tr>\n",
              "      <th>2</th>\n",
              "      <td>1.0</td>\n",
              "      <td>1.0</td>\n",
              "      <td>1.0</td>\n",
              "      <td>1.0</td>\n",
              "      <td>6.0</td>\n",
              "      <td>7.0</td>\n",
              "      <td>4.0</td>\n",
              "      <td>3.0</td>\n",
              "      <td>1.0</td>\n",
              "      <td>8.0</td>\n",
              "      <td>1.0</td>\n",
              "      <td>11.0</td>\n",
              "      <td>2.0</td>\n",
              "      <td>0.0</td>\n",
              "      <td>0.0</td>\n",
              "      <td>0.0</td>\n",
              "    </tr>\n",
              "    <tr>\n",
              "      <th>3</th>\n",
              "      <td>0.0</td>\n",
              "      <td>0.0</td>\n",
              "      <td>0.0</td>\n",
              "      <td>1.0</td>\n",
              "      <td>6.0</td>\n",
              "      <td>7.0</td>\n",
              "      <td>4.0</td>\n",
              "      <td>0.0</td>\n",
              "      <td>1.0</td>\n",
              "      <td>8.0</td>\n",
              "      <td>6.0</td>\n",
              "      <td>5.0</td>\n",
              "      <td>2.0</td>\n",
              "      <td>0.0</td>\n",
              "      <td>0.0</td>\n",
              "      <td>0.0</td>\n",
              "    </tr>\n",
              "    <tr>\n",
              "      <th>4</th>\n",
              "      <td>0.0</td>\n",
              "      <td>1.0</td>\n",
              "      <td>0.0</td>\n",
              "      <td>1.0</td>\n",
              "      <td>6.0</td>\n",
              "      <td>7.0</td>\n",
              "      <td>4.0</td>\n",
              "      <td>3.0</td>\n",
              "      <td>1.0</td>\n",
              "      <td>3.0</td>\n",
              "      <td>4.0</td>\n",
              "      <td>37.0</td>\n",
              "      <td>2.0</td>\n",
              "      <td>0.0</td>\n",
              "      <td>0.0</td>\n",
              "      <td>0.0</td>\n",
              "    </tr>\n",
              "  </tbody>\n",
              "</table>\n",
              "</div>"
            ],
            "text/plain": [
              "   NAME_CONTRACT_TYPE  CODE_GENDER  FLAG_OWN_CAR  FLAG_OWN_REALTY  \\\n",
              "0                 0.0          1.0           0.0              1.0   \n",
              "1                 0.0          0.0           0.0              0.0   \n",
              "2                 1.0          1.0           1.0              1.0   \n",
              "3                 0.0          0.0           0.0              1.0   \n",
              "4                 0.0          1.0           0.0              1.0   \n",
              "\n",
              "   NAME_TYPE_SUITE  NAME_INCOME_TYPE  NAME_EDUCATION_TYPE  NAME_FAMILY_STATUS  \\\n",
              "0              6.0               7.0                  4.0                 3.0   \n",
              "1              1.0               4.0                  1.0                 1.0   \n",
              "2              6.0               7.0                  4.0                 3.0   \n",
              "3              6.0               7.0                  4.0                 0.0   \n",
              "4              6.0               7.0                  4.0                 3.0   \n",
              "\n",
              "   NAME_HOUSING_TYPE  OCCUPATION_TYPE  WEEKDAY_APPR_PROCESS_START  \\\n",
              "0                1.0              8.0                         6.0   \n",
              "1                1.0              3.0                         1.0   \n",
              "2                1.0              8.0                         1.0   \n",
              "3                1.0              8.0                         6.0   \n",
              "4                1.0              3.0                         4.0   \n",
              "\n",
              "   ORGANIZATION_TYPE  FONDKAPREMONT_MODE  HOUSETYPE_MODE  WALLSMATERIAL_MODE  \\\n",
              "0                5.0                 2.0             0.0                 5.0   \n",
              "1               39.0                 2.0             0.0                 0.0   \n",
              "2               11.0                 2.0             0.0                 0.0   \n",
              "3                5.0                 2.0             0.0                 0.0   \n",
              "4               37.0                 2.0             0.0                 0.0   \n",
              "\n",
              "   EMERGENCYSTATE_MODE  \n",
              "0                  0.0  \n",
              "1                  0.0  \n",
              "2                  0.0  \n",
              "3                  0.0  \n",
              "4                  0.0  "
            ]
          },
          "metadata": {
            "tags": []
          },
          "execution_count": 28
        }
      ]
    },
    {
      "metadata": {
        "id": "QwqlqAdr16ie",
        "colab_type": "text"
      },
      "cell_type": "markdown",
      "source": [
        "### Now we need to deal with missing numerical values in 'application_train'. Scikit-Learn provides a handy class to take care of missing values: **Imputer**. First, we need to create an Imputer instance, specifying that we want to replace each attribute’s missing values with the median of that attribute:"
      ]
    },
    {
      "metadata": {
        "id": "FSxY4lSM1rV1",
        "colab_type": "code",
        "colab": {}
      },
      "cell_type": "code",
      "source": [
        "from sklearn.pipeline import Pipeline\n",
        "from sklearn.impute import SimpleImputer\n",
        "from sklearn.preprocessing import StandardScaler\n",
        "\n",
        "num_pipeline = Pipeline([\n",
        "        ('imputer', SimpleImputer(strategy=\"median\")),\n",
        "        ('std_scaler', StandardScaler())\n",
        "        ])"
      ],
      "execution_count": 0,
      "outputs": []
    },
    {
      "metadata": {
        "id": "7-3Kj1oyGap9",
        "colab_type": "code",
        "outputId": "90651152-c099-4328-8d70-97c8671ebcdb",
        "colab": {
          "base_uri": "https://localhost:8080/",
          "height": 238
        }
      },
      "cell_type": "code",
      "source": [
        "application_train_num_encoded = num_pipeline.fit_transform(application_train_num)\n",
        "application_train_num_encoded"
      ],
      "execution_count": 0,
      "outputs": [
        {
          "output_type": "execute_result",
          "data": {
            "text/plain": [
              "array([[-0.57753784,  0.14212925, -0.47809496, ..., -0.26994654,\n",
              "        -0.30861959, -0.44092567],\n",
              "       [-0.57753784,  0.42679193,  1.7254498 , ..., -0.26994654,\n",
              "        -0.30861959, -1.00733095],\n",
              "       [-0.57753784, -0.4271961 , -1.15288792, ..., -0.26994654,\n",
              "        -0.30861959, -1.00733095],\n",
              "       ...,\n",
              "       [-0.57753784, -0.06662338,  0.19537871, ...,  0.89717516,\n",
              "        -0.30861959, -0.44092567],\n",
              "       [-0.57753784,  0.00928667, -0.56875681, ..., -0.26994654,\n",
              "        -0.30861959, -1.00733095],\n",
              "       [-0.57753784, -0.04764587,  0.18875991, ...,  2.06429685,\n",
              "        -0.30861959, -0.44092567]])"
            ]
          },
          "metadata": {
            "tags": []
          },
          "execution_count": 31
        }
      ]
    },
    {
      "metadata": {
        "id": "9KGhfQXN3kkq",
        "colab_type": "code",
        "outputId": "3176cdc4-a253-45d9-c3da-eb18781e6fd0",
        "colab": {
          "base_uri": "https://localhost:8080/",
          "height": 258
        }
      },
      "cell_type": "code",
      "source": [
        "application_train_num = pd.DataFrame(application_train_num_encoded,columns = application_train_num.columns)\n",
        "application_train_num = pd.concat([application_train_index_target,application_train_num],axis=1)\n",
        "application_train_num.head()"
      ],
      "execution_count": 0,
      "outputs": [
        {
          "output_type": "execute_result",
          "data": {
            "text/html": [
              "<div>\n",
              "<style scoped>\n",
              "    .dataframe tbody tr th:only-of-type {\n",
              "        vertical-align: middle;\n",
              "    }\n",
              "\n",
              "    .dataframe tbody tr th {\n",
              "        vertical-align: top;\n",
              "    }\n",
              "\n",
              "    .dataframe thead th {\n",
              "        text-align: right;\n",
              "    }\n",
              "</style>\n",
              "<table border=\"1\" class=\"dataframe\">\n",
              "  <thead>\n",
              "    <tr style=\"text-align: right;\">\n",
              "      <th></th>\n",
              "      <th>SK_ID_CURR</th>\n",
              "      <th>TARGET</th>\n",
              "      <th>CNT_CHILDREN</th>\n",
              "      <th>AMT_INCOME_TOTAL</th>\n",
              "      <th>AMT_CREDIT</th>\n",
              "      <th>AMT_ANNUITY</th>\n",
              "      <th>AMT_GOODS_PRICE</th>\n",
              "      <th>REGION_POPULATION_RELATIVE</th>\n",
              "      <th>DAYS_BIRTH</th>\n",
              "      <th>DAYS_EMPLOYED</th>\n",
              "      <th>...</th>\n",
              "      <th>FLAG_DOCUMENT_18</th>\n",
              "      <th>FLAG_DOCUMENT_19</th>\n",
              "      <th>FLAG_DOCUMENT_20</th>\n",
              "      <th>FLAG_DOCUMENT_21</th>\n",
              "      <th>AMT_REQ_CREDIT_BUREAU_HOUR</th>\n",
              "      <th>AMT_REQ_CREDIT_BUREAU_DAY</th>\n",
              "      <th>AMT_REQ_CREDIT_BUREAU_WEEK</th>\n",
              "      <th>AMT_REQ_CREDIT_BUREAU_MON</th>\n",
              "      <th>AMT_REQ_CREDIT_BUREAU_QRT</th>\n",
              "      <th>AMT_REQ_CREDIT_BUREAU_YEAR</th>\n",
              "    </tr>\n",
              "  </thead>\n",
              "  <tbody>\n",
              "    <tr>\n",
              "      <th>0</th>\n",
              "      <td>100002</td>\n",
              "      <td>1</td>\n",
              "      <td>-0.577538</td>\n",
              "      <td>0.142129</td>\n",
              "      <td>-0.478095</td>\n",
              "      <td>-0.166143</td>\n",
              "      <td>-0.507236</td>\n",
              "      <td>-0.149452</td>\n",
              "      <td>1.506880</td>\n",
              "      <td>-0.456215</td>\n",
              "      <td>...</td>\n",
              "      <td>-0.090534</td>\n",
              "      <td>-0.024402</td>\n",
              "      <td>-0.022529</td>\n",
              "      <td>-0.018305</td>\n",
              "      <td>-0.070987</td>\n",
              "      <td>-0.058766</td>\n",
              "      <td>-0.155837</td>\n",
              "      <td>-0.269947</td>\n",
              "      <td>-0.30862</td>\n",
              "      <td>-0.440926</td>\n",
              "    </tr>\n",
              "    <tr>\n",
              "      <th>1</th>\n",
              "      <td>100003</td>\n",
              "      <td>0</td>\n",
              "      <td>-0.577538</td>\n",
              "      <td>0.426792</td>\n",
              "      <td>1.725450</td>\n",
              "      <td>0.592683</td>\n",
              "      <td>1.600873</td>\n",
              "      <td>-1.252750</td>\n",
              "      <td>-0.166821</td>\n",
              "      <td>-0.460115</td>\n",
              "      <td>...</td>\n",
              "      <td>-0.090534</td>\n",
              "      <td>-0.024402</td>\n",
              "      <td>-0.022529</td>\n",
              "      <td>-0.018305</td>\n",
              "      <td>-0.070987</td>\n",
              "      <td>-0.058766</td>\n",
              "      <td>-0.155837</td>\n",
              "      <td>-0.269947</td>\n",
              "      <td>-0.30862</td>\n",
              "      <td>-1.007331</td>\n",
              "    </tr>\n",
              "    <tr>\n",
              "      <th>2</th>\n",
              "      <td>100004</td>\n",
              "      <td>0</td>\n",
              "      <td>-0.577538</td>\n",
              "      <td>-0.427196</td>\n",
              "      <td>-1.152888</td>\n",
              "      <td>-1.404669</td>\n",
              "      <td>-1.092145</td>\n",
              "      <td>-0.783451</td>\n",
              "      <td>-0.689509</td>\n",
              "      <td>-0.453299</td>\n",
              "      <td>...</td>\n",
              "      <td>-0.090534</td>\n",
              "      <td>-0.024402</td>\n",
              "      <td>-0.022529</td>\n",
              "      <td>-0.018305</td>\n",
              "      <td>-0.070987</td>\n",
              "      <td>-0.058766</td>\n",
              "      <td>-0.155837</td>\n",
              "      <td>-0.269947</td>\n",
              "      <td>-0.30862</td>\n",
              "      <td>-1.007331</td>\n",
              "    </tr>\n",
              "    <tr>\n",
              "      <th>3</th>\n",
              "      <td>100006</td>\n",
              "      <td>0</td>\n",
              "      <td>-0.577538</td>\n",
              "      <td>-0.142533</td>\n",
              "      <td>-0.711430</td>\n",
              "      <td>0.177874</td>\n",
              "      <td>-0.653463</td>\n",
              "      <td>-0.928991</td>\n",
              "      <td>-0.680114</td>\n",
              "      <td>-0.473217</td>\n",
              "      <td>...</td>\n",
              "      <td>-0.090534</td>\n",
              "      <td>-0.024402</td>\n",
              "      <td>-0.022529</td>\n",
              "      <td>-0.018305</td>\n",
              "      <td>-0.070987</td>\n",
              "      <td>-0.058766</td>\n",
              "      <td>-0.155837</td>\n",
              "      <td>-0.269947</td>\n",
              "      <td>-0.30862</td>\n",
              "      <td>-0.440926</td>\n",
              "    </tr>\n",
              "    <tr>\n",
              "      <th>4</th>\n",
              "      <td>100007</td>\n",
              "      <td>0</td>\n",
              "      <td>-0.577538</td>\n",
              "      <td>-0.199466</td>\n",
              "      <td>-0.213734</td>\n",
              "      <td>-0.361749</td>\n",
              "      <td>-0.068554</td>\n",
              "      <td>0.563570</td>\n",
              "      <td>-0.892535</td>\n",
              "      <td>-0.473210</td>\n",
              "      <td>...</td>\n",
              "      <td>-0.090534</td>\n",
              "      <td>-0.024402</td>\n",
              "      <td>-0.022529</td>\n",
              "      <td>-0.018305</td>\n",
              "      <td>-0.070987</td>\n",
              "      <td>-0.058766</td>\n",
              "      <td>-0.155837</td>\n",
              "      <td>-0.269947</td>\n",
              "      <td>-0.30862</td>\n",
              "      <td>-1.007331</td>\n",
              "    </tr>\n",
              "  </tbody>\n",
              "</table>\n",
              "<p>5 rows × 106 columns</p>\n",
              "</div>"
            ],
            "text/plain": [
              "   SK_ID_CURR  TARGET  CNT_CHILDREN  AMT_INCOME_TOTAL  AMT_CREDIT  \\\n",
              "0      100002       1     -0.577538          0.142129   -0.478095   \n",
              "1      100003       0     -0.577538          0.426792    1.725450   \n",
              "2      100004       0     -0.577538         -0.427196   -1.152888   \n",
              "3      100006       0     -0.577538         -0.142533   -0.711430   \n",
              "4      100007       0     -0.577538         -0.199466   -0.213734   \n",
              "\n",
              "   AMT_ANNUITY  AMT_GOODS_PRICE  REGION_POPULATION_RELATIVE  DAYS_BIRTH  \\\n",
              "0    -0.166143        -0.507236                   -0.149452    1.506880   \n",
              "1     0.592683         1.600873                   -1.252750   -0.166821   \n",
              "2    -1.404669        -1.092145                   -0.783451   -0.689509   \n",
              "3     0.177874        -0.653463                   -0.928991   -0.680114   \n",
              "4    -0.361749        -0.068554                    0.563570   -0.892535   \n",
              "\n",
              "   DAYS_EMPLOYED             ...              FLAG_DOCUMENT_18  \\\n",
              "0      -0.456215             ...                     -0.090534   \n",
              "1      -0.460115             ...                     -0.090534   \n",
              "2      -0.453299             ...                     -0.090534   \n",
              "3      -0.473217             ...                     -0.090534   \n",
              "4      -0.473210             ...                     -0.090534   \n",
              "\n",
              "   FLAG_DOCUMENT_19  FLAG_DOCUMENT_20  FLAG_DOCUMENT_21  \\\n",
              "0         -0.024402         -0.022529         -0.018305   \n",
              "1         -0.024402         -0.022529         -0.018305   \n",
              "2         -0.024402         -0.022529         -0.018305   \n",
              "3         -0.024402         -0.022529         -0.018305   \n",
              "4         -0.024402         -0.022529         -0.018305   \n",
              "\n",
              "   AMT_REQ_CREDIT_BUREAU_HOUR  AMT_REQ_CREDIT_BUREAU_DAY  \\\n",
              "0                   -0.070987                  -0.058766   \n",
              "1                   -0.070987                  -0.058766   \n",
              "2                   -0.070987                  -0.058766   \n",
              "3                   -0.070987                  -0.058766   \n",
              "4                   -0.070987                  -0.058766   \n",
              "\n",
              "   AMT_REQ_CREDIT_BUREAU_WEEK  AMT_REQ_CREDIT_BUREAU_MON  \\\n",
              "0                   -0.155837                  -0.269947   \n",
              "1                   -0.155837                  -0.269947   \n",
              "2                   -0.155837                  -0.269947   \n",
              "3                   -0.155837                  -0.269947   \n",
              "4                   -0.155837                  -0.269947   \n",
              "\n",
              "   AMT_REQ_CREDIT_BUREAU_QRT  AMT_REQ_CREDIT_BUREAU_YEAR  \n",
              "0                   -0.30862                   -0.440926  \n",
              "1                   -0.30862                   -1.007331  \n",
              "2                   -0.30862                   -1.007331  \n",
              "3                   -0.30862                   -0.440926  \n",
              "4                   -0.30862                   -1.007331  \n",
              "\n",
              "[5 rows x 106 columns]"
            ]
          },
          "metadata": {
            "tags": []
          },
          "execution_count": 32
        }
      ]
    },
    {
      "metadata": {
        "id": "O-5RPpNsL7Rb",
        "colab_type": "code",
        "outputId": "080f70f9-cfdc-448a-8d84-905b1799e284",
        "colab": {
          "base_uri": "https://localhost:8080/",
          "height": 102
        }
      },
      "cell_type": "code",
      "source": [
        "application_train_coded = pd.concat([application_train_num,application_train_cat],axis=1)\n",
        "# application_train_coded.to_csv(r'/gdrive/My Drive/Colab Notebooks/Home Credit Default Risk/files/application_train_files/application_train_coded.csv')\n",
        "application_train_coded.info()"
      ],
      "execution_count": 0,
      "outputs": [
        {
          "output_type": "stream",
          "text": [
            "<class 'pandas.core.frame.DataFrame'>\n",
            "RangeIndex: 307511 entries, 0 to 307510\n",
            "Columns: 122 entries, SK_ID_CURR to EMERGENCYSTATE_MODE\n",
            "dtypes: float64(120), int64(2)\n",
            "memory usage: 286.2 MB\n"
          ],
          "name": "stdout"
        }
      ]
    },
    {
      "metadata": {
        "id": "PC0yXS73tzhW",
        "colab_type": "code",
        "outputId": "e627f7a8-e0ac-42c6-fde5-ffa2b32f60e2",
        "colab": {
          "base_uri": "https://localhost:8080/",
          "height": 391
        }
      },
      "cell_type": "code",
      "source": [
        "bureau.info()"
      ],
      "execution_count": 0,
      "outputs": [
        {
          "output_type": "stream",
          "text": [
            "<class 'pandas.core.frame.DataFrame'>\n",
            "RangeIndex: 1716428 entries, 0 to 1716427\n",
            "Data columns (total 17 columns):\n",
            "SK_ID_CURR                int64\n",
            "SK_ID_BUREAU              int64\n",
            "CREDIT_ACTIVE             object\n",
            "CREDIT_CURRENCY           object\n",
            "DAYS_CREDIT               int64\n",
            "CREDIT_DAY_OVERDUE        int64\n",
            "DAYS_CREDIT_ENDDATE       float64\n",
            "DAYS_ENDDATE_FACT         float64\n",
            "AMT_CREDIT_MAX_OVERDUE    float64\n",
            "CNT_CREDIT_PROLONG        int64\n",
            "AMT_CREDIT_SUM            float64\n",
            "AMT_CREDIT_SUM_DEBT       float64\n",
            "AMT_CREDIT_SUM_LIMIT      float64\n",
            "AMT_CREDIT_SUM_OVERDUE    float64\n",
            "CREDIT_TYPE               object\n",
            "DAYS_CREDIT_UPDATE        int64\n",
            "AMT_ANNUITY               float64\n",
            "dtypes: float64(8), int64(6), object(3)\n",
            "memory usage: 222.6+ MB\n"
          ],
          "name": "stdout"
        }
      ]
    },
    {
      "metadata": {
        "id": "3jEhEDSlvlQH",
        "colab_type": "code",
        "outputId": "f813050e-7920-43ae-e555-c1fb9cef0ef4",
        "colab": {
          "base_uri": "https://localhost:8080/",
          "height": 323
        }
      },
      "cell_type": "code",
      "source": [
        "bureau.isnull().sum()"
      ],
      "execution_count": 0,
      "outputs": [
        {
          "output_type": "execute_result",
          "data": {
            "text/plain": [
              "SK_ID_CURR                      0\n",
              "SK_ID_BUREAU                    0\n",
              "CREDIT_ACTIVE                   0\n",
              "CREDIT_CURRENCY                 0\n",
              "DAYS_CREDIT                     0\n",
              "CREDIT_DAY_OVERDUE              0\n",
              "DAYS_CREDIT_ENDDATE        105553\n",
              "DAYS_ENDDATE_FACT          633653\n",
              "AMT_CREDIT_MAX_OVERDUE    1124488\n",
              "CNT_CREDIT_PROLONG              0\n",
              "AMT_CREDIT_SUM                 13\n",
              "AMT_CREDIT_SUM_DEBT        257669\n",
              "AMT_CREDIT_SUM_LIMIT       591780\n",
              "AMT_CREDIT_SUM_OVERDUE          0\n",
              "CREDIT_TYPE                     0\n",
              "DAYS_CREDIT_UPDATE              0\n",
              "AMT_ANNUITY               1226791\n",
              "dtype: int64"
            ]
          },
          "metadata": {
            "tags": []
          },
          "execution_count": 6
        }
      ]
    },
    {
      "metadata": {
        "id": "OhxpqA2rxv-J",
        "colab_type": "code",
        "outputId": "7659682e-4240-4a01-b925-29efd97f3649",
        "colab": {
          "base_uri": "https://localhost:8080/",
          "height": 280
        }
      },
      "cell_type": "code",
      "source": [
        "bureau.head()"
      ],
      "execution_count": 0,
      "outputs": [
        {
          "output_type": "execute_result",
          "data": {
            "text/html": [
              "<div>\n",
              "<style scoped>\n",
              "    .dataframe tbody tr th:only-of-type {\n",
              "        vertical-align: middle;\n",
              "    }\n",
              "\n",
              "    .dataframe tbody tr th {\n",
              "        vertical-align: top;\n",
              "    }\n",
              "\n",
              "    .dataframe thead th {\n",
              "        text-align: right;\n",
              "    }\n",
              "</style>\n",
              "<table border=\"1\" class=\"dataframe\">\n",
              "  <thead>\n",
              "    <tr style=\"text-align: right;\">\n",
              "      <th></th>\n",
              "      <th>SK_ID_CURR</th>\n",
              "      <th>SK_ID_BUREAU</th>\n",
              "      <th>CREDIT_ACTIVE</th>\n",
              "      <th>CREDIT_CURRENCY</th>\n",
              "      <th>DAYS_CREDIT</th>\n",
              "      <th>CREDIT_DAY_OVERDUE</th>\n",
              "      <th>DAYS_CREDIT_ENDDATE</th>\n",
              "      <th>DAYS_ENDDATE_FACT</th>\n",
              "      <th>AMT_CREDIT_MAX_OVERDUE</th>\n",
              "      <th>CNT_CREDIT_PROLONG</th>\n",
              "      <th>AMT_CREDIT_SUM</th>\n",
              "      <th>AMT_CREDIT_SUM_DEBT</th>\n",
              "      <th>AMT_CREDIT_SUM_LIMIT</th>\n",
              "      <th>AMT_CREDIT_SUM_OVERDUE</th>\n",
              "      <th>CREDIT_TYPE</th>\n",
              "      <th>DAYS_CREDIT_UPDATE</th>\n",
              "      <th>AMT_ANNUITY</th>\n",
              "    </tr>\n",
              "  </thead>\n",
              "  <tbody>\n",
              "    <tr>\n",
              "      <th>0</th>\n",
              "      <td>215354</td>\n",
              "      <td>5714462</td>\n",
              "      <td>Closed</td>\n",
              "      <td>currency 1</td>\n",
              "      <td>-497</td>\n",
              "      <td>0</td>\n",
              "      <td>-153.0</td>\n",
              "      <td>-153.0</td>\n",
              "      <td>NaN</td>\n",
              "      <td>0</td>\n",
              "      <td>91323.0</td>\n",
              "      <td>0.0</td>\n",
              "      <td>NaN</td>\n",
              "      <td>0.0</td>\n",
              "      <td>Consumer credit</td>\n",
              "      <td>-131</td>\n",
              "      <td>NaN</td>\n",
              "    </tr>\n",
              "    <tr>\n",
              "      <th>1</th>\n",
              "      <td>215354</td>\n",
              "      <td>5714463</td>\n",
              "      <td>Active</td>\n",
              "      <td>currency 1</td>\n",
              "      <td>-208</td>\n",
              "      <td>0</td>\n",
              "      <td>1075.0</td>\n",
              "      <td>NaN</td>\n",
              "      <td>NaN</td>\n",
              "      <td>0</td>\n",
              "      <td>225000.0</td>\n",
              "      <td>171342.0</td>\n",
              "      <td>NaN</td>\n",
              "      <td>0.0</td>\n",
              "      <td>Credit card</td>\n",
              "      <td>-20</td>\n",
              "      <td>NaN</td>\n",
              "    </tr>\n",
              "    <tr>\n",
              "      <th>2</th>\n",
              "      <td>215354</td>\n",
              "      <td>5714464</td>\n",
              "      <td>Active</td>\n",
              "      <td>currency 1</td>\n",
              "      <td>-203</td>\n",
              "      <td>0</td>\n",
              "      <td>528.0</td>\n",
              "      <td>NaN</td>\n",
              "      <td>NaN</td>\n",
              "      <td>0</td>\n",
              "      <td>464323.5</td>\n",
              "      <td>NaN</td>\n",
              "      <td>NaN</td>\n",
              "      <td>0.0</td>\n",
              "      <td>Consumer credit</td>\n",
              "      <td>-16</td>\n",
              "      <td>NaN</td>\n",
              "    </tr>\n",
              "    <tr>\n",
              "      <th>3</th>\n",
              "      <td>215354</td>\n",
              "      <td>5714465</td>\n",
              "      <td>Active</td>\n",
              "      <td>currency 1</td>\n",
              "      <td>-203</td>\n",
              "      <td>0</td>\n",
              "      <td>NaN</td>\n",
              "      <td>NaN</td>\n",
              "      <td>NaN</td>\n",
              "      <td>0</td>\n",
              "      <td>90000.0</td>\n",
              "      <td>NaN</td>\n",
              "      <td>NaN</td>\n",
              "      <td>0.0</td>\n",
              "      <td>Credit card</td>\n",
              "      <td>-16</td>\n",
              "      <td>NaN</td>\n",
              "    </tr>\n",
              "    <tr>\n",
              "      <th>4</th>\n",
              "      <td>215354</td>\n",
              "      <td>5714466</td>\n",
              "      <td>Active</td>\n",
              "      <td>currency 1</td>\n",
              "      <td>-629</td>\n",
              "      <td>0</td>\n",
              "      <td>1197.0</td>\n",
              "      <td>NaN</td>\n",
              "      <td>77674.5</td>\n",
              "      <td>0</td>\n",
              "      <td>2700000.0</td>\n",
              "      <td>NaN</td>\n",
              "      <td>NaN</td>\n",
              "      <td>0.0</td>\n",
              "      <td>Consumer credit</td>\n",
              "      <td>-21</td>\n",
              "      <td>NaN</td>\n",
              "    </tr>\n",
              "  </tbody>\n",
              "</table>\n",
              "</div>"
            ],
            "text/plain": [
              "   SK_ID_CURR  SK_ID_BUREAU CREDIT_ACTIVE CREDIT_CURRENCY  DAYS_CREDIT  \\\n",
              "0      215354       5714462        Closed      currency 1         -497   \n",
              "1      215354       5714463        Active      currency 1         -208   \n",
              "2      215354       5714464        Active      currency 1         -203   \n",
              "3      215354       5714465        Active      currency 1         -203   \n",
              "4      215354       5714466        Active      currency 1         -629   \n",
              "\n",
              "   CREDIT_DAY_OVERDUE  DAYS_CREDIT_ENDDATE  DAYS_ENDDATE_FACT  \\\n",
              "0                   0               -153.0             -153.0   \n",
              "1                   0               1075.0                NaN   \n",
              "2                   0                528.0                NaN   \n",
              "3                   0                  NaN                NaN   \n",
              "4                   0               1197.0                NaN   \n",
              "\n",
              "   AMT_CREDIT_MAX_OVERDUE  CNT_CREDIT_PROLONG  AMT_CREDIT_SUM  \\\n",
              "0                     NaN                   0         91323.0   \n",
              "1                     NaN                   0        225000.0   \n",
              "2                     NaN                   0        464323.5   \n",
              "3                     NaN                   0         90000.0   \n",
              "4                 77674.5                   0       2700000.0   \n",
              "\n",
              "   AMT_CREDIT_SUM_DEBT  AMT_CREDIT_SUM_LIMIT  AMT_CREDIT_SUM_OVERDUE  \\\n",
              "0                  0.0                   NaN                     0.0   \n",
              "1             171342.0                   NaN                     0.0   \n",
              "2                  NaN                   NaN                     0.0   \n",
              "3                  NaN                   NaN                     0.0   \n",
              "4                  NaN                   NaN                     0.0   \n",
              "\n",
              "       CREDIT_TYPE  DAYS_CREDIT_UPDATE  AMT_ANNUITY  \n",
              "0  Consumer credit                -131          NaN  \n",
              "1      Credit card                 -20          NaN  \n",
              "2  Consumer credit                 -16          NaN  \n",
              "3      Credit card                 -16          NaN  \n",
              "4  Consumer credit                 -21          NaN  "
            ]
          },
          "metadata": {
            "tags": []
          },
          "execution_count": 7
        }
      ]
    },
    {
      "metadata": {
        "id": "uDPTCE3ltzUs",
        "colab_type": "code",
        "outputId": "3a36a9a7-50bf-4ef9-f6f0-836b95aab2f9",
        "colab": {
          "base_uri": "https://localhost:8080/",
          "height": 153
        }
      },
      "cell_type": "code",
      "source": [
        "bureau_balance.info()"
      ],
      "execution_count": 0,
      "outputs": [
        {
          "output_type": "stream",
          "text": [
            "<class 'pandas.core.frame.DataFrame'>\n",
            "RangeIndex: 27299925 entries, 0 to 27299924\n",
            "Data columns (total 3 columns):\n",
            "SK_ID_BUREAU      int64\n",
            "MONTHS_BALANCE    int64\n",
            "STATUS            object\n",
            "dtypes: int64(2), object(1)\n",
            "memory usage: 624.8+ MB\n"
          ],
          "name": "stdout"
        }
      ]
    },
    {
      "metadata": {
        "id": "ME0APXk4vc3v",
        "colab_type": "code",
        "outputId": "20b87b01-f432-4f95-f368-a888630a0bbf",
        "colab": {
          "base_uri": "https://localhost:8080/",
          "height": 85
        }
      },
      "cell_type": "code",
      "source": [
        "bureau_balance.isnull().sum()"
      ],
      "execution_count": 0,
      "outputs": [
        {
          "output_type": "execute_result",
          "data": {
            "text/plain": [
              "SK_ID_BUREAU      0\n",
              "MONTHS_BALANCE    0\n",
              "STATUS            0\n",
              "dtype: int64"
            ]
          },
          "metadata": {
            "tags": []
          },
          "execution_count": 9
        }
      ]
    },
    {
      "metadata": {
        "id": "0vL0aobQxk99",
        "colab_type": "code",
        "outputId": "d6531de8-d296-47d0-c5ad-578a2b5b1fb8",
        "colab": {
          "base_uri": "https://localhost:8080/",
          "height": 204
        }
      },
      "cell_type": "code",
      "source": [
        "bureau_balance.head()"
      ],
      "execution_count": 0,
      "outputs": [
        {
          "output_type": "execute_result",
          "data": {
            "text/html": [
              "<div>\n",
              "<style scoped>\n",
              "    .dataframe tbody tr th:only-of-type {\n",
              "        vertical-align: middle;\n",
              "    }\n",
              "\n",
              "    .dataframe tbody tr th {\n",
              "        vertical-align: top;\n",
              "    }\n",
              "\n",
              "    .dataframe thead th {\n",
              "        text-align: right;\n",
              "    }\n",
              "</style>\n",
              "<table border=\"1\" class=\"dataframe\">\n",
              "  <thead>\n",
              "    <tr style=\"text-align: right;\">\n",
              "      <th></th>\n",
              "      <th>SK_ID_BUREAU</th>\n",
              "      <th>MONTHS_BALANCE</th>\n",
              "      <th>STATUS</th>\n",
              "    </tr>\n",
              "  </thead>\n",
              "  <tbody>\n",
              "    <tr>\n",
              "      <th>0</th>\n",
              "      <td>5715448</td>\n",
              "      <td>0</td>\n",
              "      <td>C</td>\n",
              "    </tr>\n",
              "    <tr>\n",
              "      <th>1</th>\n",
              "      <td>5715448</td>\n",
              "      <td>-1</td>\n",
              "      <td>C</td>\n",
              "    </tr>\n",
              "    <tr>\n",
              "      <th>2</th>\n",
              "      <td>5715448</td>\n",
              "      <td>-2</td>\n",
              "      <td>C</td>\n",
              "    </tr>\n",
              "    <tr>\n",
              "      <th>3</th>\n",
              "      <td>5715448</td>\n",
              "      <td>-3</td>\n",
              "      <td>C</td>\n",
              "    </tr>\n",
              "    <tr>\n",
              "      <th>4</th>\n",
              "      <td>5715448</td>\n",
              "      <td>-4</td>\n",
              "      <td>C</td>\n",
              "    </tr>\n",
              "  </tbody>\n",
              "</table>\n",
              "</div>"
            ],
            "text/plain": [
              "   SK_ID_BUREAU  MONTHS_BALANCE STATUS\n",
              "0       5715448               0      C\n",
              "1       5715448              -1      C\n",
              "2       5715448              -2      C\n",
              "3       5715448              -3      C\n",
              "4       5715448              -4      C"
            ]
          },
          "metadata": {
            "tags": []
          },
          "execution_count": 10
        }
      ]
    },
    {
      "metadata": {
        "id": "2dBpuxdyvIkx",
        "colab_type": "code",
        "colab": {}
      },
      "cell_type": "code",
      "source": [
        "bureau = bureau.merge(bureau_balance, how='left', on='SK_ID_BUREAU')"
      ],
      "execution_count": 0,
      "outputs": []
    },
    {
      "metadata": {
        "id": "0mWBBEASv6uG",
        "colab_type": "code",
        "outputId": "ffe984cb-9133-4fd8-b12d-d689618230ae",
        "colab": {
          "base_uri": "https://localhost:8080/",
          "height": 425
        }
      },
      "cell_type": "code",
      "source": [
        "bureau.info()"
      ],
      "execution_count": 0,
      "outputs": [
        {
          "output_type": "stream",
          "text": [
            "<class 'pandas.core.frame.DataFrame'>\n",
            "Int64Index: 25121815 entries, 0 to 25121814\n",
            "Data columns (total 19 columns):\n",
            "SK_ID_CURR                int64\n",
            "SK_ID_BUREAU              int64\n",
            "CREDIT_ACTIVE             object\n",
            "CREDIT_CURRENCY           object\n",
            "DAYS_CREDIT               int64\n",
            "CREDIT_DAY_OVERDUE        int64\n",
            "DAYS_CREDIT_ENDDATE       float64\n",
            "DAYS_ENDDATE_FACT         float64\n",
            "AMT_CREDIT_MAX_OVERDUE    float64\n",
            "CNT_CREDIT_PROLONG        int64\n",
            "AMT_CREDIT_SUM            float64\n",
            "AMT_CREDIT_SUM_DEBT       float64\n",
            "AMT_CREDIT_SUM_LIMIT      float64\n",
            "AMT_CREDIT_SUM_OVERDUE    float64\n",
            "CREDIT_TYPE               object\n",
            "DAYS_CREDIT_UPDATE        int64\n",
            "AMT_ANNUITY               float64\n",
            "MONTHS_BALANCE            float64\n",
            "STATUS                    object\n",
            "dtypes: float64(9), int64(6), object(4)\n",
            "memory usage: 3.7+ GB\n"
          ],
          "name": "stdout"
        }
      ]
    },
    {
      "metadata": {
        "id": "4xLYWjhCvefG",
        "colab_type": "code",
        "outputId": "241654f7-1ab7-45f1-ce2b-370884016dd5",
        "colab": {
          "base_uri": "https://localhost:8080/",
          "height": 357
        }
      },
      "cell_type": "code",
      "source": [
        "bureau.isnull().sum()"
      ],
      "execution_count": 0,
      "outputs": [
        {
          "output_type": "execute_result",
          "data": {
            "text/plain": [
              "SK_ID_CURR                       0\n",
              "SK_ID_BUREAU                     0\n",
              "CREDIT_ACTIVE                    0\n",
              "CREDIT_CURRENCY                  0\n",
              "DAYS_CREDIT                      0\n",
              "CREDIT_DAY_OVERDUE               0\n",
              "DAYS_CREDIT_ENDDATE        1232569\n",
              "DAYS_ENDDATE_FACT          5978831\n",
              "AMT_CREDIT_MAX_OVERDUE    18130741\n",
              "CNT_CREDIT_PROLONG               0\n",
              "AMT_CREDIT_SUM                  13\n",
              "AMT_CREDIT_SUM_DEBT        4234392\n",
              "AMT_CREDIT_SUM_LIMIT      10671361\n",
              "AMT_CREDIT_SUM_OVERDUE           0\n",
              "CREDIT_TYPE                      0\n",
              "DAYS_CREDIT_UPDATE               0\n",
              "AMT_ANNUITY               10495530\n",
              "MONTHS_BALANCE              942074\n",
              "STATUS                      942074\n",
              "dtype: int64"
            ]
          },
          "metadata": {
            "tags": []
          },
          "execution_count": 13
        }
      ]
    },
    {
      "metadata": {
        "id": "cCOvdneDwIeB",
        "colab_type": "code",
        "colab": {}
      },
      "cell_type": "code",
      "source": [
        "grouped = bureau.groupby(['SK_ID_CURR','SK_ID_BUREAU'])['SK_ID_BUREAU'].count()"
      ],
      "execution_count": 0,
      "outputs": []
    },
    {
      "metadata": {
        "id": "wOsc5jZ70gUi",
        "colab_type": "code",
        "colab": {
          "base_uri": "https://localhost:8080/",
          "height": 1088
        },
        "outputId": "a03a5d7e-7dfd-466e-d6df-08a04f04b9f1"
      },
      "cell_type": "code",
      "source": [
        "grouped"
      ],
      "execution_count": 27,
      "outputs": [
        {
          "output_type": "execute_result",
          "data": {
            "text/plain": [
              "SK_ID_CURR  SK_ID_BUREAU\n",
              "100001      5896630         29\n",
              "            5896631         30\n",
              "            5896632         29\n",
              "            5896633         52\n",
              "            5896634         19\n",
              "            5896635          2\n",
              "            5896636         11\n",
              "100002      6113835         16\n",
              "            6158903         16\n",
              "            6158904         22\n",
              "            6158905         16\n",
              "            6158906         16\n",
              "            6158907         16\n",
              "            6158908          4\n",
              "            6158909          4\n",
              "100003      5885877          1\n",
              "            5885878          1\n",
              "            5885879          1\n",
              "            5885880          1\n",
              "100004      6829133          1\n",
              "            6829134          1\n",
              "100005      6735200         13\n",
              "            6735201          5\n",
              "            6735202          3\n",
              "100007      5987200          1\n",
              "100008      6491432          1\n",
              "            6491433          1\n",
              "            6491434          1\n",
              "100009      5650996          1\n",
              "            5650997          1\n",
              "                            ..\n",
              "456249      5371696          1\n",
              "            5371697          1\n",
              "            5371698          1\n",
              "            5371699          1\n",
              "            5371700          1\n",
              "            5371701          1\n",
              "            5371702          1\n",
              "            5371703          1\n",
              "            5371704          1\n",
              "            5371705          1\n",
              "            5371706          1\n",
              "456250      6817236         33\n",
              "            6817237         26\n",
              "            6817238         28\n",
              "456253      5113039         31\n",
              "            6098498         31\n",
              "            6098499         31\n",
              "            6230038         24\n",
              "456254      6669849         37\n",
              "456255      5126327         34\n",
              "            5126328         32\n",
              "            5126329         19\n",
              "            5126330         33\n",
              "            5126331         34\n",
              "            5126332         13\n",
              "            5126333         12\n",
              "            5126334         15\n",
              "            5126335         33\n",
              "            5126336         33\n",
              "            5126337         35\n",
              "Name: SK_ID_BUREAU, Length: 1716428, dtype: int64"
            ]
          },
          "metadata": {
            "tags": []
          },
          "execution_count": 27
        }
      ]
    },
    {
      "metadata": {
        "id": "_IVQAH0htzrj",
        "colab_type": "code",
        "colab": {}
      },
      "cell_type": "code",
      "source": [
        "credit_card_balance.info()"
      ],
      "execution_count": 0,
      "outputs": []
    },
    {
      "metadata": {
        "id": "XauRcaL_vtLx",
        "colab_type": "code",
        "colab": {}
      },
      "cell_type": "code",
      "source": [
        "credit_card_balance.isnull().sum()"
      ],
      "execution_count": 0,
      "outputs": []
    },
    {
      "metadata": {
        "id": "UDcQyYUEx42r",
        "colab_type": "code",
        "colab": {}
      },
      "cell_type": "code",
      "source": [
        "credit_card_balance.head()"
      ],
      "execution_count": 0,
      "outputs": []
    },
    {
      "metadata": {
        "id": "lmp_NL1HtzxA",
        "colab_type": "code",
        "colab": {}
      },
      "cell_type": "code",
      "source": [
        "installments_payments.info()"
      ],
      "execution_count": 0,
      "outputs": []
    },
    {
      "metadata": {
        "id": "Rlz8EL6ov5CH",
        "colab_type": "code",
        "colab": {}
      },
      "cell_type": "code",
      "source": [
        "installments_payments.isnull().sum()"
      ],
      "execution_count": 0,
      "outputs": []
    },
    {
      "metadata": {
        "id": "PjSHLFVxx_ro",
        "colab_type": "code",
        "colab": {}
      },
      "cell_type": "code",
      "source": [
        "installments_payments.head()"
      ],
      "execution_count": 0,
      "outputs": []
    },
    {
      "metadata": {
        "id": "EKngpEoquvvy",
        "colab_type": "code",
        "colab": {}
      },
      "cell_type": "code",
      "source": [
        "POS_CASH_balance.info()"
      ],
      "execution_count": 0,
      "outputs": []
    },
    {
      "metadata": {
        "id": "q33a0DG-wDBh",
        "colab_type": "code",
        "colab": {}
      },
      "cell_type": "code",
      "source": [
        "POS_CASH_balance.isnull().sum()"
      ],
      "execution_count": 0,
      "outputs": []
    },
    {
      "metadata": {
        "id": "P6cPEW42yE4I",
        "colab_type": "code",
        "colab": {}
      },
      "cell_type": "code",
      "source": [
        "POS_CASH_balance.head()"
      ],
      "execution_count": 0,
      "outputs": []
    },
    {
      "metadata": {
        "id": "783eeu7nvBLr",
        "colab_type": "code",
        "colab": {}
      },
      "cell_type": "code",
      "source": [
        "previous_application.info()"
      ],
      "execution_count": 0,
      "outputs": []
    },
    {
      "metadata": {
        "id": "jk2BFRZVwKc5",
        "colab_type": "code",
        "colab": {}
      },
      "cell_type": "code",
      "source": [
        "previous_application.isnull().sum()"
      ],
      "execution_count": 0,
      "outputs": []
    },
    {
      "metadata": {
        "id": "BngaTaqWyKL7",
        "colab_type": "code",
        "colab": {}
      },
      "cell_type": "code",
      "source": [
        "previous_application.head()"
      ],
      "execution_count": 0,
      "outputs": []
    },
    {
      "metadata": {
        "id": "6uPerb3Kwl7f",
        "colab_type": "code",
        "colab": {}
      },
      "cell_type": "code",
      "source": [
        "application_train = application_train.merge(bureau,how='left',on='SK_ID_CURR')\n",
        "application_train = application_train.merge(bureau_balance,how='left',on='SK_ID_BUREAU')\n",
        "\n",
        "application_train = application_train.merge(previous_application,how='left',on='SK_ID_CURR')\n",
        "application_train = application_train.merge(POS_CASH_balance,how='left',on='SK_ID_PREV')\n",
        "application_train = application_train.merge(installments_payments,how='left',on='SK_ID_PREV')\n",
        "application_train = application_train.merge(credit_card_balance,how='left',on='SK_ID_PREV')"
      ],
      "execution_count": 0,
      "outputs": []
    },
    {
      "metadata": {
        "id": "4sp9aHaZucfk",
        "colab_type": "text"
      },
      "cell_type": "markdown",
      "source": [
        "### Now, we want to join information from the other datasets into the marketing funnel. Based on the schema diagram, 'order_items' should be the next dataset we merge.  Let's get some information about the 'order_items' dataset... We will merge it with the marketing funnel on the 'seller_id' column."
      ]
    },
    {
      "metadata": {
        "id": "6oar6q9wbkbA",
        "colab_type": "code",
        "colab": {}
      },
      "cell_type": "code",
      "source": [
        "order_items.info()"
      ],
      "execution_count": 0,
      "outputs": []
    },
    {
      "metadata": {
        "id": "380DTTBEcQ7d",
        "colab_type": "code",
        "colab": {}
      },
      "cell_type": "code",
      "source": [
        "mf_items = mf.merge(order_items, how='left', on='seller_id')\n",
        "mf_items['mql_id'].nunique()"
      ],
      "execution_count": 0,
      "outputs": []
    },
    {
      "metadata": {
        "id": "bYwdFATHkqNM",
        "colab_type": "code",
        "colab": {}
      },
      "cell_type": "code",
      "source": [
        "mf_items.info()"
      ],
      "execution_count": 0,
      "outputs": []
    },
    {
      "metadata": {
        "id": "RVFgKZZuhrgi",
        "colab_type": "text"
      },
      "cell_type": "markdown",
      "source": [
        "### Let's take a look at the 'sellers' dataset..."
      ]
    },
    {
      "metadata": {
        "id": "mXg0Ruq5mJta",
        "colab_type": "code",
        "colab": {}
      },
      "cell_type": "code",
      "source": [
        "sellers.info()"
      ],
      "execution_count": 0,
      "outputs": []
    },
    {
      "metadata": {
        "id": "Q6N3OGRZmghS",
        "colab_type": "code",
        "colab": {}
      },
      "cell_type": "code",
      "source": [
        "sellers['seller_id'].nunique()"
      ],
      "execution_count": 0,
      "outputs": []
    },
    {
      "metadata": {
        "id": "3TutCE9Ms6n7",
        "colab_type": "text"
      },
      "cell_type": "markdown",
      "source": [
        "### So we can conclude that the dataset has 3095 unique sellers.  Let's merge the seller information for each of the leads in the marketing funnel."
      ]
    },
    {
      "metadata": {
        "id": "0_VwQcW-wbSw",
        "colab_type": "code",
        "colab": {}
      },
      "cell_type": "code",
      "source": [
        "mf_sellers = mf.merge(sellers, how='left', on='seller_id')\n",
        "mf_sellers['mql_id'].nunique()"
      ],
      "execution_count": 0,
      "outputs": []
    },
    {
      "metadata": {
        "id": "_Fgp_fnlkcOk",
        "colab_type": "code",
        "colab": {}
      },
      "cell_type": "code",
      "source": [
        "mf_sellers['seller_id'].nunique()"
      ],
      "execution_count": 0,
      "outputs": []
    },
    {
      "metadata": {
        "id": "c2T2Ggh29rKb",
        "colab_type": "code",
        "colab": {}
      },
      "cell_type": "code",
      "source": [
        "geolocation.info()"
      ],
      "execution_count": 0,
      "outputs": []
    },
    {
      "metadata": {
        "id": "Xi9w8Ojq91qg",
        "colab_type": "text"
      },
      "cell_type": "markdown",
      "source": [
        "###Now, in order to merge the 'geolocation' information into the marketing funnel on *zip_code_prefix*, we need to remove the duplicate values in 'geolocation' and then change the column names in both datasets."
      ]
    },
    {
      "metadata": {
        "id": "jqLzfAYcVj46",
        "colab_type": "code",
        "colab": {}
      },
      "cell_type": "code",
      "source": [
        "geolocation['geolocation_zip_code_prefix'].value_counts()"
      ],
      "execution_count": 0,
      "outputs": []
    },
    {
      "metadata": {
        "id": "84x912rjPm2k",
        "colab_type": "code",
        "colab": {}
      },
      "cell_type": "code",
      "source": [
        "geolocation = geolocation.drop_duplicates('geolocation_zip_code_prefix',keep='first')\n",
        "geolocation['geolocation_zip_code_prefix'].value_counts()"
      ],
      "execution_count": 0,
      "outputs": []
    },
    {
      "metadata": {
        "id": "jfJ3G65M8Y25",
        "colab_type": "code",
        "colab": {}
      },
      "cell_type": "code",
      "source": [
        "mf_sellers.rename(columns = {'seller_zip_code_prefix':'zip_code_prefix'},inplace=True)\n",
        "geolocation.rename(columns = {'geolocation_zip_code_prefix':'zip_code_prefix'},inplace=True)"
      ],
      "execution_count": 0,
      "outputs": []
    },
    {
      "metadata": {
        "id": "O2U0bufinWWr",
        "colab_type": "text"
      },
      "cell_type": "markdown",
      "source": [
        "### We verify that the correct columns have been renamed..."
      ]
    },
    {
      "metadata": {
        "id": "zvEvm3T0B01k",
        "colab_type": "code",
        "colab": {}
      },
      "cell_type": "code",
      "source": [
        " # mf_sellers.info()"
      ],
      "execution_count": 0,
      "outputs": []
    },
    {
      "metadata": {
        "id": "S61xThSLsvAc",
        "colab_type": "code",
        "colab": {}
      },
      "cell_type": "code",
      "source": [
        "# geolocation.info()"
      ],
      "execution_count": 0,
      "outputs": []
    },
    {
      "metadata": {
        "id": "RzT_KtmID0gY",
        "colab_type": "code",
        "colab": {}
      },
      "cell_type": "code",
      "source": [
        "mf_sellers = pd.merge(mf_sellers,geolocation[['zip_code_prefix','geolocation_lat','geolocation_lng']], how = 'left',on='zip_code_prefix')\n",
        "mf_sellers.info()"
      ],
      "execution_count": 0,
      "outputs": []
    },
    {
      "metadata": {
        "id": "JBIJzBDAjv8P",
        "colab_type": "code",
        "colab": {}
      },
      "cell_type": "code",
      "source": [
        "mf_sellers.head()"
      ],
      "execution_count": 0,
      "outputs": []
    },
    {
      "metadata": {
        "id": "_o_N3WzDbi6U",
        "colab_type": "text"
      },
      "cell_type": "markdown",
      "source": [
        "### Let's take a look at the frequency of the unique values in each column of the 2 marketing funnels. For now, we will skip the id and date columns to keep our analysis clean.\n",
        "\n",
        "## mf_items:\n",
        "\n",
        "<class 'pandas.core.frame.DataFrame'>\n",
        "\n",
        "\n",
        "### Data columns (total 23 columns):\n",
        "\n",
        "mql_id                           12664 non-null object\n",
        "\n",
        "first_contact_date               12664 non-null datetime64[ns]\n",
        "\n",
        "landing_page_id                  12664 non-null object\n",
        "\n",
        "origin                           12597 non-null object\n",
        "\n",
        "seller_id                        5506 non-null object\n",
        "\n",
        "sdr_id                           5506 non-null object\n",
        "\n",
        "sr_id                            5506 non-null object\n",
        "\n",
        "won_date                         5506 non-null datetime64[ns]\n",
        "\n",
        "business_segment                 5505 non-null object\n",
        "\n",
        "lead_type                        5455 non-null object\n",
        "\n",
        "lead_behaviour_profile           3679 non-null object\n",
        "\n",
        "has_company                      88 non-null object\n",
        "\n",
        "has_gtin                         89 non-null object\n",
        "\n",
        "average_stock                    91 non-null object\n",
        "\n",
        "business_type                    5494 non-null object\n",
        "\n",
        "declared_product_catalog_size    69 non-null float64\n",
        "\n",
        "declared_monthly_revenue         5506 non-null float64\n",
        "\n",
        "order_id                         5044 non-null object\n",
        "\n",
        "order_item_id                    5044 non-null float64\n",
        "\n",
        "product_id                       5044 non-null object\n",
        "\n",
        "shipping_limit_date              5044 non-null datetime64[ns]\n",
        "\n",
        "price                            5044 non-null float64\n",
        "\n",
        "freight_value                    5044 non-null float64\n",
        "\n",
        "dtypes: datetime64[ns](3), float64(5), object(15)\n",
        "\n",
        "memory usage: 2.3+ MB"
      ]
    },
    {
      "metadata": {
        "id": "BpA-qrGEcCHh",
        "colab_type": "code",
        "colab": {}
      },
      "cell_type": "code",
      "source": [
        "columns = ['origin','business_segment','lead_type','lead_behaviour_profile','has_company','has_gtin','average_stock',\n",
        "           'business_type']\n",
        "\n",
        "for col in columns:\n",
        "    print(mf_items[col].value_counts(),'\\n\\n',mf_items[col].value_counts(normalize=True),'\\n\\n')\n",
        "    "
      ],
      "execution_count": 0,
      "outputs": []
    },
    {
      "metadata": {
        "id": "yIOUCb1yzawV",
        "colab_type": "code",
        "colab": {}
      },
      "cell_type": "code",
      "source": [
        "mf_items_origin = mf_items['origin'].value_counts(normalize=True).reset_index()"
      ],
      "execution_count": 0,
      "outputs": []
    },
    {
      "metadata": {
        "id": "JPBosWiv0ukt",
        "colab_type": "code",
        "colab": {}
      },
      "cell_type": "code",
      "source": [
        "fig,ax = plt.subplots(figsize=(14,6))\n",
        "\n",
        "order = []                        # Set up order for barchart\n",
        "for row in mf_items_origin['index']:\n",
        "  order.append(row)\n",
        "\n",
        "sns.countplot(mf_items['origin'].sort_values(), order=order, palette=\"Blues_d\")\n",
        "ax.set_xlabel('Lead Source')\n",
        "ax.set_title('Lead Source Distribution')\n",
        "\n",
        "plt.show()"
      ],
      "execution_count": 0,
      "outputs": []
    },
    {
      "metadata": {
        "id": "i58WGe3qRToa",
        "colab_type": "code",
        "colab": {}
      },
      "cell_type": "code",
      "source": [
        "fig,ax = plt.subplots(figsize=(14,6))\n",
        "\n",
        "order = []                        # Set up order for barchart\n",
        "for row in mf_items_origin['index']:\n",
        "  order.append(row)\n",
        "\n",
        "sns.barplot(x ='index',y = 'origin', data = mf_items_origin, order=order, palette=\"Blues_d\")\n",
        "ax.set_xlabel('Lead Source')\n",
        "ax.set_ylabel('Normalized Count - % of Total')\n",
        "ax.set_title('Lead Source Distribution')\n",
        "\n",
        "plt.show()"
      ],
      "execution_count": 0,
      "outputs": []
    },
    {
      "metadata": {
        "id": "31K1QNhyTNHm",
        "colab_type": "code",
        "colab": {}
      },
      "cell_type": "code",
      "source": [
        "mf_items_business_segment = mf_items['business_segment'].value_counts(normalize=True).reset_index()"
      ],
      "execution_count": 0,
      "outputs": []
    },
    {
      "metadata": {
        "id": "SdNkecyVSvRP",
        "colab_type": "code",
        "colab": {}
      },
      "cell_type": "code",
      "source": [
        "fig,ax = plt.subplots(figsize=(14,6))\n",
        "\n",
        "order = []                        # Set up order for barchart\n",
        "for row in mf_items_business_segment['index']:\n",
        "  order.append(row)\n",
        "\n",
        "graph = sns.barplot(x ='index',y = 'business_segment', data = mf_items_business_segment, order=order, palette=\"Blues_d\")\n",
        "ax.set_xlabel('Business Segment')\n",
        "ax.set_ylabel('Normalized Count - % of Total')\n",
        "ax.set_title('Business Segment Distribution')\n",
        "graph.set_xticklabels(order,rotation=90)\n",
        "\n",
        "plt.show()"
      ],
      "execution_count": 0,
      "outputs": []
    },
    {
      "metadata": {
        "id": "0_vXL4vIVoZH",
        "colab_type": "code",
        "colab": {}
      },
      "cell_type": "code",
      "source": [
        "mf_items_lead_type = mf_items['lead_type'].value_counts(normalize=True).reset_index()"
      ],
      "execution_count": 0,
      "outputs": []
    },
    {
      "metadata": {
        "id": "FG0KB6HUVw-D",
        "colab_type": "code",
        "colab": {}
      },
      "cell_type": "code",
      "source": [
        "fig,ax = plt.subplots(figsize=(14,6))\n",
        "\n",
        "order = []                        # Set up order for barchart\n",
        "for row in mf_items_lead_type['index']:\n",
        "  order.append(row)\n",
        "\n",
        "graph = sns.barplot(x ='index',y ='lead_type', data = mf_items_lead_type, order=order, palette=\"Blues_d\")\n",
        "ax.set_xlabel('Lead Type')\n",
        "ax.set_ylabel('Normalized Count - % of Total')\n",
        "ax.set_title('Lead Type Distribution')\n",
        "# graph.set_xticklabels(order,rotation=90)\n",
        "\n",
        "plt.show()"
      ],
      "execution_count": 0,
      "outputs": []
    },
    {
      "metadata": {
        "id": "5n1v68wbWj6G",
        "colab_type": "code",
        "colab": {}
      },
      "cell_type": "code",
      "source": [
        "mf_items_lead_behaviour_profile = mf_items['lead_behaviour_profile'].value_counts(normalize=True).reset_index()"
      ],
      "execution_count": 0,
      "outputs": []
    },
    {
      "metadata": {
        "id": "Zy_sjlPAW6hL",
        "colab_type": "code",
        "colab": {}
      },
      "cell_type": "code",
      "source": [
        "fig,ax = plt.subplots(figsize=(14,6))\n",
        "\n",
        "order = []                        # Set up order for barchart\n",
        "for row in mf_items_lead_behaviour_profile['index']:\n",
        "  order.append(row)\n",
        "\n",
        "graph = sns.barplot(x ='index',y ='lead_behaviour_profile', data = mf_items_lead_behaviour_profile, order=order, palette=\"Blues_d\")\n",
        "ax.set_xlabel('Lead Behaviour Profile')\n",
        "ax.set_ylabel('Normalized Count - % of Total')\n",
        "ax.set_title('Lead Behaviour Profile Distribution')\n",
        "# graph.set_xticklabels(order,rotation=90)\n",
        "\n",
        "plt.show()"
      ],
      "execution_count": 0,
      "outputs": []
    },
    {
      "metadata": {
        "id": "YCZn2axzXmMU",
        "colab_type": "code",
        "colab": {}
      },
      "cell_type": "code",
      "source": [
        "mf_items_business_type = mf_items['business_type'].value_counts(normalize=True).reset_index()"
      ],
      "execution_count": 0,
      "outputs": []
    },
    {
      "metadata": {
        "id": "3f3rWNBNXuJ3",
        "colab_type": "code",
        "colab": {}
      },
      "cell_type": "code",
      "source": [
        "fig,ax = plt.subplots(figsize=(4,4))\n",
        "\n",
        "order = []                        # Set up order for barchart\n",
        "for row in mf_items_business_type['index']:\n",
        "  order.append(row)\n",
        "\n",
        "graph = sns.barplot(x ='index',y ='business_type', data = mf_items_business_type, order=order, palette=\"Blues_d\")\n",
        "ax.set_xlabel('Business Type Profile')\n",
        "ax.set_ylabel('Normalized Count - % of Total')\n",
        "ax.set_title('Business Type Profile Distribution')\n",
        "# graph.set_xticklabels(order,rotation=90)\n",
        "\n",
        "plt.show()"
      ],
      "execution_count": 0,
      "outputs": []
    },
    {
      "metadata": {
        "id": "Asz_e3fbqhnO",
        "colab_type": "text"
      },
      "cell_type": "markdown",
      "source": [
        "### Now, let's look at the 'mf_sellers' dataset.  We would like to get more information about where the sellers are located.  We can use the 'geolocation_lat' and 'geolocation_lng' fields and Python's 'Basemap' package to plot geographies.  We start with a basic Basemap plot of Earth."
      ]
    },
    {
      "metadata": {
        "id": "ZIhfmKA-nZuP",
        "colab_type": "code",
        "colab": {}
      },
      "cell_type": "code",
      "source": [
        "map = Basemap()\n",
        "\n",
        "map.drawcoastlines()\n",
        "\n",
        "plt.show()\n",
        "plt.savefig('test.png')"
      ],
      "execution_count": 0,
      "outputs": []
    },
    {
      "metadata": {
        "id": "Z8LeM3bfn3CU",
        "colab_type": "code",
        "colab": {}
      },
      "cell_type": "code",
      "source": [
        "map = Basemap(projection='ortho', \n",
        "              lat_0=0, lon_0=-90)\n",
        "\n",
        "#Fill the globe with a blue color \n",
        "map.drawmapboundary(fill_color='aqua')\n",
        "\n",
        "#Fill the continents with the land color\n",
        "map.fillcontinents(color='coral',lake_color='aqua')\n",
        "\n",
        "map.drawcoastlines()\n",
        "\n",
        "plt.show()"
      ],
      "execution_count": 0,
      "outputs": []
    },
    {
      "metadata": {
        "id": "dtQTyOrjq5CP",
        "colab_type": "code",
        "colab": {}
      },
      "cell_type": "code",
      "source": [
        "mf_sellers.info()"
      ],
      "execution_count": 0,
      "outputs": []
    },
    {
      "metadata": {
        "id": "D0VY_8I9a6f1",
        "colab_type": "text"
      },
      "cell_type": "markdown",
      "source": [
        "### Determine range to print based on min, max lat and long of the data"
      ]
    },
    {
      "metadata": {
        "id": "c8so4_ItWNbW",
        "colab_type": "code",
        "colab": {}
      },
      "cell_type": "code",
      "source": [
        "lat = np.asarray(mf_sellers['geolocation_lat'].dropna())\n",
        "lng = np.asarray(mf_sellers['geolocation_lng'].dropna())"
      ],
      "execution_count": 0,
      "outputs": []
    },
    {
      "metadata": {
        "id": "YHybb6LaNr-y",
        "colab_type": "code",
        "colab": {}
      },
      "cell_type": "code",
      "source": [
        "from geopy.geocoders import Nominatim\n",
        "\n",
        "geolocator = Nominatim()\n",
        "\n",
        "def PlotCity(city):\n",
        "  loc1 = geolocator.geocode(city)\n",
        "  x, y = map(loc1.longitude, loc1.latitude)\n",
        "  ax.plot(x, y, 'ok', markersize=10)\n",
        "  plt.text(x, y, city, fontsize=12,fontweight='bold')\n",
        "  return\n",
        " "
      ],
      "execution_count": 0,
      "outputs": []
    },
    {
      "metadata": {
        "id": "x-V2EyQMFats",
        "colab_type": "code",
        "colab": {}
      },
      "cell_type": "code",
      "source": [
        "margin = .2                     # buffer to add to the range\n",
        "lat_min = min(lat) - margin\n",
        "lat_max = max(lat) + margin\n",
        "lng_min = min(lng) - margin\n",
        "lng_max = max(lng) + margin\n",
        "\n",
        "# create map using BASEMAP\n",
        "fig,ax = plt.subplots(figsize=(14,8))\n",
        "\n",
        "map = Basemap(llcrnrlon=lng_min,\n",
        "            llcrnrlat=lat_min,\n",
        "            urcrnrlon=lng_max,\n",
        "            urcrnrlat=lat_max,\n",
        "            lat_0=(lat_max - lat_min)/2,\n",
        "            lon_0=(lng_max-lng_min)/2,\n",
        "            projection='merc',\n",
        "            resolution = 'h',\n",
        "            area_thresh=10000.,\n",
        "            )\n",
        "map.drawcoastlines()\n",
        "map.drawcountries()\n",
        "map.drawstates()\n",
        "map.drawmapboundary(fill_color='#46bcec')\n",
        "map.fillcontinents(color = 'white',lake_color='#46bcec')\n",
        "\n",
        "# convert lat and long to map projection coordinates\n",
        "x,y = map(lng, lat)\n",
        "\n",
        "# plot points as red dots\n",
        "\n",
        "map.scatter(x,y, marker = 'o', s=20,color='r',alpha=0.35, zorder=10)\n",
        "\n",
        "# Find and plot major cities\n",
        "\n",
        "city_list = ['Sao Paulo','Rio de Janeiro','Curitiba','Brasilia','Natal','Uberaba','Salvador-BA','Porto Alegre','Itajai']\n",
        "\n",
        "for city in city_list:\n",
        "  PlotCity(city)\n",
        "\n",
        "plt.title(\"Olist Seller Locations in Brazil\",fontsize=20,fontweight='bold')\n",
        "plt.show()"
      ],
      "execution_count": 0,
      "outputs": []
    },
    {
      "metadata": {
        "id": "Nron3SckrpGU",
        "colab_type": "text"
      },
      "cell_type": "markdown",
      "source": [
        "### Let's look at characteristics of the closed deals..."
      ]
    },
    {
      "metadata": {
        "id": "RXXQ0LLfrShF",
        "colab_type": "code",
        "colab": {}
      },
      "cell_type": "code",
      "source": [
        "cd.info()"
      ],
      "execution_count": 0,
      "outputs": []
    },
    {
      "metadata": {
        "id": "CxSMj1jwk4g5",
        "colab_type": "text"
      },
      "cell_type": "markdown",
      "source": [
        "### If we merge 'cd' with 'order_items' we find out about sellers and items that associated with closed deals."
      ]
    },
    {
      "metadata": {
        "id": "Nl3SlaGKsLmm",
        "colab_type": "code",
        "colab": {}
      },
      "cell_type": "code",
      "source": [
        "cd_items = cd.merge(order_items,how='left',on='seller_id')\n",
        "print(cd_items['mql_id'].nunique())\n",
        "cd_items.info()"
      ],
      "execution_count": 0,
      "outputs": []
    },
    {
      "metadata": {
        "id": "xDCCFb96owri",
        "colab_type": "text"
      },
      "cell_type": "markdown",
      "source": [
        "### Let's determine how many 'order_id's are associated with each closed deal 'mql_id'.  We'll also determine the revenue associated with each if these 'mql_id's."
      ]
    },
    {
      "metadata": {
        "id": "7hsddyGBmncG",
        "colab_type": "code",
        "colab": {}
      },
      "cell_type": "code",
      "source": [
        "order_ids_per_mql = cd_items.groupby(['mql_id'])['order_id'].count().reset_index()\n",
        "order_ids_per_mql = order_ids_per_mql[order_ids_per_mql.order_id != 0]  # Delete rows where count(order_id) = 0\n",
        "order_ids_per_mql.rename(columns = {'order_id':'num_order_ids'},inplace=True)\n",
        "order_ids_per_mql.sort_values(by='num_order_ids',ascending=False)"
      ],
      "execution_count": 0,
      "outputs": []
    },
    {
      "metadata": {
        "id": "s4OvR9tHqIxL",
        "colab_type": "text"
      },
      "cell_type": "markdown",
      "source": [
        "### Now we can merge the 'orders' and 'order_payments' and 'order_reviews' information for each 'order_id' in 'cd_items'. However, before we do that, let's add a column to the 'order_payments' dataset."
      ]
    },
    {
      "metadata": {
        "id": "hBeP5o8CoX23",
        "colab_type": "code",
        "colab": {}
      },
      "cell_type": "code",
      "source": [
        "order_payments.head()"
      ],
      "execution_count": 0,
      "outputs": []
    },
    {
      "metadata": {
        "id": "ibongoFgo_JT",
        "colab_type": "text"
      },
      "cell_type": "markdown",
      "source": [
        "### We will add a column called 'total_payment' which is the product of the 'payment_installments' and 'payment_value'."
      ]
    },
    {
      "metadata": {
        "id": "8CNEdKzZpWDZ",
        "colab_type": "code",
        "colab": {}
      },
      "cell_type": "code",
      "source": [
        "order_payments['total_payment'] = order_payments['payment_installments']*order_payments['payment_value']"
      ],
      "execution_count": 0,
      "outputs": []
    },
    {
      "metadata": {
        "id": "vHUb4oZMLwUs",
        "colab_type": "code",
        "colab": {}
      },
      "cell_type": "code",
      "source": [
        "from functools import reduce\n",
        "\n",
        "dfs_to_merge = [cd_items,orders,order_payments,order_reviews]\n",
        "cd_order_info = reduce(lambda left,right: pd.merge(left,right,on=['order_id'],how='left'), dfs_to_merge)\n",
        "cd_order_info.info()"
      ],
      "execution_count": 0,
      "outputs": []
    },
    {
      "metadata": {
        "id": "U6GBEOH4OEju",
        "colab_type": "text"
      },
      "cell_type": "markdown",
      "source": [
        "### What is the revenue value for each closed deal 'mql_id'?"
      ]
    },
    {
      "metadata": {
        "id": "nw22CwrWODxr",
        "colab_type": "code",
        "colab": {}
      },
      "cell_type": "code",
      "source": [
        "revenue_per_mql = cd_order_info.groupby(['mql_id'])['total_payment'].sum().reset_index()\n",
        "revenue_per_mql = revenue_per_mql[revenue_per_mql.total_payment != 0]  # Delete rows where sum(total_payment) = 0\n",
        "top_20_mqls= revenue_per_mql.sort_values(by='total_payment',ascending=False).head(20)\n",
        "top_20_mqls"
      ],
      "execution_count": 0,
      "outputs": []
    },
    {
      "metadata": {
        "id": "fHdENZikQxfJ",
        "colab_type": "code",
        "colab": {}
      },
      "cell_type": "code",
      "source": [
        "import matplotlib.ticker as mtick\n",
        "\n",
        "fig,ax = plt.subplots(figsize=(14,6))\n",
        "\n",
        "order = []                        # Set up order for barchart\n",
        "for row in top_20_mqls['mql_id']:\n",
        "  order.append(row)\n",
        "\n",
        "graph = sns.barplot(x ='mql_id',y ='total_payment', data = top_20_mqls, order=order, palette=\"Blues_d\")\n",
        "\n",
        "fmt = '${x:,.0f}'\n",
        "tick = mtick.StrMethodFormatter(fmt)\n",
        "ax.yaxis.set_major_formatter(tick) \n",
        "ax.set_xlabel('Closed Deal mql_id')\n",
        "ax.set_ylabel('Revenue')\n",
        "ax.set_title('Top 20 Closed Deal mql_ids by Revenue',fontsize=20,fontweight='bold')\n",
        "graph.set_xticklabels(order,rotation=90)\n",
        "\n",
        "plt.show()"
      ],
      "execution_count": 0,
      "outputs": []
    },
    {
      "metadata": {
        "id": "EiEQO0jOW4Ne",
        "colab_type": "text"
      },
      "cell_type": "markdown",
      "source": [
        "### Let's merge the customer information into the 'cd_items' dataset..."
      ]
    },
    {
      "metadata": {
        "id": "PrQcj-u1WBfp",
        "colab_type": "code",
        "colab": {}
      },
      "cell_type": "code",
      "source": [
        "cd_order_customer_info = cd_order_info.merge(customers,how='left', on='customer_id')\n",
        "cd_order_customer_info.info()"
      ],
      "execution_count": 0,
      "outputs": []
    },
    {
      "metadata": {
        "id": "4Rssb-ijjIvA",
        "colab_type": "text"
      },
      "cell_type": "markdown",
      "source": [
        "### Let's merge the customer geographical location info into the 'cd_order_customer_info' dataset."
      ]
    },
    {
      "metadata": {
        "id": "ysOtlVvsi13R",
        "colab_type": "code",
        "colab": {}
      },
      "cell_type": "code",
      "source": [
        "cd_order_customer_info.rename(columns = {'customer_zip_code_prefix':'zip_code_prefix'},inplace=True)\n",
        "cd_order_customer_info = pd.merge(cd_order_customer_info,geolocation[['zip_code_prefix','geolocation_lat','geolocation_lng']], how = 'left',on='zip_code_prefix')\n",
        "cd_order_customer_info.info()"
      ],
      "execution_count": 0,
      "outputs": []
    },
    {
      "metadata": {
        "id": "5Fa8X7uWLAeh",
        "colab_type": "code",
        "colab": {}
      },
      "cell_type": "code",
      "source": [
        "num_customers_per_cd_mql = cd_order_customer_info.groupby(['mql_id'])['customer_id'].count().reset_index()\n",
        "num_customers_per_cd_mql = num_customers_per_cd_mql[num_customers_per_cd_mql.customer_id !=0]\n",
        "num_customers_per_cd_mql.rename(columns = {'customer_id': 'num_customer_ids'},inplace=True)\n",
        "num_customers_per_cd_mql"
      ],
      "execution_count": 0,
      "outputs": []
    },
    {
      "metadata": {
        "id": "Au3sHMETOqFo",
        "colab_type": "code",
        "colab": {}
      },
      "cell_type": "code",
      "source": [
        "num_products_per_cd_mql = cd_order_customer_info.groupby(['mql_id'])['product_id'].count().reset_index()\n",
        "num_products_per_cd_mql = num_products_per_cd_mql[num_products_per_cd_mql.product_id !=0]\n",
        "num_products_per_cd_mql.rename(columns = {'product_id': 'num_product_ids'},inplace=True)\n",
        "num_products_per_cd_mql"
      ],
      "execution_count": 0,
      "outputs": []
    },
    {
      "metadata": {
        "id": "P4c74qGYocEu",
        "colab_type": "text"
      },
      "cell_type": "markdown",
      "source": [
        "### Let's plot the customer locations for the closed deal 'mql_id's..."
      ]
    },
    {
      "metadata": {
        "id": "ZfCdQtEIlz06",
        "colab_type": "code",
        "colab": {}
      },
      "cell_type": "code",
      "source": [
        "lat = np.asarray(cd_order_customer_info['geolocation_lat'].dropna())\n",
        "lng = np.asarray(cd_order_customer_info['geolocation_lng'].dropna())"
      ],
      "execution_count": 0,
      "outputs": []
    },
    {
      "metadata": {
        "id": "6MAE3pWjmGaT",
        "colab_type": "code",
        "colab": {}
      },
      "cell_type": "code",
      "source": [
        "margin = .2                     # buffer to add to the range\n",
        "lat_min = min(lat) - margin\n",
        "lat_max = max(lat) + margin\n",
        "lng_min = min(lng) - margin\n",
        "lng_max = max(lng) + margin\n",
        "\n",
        "# create map using BASEMAP\n",
        "fig,ax = plt.subplots(figsize=(14,8))\n",
        "\n",
        "map = Basemap(llcrnrlon=lng_min,\n",
        "            llcrnrlat=lat_min,\n",
        "            urcrnrlon=lng_max,\n",
        "            urcrnrlat=lat_max,\n",
        "            lat_0=(lat_max - lat_min)/2,\n",
        "            lon_0=(lng_max-lng_min)/2,\n",
        "            projection='merc',\n",
        "            resolution = 'h',\n",
        "            area_thresh=10000.,\n",
        "            )\n",
        "map.drawcoastlines()\n",
        "map.drawcountries()\n",
        "map.drawstates()\n",
        "map.drawmapboundary(fill_color='#46bcec')\n",
        "map.fillcontinents(color = 'white',lake_color='#46bcec')\n",
        "\n",
        "# convert lat and long to map projection coordinates\n",
        "x,y = map(lng, lat)\n",
        "\n",
        "# plot points as red dots\n",
        "\n",
        "map.scatter(x,y, marker = 'o',s = 10, color='r',alpha=0.35, zorder=10)\n",
        "\n",
        "# Find and plot major cities\n",
        "\n",
        "city_list = ['Sao Paulo','Rio de Janeiro','Curitiba','Brasilia','Natal','Uberaba','Salvador-BA','Porto Alegre','Itajai']\n",
        "\n",
        "for city in city_list:\n",
        "  PlotCity(city)\n",
        "\n",
        "plt.title(\"Olist Customer Locations in Brazil\",fontsize=20,fontweight='bold')\n",
        "plt.show()"
      ],
      "execution_count": 0,
      "outputs": []
    },
    {
      "metadata": {
        "id": "n2hgxRxL4N0s",
        "colab_type": "text"
      },
      "cell_type": "markdown",
      "source": [
        "### Let's get the first contact date for each of the closed deal mql_id's.  We can get that from the 'mql' dataset."
      ]
    },
    {
      "metadata": {
        "id": "Ze-cZpiS4m-f",
        "colab_type": "code",
        "colab": {}
      },
      "cell_type": "code",
      "source": [
        "cd_order_customer_info = cd_order_info.merge(mql[['mql_id','first_contact_date']],how='inner', on='mql_id')\n",
        "cd_order_customer_info.info()"
      ],
      "execution_count": 0,
      "outputs": []
    },
    {
      "metadata": {
        "id": "a3ddZYx37HXX",
        "colab_type": "code",
        "colab": {}
      },
      "cell_type": "code",
      "source": [
        "cd_order_customer_info['lead_conversion_time'] = cd_order_customer_info['won_date'] - cd_order_customer_info['first_contact_date']\n",
        "cd_order_customer_info['lead_conversion_time'] = cd_order_customer_info['lead_conversion_time'].dt.days  # Strip out days from timedelta variable\n",
        "cd_order_customer_info['lead_conversion_time'] = cd_order_customer_info['lead_conversion_time'].apply(np.float32)\n",
        "cd_order_customer_info['lead_conversion_time'].head()"
      ],
      "execution_count": 0,
      "outputs": []
    },
    {
      "metadata": {
        "id": "zKktYQHrukqQ",
        "colab_type": "text"
      },
      "cell_type": "markdown",
      "source": [
        "### Some statistics on the lead conversion times (measured in days) for the closed deals...  Notice that the standard deviation is higher than the mean value!  Let's see how closed deal revenue affects the lead conversion time."
      ]
    },
    {
      "metadata": {
        "id": "Ax91HJghyfjC",
        "colab_type": "code",
        "colab": {}
      },
      "cell_type": "code",
      "source": [
        "cd_order_customer_info['lead_conversion_time'].describe()"
      ],
      "execution_count": 0,
      "outputs": []
    },
    {
      "metadata": {
        "id": "3-9Fu7Pa_qFR",
        "colab_type": "code",
        "colab": {}
      },
      "cell_type": "code",
      "source": [
        "cd_order_customer_info.sort_values(by ='lead_conversion_time',ascending=False).head(50)"
      ],
      "execution_count": 0,
      "outputs": []
    },
    {
      "metadata": {
        "id": "EkKCa40hyOf2",
        "colab_type": "code",
        "colab": {}
      },
      "cell_type": "code",
      "source": [
        "revenue_per_mql = cd_order_customer_info.groupby(['mql_id','lead_conversion_time'])['total_payment'].sum().reset_index()\n",
        "revenue_per_mql = revenue_per_mql[revenue_per_mql.total_payment != 0]  # Delete rows where sum('total_payment') = 0\n",
        "cd_mqls_by_revenue = revenue_per_mql.sort_values(by='total_payment',ascending=False)\n",
        "top_20_mqls= revenue_per_mql.sort_values(by='total_payment',ascending=False).head(20)"
      ],
      "execution_count": 0,
      "outputs": []
    },
    {
      "metadata": {
        "id": "1qYcQVvSEaKp",
        "colab_type": "code",
        "colab": {}
      },
      "cell_type": "code",
      "source": [
        "\n",
        "fig,ax = plt.subplots(figsize=(14,6))\n",
        "\n",
        "x = top_20_mqls['mql_id']\n",
        "y1 = top_20_mqls['lead_conversion_time']\n",
        "y2 = top_20_mqls['total_payment']\n",
        "\n",
        "plt.subplot(1,2,1)\n",
        "plt.plot(x,y1, 'o-',color='red')\n",
        "plt.title('Lead Conversion Time - Top 20 mql_ids by Revenue')\n",
        "plt.ylabel('Lead Conversion Time (Days)')\n",
        "\n",
        "plt.xticks(rotation=90)\n",
        "\n",
        "ax2 = plt.subplot(1,2,2)\n",
        "plt.bar(x, y2)\n",
        "plt.title('Closed Deal Revenue')\n",
        "plt.xlabel('mql_id')\n",
        "plt.ylabel('Revenue')\n",
        "\n",
        "fmt = '${x:,.0f}'\n",
        "tick = mtick.StrMethodFormatter(fmt)\n",
        "ax2.yaxis.set_major_formatter(tick) \n",
        "\n",
        "plt.xticks(rotation=90)\n",
        "\n",
        "plt.show()"
      ],
      "execution_count": 0,
      "outputs": []
    },
    {
      "metadata": {
        "id": "6VF3OxtgBtfA",
        "colab_type": "code",
        "colab": {}
      },
      "cell_type": "code",
      "source": [
        "fig, ax1 = plt.subplots(figsize=(14,6))\n",
        "\n",
        "color = 'tab:blue'\n",
        "ax1.set_ylabel('Revenue', color=color)  # we already handled the x-label with ax1\n",
        "ax1.bar(top_20_mqls['mql_id'], top_20_mqls['total_payment'], color=color)\n",
        "fmt = '${x:,.0f}'\n",
        "tick = mtick.StrMethodFormatter(fmt)\n",
        "ax1.yaxis.set_major_formatter(tick) \n",
        "ax1.tick_params(axis='y', labelcolor=color)\n",
        "\n",
        "plt.xticks(rotation=90)\n",
        "\n",
        "ax2 = ax1.twinx()  # instantiate a second axes that shares the same x-axis\n",
        "\n",
        "color = 'tab:red'\n",
        "ax2.set_xlabel('mql_id')\n",
        "ax2.set_ylabel('Lead Conversion Time (Days)', color=color, rotation=270,labelpad=15)\n",
        "ax2.plot(top_20_mqls['mql_id'], top_20_mqls['lead_conversion_time'], color=color)\n",
        "ax2.tick_params(axis='both', labelcolor=color)\n",
        "ax2.grid(None)\n",
        "\n",
        "\n",
        "\n",
        "fig.tight_layout()  # otherwise the right y-label is slightly clipped\n",
        "plt.show()"
      ],
      "execution_count": 0,
      "outputs": []
    },
    {
      "metadata": {
        "id": "b6RcZLOutADA",
        "colab_type": "text"
      },
      "cell_type": "markdown",
      "source": [
        "### What kind of customer review scores did the top closed deals generate? We have a sorted list of the closed deal 'mql_id's according to revenue generated in 'cd_mqls_by_revenue'. We need to generate a list of 'order_id's for each 'mql_id'."
      ]
    },
    {
      "metadata": {
        "id": "p05ToNmVuuBr",
        "colab_type": "code",
        "colab": {}
      },
      "cell_type": "code",
      "source": [
        "mean_review_score_per_mql = cd_order_customer_info.groupby(['mql_id'])['review_score'].mean().reset_index()\n",
        "mean_review_score_per_mql.rename(columns = {'review_score':'mean_review_score'},inplace=True)\n",
        "mean_review_score_per_mql.dropna(inplace=True)"
      ],
      "execution_count": 0,
      "outputs": []
    },
    {
      "metadata": {
        "id": "wuzATBa32cNz",
        "colab_type": "code",
        "colab": {}
      },
      "cell_type": "code",
      "source": [
        "cd_mqls_by_revenue = cd_mqls_by_revenue.merge(mean_review_score_per_mql,how='left',on='mql_id')\n",
        "top_mql_mean_scores = cd_mqls_by_revenue.head(20)"
      ],
      "execution_count": 0,
      "outputs": []
    },
    {
      "metadata": {
        "id": "ffq6SsxF39mL",
        "colab_type": "code",
        "colab": {}
      },
      "cell_type": "code",
      "source": [
        "fig, ax1 = plt.subplots(figsize=(14,6))\n",
        "\n",
        "color = 'tab:blue'\n",
        "ax1.set_ylabel('Revenue', color=color)  # we already handled the x-label with ax1\n",
        "ax1.bar(top_mql_mean_scores['mql_id'], top_mql_mean_scores['total_payment'], color=color)\n",
        "fmt = '${x:,.0f}'\n",
        "tick = mtick.StrMethodFormatter(fmt)\n",
        "ax1.yaxis.set_major_formatter(tick) \n",
        "ax1.tick_params(axis='y', labelcolor=color)\n",
        "\n",
        "plt.xticks(rotation=90)\n",
        "\n",
        "ax2 = ax1.twinx()  # instantiate a second axes that shares the same x-axis\n",
        "\n",
        "color = 'tab:red'\n",
        "ax2.set_xlabel('mql_id')\n",
        "ax2.set_ylabel('Mean Review Score', color=color, rotation=270,labelpad=15)\n",
        "ax2.plot(top_mql_mean_scores['mql_id'], top_mql_mean_scores['mean_review_score'], color=color)\n",
        "ax2.tick_params(axis='both', labelcolor=color)\n",
        "ax2.grid(None)\n",
        "\n",
        "fig.tight_layout()  # otherwise the right y-label is slightly clipped\n",
        "plt.show()"
      ],
      "execution_count": 0,
      "outputs": []
    },
    {
      "metadata": {
        "id": "tIErqaPTBhLl",
        "colab_type": "text"
      },
      "cell_type": "markdown",
      "source": [
        "### Let's look at some other characteristics of the top closed deal 'mql_id's...\n",
        "\n",
        "We'll look at:\n",
        "\n",
        "*  Number of 'order_id's\n",
        "*  Number of 'customer_id's\n",
        "*  Number of 'product_id's\n",
        "\n",
        "\n",
        "\n",
        "\n"
      ]
    },
    {
      "metadata": {
        "id": "ZfCRtAaCPfAu",
        "colab_type": "code",
        "colab": {}
      },
      "cell_type": "code",
      "source": [
        "dfs_to_merge = [cd_mqls_by_revenue,order_ids_per_mql,num_customers_per_cd_mql,num_products_per_cd_mql]\n",
        "cd_mql_by_revenue = reduce(lambda left,right: pd.merge(left,right,on=['mql_id'],how='left'), dfs_to_merge)\n",
        "cd_mql_by_revenue"
      ],
      "execution_count": 0,
      "outputs": []
    }
  ]
}