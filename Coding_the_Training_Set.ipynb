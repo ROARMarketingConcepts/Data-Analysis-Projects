{
  "nbformat": 4,
  "nbformat_minor": 0,
  "metadata": {
    "colab": {
      "name": "Coding the Training Set.ipynb",
      "version": "0.3.2",
      "provenance": [],
      "collapsed_sections": [],
      "include_colab_link": true
    },
    "kernelspec": {
      "name": "python3",
      "display_name": "Python 3"
    },
    "accelerator": "TPU"
  },
  "cells": [
    {
      "cell_type": "markdown",
      "metadata": {
        "id": "view-in-github",
        "colab_type": "text"
      },
      "source": [
        "<a href=\"https://colab.research.google.com/github/ROARMarketingConcepts/Data-Analysis-Projects/blob/master/Coding_the_Training_Set.ipynb\" target=\"_parent\"><img src=\"https://colab.research.google.com/assets/colab-badge.svg\" alt=\"Open In Colab\"/></a>"
      ]
    },
    {
      "metadata": {
        "id": "xrdB4Pvew0ah",
        "colab_type": "text"
      },
      "cell_type": "markdown",
      "source": [
        "## Home Credit Default Risk Analysis: Coding the Training Set\n",
        "\n",
        "Many people struggle to get loans due to insufficient or non-existent credit histories. And, unfortunately, this population is often taken advantage of by untrustworthy lenders.\n",
        "\n",
        "**Home Credit Group**\n",
        "\n",
        "Home Credit strives to broaden financial inclusion for the unbanked population by providing a positive and safe borrowing experience. In order to make sure this underserved population has a positive loan experience, Home Credit makes use of a variety of alternative data--including telco and transactional information--to predict their clients' repayment abilities.\n",
        "\n",
        "While Home Credit is currently using various statistical and machine learning methods to make these predictions, they're challenging Kagglers to help them unlock the full potential of their data. Doing so will ensure that clients capable of repayment are not rejected and that loans are given with a principal, maturity, and repayment calendar that will empower their clients to be successful.\n",
        "\n",
        "### Analysis performed by:\n",
        "\n",
        "Ken Wood\n",
        "\n",
        "Marketing Data Scientist\n",
        "\n",
        "ken@roarmarketingconcepts.com"
      ]
    },
    {
      "metadata": {
        "id": "Q_Brip-8tdjE",
        "colab_type": "text"
      },
      "cell_type": "markdown",
      "source": [
        "\n",
        "\n",
        "\n",
        "---\n",
        "\n"
      ]
    },
    {
      "metadata": {
        "id": "9ALCkfYuqrTZ",
        "colab_type": "text"
      },
      "cell_type": "markdown",
      "source": [
        "### Mount the Google Drive where the dataset files are located..."
      ]
    },
    {
      "metadata": {
        "id": "Op1VaBbmzAds",
        "colab_type": "code",
        "outputId": "7922cb9c-edcd-43b3-fd15-770cb88bcbbd",
        "colab": {
          "base_uri": "https://localhost:8080/",
          "height": 34
        }
      },
      "cell_type": "code",
      "source": [
        "from google.colab import drive\n",
        "drive.mount('/gdrive')"
      ],
      "execution_count": 0,
      "outputs": [
        {
          "output_type": "stream",
          "text": [
            "Drive already mounted at /gdrive; to attempt to forcibly remount, call drive.mount(\"/gdrive\", force_remount=True).\n"
          ],
          "name": "stdout"
        }
      ]
    },
    {
      "metadata": {
        "id": "CaqrF3-Zq2PC",
        "colab_type": "text"
      },
      "cell_type": "markdown",
      "source": [
        "### Install some necessary packages to perform the required analysis..."
      ]
    },
    {
      "metadata": {
        "id": "fXW19Ug6MF-W",
        "colab_type": "code",
        "colab": {}
      },
      "cell_type": "code",
      "source": [
        "import pandas as pd\n",
        "import numpy as np\n",
        "import sklearn\n",
        "import scipy\n",
        "\n",
        "import matplotlib.pyplot as plt\n",
        "from matplotlib import interactive\n",
        "plt.rc(\"font\", size=14)\n",
        "from pylab import scatter, show, legend, xlabel, ylabel\n",
        "\n",
        "import seaborn as sns\n",
        "sns.set(style=\"white\")\n",
        "sns.set(style=\"whitegrid\", color_codes=True)\n",
        "\n",
        "# Ignore useless warnings (see SciPy issue #5998)\n",
        "import warnings\n",
        "warnings.filterwarnings(action=\"ignore\", message=\"^internal gelsd\")"
      ],
      "execution_count": 0,
      "outputs": []
    },
    {
      "metadata": {
        "id": "58of5Ft_3qQ_",
        "colab_type": "code",
        "colab": {}
      },
      "cell_type": "code",
      "source": [
        "class color:\n",
        "   PURPLE = '\\033[95m'\n",
        "   CYAN = '\\033[96m'\n",
        "   DARKCYAN = '\\033[36m'\n",
        "   BLUE = '\\033[94m'\n",
        "   GREEN = '\\033[92m'\n",
        "   YELLOW = '\\033[93m'\n",
        "   RED = '\\033[91m'\n",
        "   BOLD = '\\033[1m'\n",
        "   UNDERLINE = '\\033[4m'\n",
        "   END = '\\033[0m'"
      ],
      "execution_count": 0,
      "outputs": []
    },
    {
      "metadata": {
        "id": "jNgCePt_izk6",
        "colab_type": "text"
      },
      "cell_type": "markdown",
      "source": [
        "### Let's list the datasets available to us..."
      ]
    },
    {
      "metadata": {
        "id": "UZexvxceerZH",
        "colab_type": "code",
        "outputId": "783460aa-12ff-4b57-a61f-8676c6c2cb60",
        "colab": {
          "base_uri": "https://localhost:8080/",
          "height": 255
        }
      },
      "cell_type": "code",
      "source": [
        "import os\n",
        "\n",
        "print('### Home Credit Default Risk Analysis ###\\n')\n",
        "for idx, file in enumerate(os.listdir('/gdrive/My Drive/Colab Notebooks/Home Credit Default Risk/files')):\n",
        "    print(idx, '-', file)"
      ],
      "execution_count": 0,
      "outputs": [
        {
          "output_type": "stream",
          "text": [
            "### Home Credit Default Risk Analysis ###\n",
            "\n",
            "0 - HomeCredit_columns_description.csv\n",
            "1 - sample_submission.csv\n",
            "2 - application_test.csv\n",
            "3 - bureau_balance.csv\n",
            "4 - bureau.csv\n",
            "5 - credit_card_balance.csv\n",
            "6 - installments_payments.csv\n",
            "7 - POS_CASH_balance.csv\n",
            "8 - previous_application.csv\n",
            "9 - home_credit.png\n",
            "10 - HomeCredit_columns_description.gsheet\n",
            "11 - application_train_files\n"
          ],
          "name": "stdout"
        }
      ]
    },
    {
      "metadata": {
        "id": "YsUIKTNDq_JY",
        "colab_type": "text"
      },
      "cell_type": "markdown",
      "source": [
        "### Load the 'application_train' dataset..."
      ]
    },
    {
      "metadata": {
        "id": "RpQYnzQpMOTm",
        "colab_type": "code",
        "colab": {}
      },
      "cell_type": "code",
      "source": [
        "application_train = pd.read_csv('/gdrive/My Drive/Colab Notebooks/Home Credit Default Risk/files/application_train_files/application_train.csv')\n",
        "# bureau_balance = pd.read_csv('/gdrive/My Drive/Colab Notebooks/Home Credit Default Risk/files/bureau_balance.csv')\n",
        "# bureau = pd.read_csv('/gdrive/My Drive/Colab Notebooks/Home Credit Default Risk/files/bureau.csv')\n",
        "# credit_card_balance = pd.read_csv('/gdrive/My Drive/Colab Notebooks/Home Credit Default Risk/files/credit_card_balance.csv')\n",
        "# installments_payments = pd.read_csv('/gdrive/My Drive/Colab Notebooks/Home Credit Default Risk/files/installments_payments.csv')\n",
        "# POS_CASH_balance = pd.read_csv('/gdrive/My Drive/Colab Notebooks/Home Credit Default Risk/files/POS_CASH_balance.csv')\n",
        "# previous_application = pd.read_csv('/gdrive/My Drive/Colab Notebooks/Home Credit Default Risk/files/previous_application.csv')"
      ],
      "execution_count": 0,
      "outputs": []
    },
    {
      "metadata": {
        "id": "itlRr01HwS5L",
        "colab_type": "text"
      },
      "cell_type": "markdown",
      "source": [
        "### Let's get some preliminary information about 'application_train'..."
      ]
    },
    {
      "metadata": {
        "id": "JqGazW5Gtk3g",
        "colab_type": "code",
        "outputId": "baa2ae4c-49d3-4ac1-bf81-4c5b20425496",
        "colab": {
          "base_uri": "https://localhost:8080/",
          "height": 102
        }
      },
      "cell_type": "code",
      "source": [
        "application_train.info()"
      ],
      "execution_count": 0,
      "outputs": [
        {
          "output_type": "stream",
          "text": [
            "<class 'pandas.core.frame.DataFrame'>\n",
            "RangeIndex: 307511 entries, 0 to 307510\n",
            "Columns: 122 entries, SK_ID_CURR to AMT_REQ_CREDIT_BUREAU_YEAR\n",
            "dtypes: float64(65), int64(41), object(16)\n",
            "memory usage: 286.2+ MB\n"
          ],
          "name": "stdout"
        }
      ]
    },
    {
      "metadata": {
        "id": "hc3UL5TEUQ8S",
        "colab_type": "code",
        "outputId": "7e95e8ca-2288-4cf3-8919-449e69fa5e11",
        "colab": {
          "base_uri": "https://localhost:8080/",
          "height": 258
        }
      },
      "cell_type": "code",
      "source": [
        "application_train.head()"
      ],
      "execution_count": 0,
      "outputs": [
        {
          "output_type": "execute_result",
          "data": {
            "text/html": [
              "<div>\n",
              "<style scoped>\n",
              "    .dataframe tbody tr th:only-of-type {\n",
              "        vertical-align: middle;\n",
              "    }\n",
              "\n",
              "    .dataframe tbody tr th {\n",
              "        vertical-align: top;\n",
              "    }\n",
              "\n",
              "    .dataframe thead th {\n",
              "        text-align: right;\n",
              "    }\n",
              "</style>\n",
              "<table border=\"1\" class=\"dataframe\">\n",
              "  <thead>\n",
              "    <tr style=\"text-align: right;\">\n",
              "      <th></th>\n",
              "      <th>SK_ID_CURR</th>\n",
              "      <th>TARGET</th>\n",
              "      <th>NAME_CONTRACT_TYPE</th>\n",
              "      <th>CODE_GENDER</th>\n",
              "      <th>FLAG_OWN_CAR</th>\n",
              "      <th>FLAG_OWN_REALTY</th>\n",
              "      <th>CNT_CHILDREN</th>\n",
              "      <th>AMT_INCOME_TOTAL</th>\n",
              "      <th>AMT_CREDIT</th>\n",
              "      <th>AMT_ANNUITY</th>\n",
              "      <th>...</th>\n",
              "      <th>FLAG_DOCUMENT_18</th>\n",
              "      <th>FLAG_DOCUMENT_19</th>\n",
              "      <th>FLAG_DOCUMENT_20</th>\n",
              "      <th>FLAG_DOCUMENT_21</th>\n",
              "      <th>AMT_REQ_CREDIT_BUREAU_HOUR</th>\n",
              "      <th>AMT_REQ_CREDIT_BUREAU_DAY</th>\n",
              "      <th>AMT_REQ_CREDIT_BUREAU_WEEK</th>\n",
              "      <th>AMT_REQ_CREDIT_BUREAU_MON</th>\n",
              "      <th>AMT_REQ_CREDIT_BUREAU_QRT</th>\n",
              "      <th>AMT_REQ_CREDIT_BUREAU_YEAR</th>\n",
              "    </tr>\n",
              "  </thead>\n",
              "  <tbody>\n",
              "    <tr>\n",
              "      <th>0</th>\n",
              "      <td>100002</td>\n",
              "      <td>1</td>\n",
              "      <td>Cash loans</td>\n",
              "      <td>M</td>\n",
              "      <td>N</td>\n",
              "      <td>Y</td>\n",
              "      <td>0</td>\n",
              "      <td>202500.0</td>\n",
              "      <td>406597.5</td>\n",
              "      <td>24700.5</td>\n",
              "      <td>...</td>\n",
              "      <td>0</td>\n",
              "      <td>0</td>\n",
              "      <td>0</td>\n",
              "      <td>0</td>\n",
              "      <td>0.0</td>\n",
              "      <td>0.0</td>\n",
              "      <td>0.0</td>\n",
              "      <td>0.0</td>\n",
              "      <td>0.0</td>\n",
              "      <td>1.0</td>\n",
              "    </tr>\n",
              "    <tr>\n",
              "      <th>1</th>\n",
              "      <td>100003</td>\n",
              "      <td>0</td>\n",
              "      <td>Cash loans</td>\n",
              "      <td>F</td>\n",
              "      <td>N</td>\n",
              "      <td>N</td>\n",
              "      <td>0</td>\n",
              "      <td>270000.0</td>\n",
              "      <td>1293502.5</td>\n",
              "      <td>35698.5</td>\n",
              "      <td>...</td>\n",
              "      <td>0</td>\n",
              "      <td>0</td>\n",
              "      <td>0</td>\n",
              "      <td>0</td>\n",
              "      <td>0.0</td>\n",
              "      <td>0.0</td>\n",
              "      <td>0.0</td>\n",
              "      <td>0.0</td>\n",
              "      <td>0.0</td>\n",
              "      <td>0.0</td>\n",
              "    </tr>\n",
              "    <tr>\n",
              "      <th>2</th>\n",
              "      <td>100004</td>\n",
              "      <td>0</td>\n",
              "      <td>Revolving loans</td>\n",
              "      <td>M</td>\n",
              "      <td>Y</td>\n",
              "      <td>Y</td>\n",
              "      <td>0</td>\n",
              "      <td>67500.0</td>\n",
              "      <td>135000.0</td>\n",
              "      <td>6750.0</td>\n",
              "      <td>...</td>\n",
              "      <td>0</td>\n",
              "      <td>0</td>\n",
              "      <td>0</td>\n",
              "      <td>0</td>\n",
              "      <td>0.0</td>\n",
              "      <td>0.0</td>\n",
              "      <td>0.0</td>\n",
              "      <td>0.0</td>\n",
              "      <td>0.0</td>\n",
              "      <td>0.0</td>\n",
              "    </tr>\n",
              "    <tr>\n",
              "      <th>3</th>\n",
              "      <td>100006</td>\n",
              "      <td>0</td>\n",
              "      <td>Cash loans</td>\n",
              "      <td>F</td>\n",
              "      <td>N</td>\n",
              "      <td>Y</td>\n",
              "      <td>0</td>\n",
              "      <td>135000.0</td>\n",
              "      <td>312682.5</td>\n",
              "      <td>29686.5</td>\n",
              "      <td>...</td>\n",
              "      <td>0</td>\n",
              "      <td>0</td>\n",
              "      <td>0</td>\n",
              "      <td>0</td>\n",
              "      <td>NaN</td>\n",
              "      <td>NaN</td>\n",
              "      <td>NaN</td>\n",
              "      <td>NaN</td>\n",
              "      <td>NaN</td>\n",
              "      <td>NaN</td>\n",
              "    </tr>\n",
              "    <tr>\n",
              "      <th>4</th>\n",
              "      <td>100007</td>\n",
              "      <td>0</td>\n",
              "      <td>Cash loans</td>\n",
              "      <td>M</td>\n",
              "      <td>N</td>\n",
              "      <td>Y</td>\n",
              "      <td>0</td>\n",
              "      <td>121500.0</td>\n",
              "      <td>513000.0</td>\n",
              "      <td>21865.5</td>\n",
              "      <td>...</td>\n",
              "      <td>0</td>\n",
              "      <td>0</td>\n",
              "      <td>0</td>\n",
              "      <td>0</td>\n",
              "      <td>0.0</td>\n",
              "      <td>0.0</td>\n",
              "      <td>0.0</td>\n",
              "      <td>0.0</td>\n",
              "      <td>0.0</td>\n",
              "      <td>0.0</td>\n",
              "    </tr>\n",
              "  </tbody>\n",
              "</table>\n",
              "<p>5 rows × 122 columns</p>\n",
              "</div>"
            ],
            "text/plain": [
              "   SK_ID_CURR  TARGET NAME_CONTRACT_TYPE CODE_GENDER FLAG_OWN_CAR  \\\n",
              "0      100002       1         Cash loans           M            N   \n",
              "1      100003       0         Cash loans           F            N   \n",
              "2      100004       0    Revolving loans           M            Y   \n",
              "3      100006       0         Cash loans           F            N   \n",
              "4      100007       0         Cash loans           M            N   \n",
              "\n",
              "  FLAG_OWN_REALTY  CNT_CHILDREN  AMT_INCOME_TOTAL  AMT_CREDIT  AMT_ANNUITY  \\\n",
              "0               Y             0          202500.0    406597.5      24700.5   \n",
              "1               N             0          270000.0   1293502.5      35698.5   \n",
              "2               Y             0           67500.0    135000.0       6750.0   \n",
              "3               Y             0          135000.0    312682.5      29686.5   \n",
              "4               Y             0          121500.0    513000.0      21865.5   \n",
              "\n",
              "              ...              FLAG_DOCUMENT_18 FLAG_DOCUMENT_19  \\\n",
              "0             ...                             0                0   \n",
              "1             ...                             0                0   \n",
              "2             ...                             0                0   \n",
              "3             ...                             0                0   \n",
              "4             ...                             0                0   \n",
              "\n",
              "  FLAG_DOCUMENT_20 FLAG_DOCUMENT_21 AMT_REQ_CREDIT_BUREAU_HOUR  \\\n",
              "0                0                0                        0.0   \n",
              "1                0                0                        0.0   \n",
              "2                0                0                        0.0   \n",
              "3                0                0                        NaN   \n",
              "4                0                0                        0.0   \n",
              "\n",
              "  AMT_REQ_CREDIT_BUREAU_DAY  AMT_REQ_CREDIT_BUREAU_WEEK  \\\n",
              "0                       0.0                         0.0   \n",
              "1                       0.0                         0.0   \n",
              "2                       0.0                         0.0   \n",
              "3                       NaN                         NaN   \n",
              "4                       0.0                         0.0   \n",
              "\n",
              "   AMT_REQ_CREDIT_BUREAU_MON  AMT_REQ_CREDIT_BUREAU_QRT  \\\n",
              "0                        0.0                        0.0   \n",
              "1                        0.0                        0.0   \n",
              "2                        0.0                        0.0   \n",
              "3                        NaN                        NaN   \n",
              "4                        0.0                        0.0   \n",
              "\n",
              "   AMT_REQ_CREDIT_BUREAU_YEAR  \n",
              "0                         1.0  \n",
              "1                         0.0  \n",
              "2                         0.0  \n",
              "3                         NaN  \n",
              "4                         0.0  \n",
              "\n",
              "[5 rows x 122 columns]"
            ]
          },
          "metadata": {
            "tags": []
          },
          "execution_count": 36
        }
      ]
    },
    {
      "metadata": {
        "id": "CowZ4vj9ljB3",
        "colab_type": "text"
      },
      "cell_type": "markdown",
      "source": [
        "### Separate 'application_train' into the numerical and categorical variables..."
      ]
    },
    {
      "metadata": {
        "id": "kdW2XQXFhTtS",
        "colab_type": "code",
        "colab": {}
      },
      "cell_type": "code",
      "source": [
        "application_train_index_target = application_train[['SK_ID_CURR','TARGET']]\n",
        "application_train_cat = application_train.select_dtypes(include=['object'])\n",
        "application_train_num =  application_train.select_dtypes(include=['int64','float64'])\n",
        "application_train_num = application_train_num.drop(['SK_ID_CURR','TARGET'],axis=1)"
      ],
      "execution_count": 0,
      "outputs": []
    },
    {
      "metadata": {
        "id": "c1Ny39ecm9gG",
        "colab_type": "text"
      },
      "cell_type": "markdown",
      "source": [
        "### Let’s convert the categorical variables from text to numbers. First, we take care of the missing values using pandas 'ffill' method (propagate last valid observation forward to next valid).  Then we use the sklearn function **OrdinalEncoder** which encodes categorical features as an integer array."
      ]
    },
    {
      "metadata": {
        "id": "z068nqQs0i0T",
        "colab_type": "code",
        "outputId": "e3071b63-04ce-4b85-e376-ab96be0faa56",
        "colab": {
          "base_uri": "https://localhost:8080/",
          "height": 102
        }
      },
      "cell_type": "code",
      "source": [
        "application_train_cat.fillna(method='ffill',inplace=True)"
      ],
      "execution_count": 0,
      "outputs": [
        {
          "output_type": "stream",
          "text": [
            "/usr/local/lib/python3.6/dist-packages/pandas/core/frame.py:3035: SettingWithCopyWarning: \n",
            "A value is trying to be set on a copy of a slice from a DataFrame\n",
            "\n",
            "See the caveats in the documentation: http://pandas.pydata.org/pandas-docs/stable/indexing.html#indexing-view-versus-copy\n",
            "  downcast=downcast, **kwargs)\n"
          ],
          "name": "stderr"
        }
      ]
    },
    {
      "metadata": {
        "id": "viX-_n8SnLce",
        "colab_type": "code",
        "colab": {}
      },
      "cell_type": "code",
      "source": [
        "from sklearn.preprocessing import OrdinalEncoder"
      ],
      "execution_count": 0,
      "outputs": []
    },
    {
      "metadata": {
        "id": "H8FhdQcbnRBL",
        "colab_type": "code",
        "outputId": "31b34a92-6b08-4d7e-9444-912661fad99f",
        "colab": {
          "base_uri": "https://localhost:8080/",
          "height": 357
        }
      },
      "cell_type": "code",
      "source": [
        "ordinal_encoder = OrdinalEncoder()\n",
        "application_train_cat_encoded = ordinal_encoder.fit_transform(application_train_cat)\n",
        "application_train_cat_encoded[:10]"
      ],
      "execution_count": 0,
      "outputs": [
        {
          "output_type": "execute_result",
          "data": {
            "text/plain": [
              "array([[ 0.,  1.,  0.,  1.,  6.,  7.,  4.,  3.,  1.,  8.,  6.,  5.,  2.,\n",
              "         0.,  5.,  0.],\n",
              "       [ 0.,  0.,  0.,  0.,  1.,  4.,  1.,  1.,  1.,  3.,  1., 39.,  2.,\n",
              "         0.,  0.,  0.],\n",
              "       [ 1.,  1.,  1.,  1.,  6.,  7.,  4.,  3.,  1.,  8.,  1., 11.,  2.,\n",
              "         0.,  0.,  0.],\n",
              "       [ 0.,  0.,  0.,  1.,  6.,  7.,  4.,  0.,  1.,  8.,  6.,  5.,  2.,\n",
              "         0.,  0.,  0.],\n",
              "       [ 0.,  1.,  0.,  1.,  6.,  7.,  4.,  3.,  1.,  3.,  4., 37.,  2.,\n",
              "         0.,  0.,  0.],\n",
              "       [ 0.,  1.,  0.,  1.,  5.,  4.,  4.,  1.,  1.,  8.,  6., 33.,  2.,\n",
              "         0.,  0.,  0.],\n",
              "       [ 0.,  0.,  1.,  1.,  6.,  1.,  1.,  1.,  1.,  0.,  3.,  5.,  2.,\n",
              "         0.,  0.,  0.],\n",
              "       [ 0.,  1.,  1.,  1.,  6.,  4.,  1.,  1.,  1., 10.,  1., 33.,  2.,\n",
              "         0.,  0.,  0.],\n",
              "       [ 0.,  0.,  0.,  1.,  0.,  3.,  4.,  1.,  1., 10.,  6., 57.,  2.,\n",
              "         0.,  0.,  0.],\n",
              "       [ 1.,  1.,  0.,  1.,  6.,  7.,  4.,  3.,  1.,  8.,  4.,  9.,  2.,\n",
              "         0.,  0.,  0.]])"
            ]
          },
          "metadata": {
            "tags": []
          },
          "execution_count": 26
        }
      ]
    },
    {
      "metadata": {
        "id": "n6RjJrKWyAaa",
        "colab_type": "code",
        "outputId": "314d1550-5926-4c6b-e6f7-5cb3a165c89d",
        "colab": {
          "base_uri": "https://localhost:8080/",
          "height": 816
        }
      },
      "cell_type": "code",
      "source": [
        "ordinal_encoder.categories_"
      ],
      "execution_count": 0,
      "outputs": [
        {
          "output_type": "execute_result",
          "data": {
            "text/plain": [
              "[array(['Cash loans', 'Revolving loans'], dtype=object),\n",
              " array(['F', 'M', 'XNA'], dtype=object),\n",
              " array(['N', 'Y'], dtype=object),\n",
              " array(['N', 'Y'], dtype=object),\n",
              " array(['Children', 'Family', 'Group of people', 'Other_A', 'Other_B',\n",
              "        'Spouse, partner', 'Unaccompanied'], dtype=object),\n",
              " array(['Businessman', 'Commercial associate', 'Maternity leave',\n",
              "        'Pensioner', 'State servant', 'Student', 'Unemployed', 'Working'],\n",
              "       dtype=object),\n",
              " array(['Academic degree', 'Higher education', 'Incomplete higher',\n",
              "        'Lower secondary', 'Secondary / secondary special'], dtype=object),\n",
              " array(['Civil marriage', 'Married', 'Separated', 'Single / not married',\n",
              "        'Unknown', 'Widow'], dtype=object),\n",
              " array(['Co-op apartment', 'House / apartment', 'Municipal apartment',\n",
              "        'Office apartment', 'Rented apartment', 'With parents'],\n",
              "       dtype=object),\n",
              " array(['Accountants', 'Cleaning staff', 'Cooking staff', 'Core staff',\n",
              "        'Drivers', 'HR staff', 'High skill tech staff', 'IT staff',\n",
              "        'Laborers', 'Low-skill Laborers', 'Managers', 'Medicine staff',\n",
              "        'Private service staff', 'Realty agents', 'Sales staff',\n",
              "        'Secretaries', 'Security staff', 'Waiters/barmen staff'],\n",
              "       dtype=object),\n",
              " array(['FRIDAY', 'MONDAY', 'SATURDAY', 'SUNDAY', 'THURSDAY', 'TUESDAY',\n",
              "        'WEDNESDAY'], dtype=object),\n",
              " array(['Advertising', 'Agriculture', 'Bank', 'Business Entity Type 1',\n",
              "        'Business Entity Type 2', 'Business Entity Type 3', 'Cleaning',\n",
              "        'Construction', 'Culture', 'Electricity', 'Emergency',\n",
              "        'Government', 'Hotel', 'Housing', 'Industry: type 1',\n",
              "        'Industry: type 10', 'Industry: type 11', 'Industry: type 12',\n",
              "        'Industry: type 13', 'Industry: type 2', 'Industry: type 3',\n",
              "        'Industry: type 4', 'Industry: type 5', 'Industry: type 6',\n",
              "        'Industry: type 7', 'Industry: type 8', 'Industry: type 9',\n",
              "        'Insurance', 'Kindergarten', 'Legal Services', 'Medicine',\n",
              "        'Military', 'Mobile', 'Other', 'Police', 'Postal', 'Realtor',\n",
              "        'Religion', 'Restaurant', 'School', 'Security',\n",
              "        'Security Ministries', 'Self-employed', 'Services', 'Telecom',\n",
              "        'Trade: type 1', 'Trade: type 2', 'Trade: type 3', 'Trade: type 4',\n",
              "        'Trade: type 5', 'Trade: type 6', 'Trade: type 7',\n",
              "        'Transport: type 1', 'Transport: type 2', 'Transport: type 3',\n",
              "        'Transport: type 4', 'University', 'XNA'], dtype=object),\n",
              " array(['not specified', 'org spec account', 'reg oper account',\n",
              "        'reg oper spec account'], dtype=object),\n",
              " array(['block of flats', 'specific housing', 'terraced house'],\n",
              "       dtype=object),\n",
              " array(['Block', 'Mixed', 'Monolithic', 'Others', 'Panel', 'Stone, brick',\n",
              "        'Wooden'], dtype=object),\n",
              " array(['No', 'Yes'], dtype=object)]"
            ]
          },
          "metadata": {
            "tags": []
          },
          "execution_count": 27
        }
      ]
    },
    {
      "metadata": {
        "id": "PJlChSMd3d0I",
        "colab_type": "text"
      },
      "cell_type": "markdown",
      "source": [
        "### Put the coded categorical variables back into a Pandas DataFrame."
      ]
    },
    {
      "metadata": {
        "id": "KQyFSLvMNWqV",
        "colab_type": "code",
        "outputId": "45250c2b-2185-4257-c118-6f3aaef95426",
        "colab": {
          "base_uri": "https://localhost:8080/",
          "height": 229
        }
      },
      "cell_type": "code",
      "source": [
        "application_train_cat = pd.DataFrame(application_train_cat_encoded,columns = application_train_cat.columns)\n",
        "application_train_cat.head()"
      ],
      "execution_count": 0,
      "outputs": [
        {
          "output_type": "execute_result",
          "data": {
            "text/html": [
              "<div>\n",
              "<style scoped>\n",
              "    .dataframe tbody tr th:only-of-type {\n",
              "        vertical-align: middle;\n",
              "    }\n",
              "\n",
              "    .dataframe tbody tr th {\n",
              "        vertical-align: top;\n",
              "    }\n",
              "\n",
              "    .dataframe thead th {\n",
              "        text-align: right;\n",
              "    }\n",
              "</style>\n",
              "<table border=\"1\" class=\"dataframe\">\n",
              "  <thead>\n",
              "    <tr style=\"text-align: right;\">\n",
              "      <th></th>\n",
              "      <th>NAME_CONTRACT_TYPE</th>\n",
              "      <th>CODE_GENDER</th>\n",
              "      <th>FLAG_OWN_CAR</th>\n",
              "      <th>FLAG_OWN_REALTY</th>\n",
              "      <th>NAME_TYPE_SUITE</th>\n",
              "      <th>NAME_INCOME_TYPE</th>\n",
              "      <th>NAME_EDUCATION_TYPE</th>\n",
              "      <th>NAME_FAMILY_STATUS</th>\n",
              "      <th>NAME_HOUSING_TYPE</th>\n",
              "      <th>OCCUPATION_TYPE</th>\n",
              "      <th>WEEKDAY_APPR_PROCESS_START</th>\n",
              "      <th>ORGANIZATION_TYPE</th>\n",
              "      <th>FONDKAPREMONT_MODE</th>\n",
              "      <th>HOUSETYPE_MODE</th>\n",
              "      <th>WALLSMATERIAL_MODE</th>\n",
              "      <th>EMERGENCYSTATE_MODE</th>\n",
              "    </tr>\n",
              "  </thead>\n",
              "  <tbody>\n",
              "    <tr>\n",
              "      <th>0</th>\n",
              "      <td>0.0</td>\n",
              "      <td>1.0</td>\n",
              "      <td>0.0</td>\n",
              "      <td>1.0</td>\n",
              "      <td>6.0</td>\n",
              "      <td>7.0</td>\n",
              "      <td>4.0</td>\n",
              "      <td>3.0</td>\n",
              "      <td>1.0</td>\n",
              "      <td>8.0</td>\n",
              "      <td>6.0</td>\n",
              "      <td>5.0</td>\n",
              "      <td>2.0</td>\n",
              "      <td>0.0</td>\n",
              "      <td>5.0</td>\n",
              "      <td>0.0</td>\n",
              "    </tr>\n",
              "    <tr>\n",
              "      <th>1</th>\n",
              "      <td>0.0</td>\n",
              "      <td>0.0</td>\n",
              "      <td>0.0</td>\n",
              "      <td>0.0</td>\n",
              "      <td>1.0</td>\n",
              "      <td>4.0</td>\n",
              "      <td>1.0</td>\n",
              "      <td>1.0</td>\n",
              "      <td>1.0</td>\n",
              "      <td>3.0</td>\n",
              "      <td>1.0</td>\n",
              "      <td>39.0</td>\n",
              "      <td>2.0</td>\n",
              "      <td>0.0</td>\n",
              "      <td>0.0</td>\n",
              "      <td>0.0</td>\n",
              "    </tr>\n",
              "    <tr>\n",
              "      <th>2</th>\n",
              "      <td>1.0</td>\n",
              "      <td>1.0</td>\n",
              "      <td>1.0</td>\n",
              "      <td>1.0</td>\n",
              "      <td>6.0</td>\n",
              "      <td>7.0</td>\n",
              "      <td>4.0</td>\n",
              "      <td>3.0</td>\n",
              "      <td>1.0</td>\n",
              "      <td>8.0</td>\n",
              "      <td>1.0</td>\n",
              "      <td>11.0</td>\n",
              "      <td>2.0</td>\n",
              "      <td>0.0</td>\n",
              "      <td>0.0</td>\n",
              "      <td>0.0</td>\n",
              "    </tr>\n",
              "    <tr>\n",
              "      <th>3</th>\n",
              "      <td>0.0</td>\n",
              "      <td>0.0</td>\n",
              "      <td>0.0</td>\n",
              "      <td>1.0</td>\n",
              "      <td>6.0</td>\n",
              "      <td>7.0</td>\n",
              "      <td>4.0</td>\n",
              "      <td>0.0</td>\n",
              "      <td>1.0</td>\n",
              "      <td>8.0</td>\n",
              "      <td>6.0</td>\n",
              "      <td>5.0</td>\n",
              "      <td>2.0</td>\n",
              "      <td>0.0</td>\n",
              "      <td>0.0</td>\n",
              "      <td>0.0</td>\n",
              "    </tr>\n",
              "    <tr>\n",
              "      <th>4</th>\n",
              "      <td>0.0</td>\n",
              "      <td>1.0</td>\n",
              "      <td>0.0</td>\n",
              "      <td>1.0</td>\n",
              "      <td>6.0</td>\n",
              "      <td>7.0</td>\n",
              "      <td>4.0</td>\n",
              "      <td>3.0</td>\n",
              "      <td>1.0</td>\n",
              "      <td>3.0</td>\n",
              "      <td>4.0</td>\n",
              "      <td>37.0</td>\n",
              "      <td>2.0</td>\n",
              "      <td>0.0</td>\n",
              "      <td>0.0</td>\n",
              "      <td>0.0</td>\n",
              "    </tr>\n",
              "  </tbody>\n",
              "</table>\n",
              "</div>"
            ],
            "text/plain": [
              "   NAME_CONTRACT_TYPE  CODE_GENDER  FLAG_OWN_CAR  FLAG_OWN_REALTY  \\\n",
              "0                 0.0          1.0           0.0              1.0   \n",
              "1                 0.0          0.0           0.0              0.0   \n",
              "2                 1.0          1.0           1.0              1.0   \n",
              "3                 0.0          0.0           0.0              1.0   \n",
              "4                 0.0          1.0           0.0              1.0   \n",
              "\n",
              "   NAME_TYPE_SUITE  NAME_INCOME_TYPE  NAME_EDUCATION_TYPE  NAME_FAMILY_STATUS  \\\n",
              "0              6.0               7.0                  4.0                 3.0   \n",
              "1              1.0               4.0                  1.0                 1.0   \n",
              "2              6.0               7.0                  4.0                 3.0   \n",
              "3              6.0               7.0                  4.0                 0.0   \n",
              "4              6.0               7.0                  4.0                 3.0   \n",
              "\n",
              "   NAME_HOUSING_TYPE  OCCUPATION_TYPE  WEEKDAY_APPR_PROCESS_START  \\\n",
              "0                1.0              8.0                         6.0   \n",
              "1                1.0              3.0                         1.0   \n",
              "2                1.0              8.0                         1.0   \n",
              "3                1.0              8.0                         6.0   \n",
              "4                1.0              3.0                         4.0   \n",
              "\n",
              "   ORGANIZATION_TYPE  FONDKAPREMONT_MODE  HOUSETYPE_MODE  WALLSMATERIAL_MODE  \\\n",
              "0                5.0                 2.0             0.0                 5.0   \n",
              "1               39.0                 2.0             0.0                 0.0   \n",
              "2               11.0                 2.0             0.0                 0.0   \n",
              "3                5.0                 2.0             0.0                 0.0   \n",
              "4               37.0                 2.0             0.0                 0.0   \n",
              "\n",
              "   EMERGENCYSTATE_MODE  \n",
              "0                  0.0  \n",
              "1                  0.0  \n",
              "2                  0.0  \n",
              "3                  0.0  \n",
              "4                  0.0  "
            ]
          },
          "metadata": {
            "tags": []
          },
          "execution_count": 28
        }
      ]
    },
    {
      "metadata": {
        "id": "QwqlqAdr16ie",
        "colab_type": "text"
      },
      "cell_type": "markdown",
      "source": [
        "### Now we need to deal with missing numerical values in 'application_train'. Scikit-Learn provides a handy class to take care of missing values: **Imputer**. First, we need to create an Imputer instance, specifying that we want to replace each attribute’s missing values with the median of that attribute.  Then we invoke sklearn's StandardScaler function to feature scale all of the numerical variables."
      ]
    },
    {
      "metadata": {
        "id": "FSxY4lSM1rV1",
        "colab_type": "code",
        "colab": {}
      },
      "cell_type": "code",
      "source": [
        "from sklearn.pipeline import Pipeline\n",
        "from sklearn.impute import SimpleImputer\n",
        "from sklearn.preprocessing import StandardScaler\n",
        "\n",
        "num_pipeline = Pipeline([\n",
        "        ('imputer', SimpleImputer(strategy=\"median\")),\n",
        "        ('std_scaler', StandardScaler())\n",
        "        ])"
      ],
      "execution_count": 0,
      "outputs": []
    },
    {
      "metadata": {
        "id": "7-3Kj1oyGap9",
        "colab_type": "code",
        "outputId": "90651152-c099-4328-8d70-97c8671ebcdb",
        "colab": {
          "base_uri": "https://localhost:8080/",
          "height": 238
        }
      },
      "cell_type": "code",
      "source": [
        "application_train_num_encoded = num_pipeline.fit_transform(application_train_num)\n",
        "application_train_num_encoded"
      ],
      "execution_count": 0,
      "outputs": [
        {
          "output_type": "execute_result",
          "data": {
            "text/plain": [
              "array([[-0.57753784,  0.14212925, -0.47809496, ..., -0.26994654,\n",
              "        -0.30861959, -0.44092567],\n",
              "       [-0.57753784,  0.42679193,  1.7254498 , ..., -0.26994654,\n",
              "        -0.30861959, -1.00733095],\n",
              "       [-0.57753784, -0.4271961 , -1.15288792, ..., -0.26994654,\n",
              "        -0.30861959, -1.00733095],\n",
              "       ...,\n",
              "       [-0.57753784, -0.06662338,  0.19537871, ...,  0.89717516,\n",
              "        -0.30861959, -0.44092567],\n",
              "       [-0.57753784,  0.00928667, -0.56875681, ..., -0.26994654,\n",
              "        -0.30861959, -1.00733095],\n",
              "       [-0.57753784, -0.04764587,  0.18875991, ...,  2.06429685,\n",
              "        -0.30861959, -0.44092567]])"
            ]
          },
          "metadata": {
            "tags": []
          },
          "execution_count": 31
        }
      ]
    },
    {
      "metadata": {
        "id": "9KGhfQXN3kkq",
        "colab_type": "code",
        "outputId": "3176cdc4-a253-45d9-c3da-eb18781e6fd0",
        "colab": {
          "base_uri": "https://localhost:8080/",
          "height": 258
        }
      },
      "cell_type": "code",
      "source": [
        "application_train_num = pd.DataFrame(application_train_num_encoded,columns = application_train_num.columns)\n",
        "application_train_num = pd.concat([application_train_index_target,application_train_num],axis=1)\n",
        "application_train_num.head()"
      ],
      "execution_count": 0,
      "outputs": [
        {
          "output_type": "execute_result",
          "data": {
            "text/html": [
              "<div>\n",
              "<style scoped>\n",
              "    .dataframe tbody tr th:only-of-type {\n",
              "        vertical-align: middle;\n",
              "    }\n",
              "\n",
              "    .dataframe tbody tr th {\n",
              "        vertical-align: top;\n",
              "    }\n",
              "\n",
              "    .dataframe thead th {\n",
              "        text-align: right;\n",
              "    }\n",
              "</style>\n",
              "<table border=\"1\" class=\"dataframe\">\n",
              "  <thead>\n",
              "    <tr style=\"text-align: right;\">\n",
              "      <th></th>\n",
              "      <th>SK_ID_CURR</th>\n",
              "      <th>TARGET</th>\n",
              "      <th>CNT_CHILDREN</th>\n",
              "      <th>AMT_INCOME_TOTAL</th>\n",
              "      <th>AMT_CREDIT</th>\n",
              "      <th>AMT_ANNUITY</th>\n",
              "      <th>AMT_GOODS_PRICE</th>\n",
              "      <th>REGION_POPULATION_RELATIVE</th>\n",
              "      <th>DAYS_BIRTH</th>\n",
              "      <th>DAYS_EMPLOYED</th>\n",
              "      <th>...</th>\n",
              "      <th>FLAG_DOCUMENT_18</th>\n",
              "      <th>FLAG_DOCUMENT_19</th>\n",
              "      <th>FLAG_DOCUMENT_20</th>\n",
              "      <th>FLAG_DOCUMENT_21</th>\n",
              "      <th>AMT_REQ_CREDIT_BUREAU_HOUR</th>\n",
              "      <th>AMT_REQ_CREDIT_BUREAU_DAY</th>\n",
              "      <th>AMT_REQ_CREDIT_BUREAU_WEEK</th>\n",
              "      <th>AMT_REQ_CREDIT_BUREAU_MON</th>\n",
              "      <th>AMT_REQ_CREDIT_BUREAU_QRT</th>\n",
              "      <th>AMT_REQ_CREDIT_BUREAU_YEAR</th>\n",
              "    </tr>\n",
              "  </thead>\n",
              "  <tbody>\n",
              "    <tr>\n",
              "      <th>0</th>\n",
              "      <td>100002</td>\n",
              "      <td>1</td>\n",
              "      <td>-0.577538</td>\n",
              "      <td>0.142129</td>\n",
              "      <td>-0.478095</td>\n",
              "      <td>-0.166143</td>\n",
              "      <td>-0.507236</td>\n",
              "      <td>-0.149452</td>\n",
              "      <td>1.506880</td>\n",
              "      <td>-0.456215</td>\n",
              "      <td>...</td>\n",
              "      <td>-0.090534</td>\n",
              "      <td>-0.024402</td>\n",
              "      <td>-0.022529</td>\n",
              "      <td>-0.018305</td>\n",
              "      <td>-0.070987</td>\n",
              "      <td>-0.058766</td>\n",
              "      <td>-0.155837</td>\n",
              "      <td>-0.269947</td>\n",
              "      <td>-0.30862</td>\n",
              "      <td>-0.440926</td>\n",
              "    </tr>\n",
              "    <tr>\n",
              "      <th>1</th>\n",
              "      <td>100003</td>\n",
              "      <td>0</td>\n",
              "      <td>-0.577538</td>\n",
              "      <td>0.426792</td>\n",
              "      <td>1.725450</td>\n",
              "      <td>0.592683</td>\n",
              "      <td>1.600873</td>\n",
              "      <td>-1.252750</td>\n",
              "      <td>-0.166821</td>\n",
              "      <td>-0.460115</td>\n",
              "      <td>...</td>\n",
              "      <td>-0.090534</td>\n",
              "      <td>-0.024402</td>\n",
              "      <td>-0.022529</td>\n",
              "      <td>-0.018305</td>\n",
              "      <td>-0.070987</td>\n",
              "      <td>-0.058766</td>\n",
              "      <td>-0.155837</td>\n",
              "      <td>-0.269947</td>\n",
              "      <td>-0.30862</td>\n",
              "      <td>-1.007331</td>\n",
              "    </tr>\n",
              "    <tr>\n",
              "      <th>2</th>\n",
              "      <td>100004</td>\n",
              "      <td>0</td>\n",
              "      <td>-0.577538</td>\n",
              "      <td>-0.427196</td>\n",
              "      <td>-1.152888</td>\n",
              "      <td>-1.404669</td>\n",
              "      <td>-1.092145</td>\n",
              "      <td>-0.783451</td>\n",
              "      <td>-0.689509</td>\n",
              "      <td>-0.453299</td>\n",
              "      <td>...</td>\n",
              "      <td>-0.090534</td>\n",
              "      <td>-0.024402</td>\n",
              "      <td>-0.022529</td>\n",
              "      <td>-0.018305</td>\n",
              "      <td>-0.070987</td>\n",
              "      <td>-0.058766</td>\n",
              "      <td>-0.155837</td>\n",
              "      <td>-0.269947</td>\n",
              "      <td>-0.30862</td>\n",
              "      <td>-1.007331</td>\n",
              "    </tr>\n",
              "    <tr>\n",
              "      <th>3</th>\n",
              "      <td>100006</td>\n",
              "      <td>0</td>\n",
              "      <td>-0.577538</td>\n",
              "      <td>-0.142533</td>\n",
              "      <td>-0.711430</td>\n",
              "      <td>0.177874</td>\n",
              "      <td>-0.653463</td>\n",
              "      <td>-0.928991</td>\n",
              "      <td>-0.680114</td>\n",
              "      <td>-0.473217</td>\n",
              "      <td>...</td>\n",
              "      <td>-0.090534</td>\n",
              "      <td>-0.024402</td>\n",
              "      <td>-0.022529</td>\n",
              "      <td>-0.018305</td>\n",
              "      <td>-0.070987</td>\n",
              "      <td>-0.058766</td>\n",
              "      <td>-0.155837</td>\n",
              "      <td>-0.269947</td>\n",
              "      <td>-0.30862</td>\n",
              "      <td>-0.440926</td>\n",
              "    </tr>\n",
              "    <tr>\n",
              "      <th>4</th>\n",
              "      <td>100007</td>\n",
              "      <td>0</td>\n",
              "      <td>-0.577538</td>\n",
              "      <td>-0.199466</td>\n",
              "      <td>-0.213734</td>\n",
              "      <td>-0.361749</td>\n",
              "      <td>-0.068554</td>\n",
              "      <td>0.563570</td>\n",
              "      <td>-0.892535</td>\n",
              "      <td>-0.473210</td>\n",
              "      <td>...</td>\n",
              "      <td>-0.090534</td>\n",
              "      <td>-0.024402</td>\n",
              "      <td>-0.022529</td>\n",
              "      <td>-0.018305</td>\n",
              "      <td>-0.070987</td>\n",
              "      <td>-0.058766</td>\n",
              "      <td>-0.155837</td>\n",
              "      <td>-0.269947</td>\n",
              "      <td>-0.30862</td>\n",
              "      <td>-1.007331</td>\n",
              "    </tr>\n",
              "  </tbody>\n",
              "</table>\n",
              "<p>5 rows × 106 columns</p>\n",
              "</div>"
            ],
            "text/plain": [
              "   SK_ID_CURR  TARGET  CNT_CHILDREN  AMT_INCOME_TOTAL  AMT_CREDIT  \\\n",
              "0      100002       1     -0.577538          0.142129   -0.478095   \n",
              "1      100003       0     -0.577538          0.426792    1.725450   \n",
              "2      100004       0     -0.577538         -0.427196   -1.152888   \n",
              "3      100006       0     -0.577538         -0.142533   -0.711430   \n",
              "4      100007       0     -0.577538         -0.199466   -0.213734   \n",
              "\n",
              "   AMT_ANNUITY  AMT_GOODS_PRICE  REGION_POPULATION_RELATIVE  DAYS_BIRTH  \\\n",
              "0    -0.166143        -0.507236                   -0.149452    1.506880   \n",
              "1     0.592683         1.600873                   -1.252750   -0.166821   \n",
              "2    -1.404669        -1.092145                   -0.783451   -0.689509   \n",
              "3     0.177874        -0.653463                   -0.928991   -0.680114   \n",
              "4    -0.361749        -0.068554                    0.563570   -0.892535   \n",
              "\n",
              "   DAYS_EMPLOYED             ...              FLAG_DOCUMENT_18  \\\n",
              "0      -0.456215             ...                     -0.090534   \n",
              "1      -0.460115             ...                     -0.090534   \n",
              "2      -0.453299             ...                     -0.090534   \n",
              "3      -0.473217             ...                     -0.090534   \n",
              "4      -0.473210             ...                     -0.090534   \n",
              "\n",
              "   FLAG_DOCUMENT_19  FLAG_DOCUMENT_20  FLAG_DOCUMENT_21  \\\n",
              "0         -0.024402         -0.022529         -0.018305   \n",
              "1         -0.024402         -0.022529         -0.018305   \n",
              "2         -0.024402         -0.022529         -0.018305   \n",
              "3         -0.024402         -0.022529         -0.018305   \n",
              "4         -0.024402         -0.022529         -0.018305   \n",
              "\n",
              "   AMT_REQ_CREDIT_BUREAU_HOUR  AMT_REQ_CREDIT_BUREAU_DAY  \\\n",
              "0                   -0.070987                  -0.058766   \n",
              "1                   -0.070987                  -0.058766   \n",
              "2                   -0.070987                  -0.058766   \n",
              "3                   -0.070987                  -0.058766   \n",
              "4                   -0.070987                  -0.058766   \n",
              "\n",
              "   AMT_REQ_CREDIT_BUREAU_WEEK  AMT_REQ_CREDIT_BUREAU_MON  \\\n",
              "0                   -0.155837                  -0.269947   \n",
              "1                   -0.155837                  -0.269947   \n",
              "2                   -0.155837                  -0.269947   \n",
              "3                   -0.155837                  -0.269947   \n",
              "4                   -0.155837                  -0.269947   \n",
              "\n",
              "   AMT_REQ_CREDIT_BUREAU_QRT  AMT_REQ_CREDIT_BUREAU_YEAR  \n",
              "0                   -0.30862                   -0.440926  \n",
              "1                   -0.30862                   -1.007331  \n",
              "2                   -0.30862                   -1.007331  \n",
              "3                   -0.30862                   -0.440926  \n",
              "4                   -0.30862                   -1.007331  \n",
              "\n",
              "[5 rows x 106 columns]"
            ]
          },
          "metadata": {
            "tags": []
          },
          "execution_count": 32
        }
      ]
    },
    {
      "metadata": {
        "id": "O-5RPpNsL7Rb",
        "colab_type": "code",
        "outputId": "080f70f9-cfdc-448a-8d84-905b1799e284",
        "colab": {
          "base_uri": "https://localhost:8080/",
          "height": 102
        }
      },
      "cell_type": "code",
      "source": [
        "application_train_coded = pd.concat([application_train_num,application_train_cat],axis=1)\n",
        "# application_train_coded.to_csv(r'/gdrive/My Drive/Colab Notebooks/Home Credit Default Risk/files/application_train_files/application_train_coded.csv')\n",
        "application_train_coded.info()"
      ],
      "execution_count": 0,
      "outputs": [
        {
          "output_type": "stream",
          "text": [
            "<class 'pandas.core.frame.DataFrame'>\n",
            "RangeIndex: 307511 entries, 0 to 307510\n",
            "Columns: 122 entries, SK_ID_CURR to EMERGENCYSTATE_MODE\n",
            "dtypes: float64(120), int64(2)\n",
            "memory usage: 286.2 MB\n"
          ],
          "name": "stdout"
        }
      ]
    }
  ]
}