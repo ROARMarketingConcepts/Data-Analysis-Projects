{
  "nbformat": 4,
  "nbformat_minor": 0,
  "metadata": {
    "colab": {
      "name": "Harvard Art Museum API.ipynb",
      "version": "0.3.2",
      "provenance": [],
      "collapsed_sections": [],
      "include_colab_link": true
    },
    "kernelspec": {
      "name": "python3",
      "display_name": "Python 3"
    }
  },
  "cells": [
    {
      "cell_type": "markdown",
      "metadata": {
        "id": "view-in-github",
        "colab_type": "text"
      },
      "source": [
        "<a href=\"https://colab.research.google.com/github/ROARMarketingConcepts/Data-Analysis-Projects/blob/master/Harvard_Art_Museum_API.ipynb\" target=\"_parent\"><img src=\"https://colab.research.google.com/assets/colab-badge.svg\" alt=\"Open In Colab\"/></a>"
      ]
    },
    {
      "cell_type": "markdown",
      "metadata": {
        "id": "h0t-_zVCESfc",
        "colab_type": "text"
      },
      "source": [
        "## Harvard Art Museum API Assignment - Thinkful\n",
        "\n",
        "Ken Wood\n",
        "\n",
        "Technical Expert - Data Analytics\n",
        "\n",
        "kwood@thinkful.com"
      ]
    },
    {
      "cell_type": "code",
      "metadata": {
        "id": "btsw0QdYz4KB",
        "colab_type": "code",
        "colab": {}
      },
      "source": [
        "import requests\n",
        "import pandas as pd"
      ],
      "execution_count": 0,
      "outputs": []
    },
    {
      "cell_type": "markdown",
      "metadata": {
        "id": "pf15xwmBbxvp",
        "colab_type": "text"
      },
      "source": [
        "### Send a query to the Harvard Art Museum API"
      ]
    },
    {
      "cell_type": "code",
      "metadata": {
        "id": "8upvJ9atbjsT",
        "colab_type": "code",
        "colab": {}
      },
      "source": [
        "url = 'https://api.harvardartmuseums.org/person'\n",
        "query = {'apikey':'d792d820-8e00-11e9-b4c7-5b9efed608d2', 'q':'culture:British'}"
      ],
      "execution_count": 0,
      "outputs": []
    },
    {
      "cell_type": "code",
      "metadata": {
        "id": "iS13IWao_pQ-",
        "colab_type": "code",
        "outputId": "8541fe08-fb66-43fc-c465-2b0217f16194",
        "colab": {
          "base_uri": "https://localhost:8080/",
          "height": 34
        }
      },
      "source": [
        "response = requests.get(url, params=query)\n",
        "response"
      ],
      "execution_count": 3,
      "outputs": [
        {
          "output_type": "execute_result",
          "data": {
            "text/plain": [
              "<Response [200]>"
            ]
          },
          "metadata": {
            "tags": []
          },
          "execution_count": 3
        }
      ]
    },
    {
      "cell_type": "markdown",
      "metadata": {
        "id": "6eZ5-8UrwJ8v",
        "colab_type": "text"
      },
      "source": [
        "## Load the response data...\n"
      ]
    },
    {
      "cell_type": "code",
      "metadata": {
        "id": "GFxYFaERcV2o",
        "colab_type": "code",
        "outputId": "bc0f2f2a-09c0-4531-a29a-17d6397b8942",
        "colab": {
          "base_uri": "https://localhost:8080/",
          "height": 34
        }
      },
      "source": [
        "data = response.json()\n",
        "print(data.keys())"
      ],
      "execution_count": 4,
      "outputs": [
        {
          "output_type": "stream",
          "text": [
            "dict_keys(['info', 'records'])\n"
          ],
          "name": "stdout"
        }
      ]
    },
    {
      "cell_type": "code",
      "metadata": {
        "id": "o9N90WZpIamo",
        "colab_type": "code",
        "outputId": "237bb430-21ac-4558-c57d-bbb074efd1d8",
        "colab": {
          "base_uri": "https://localhost:8080/",
          "height": 34
        }
      },
      "source": [
        "len(data['info'])"
      ],
      "execution_count": 5,
      "outputs": [
        {
          "output_type": "execute_result",
          "data": {
            "text/plain": [
              "5"
            ]
          },
          "metadata": {
            "tags": []
          },
          "execution_count": 5
        }
      ]
    },
    {
      "cell_type": "code",
      "metadata": {
        "id": "txJQK8FHJ4lk",
        "colab_type": "code",
        "outputId": "15e46818-1149-49bb-fe19-b959d507ec08",
        "colab": {
          "base_uri": "https://localhost:8080/",
          "height": 34
        }
      },
      "source": [
        "len(data['records'])"
      ],
      "execution_count": 6,
      "outputs": [
        {
          "output_type": "execute_result",
          "data": {
            "text/plain": [
              "10"
            ]
          },
          "metadata": {
            "tags": []
          },
          "execution_count": 6
        }
      ]
    },
    {
      "cell_type": "code",
      "metadata": {
        "id": "GplsW9ElctLC",
        "colab_type": "code",
        "outputId": "3c8ac5e9-b40d-4370-9e21-d8b65da9f365",
        "colab": {
          "base_uri": "https://localhost:8080/",
          "height": 2397
        }
      },
      "source": [
        "records = data['records']\n",
        "records"
      ],
      "execution_count": 7,
      "outputs": [
        {
          "output_type": "execute_result",
          "data": {
            "text/plain": [
              "[{'alphasort': 'Hodges, William',\n",
              "  'birthplace': None,\n",
              "  'culture': 'British',\n",
              "  'datebegin': 1744,\n",
              "  'dateend': 1797,\n",
              "  'deathplace': None,\n",
              "  'displaydate': '1744-1797',\n",
              "  'displayname': 'William Hodges',\n",
              "  'gender': 'unknown',\n",
              "  'id': 746,\n",
              "  'lastupdate': '2019-06-12T04:48:12-0400',\n",
              "  'objectcount': 6,\n",
              "  'personid': 746,\n",
              "  'url': 'https://www.harvardartmuseums.org/collections/person/746'},\n",
              " {'alphasort': 'Kilburn, William Edward',\n",
              "  'birthplace': None,\n",
              "  'culture': 'British',\n",
              "  'datebegin': 1830,\n",
              "  'dateend': 1884,\n",
              "  'deathplace': None,\n",
              "  'displaydate': 'active 1846-1862',\n",
              "  'displayname': 'William Edward Kilburn',\n",
              "  'gender': 'unknown',\n",
              "  'id': 17981,\n",
              "  'lastupdate': '2019-06-12T04:52:50-0400',\n",
              "  'objectcount': 2,\n",
              "  'personid': 17981,\n",
              "  'url': 'https://www.harvardartmuseums.org/collections/person/17981'},\n",
              " {'alphasort': 'Ouless, Walter William',\n",
              "  'birthplace': 'Saint Helier, Ise Jersey, England',\n",
              "  'culture': 'British',\n",
              "  'datebegin': 1848,\n",
              "  'dateend': 1933,\n",
              "  'deathplace': 'Isle of Jersey, England',\n",
              "  'displaydate': '1848 - 1933',\n",
              "  'displayname': 'Walter William Ouless',\n",
              "  'gender': 'unknown',\n",
              "  'id': 18231,\n",
              "  'lastupdate': '2019-06-12T04:52:59-0400',\n",
              "  'objectcount': 1,\n",
              "  'personid': 18231,\n",
              "  'url': 'https://www.harvardartmuseums.org/collections/person/18231'},\n",
              " {'alphasort': 'Barber, A.',\n",
              "  'birthplace': None,\n",
              "  'culture': 'British',\n",
              "  'datebegin': 0,\n",
              "  'dateend': 0,\n",
              "  'deathplace': None,\n",
              "  'displaydate': None,\n",
              "  'displayname': 'A. Barber',\n",
              "  'gender': 'unknown',\n",
              "  'id': 18345,\n",
              "  'lastupdate': '2019-06-12T04:53:04-0400',\n",
              "  'objectcount': 0,\n",
              "  'personid': 18345,\n",
              "  'url': 'https://www.harvardartmuseums.org/collections/person/18345'},\n",
              " {'alphasort': 'Barnes and Son',\n",
              "  'birthplace': None,\n",
              "  'culture': 'British',\n",
              "  'datebegin': 1830,\n",
              "  'dateend': 1870,\n",
              "  'deathplace': None,\n",
              "  'displaydate': 'active mid 19th century ',\n",
              "  'displayname': 'Barnes and Son',\n",
              "  'gender': 'unknown',\n",
              "  'id': 18352,\n",
              "  'lastupdate': '2019-06-12T04:53:04-0400',\n",
              "  'objectcount': 0,\n",
              "  'personid': 18352,\n",
              "  'url': 'https://www.harvardartmuseums.org/collections/person/18352'},\n",
              " {'alphasort': 'Bates, W.',\n",
              "  'birthplace': None,\n",
              "  'culture': 'British',\n",
              "  'datebegin': 1870,\n",
              "  'dateend': 1879,\n",
              "  'deathplace': None,\n",
              "  'displaydate': 'active c. 1870s',\n",
              "  'displayname': 'W. Bates',\n",
              "  'gender': 'unknown',\n",
              "  'id': 18366,\n",
              "  'lastupdate': '2019-06-12T04:53:06-0400',\n",
              "  'objectcount': 0,\n",
              "  'personid': 18366,\n",
              "  'url': 'https://www.harvardartmuseums.org/collections/person/18366'},\n",
              " {'alphasort': 'Beattle & Bark',\n",
              "  'birthplace': None,\n",
              "  'culture': 'British',\n",
              "  'datebegin': 1850,\n",
              "  'dateend': 1899,\n",
              "  'deathplace': None,\n",
              "  'displaydate': 'active 2nd half of the 19th century',\n",
              "  'displayname': 'Beattle & Bark',\n",
              "  'gender': 'unknown',\n",
              "  'id': 18420,\n",
              "  'lastupdate': '2019-06-12T04:53:06-0400',\n",
              "  'objectcount': 0,\n",
              "  'personid': 18420,\n",
              "  'url': 'https://www.harvardartmuseums.org/collections/person/18420'},\n",
              " {'alphasort': 'Ayling, S.',\n",
              "  'birthplace': None,\n",
              "  'culture': 'British',\n",
              "  'datebegin': 1860,\n",
              "  'dateend': 1869,\n",
              "  'deathplace': None,\n",
              "  'displaydate': 'active c. 1860s',\n",
              "  'displayname': 'S. Ayling',\n",
              "  'gender': 'unknown',\n",
              "  'id': 18416,\n",
              "  'lastupdate': '2019-06-12T04:53:07-0400',\n",
              "  'objectcount': 0,\n",
              "  'personid': 18416,\n",
              "  'url': 'https://www.harvardartmuseums.org/collections/person/18416'},\n",
              " {'alphasort': 'Mills, H.',\n",
              "  'birthplace': None,\n",
              "  'culture': 'British?',\n",
              "  'datebegin': 1900,\n",
              "  'dateend': 1999,\n",
              "  'deathplace': None,\n",
              "  'displaydate': '20th century',\n",
              "  'displayname': 'H. Mills',\n",
              "  'gender': 'unknown',\n",
              "  'id': 18525,\n",
              "  'lastupdate': '2019-06-12T04:53:09-0400',\n",
              "  'objectcount': 4,\n",
              "  'personid': 18525,\n",
              "  'url': 'https://www.harvardartmuseums.org/collections/person/18525'},\n",
              " {'alphasort': 'Drummond, Samuel',\n",
              "  'birthplace': None,\n",
              "  'culture': 'British',\n",
              "  'datebegin': 1765,\n",
              "  'dateend': 1844,\n",
              "  'deathplace': None,\n",
              "  'displaydate': '1765 - 1844',\n",
              "  'displayname': 'Samuel Drummond',\n",
              "  'gender': 'unknown',\n",
              "  'id': 18691,\n",
              "  'lastupdate': '2019-06-12T04:53:16-0400',\n",
              "  'objectcount': 1,\n",
              "  'personid': 18691,\n",
              "  'url': 'https://www.harvardartmuseums.org/collections/person/18691'}]"
            ]
          },
          "metadata": {
            "tags": []
          },
          "execution_count": 7
        }
      ]
    },
    {
      "cell_type": "code",
      "metadata": {
        "id": "xdongOvMqMUq",
        "colab_type": "code",
        "outputId": "cce3dfba-1bc7-4821-befe-485f4439150d",
        "colab": {
          "base_uri": "https://localhost:8080/",
          "height": 34
        }
      },
      "source": [
        "print(type(records))"
      ],
      "execution_count": 8,
      "outputs": [
        {
          "output_type": "stream",
          "text": [
            "<class 'list'>\n"
          ],
          "name": "stdout"
        }
      ]
    },
    {
      "cell_type": "code",
      "metadata": {
        "id": "nwCV9SgedF0X",
        "colab_type": "code",
        "outputId": "53556037-907f-4b33-a21e-9620ec959942",
        "colab": {
          "base_uri": "https://localhost:8080/",
          "height": 359
        }
      },
      "source": [
        "df_records = pd.DataFrame(records)\n",
        "df_records=df_records[['displayname','birthplace','culture']]\n",
        "df_records"
      ],
      "execution_count": 9,
      "outputs": [
        {
          "output_type": "execute_result",
          "data": {
            "text/html": [
              "<div>\n",
              "<style scoped>\n",
              "    .dataframe tbody tr th:only-of-type {\n",
              "        vertical-align: middle;\n",
              "    }\n",
              "\n",
              "    .dataframe tbody tr th {\n",
              "        vertical-align: top;\n",
              "    }\n",
              "\n",
              "    .dataframe thead th {\n",
              "        text-align: right;\n",
              "    }\n",
              "</style>\n",
              "<table border=\"1\" class=\"dataframe\">\n",
              "  <thead>\n",
              "    <tr style=\"text-align: right;\">\n",
              "      <th></th>\n",
              "      <th>displayname</th>\n",
              "      <th>birthplace</th>\n",
              "      <th>culture</th>\n",
              "    </tr>\n",
              "  </thead>\n",
              "  <tbody>\n",
              "    <tr>\n",
              "      <th>0</th>\n",
              "      <td>William Hodges</td>\n",
              "      <td>None</td>\n",
              "      <td>British</td>\n",
              "    </tr>\n",
              "    <tr>\n",
              "      <th>1</th>\n",
              "      <td>William Edward Kilburn</td>\n",
              "      <td>None</td>\n",
              "      <td>British</td>\n",
              "    </tr>\n",
              "    <tr>\n",
              "      <th>2</th>\n",
              "      <td>Walter William Ouless</td>\n",
              "      <td>Saint Helier, Ise Jersey, England</td>\n",
              "      <td>British</td>\n",
              "    </tr>\n",
              "    <tr>\n",
              "      <th>3</th>\n",
              "      <td>A. Barber</td>\n",
              "      <td>None</td>\n",
              "      <td>British</td>\n",
              "    </tr>\n",
              "    <tr>\n",
              "      <th>4</th>\n",
              "      <td>Barnes and Son</td>\n",
              "      <td>None</td>\n",
              "      <td>British</td>\n",
              "    </tr>\n",
              "    <tr>\n",
              "      <th>5</th>\n",
              "      <td>W. Bates</td>\n",
              "      <td>None</td>\n",
              "      <td>British</td>\n",
              "    </tr>\n",
              "    <tr>\n",
              "      <th>6</th>\n",
              "      <td>Beattle &amp; Bark</td>\n",
              "      <td>None</td>\n",
              "      <td>British</td>\n",
              "    </tr>\n",
              "    <tr>\n",
              "      <th>7</th>\n",
              "      <td>S. Ayling</td>\n",
              "      <td>None</td>\n",
              "      <td>British</td>\n",
              "    </tr>\n",
              "    <tr>\n",
              "      <th>8</th>\n",
              "      <td>H. Mills</td>\n",
              "      <td>None</td>\n",
              "      <td>British?</td>\n",
              "    </tr>\n",
              "    <tr>\n",
              "      <th>9</th>\n",
              "      <td>Samuel Drummond</td>\n",
              "      <td>None</td>\n",
              "      <td>British</td>\n",
              "    </tr>\n",
              "  </tbody>\n",
              "</table>\n",
              "</div>"
            ],
            "text/plain": [
              "              displayname                         birthplace   culture\n",
              "0          William Hodges                               None   British\n",
              "1  William Edward Kilburn                               None   British\n",
              "2   Walter William Ouless  Saint Helier, Ise Jersey, England   British\n",
              "3               A. Barber                               None   British\n",
              "4          Barnes and Son                               None   British\n",
              "5                W. Bates                               None   British\n",
              "6          Beattle & Bark                               None   British\n",
              "7               S. Ayling                               None   British\n",
              "8                H. Mills                               None  British?\n",
              "9         Samuel Drummond                               None   British"
            ]
          },
          "metadata": {
            "tags": []
          },
          "execution_count": 9
        }
      ]
    }
  ]
}