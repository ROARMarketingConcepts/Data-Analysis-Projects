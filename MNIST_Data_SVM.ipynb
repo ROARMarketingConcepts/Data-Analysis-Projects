{
  "nbformat": 4,
  "nbformat_minor": 0,
  "metadata": {
    "colab": {
      "name": "MNIST Data SVM.ipynb",
      "version": "0.3.2",
      "provenance": []
    },
    "kernelspec": {
      "name": "python3",
      "display_name": "Python 3"
    }
  },
  "cells": [
    {
      "metadata": {
        "id": "8pJ8_YnJ2iX0",
        "colab_type": "text"
      },
      "cell_type": "markdown",
      "source": [
        "## Training the MNIST dataset using a Support Vector Machine (SVM) algorithm"
      ]
    },
    {
      "metadata": {
        "id": "eF8yeZtWk_BZ",
        "colab_type": "code",
        "colab": {}
      },
      "cell_type": "code",
      "source": [
        "# To support both python 2 and python 3\n",
        "from __future__ import division, print_function, unicode_literals\n",
        "\n",
        "# Common imports\n",
        "import numpy as np\n",
        "import os\n",
        "\n",
        "# to make this notebook's output stable across runs\n",
        "np.random.seed(42)\n",
        "\n",
        "# To plot pretty figures\n",
        "%matplotlib inline\n",
        "import matplotlib\n",
        "import matplotlib.pyplot as plt\n",
        "plt.rcParams['axes.labelsize'] = 14\n",
        "plt.rcParams['xtick.labelsize'] = 12\n",
        "plt.rcParams['ytick.labelsize'] = 12\n",
        "\n",
        "# Where to save the figures\n",
        "PROJECT_ROOT_DIR = \".\"\n",
        "CHAPTER_ID = \"svm\"\n",
        "\n",
        "def save_fig(fig_id, tight_layout=True):\n",
        "    path = os.path.join(PROJECT_ROOT_DIR, \"images\", CHAPTER_ID, fig_id + \".png\")\n",
        "    print(\"Saving figure\", fig_id)\n",
        "    if tight_layout:\n",
        "        plt.tight_layout()\n",
        "    plt.savefig(path, format='png', dpi=300)"
      ],
      "execution_count": 0,
      "outputs": []
    },
    {
      "metadata": {
        "id": "sr7VhQwik2z-",
        "colab_type": "code",
        "colab": {}
      },
      "cell_type": "code",
      "source": [
        "from six.moves import urllib\n",
        "from sklearn.datasets import fetch_mldata\n",
        "try:\n",
        "    mnist = fetch_mldata('MNIST original')\n",
        "except urllib.error.HTTPError as ex:\n",
        "    \n",
        "    print(\"Could not download MNIST data from mldata.org, trying alternative...\")\n",
        "\n",
        "    # Alternative method to load MNIST, if mldata.org is down\n",
        "    \n",
        "    from scipy.io import loadmat\n",
        "    mnist_alternative_url = \"https://github.com/amplab/datascience-sp14/raw/master/lab7/mldata/mnist-original.mat\"\n",
        "    mnist_path = \"./mnist-original.mat\"\n",
        "    response = urllib.request.urlopen(mnist_alternative_url)\n",
        "    with open(mnist_path, \"wb\") as f:\n",
        "        content = response.read()\n",
        "        f.write(content)\n",
        "    mnist_raw = loadmat(mnist_path)\n",
        "    mnist = {\n",
        "        \"data\": mnist_raw[\"data\"].T,\n",
        "        \"target\": mnist_raw[\"label\"][0],\n",
        "        \"COL_NAMES\": [\"label\", \"data\"],\n",
        "        \"DESCR\": \"mldata.org dataset: mnist-original\",\n",
        "    }\n",
        "    print(\"Success!\")"
      ],
      "execution_count": 0,
      "outputs": []
    },
    {
      "metadata": {
        "id": "zjxzxuL8aykB",
        "colab_type": "text"
      },
      "cell_type": "markdown",
      "source": [
        "We start by processing the data specifying the training and test sets and then shuffling the data."
      ]
    },
    {
      "metadata": {
        "id": "8T8I5MFYlWaz",
        "colab_type": "code",
        "colab": {}
      },
      "cell_type": "code",
      "source": [
        "X,y = mnist['data'],mnist['target']\n",
        "X_train,X_test,y_train,y_test = X[:60000,:],X[60000:,:],y[:60000,],y[60000:,]\n",
        "np.random.seed(42)\n",
        "rnd_idx = np.random.permutation(60000)\n",
        "X_train = X_train[rnd_idx]\n",
        "y_train = y_train[rnd_idx]"
      ],
      "execution_count": 0,
      "outputs": []
    },
    {
      "metadata": {
        "id": "S82RayGnb00j",
        "colab_type": "text"
      },
      "cell_type": "markdown",
      "source": [
        "Let's apply the LinearSVC which employs one-versus-all to classify all 10 digits. "
      ]
    },
    {
      "metadata": {
        "id": "X0IT5QMm72nN",
        "colab_type": "code",
        "outputId": "4af64cef-65c1-46a8-fd49-f3ce63e2d65e",
        "colab": {
          "base_uri": "https://localhost:8080/",
          "height": 85
        }
      },
      "cell_type": "code",
      "source": [
        "from sklearn.svm import LinearSVC\n",
        "\n",
        "lin_svc_clf = LinearSVC(random_state=42)\n",
        "lin_svc_clf.fit(X_train,y_train)\n"
      ],
      "execution_count": 0,
      "outputs": [
        {
          "output_type": "execute_result",
          "data": {
            "text/plain": [
              "LinearSVC(C=1.0, class_weight=None, dual=True, fit_intercept=True,\n",
              "     intercept_scaling=1, loss='squared_hinge', max_iter=1000,\n",
              "     multi_class='ovr', penalty='l2', random_state=42, tol=0.0001,\n",
              "     verbose=0)"
            ]
          },
          "metadata": {
            "tags": []
          },
          "execution_count": 5
        }
      ]
    },
    {
      "metadata": {
        "id": "esWni9Vt_vhz",
        "colab_type": "text"
      },
      "cell_type": "markdown",
      "source": [
        "Let's make predictions on the training set and measure the accuracy (we don't want to measure it on the test set yet, since we have not selected and trained the final model yet):"
      ]
    },
    {
      "metadata": {
        "id": "f_cGN78imGN-",
        "colab_type": "code",
        "outputId": "c47211b9-8c73-4cf3-e122-9d7887a29e0d",
        "colab": {
          "base_uri": "https://localhost:8080/",
          "height": 34
        }
      },
      "cell_type": "code",
      "source": [
        "from sklearn.metrics import accuracy_score\n",
        "\n",
        "y_pred = lin_svc_clf.predict(X_train)\n",
        "accuracy_score(y_train, y_pred)"
      ],
      "execution_count": 0,
      "outputs": [
        {
          "output_type": "execute_result",
          "data": {
            "text/plain": [
              "0.8263333333333334"
            ]
          },
          "metadata": {
            "tags": []
          },
          "execution_count": 6
        }
      ]
    },
    {
      "metadata": {
        "id": "0FPAJpuPmglo",
        "colab_type": "text"
      },
      "cell_type": "markdown",
      "source": [
        "82.6% accuracy is not particularly good.  Let's try scaling the data."
      ]
    },
    {
      "metadata": {
        "id": "0mzb1UMfni-T",
        "colab_type": "code",
        "outputId": "46f10dd9-6060-4daa-a568-564c9010b9a8",
        "colab": {
          "base_uri": "https://localhost:8080/",
          "height": 85
        }
      },
      "cell_type": "code",
      "source": [
        "from sklearn.preprocessing import StandardScaler\n",
        "\n",
        "scaler = StandardScaler()\n",
        "X_train_scaled = scaler.fit_transform(X_train.astype(np.float32))\n",
        "X_test_scaled = scaler.transform(X_test.astype(np.float32))\n",
        "\n",
        "lin_svc_clf.fit(X_train_scaled,y_train)"
      ],
      "execution_count": 0,
      "outputs": [
        {
          "output_type": "execute_result",
          "data": {
            "text/plain": [
              "LinearSVC(C=1.0, class_weight=None, dual=True, fit_intercept=True,\n",
              "     intercept_scaling=1, loss='squared_hinge', max_iter=1000,\n",
              "     multi_class='ovr', penalty='l2', random_state=42, tol=0.0001,\n",
              "     verbose=0)"
            ]
          },
          "metadata": {
            "tags": []
          },
          "execution_count": 7
        }
      ]
    },
    {
      "metadata": {
        "id": "-KXVvpl8pMpm",
        "colab_type": "code",
        "outputId": "61be1097-7242-4ec9-f086-4b1c18e4a54f",
        "colab": {
          "base_uri": "https://localhost:8080/",
          "height": 34
        }
      },
      "cell_type": "code",
      "source": [
        "y_pred = lin_svc_clf.predict(X_train_scaled)\n",
        "accuracy_score(y_train, y_pred)"
      ],
      "execution_count": 0,
      "outputs": [
        {
          "output_type": "execute_result",
          "data": {
            "text/plain": [
              "0.9224"
            ]
          },
          "metadata": {
            "tags": []
          },
          "execution_count": 8
        }
      ]
    },
    {
      "metadata": {
        "id": "9p93ZveVyXW8",
        "colab_type": "text"
      },
      "cell_type": "markdown",
      "source": [
        "Well, we got a 10% improvement by scaling the data. That's much better, but still not great at all for MNIST. If we want to use an SVM, we will have to use a kernel. Let's try an `SVC` with an RBF kernel (the default).\n",
        "\n",
        "**Warning**: if you are using Scikit-Learn ≤ 0.19, the `SVC` class will use the One-vs-One (OvO) strategy by default, so you must explicitly set `decision_function_shape=\"ovr\"` if you want to use the OvR strategy instead (OvR is the default since 0.19)."
      ]
    },
    {
      "metadata": {
        "id": "gqjxhXuxzXR1",
        "colab_type": "code",
        "outputId": "aae26fb5-6926-4d73-f1da-93f4ff965303",
        "colab": {
          "base_uri": "https://localhost:8080/",
          "height": 85
        }
      },
      "cell_type": "code",
      "source": [
        "from sklearn.svm import SVC\n",
        "\n",
        "svm_clf = SVC(decision_function_shape=\"ovr\")\n",
        "svm_clf.fit(X_train_scaled[:10000], y_train[:10000])"
      ],
      "execution_count": 0,
      "outputs": [
        {
          "output_type": "execute_result",
          "data": {
            "text/plain": [
              "SVC(C=1.0, cache_size=200, class_weight=None, coef0=0.0,\n",
              "  decision_function_shape='ovr', degree=3, gamma='auto', kernel='rbf',\n",
              "  max_iter=-1, probability=False, random_state=None, shrinking=True,\n",
              "  tol=0.001, verbose=False)"
            ]
          },
          "metadata": {
            "tags": []
          },
          "execution_count": 10
        }
      ]
    },
    {
      "metadata": {
        "id": "qvGqNxNH0HMC",
        "colab_type": "code",
        "outputId": "f56b2bd9-34d5-4019-cdf5-db689b888516",
        "colab": {
          "base_uri": "https://localhost:8080/",
          "height": 34
        }
      },
      "cell_type": "code",
      "source": [
        "y_pred = svm_clf.predict(X_train_scaled)\n",
        "accuracy_score(y_train, y_pred)"
      ],
      "execution_count": 0,
      "outputs": [
        {
          "output_type": "execute_result",
          "data": {
            "text/plain": [
              "0.94615"
            ]
          },
          "metadata": {
            "tags": []
          },
          "execution_count": 11
        }
      ]
    }
  ]
}