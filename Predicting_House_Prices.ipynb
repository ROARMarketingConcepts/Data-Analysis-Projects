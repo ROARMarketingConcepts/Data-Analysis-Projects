{
  "nbformat": 4,
  "nbformat_minor": 0,
  "metadata": {
    "colab": {
      "name": "Predicting House Prices.ipynb",
      "version": "0.3.2",
      "provenance": [],
      "collapsed_sections": [
        "PJ6VN8Dqxi4L",
        "RjZct9z6XZIU",
        "9nnsrEM8b6K_",
        "t7_aT4p9slLR",
        "tOhVr227cvsV"
      ],
      "include_colab_link": true
    },
    "kernelspec": {
      "name": "python3",
      "display_name": "Python 3"
    },
    "accelerator": "TPU"
  },
  "cells": [
    {
      "cell_type": "markdown",
      "metadata": {
        "id": "view-in-github",
        "colab_type": "text"
      },
      "source": [
        "<a href=\"https://colab.research.google.com/github/ROARMarketingConcepts/Data-Projects/blob/master/Predicting_House_Prices.ipynb\" target=\"_parent\"><img src=\"https://colab.research.google.com/assets/colab-badge.svg\" alt=\"Open In Colab\"/></a>"
      ]
    },
    {
      "metadata": {
        "id": "xrdB4Pvew0ah",
        "colab_type": "text"
      },
      "cell_type": "markdown",
      "source": [
        "## Predicting House Prices- Data Regression Problem\n",
        "\n",
        "Performed by\n",
        "Ken Wood\n",
        "\n",
        "ken@roarmarketingconcepts.com"
      ]
    },
    {
      "metadata": {
        "id": "Q_Brip-8tdjE",
        "colab_type": "text"
      },
      "cell_type": "markdown",
      "source": [
        "### We will apply three sklearn regression models to a housing dataset to predict sale prices.  The models are: LinearRegression, DecisionTreeRegressor, and RandomForestRegressor.  Our metric for gauging a model's effectiveness is the Root Mean Square Log Error (RMSLE) of the model predictions $\\hat{y}$, as compared with the actual label values $y$ (SalePrice).\n",
        "\n",
        "\n",
        "### RMSLE = $\\sqrt{\\dfrac{1}{n}\\,\\sum_{i=1}^{n}{[(\\log(y_i+1) - \\log(\\hat{y_i}+1)]}\\,^2}$\n",
        "\n",
        "\n",
        "\n",
        "---\n",
        "\n"
      ]
    },
    {
      "metadata": {
        "id": "9ALCkfYuqrTZ",
        "colab_type": "text"
      },
      "cell_type": "markdown",
      "source": [
        "### Mount my Google Drive where the train.csv and test.csv datasets are located..."
      ]
    },
    {
      "metadata": {
        "id": "_a9YQgeAZADA",
        "colab_type": "text"
      },
      "cell_type": "markdown",
      "source": [
        ""
      ]
    },
    {
      "metadata": {
        "id": "JyLPUciaJavv",
        "colab_type": "code",
        "outputId": "04541f39-ed81-48c8-ef54-d74a61fca01e",
        "colab": {
          "base_uri": "https://localhost:8080/",
          "height": 34
        }
      },
      "cell_type": "code",
      "source": [
        "from google.colab import drive\n",
        "drive.mount('/content/drive/')"
      ],
      "execution_count": 0,
      "outputs": [
        {
          "output_type": "stream",
          "text": [
            "Drive already mounted at /content/drive/; to attempt to forcibly remount, call drive.mount(\"/content/drive/\", force_remount=True).\n"
          ],
          "name": "stdout"
        }
      ]
    },
    {
      "metadata": {
        "id": "CaqrF3-Zq2PC",
        "colab_type": "text"
      },
      "cell_type": "markdown",
      "source": [
        "### Install some necessary packages to perform the required analysis..."
      ]
    },
    {
      "metadata": {
        "id": "fXW19Ug6MF-W",
        "colab_type": "code",
        "outputId": "368b866f-9d2c-4108-ddff-64fe3d6ec7ba",
        "colab": {
          "base_uri": "https://localhost:8080/",
          "height": 167
        }
      },
      "cell_type": "code",
      "source": [
        "!pip install -U scikit-learn\n",
        "!pip install --user --upgrade tables\n",
        "import pandas as pd\n",
        "import numpy as np\n",
        "import sklearn\n",
        "import scipy\n",
        "\n",
        "import matplotlib.pyplot as plt\n",
        "from matplotlib import interactive\n",
        "plt.rc(\"font\", size=14)\n",
        "from pylab import scatter, show, legend, xlabel, ylabel\n",
        "\n",
        "import seaborn as sns\n",
        "sns.set(style=\"white\")\n",
        "sns.set(style=\"whitegrid\", color_codes=True)\n",
        "\n",
        "# Ignore useless warnings (see SciPy issue #5998)\n",
        "import warnings\n",
        "warnings.filterwarnings(action=\"ignore\", message=\"^internal gelsd\")"
      ],
      "execution_count": 0,
      "outputs": [
        {
          "output_type": "stream",
          "text": [
            "Requirement already up-to-date: scikit-learn in /usr/local/lib/python3.6/dist-packages (0.20.2)\n",
            "Requirement already satisfied, skipping upgrade: numpy>=1.8.2 in /usr/local/lib/python3.6/dist-packages (from scikit-learn) (1.14.6)\n",
            "Requirement already satisfied, skipping upgrade: scipy>=0.13.3 in /usr/local/lib/python3.6/dist-packages (from scikit-learn) (1.1.0)\n",
            "Requirement already up-to-date: tables in /usr/local/lib/python3.6/dist-packages (3.4.4)\n",
            "Requirement already satisfied, skipping upgrade: numexpr>=2.5.2 in /usr/local/lib/python3.6/dist-packages (from tables) (2.6.8)\n",
            "Requirement already satisfied, skipping upgrade: numpy>=1.8.0 in /usr/local/lib/python3.6/dist-packages (from tables) (1.14.6)\n",
            "Requirement already satisfied, skipping upgrade: six>=1.9.0 in /usr/local/lib/python3.6/dist-packages (from tables) (1.11.0)\n"
          ],
          "name": "stdout"
        }
      ]
    },
    {
      "metadata": {
        "id": "YsUIKTNDq_JY",
        "colab_type": "text"
      },
      "cell_type": "markdown",
      "source": [
        "### Load the train and test datasets..."
      ]
    },
    {
      "metadata": {
        "id": "RpQYnzQpMOTm",
        "colab_type": "code",
        "colab": {}
      },
      "cell_type": "code",
      "source": [
        "train_data = pd.read_csv('/content/drive/My Drive/Colab Notebooks/House Prices: Advanced Regression Techniques/train.csv')\n",
        "test_data = pd.read_csv('/content/drive/My Drive/Colab Notebooks/House Prices: Advanced Regression Techniques/test.csv')"
      ],
      "execution_count": 0,
      "outputs": []
    },
    {
      "metadata": {
        "id": "_XpoAyf2rFaL",
        "colab_type": "text"
      },
      "cell_type": "markdown",
      "source": [
        "### Let's look at some properties of the 'train' dataset..."
      ]
    },
    {
      "metadata": {
        "id": "rz_LftjrQoZh",
        "colab_type": "code",
        "outputId": "0c6b53e7-5ed3-400c-9e47-6fe9d392fdcc",
        "colab": {
          "base_uri": "https://localhost:8080/",
          "height": 1479
        }
      },
      "cell_type": "code",
      "source": [
        "train_data.info()"
      ],
      "execution_count": 0,
      "outputs": [
        {
          "output_type": "stream",
          "text": [
            "<class 'pandas.core.frame.DataFrame'>\n",
            "RangeIndex: 1460 entries, 0 to 1459\n",
            "Data columns (total 81 columns):\n",
            "Id               1460 non-null int64\n",
            "MSSubClass       1460 non-null int64\n",
            "MSZoning         1460 non-null object\n",
            "LotFrontage      1201 non-null float64\n",
            "LotArea          1460 non-null int64\n",
            "Street           1460 non-null object\n",
            "Alley            91 non-null object\n",
            "LotShape         1460 non-null object\n",
            "LandContour      1460 non-null object\n",
            "Utilities        1460 non-null object\n",
            "LotConfig        1460 non-null object\n",
            "LandSlope        1460 non-null object\n",
            "Neighborhood     1460 non-null object\n",
            "Condition1       1460 non-null object\n",
            "Condition2       1460 non-null object\n",
            "BldgType         1460 non-null object\n",
            "HouseStyle       1460 non-null object\n",
            "OverallQual      1460 non-null int64\n",
            "OverallCond      1460 non-null int64\n",
            "YearBuilt        1460 non-null int64\n",
            "YearRemodAdd     1460 non-null int64\n",
            "RoofStyle        1460 non-null object\n",
            "RoofMatl         1460 non-null object\n",
            "Exterior1st      1460 non-null object\n",
            "Exterior2nd      1460 non-null object\n",
            "MasVnrType       1452 non-null object\n",
            "MasVnrArea       1452 non-null float64\n",
            "ExterQual        1460 non-null object\n",
            "ExterCond        1460 non-null object\n",
            "Foundation       1460 non-null object\n",
            "BsmtQual         1423 non-null object\n",
            "BsmtCond         1423 non-null object\n",
            "BsmtExposure     1422 non-null object\n",
            "BsmtFinType1     1423 non-null object\n",
            "BsmtFinSF1       1460 non-null int64\n",
            "BsmtFinType2     1422 non-null object\n",
            "BsmtFinSF2       1460 non-null int64\n",
            "BsmtUnfSF        1460 non-null int64\n",
            "TotalBsmtSF      1460 non-null int64\n",
            "Heating          1460 non-null object\n",
            "HeatingQC        1460 non-null object\n",
            "CentralAir       1460 non-null object\n",
            "Electrical       1459 non-null object\n",
            "1stFlrSF         1460 non-null int64\n",
            "2ndFlrSF         1460 non-null int64\n",
            "LowQualFinSF     1460 non-null int64\n",
            "GrLivArea        1460 non-null int64\n",
            "BsmtFullBath     1460 non-null int64\n",
            "BsmtHalfBath     1460 non-null int64\n",
            "FullBath         1460 non-null int64\n",
            "HalfBath         1460 non-null int64\n",
            "BedroomAbvGr     1460 non-null int64\n",
            "KitchenAbvGr     1460 non-null int64\n",
            "KitchenQual      1460 non-null object\n",
            "TotRmsAbvGrd     1460 non-null int64\n",
            "Functional       1460 non-null object\n",
            "Fireplaces       1460 non-null int64\n",
            "FireplaceQu      770 non-null object\n",
            "GarageType       1379 non-null object\n",
            "GarageYrBlt      1379 non-null float64\n",
            "GarageFinish     1379 non-null object\n",
            "GarageCars       1460 non-null int64\n",
            "GarageArea       1460 non-null int64\n",
            "GarageQual       1379 non-null object\n",
            "GarageCond       1379 non-null object\n",
            "PavedDrive       1460 non-null object\n",
            "WoodDeckSF       1460 non-null int64\n",
            "OpenPorchSF      1460 non-null int64\n",
            "EnclosedPorch    1460 non-null int64\n",
            "3SsnPorch        1460 non-null int64\n",
            "ScreenPorch      1460 non-null int64\n",
            "PoolArea         1460 non-null int64\n",
            "PoolQC           7 non-null object\n",
            "Fence            281 non-null object\n",
            "MiscFeature      54 non-null object\n",
            "MiscVal          1460 non-null int64\n",
            "MoSold           1460 non-null int64\n",
            "YrSold           1460 non-null int64\n",
            "SaleType         1460 non-null object\n",
            "SaleCondition    1460 non-null object\n",
            "SalePrice        1460 non-null int64\n",
            "dtypes: float64(3), int64(35), object(43)\n",
            "memory usage: 924.0+ KB\n"
          ],
          "name": "stdout"
        }
      ]
    },
    {
      "metadata": {
        "id": "IIbDY8dcfd5_",
        "colab_type": "code",
        "outputId": "25078c41-8a57-4868-eabb-a76a1ffbd4c4",
        "colab": {
          "base_uri": "https://localhost:8080/",
          "height": 258
        }
      },
      "cell_type": "code",
      "source": [
        "train_data.head()"
      ],
      "execution_count": 0,
      "outputs": [
        {
          "output_type": "execute_result",
          "data": {
            "text/html": [
              "<div>\n",
              "<style scoped>\n",
              "    .dataframe tbody tr th:only-of-type {\n",
              "        vertical-align: middle;\n",
              "    }\n",
              "\n",
              "    .dataframe tbody tr th {\n",
              "        vertical-align: top;\n",
              "    }\n",
              "\n",
              "    .dataframe thead th {\n",
              "        text-align: right;\n",
              "    }\n",
              "</style>\n",
              "<table border=\"1\" class=\"dataframe\">\n",
              "  <thead>\n",
              "    <tr style=\"text-align: right;\">\n",
              "      <th></th>\n",
              "      <th>Id</th>\n",
              "      <th>MSSubClass</th>\n",
              "      <th>MSZoning</th>\n",
              "      <th>LotFrontage</th>\n",
              "      <th>LotArea</th>\n",
              "      <th>Street</th>\n",
              "      <th>Alley</th>\n",
              "      <th>LotShape</th>\n",
              "      <th>LandContour</th>\n",
              "      <th>Utilities</th>\n",
              "      <th>...</th>\n",
              "      <th>PoolArea</th>\n",
              "      <th>PoolQC</th>\n",
              "      <th>Fence</th>\n",
              "      <th>MiscFeature</th>\n",
              "      <th>MiscVal</th>\n",
              "      <th>MoSold</th>\n",
              "      <th>YrSold</th>\n",
              "      <th>SaleType</th>\n",
              "      <th>SaleCondition</th>\n",
              "      <th>SalePrice</th>\n",
              "    </tr>\n",
              "  </thead>\n",
              "  <tbody>\n",
              "    <tr>\n",
              "      <th>0</th>\n",
              "      <td>1</td>\n",
              "      <td>60</td>\n",
              "      <td>RL</td>\n",
              "      <td>65.0</td>\n",
              "      <td>8450</td>\n",
              "      <td>Pave</td>\n",
              "      <td>NaN</td>\n",
              "      <td>Reg</td>\n",
              "      <td>Lvl</td>\n",
              "      <td>AllPub</td>\n",
              "      <td>...</td>\n",
              "      <td>0</td>\n",
              "      <td>NaN</td>\n",
              "      <td>NaN</td>\n",
              "      <td>NaN</td>\n",
              "      <td>0</td>\n",
              "      <td>2</td>\n",
              "      <td>2008</td>\n",
              "      <td>WD</td>\n",
              "      <td>Normal</td>\n",
              "      <td>208500</td>\n",
              "    </tr>\n",
              "    <tr>\n",
              "      <th>1</th>\n",
              "      <td>2</td>\n",
              "      <td>20</td>\n",
              "      <td>RL</td>\n",
              "      <td>80.0</td>\n",
              "      <td>9600</td>\n",
              "      <td>Pave</td>\n",
              "      <td>NaN</td>\n",
              "      <td>Reg</td>\n",
              "      <td>Lvl</td>\n",
              "      <td>AllPub</td>\n",
              "      <td>...</td>\n",
              "      <td>0</td>\n",
              "      <td>NaN</td>\n",
              "      <td>NaN</td>\n",
              "      <td>NaN</td>\n",
              "      <td>0</td>\n",
              "      <td>5</td>\n",
              "      <td>2007</td>\n",
              "      <td>WD</td>\n",
              "      <td>Normal</td>\n",
              "      <td>181500</td>\n",
              "    </tr>\n",
              "    <tr>\n",
              "      <th>2</th>\n",
              "      <td>3</td>\n",
              "      <td>60</td>\n",
              "      <td>RL</td>\n",
              "      <td>68.0</td>\n",
              "      <td>11250</td>\n",
              "      <td>Pave</td>\n",
              "      <td>NaN</td>\n",
              "      <td>IR1</td>\n",
              "      <td>Lvl</td>\n",
              "      <td>AllPub</td>\n",
              "      <td>...</td>\n",
              "      <td>0</td>\n",
              "      <td>NaN</td>\n",
              "      <td>NaN</td>\n",
              "      <td>NaN</td>\n",
              "      <td>0</td>\n",
              "      <td>9</td>\n",
              "      <td>2008</td>\n",
              "      <td>WD</td>\n",
              "      <td>Normal</td>\n",
              "      <td>223500</td>\n",
              "    </tr>\n",
              "    <tr>\n",
              "      <th>3</th>\n",
              "      <td>4</td>\n",
              "      <td>70</td>\n",
              "      <td>RL</td>\n",
              "      <td>60.0</td>\n",
              "      <td>9550</td>\n",
              "      <td>Pave</td>\n",
              "      <td>NaN</td>\n",
              "      <td>IR1</td>\n",
              "      <td>Lvl</td>\n",
              "      <td>AllPub</td>\n",
              "      <td>...</td>\n",
              "      <td>0</td>\n",
              "      <td>NaN</td>\n",
              "      <td>NaN</td>\n",
              "      <td>NaN</td>\n",
              "      <td>0</td>\n",
              "      <td>2</td>\n",
              "      <td>2006</td>\n",
              "      <td>WD</td>\n",
              "      <td>Abnorml</td>\n",
              "      <td>140000</td>\n",
              "    </tr>\n",
              "    <tr>\n",
              "      <th>4</th>\n",
              "      <td>5</td>\n",
              "      <td>60</td>\n",
              "      <td>RL</td>\n",
              "      <td>84.0</td>\n",
              "      <td>14260</td>\n",
              "      <td>Pave</td>\n",
              "      <td>NaN</td>\n",
              "      <td>IR1</td>\n",
              "      <td>Lvl</td>\n",
              "      <td>AllPub</td>\n",
              "      <td>...</td>\n",
              "      <td>0</td>\n",
              "      <td>NaN</td>\n",
              "      <td>NaN</td>\n",
              "      <td>NaN</td>\n",
              "      <td>0</td>\n",
              "      <td>12</td>\n",
              "      <td>2008</td>\n",
              "      <td>WD</td>\n",
              "      <td>Normal</td>\n",
              "      <td>250000</td>\n",
              "    </tr>\n",
              "  </tbody>\n",
              "</table>\n",
              "<p>5 rows × 81 columns</p>\n",
              "</div>"
            ],
            "text/plain": [
              "   Id  MSSubClass MSZoning  LotFrontage  LotArea Street Alley LotShape  \\\n",
              "0   1          60       RL         65.0     8450   Pave   NaN      Reg   \n",
              "1   2          20       RL         80.0     9600   Pave   NaN      Reg   \n",
              "2   3          60       RL         68.0    11250   Pave   NaN      IR1   \n",
              "3   4          70       RL         60.0     9550   Pave   NaN      IR1   \n",
              "4   5          60       RL         84.0    14260   Pave   NaN      IR1   \n",
              "\n",
              "  LandContour Utilities    ...     PoolArea PoolQC Fence MiscFeature MiscVal  \\\n",
              "0         Lvl    AllPub    ...            0    NaN   NaN         NaN       0   \n",
              "1         Lvl    AllPub    ...            0    NaN   NaN         NaN       0   \n",
              "2         Lvl    AllPub    ...            0    NaN   NaN         NaN       0   \n",
              "3         Lvl    AllPub    ...            0    NaN   NaN         NaN       0   \n",
              "4         Lvl    AllPub    ...            0    NaN   NaN         NaN       0   \n",
              "\n",
              "  MoSold YrSold  SaleType  SaleCondition  SalePrice  \n",
              "0      2   2008        WD         Normal     208500  \n",
              "1      5   2007        WD         Normal     181500  \n",
              "2      9   2008        WD         Normal     223500  \n",
              "3      2   2006        WD        Abnorml     140000  \n",
              "4     12   2008        WD         Normal     250000  \n",
              "\n",
              "[5 rows x 81 columns]"
            ]
          },
          "metadata": {
            "tags": []
          },
          "execution_count": 5
        }
      ]
    },
    {
      "metadata": {
        "id": "1E6OWjyUTgj7",
        "colab_type": "code",
        "outputId": "9ea5892d-96d2-49a8-ce45-b9abbf4a4022",
        "colab": {
          "base_uri": "https://localhost:8080/",
          "height": 351
        }
      },
      "cell_type": "code",
      "source": [
        "train_data.describe()"
      ],
      "execution_count": 0,
      "outputs": [
        {
          "output_type": "execute_result",
          "data": {
            "text/html": [
              "<div>\n",
              "<style scoped>\n",
              "    .dataframe tbody tr th:only-of-type {\n",
              "        vertical-align: middle;\n",
              "    }\n",
              "\n",
              "    .dataframe tbody tr th {\n",
              "        vertical-align: top;\n",
              "    }\n",
              "\n",
              "    .dataframe thead th {\n",
              "        text-align: right;\n",
              "    }\n",
              "</style>\n",
              "<table border=\"1\" class=\"dataframe\">\n",
              "  <thead>\n",
              "    <tr style=\"text-align: right;\">\n",
              "      <th></th>\n",
              "      <th>Id</th>\n",
              "      <th>MSSubClass</th>\n",
              "      <th>LotFrontage</th>\n",
              "      <th>LotArea</th>\n",
              "      <th>OverallQual</th>\n",
              "      <th>OverallCond</th>\n",
              "      <th>YearBuilt</th>\n",
              "      <th>YearRemodAdd</th>\n",
              "      <th>MasVnrArea</th>\n",
              "      <th>BsmtFinSF1</th>\n",
              "      <th>...</th>\n",
              "      <th>WoodDeckSF</th>\n",
              "      <th>OpenPorchSF</th>\n",
              "      <th>EnclosedPorch</th>\n",
              "      <th>3SsnPorch</th>\n",
              "      <th>ScreenPorch</th>\n",
              "      <th>PoolArea</th>\n",
              "      <th>MiscVal</th>\n",
              "      <th>MoSold</th>\n",
              "      <th>YrSold</th>\n",
              "      <th>SalePrice</th>\n",
              "    </tr>\n",
              "  </thead>\n",
              "  <tbody>\n",
              "    <tr>\n",
              "      <th>count</th>\n",
              "      <td>1460.000000</td>\n",
              "      <td>1460.000000</td>\n",
              "      <td>1201.000000</td>\n",
              "      <td>1460.000000</td>\n",
              "      <td>1460.000000</td>\n",
              "      <td>1460.000000</td>\n",
              "      <td>1460.000000</td>\n",
              "      <td>1460.000000</td>\n",
              "      <td>1452.000000</td>\n",
              "      <td>1460.000000</td>\n",
              "      <td>...</td>\n",
              "      <td>1460.000000</td>\n",
              "      <td>1460.000000</td>\n",
              "      <td>1460.000000</td>\n",
              "      <td>1460.000000</td>\n",
              "      <td>1460.000000</td>\n",
              "      <td>1460.000000</td>\n",
              "      <td>1460.000000</td>\n",
              "      <td>1460.000000</td>\n",
              "      <td>1460.000000</td>\n",
              "      <td>1460.000000</td>\n",
              "    </tr>\n",
              "    <tr>\n",
              "      <th>mean</th>\n",
              "      <td>730.500000</td>\n",
              "      <td>56.897260</td>\n",
              "      <td>70.049958</td>\n",
              "      <td>10516.828082</td>\n",
              "      <td>6.099315</td>\n",
              "      <td>5.575342</td>\n",
              "      <td>1971.267808</td>\n",
              "      <td>1984.865753</td>\n",
              "      <td>103.685262</td>\n",
              "      <td>443.639726</td>\n",
              "      <td>...</td>\n",
              "      <td>94.244521</td>\n",
              "      <td>46.660274</td>\n",
              "      <td>21.954110</td>\n",
              "      <td>3.409589</td>\n",
              "      <td>15.060959</td>\n",
              "      <td>2.758904</td>\n",
              "      <td>43.489041</td>\n",
              "      <td>6.321918</td>\n",
              "      <td>2007.815753</td>\n",
              "      <td>180921.195890</td>\n",
              "    </tr>\n",
              "    <tr>\n",
              "      <th>std</th>\n",
              "      <td>421.610009</td>\n",
              "      <td>42.300571</td>\n",
              "      <td>24.284752</td>\n",
              "      <td>9981.264932</td>\n",
              "      <td>1.382997</td>\n",
              "      <td>1.112799</td>\n",
              "      <td>30.202904</td>\n",
              "      <td>20.645407</td>\n",
              "      <td>181.066207</td>\n",
              "      <td>456.098091</td>\n",
              "      <td>...</td>\n",
              "      <td>125.338794</td>\n",
              "      <td>66.256028</td>\n",
              "      <td>61.119149</td>\n",
              "      <td>29.317331</td>\n",
              "      <td>55.757415</td>\n",
              "      <td>40.177307</td>\n",
              "      <td>496.123024</td>\n",
              "      <td>2.703626</td>\n",
              "      <td>1.328095</td>\n",
              "      <td>79442.502883</td>\n",
              "    </tr>\n",
              "    <tr>\n",
              "      <th>min</th>\n",
              "      <td>1.000000</td>\n",
              "      <td>20.000000</td>\n",
              "      <td>21.000000</td>\n",
              "      <td>1300.000000</td>\n",
              "      <td>1.000000</td>\n",
              "      <td>1.000000</td>\n",
              "      <td>1872.000000</td>\n",
              "      <td>1950.000000</td>\n",
              "      <td>0.000000</td>\n",
              "      <td>0.000000</td>\n",
              "      <td>...</td>\n",
              "      <td>0.000000</td>\n",
              "      <td>0.000000</td>\n",
              "      <td>0.000000</td>\n",
              "      <td>0.000000</td>\n",
              "      <td>0.000000</td>\n",
              "      <td>0.000000</td>\n",
              "      <td>0.000000</td>\n",
              "      <td>1.000000</td>\n",
              "      <td>2006.000000</td>\n",
              "      <td>34900.000000</td>\n",
              "    </tr>\n",
              "    <tr>\n",
              "      <th>25%</th>\n",
              "      <td>365.750000</td>\n",
              "      <td>20.000000</td>\n",
              "      <td>59.000000</td>\n",
              "      <td>7553.500000</td>\n",
              "      <td>5.000000</td>\n",
              "      <td>5.000000</td>\n",
              "      <td>1954.000000</td>\n",
              "      <td>1967.000000</td>\n",
              "      <td>0.000000</td>\n",
              "      <td>0.000000</td>\n",
              "      <td>...</td>\n",
              "      <td>0.000000</td>\n",
              "      <td>0.000000</td>\n",
              "      <td>0.000000</td>\n",
              "      <td>0.000000</td>\n",
              "      <td>0.000000</td>\n",
              "      <td>0.000000</td>\n",
              "      <td>0.000000</td>\n",
              "      <td>5.000000</td>\n",
              "      <td>2007.000000</td>\n",
              "      <td>129975.000000</td>\n",
              "    </tr>\n",
              "    <tr>\n",
              "      <th>50%</th>\n",
              "      <td>730.500000</td>\n",
              "      <td>50.000000</td>\n",
              "      <td>69.000000</td>\n",
              "      <td>9478.500000</td>\n",
              "      <td>6.000000</td>\n",
              "      <td>5.000000</td>\n",
              "      <td>1973.000000</td>\n",
              "      <td>1994.000000</td>\n",
              "      <td>0.000000</td>\n",
              "      <td>383.500000</td>\n",
              "      <td>...</td>\n",
              "      <td>0.000000</td>\n",
              "      <td>25.000000</td>\n",
              "      <td>0.000000</td>\n",
              "      <td>0.000000</td>\n",
              "      <td>0.000000</td>\n",
              "      <td>0.000000</td>\n",
              "      <td>0.000000</td>\n",
              "      <td>6.000000</td>\n",
              "      <td>2008.000000</td>\n",
              "      <td>163000.000000</td>\n",
              "    </tr>\n",
              "    <tr>\n",
              "      <th>75%</th>\n",
              "      <td>1095.250000</td>\n",
              "      <td>70.000000</td>\n",
              "      <td>80.000000</td>\n",
              "      <td>11601.500000</td>\n",
              "      <td>7.000000</td>\n",
              "      <td>6.000000</td>\n",
              "      <td>2000.000000</td>\n",
              "      <td>2004.000000</td>\n",
              "      <td>166.000000</td>\n",
              "      <td>712.250000</td>\n",
              "      <td>...</td>\n",
              "      <td>168.000000</td>\n",
              "      <td>68.000000</td>\n",
              "      <td>0.000000</td>\n",
              "      <td>0.000000</td>\n",
              "      <td>0.000000</td>\n",
              "      <td>0.000000</td>\n",
              "      <td>0.000000</td>\n",
              "      <td>8.000000</td>\n",
              "      <td>2009.000000</td>\n",
              "      <td>214000.000000</td>\n",
              "    </tr>\n",
              "    <tr>\n",
              "      <th>max</th>\n",
              "      <td>1460.000000</td>\n",
              "      <td>190.000000</td>\n",
              "      <td>313.000000</td>\n",
              "      <td>215245.000000</td>\n",
              "      <td>10.000000</td>\n",
              "      <td>9.000000</td>\n",
              "      <td>2010.000000</td>\n",
              "      <td>2010.000000</td>\n",
              "      <td>1600.000000</td>\n",
              "      <td>5644.000000</td>\n",
              "      <td>...</td>\n",
              "      <td>857.000000</td>\n",
              "      <td>547.000000</td>\n",
              "      <td>552.000000</td>\n",
              "      <td>508.000000</td>\n",
              "      <td>480.000000</td>\n",
              "      <td>738.000000</td>\n",
              "      <td>15500.000000</td>\n",
              "      <td>12.000000</td>\n",
              "      <td>2010.000000</td>\n",
              "      <td>755000.000000</td>\n",
              "    </tr>\n",
              "  </tbody>\n",
              "</table>\n",
              "<p>8 rows × 38 columns</p>\n",
              "</div>"
            ],
            "text/plain": [
              "                Id   MSSubClass  LotFrontage        LotArea  OverallQual  \\\n",
              "count  1460.000000  1460.000000  1201.000000    1460.000000  1460.000000   \n",
              "mean    730.500000    56.897260    70.049958   10516.828082     6.099315   \n",
              "std     421.610009    42.300571    24.284752    9981.264932     1.382997   \n",
              "min       1.000000    20.000000    21.000000    1300.000000     1.000000   \n",
              "25%     365.750000    20.000000    59.000000    7553.500000     5.000000   \n",
              "50%     730.500000    50.000000    69.000000    9478.500000     6.000000   \n",
              "75%    1095.250000    70.000000    80.000000   11601.500000     7.000000   \n",
              "max    1460.000000   190.000000   313.000000  215245.000000    10.000000   \n",
              "\n",
              "       OverallCond    YearBuilt  YearRemodAdd   MasVnrArea   BsmtFinSF1  \\\n",
              "count  1460.000000  1460.000000   1460.000000  1452.000000  1460.000000   \n",
              "mean      5.575342  1971.267808   1984.865753   103.685262   443.639726   \n",
              "std       1.112799    30.202904     20.645407   181.066207   456.098091   \n",
              "min       1.000000  1872.000000   1950.000000     0.000000     0.000000   \n",
              "25%       5.000000  1954.000000   1967.000000     0.000000     0.000000   \n",
              "50%       5.000000  1973.000000   1994.000000     0.000000   383.500000   \n",
              "75%       6.000000  2000.000000   2004.000000   166.000000   712.250000   \n",
              "max       9.000000  2010.000000   2010.000000  1600.000000  5644.000000   \n",
              "\n",
              "           ...         WoodDeckSF  OpenPorchSF  EnclosedPorch    3SsnPorch  \\\n",
              "count      ...        1460.000000  1460.000000    1460.000000  1460.000000   \n",
              "mean       ...          94.244521    46.660274      21.954110     3.409589   \n",
              "std        ...         125.338794    66.256028      61.119149    29.317331   \n",
              "min        ...           0.000000     0.000000       0.000000     0.000000   \n",
              "25%        ...           0.000000     0.000000       0.000000     0.000000   \n",
              "50%        ...           0.000000    25.000000       0.000000     0.000000   \n",
              "75%        ...         168.000000    68.000000       0.000000     0.000000   \n",
              "max        ...         857.000000   547.000000     552.000000   508.000000   \n",
              "\n",
              "       ScreenPorch     PoolArea       MiscVal       MoSold       YrSold  \\\n",
              "count  1460.000000  1460.000000   1460.000000  1460.000000  1460.000000   \n",
              "mean     15.060959     2.758904     43.489041     6.321918  2007.815753   \n",
              "std      55.757415    40.177307    496.123024     2.703626     1.328095   \n",
              "min       0.000000     0.000000      0.000000     1.000000  2006.000000   \n",
              "25%       0.000000     0.000000      0.000000     5.000000  2007.000000   \n",
              "50%       0.000000     0.000000      0.000000     6.000000  2008.000000   \n",
              "75%       0.000000     0.000000      0.000000     8.000000  2009.000000   \n",
              "max     480.000000   738.000000  15500.000000    12.000000  2010.000000   \n",
              "\n",
              "           SalePrice  \n",
              "count    1460.000000  \n",
              "mean   180921.195890  \n",
              "std     79442.502883  \n",
              "min     34900.000000  \n",
              "25%    129975.000000  \n",
              "50%    163000.000000  \n",
              "75%    214000.000000  \n",
              "max    755000.000000  \n",
              "\n",
              "[8 rows x 38 columns]"
            ]
          },
          "metadata": {
            "tags": []
          },
          "execution_count": 6
        }
      ]
    },
    {
      "metadata": {
        "id": "MKBHVAvqbYI3",
        "colab_type": "text"
      },
      "cell_type": "markdown",
      "source": [
        "### Let's compute the correlation matrix for target variable $y$, 'SalePrice'."
      ]
    },
    {
      "metadata": {
        "id": "bi8l-pP_W7It",
        "colab_type": "code",
        "outputId": "cbc9cf5d-5797-4186-d207-83ef901063ab",
        "colab": {
          "base_uri": "https://localhost:8080/",
          "height": 1276
        }
      },
      "cell_type": "code",
      "source": [
        "corr_matrix = train_data.corr()\n",
        "corr_matrix"
      ],
      "execution_count": 0,
      "outputs": [
        {
          "output_type": "execute_result",
          "data": {
            "text/html": [
              "<div>\n",
              "<style scoped>\n",
              "    .dataframe tbody tr th:only-of-type {\n",
              "        vertical-align: middle;\n",
              "    }\n",
              "\n",
              "    .dataframe tbody tr th {\n",
              "        vertical-align: top;\n",
              "    }\n",
              "\n",
              "    .dataframe thead th {\n",
              "        text-align: right;\n",
              "    }\n",
              "</style>\n",
              "<table border=\"1\" class=\"dataframe\">\n",
              "  <thead>\n",
              "    <tr style=\"text-align: right;\">\n",
              "      <th></th>\n",
              "      <th>Id</th>\n",
              "      <th>MSSubClass</th>\n",
              "      <th>LotFrontage</th>\n",
              "      <th>LotArea</th>\n",
              "      <th>OverallQual</th>\n",
              "      <th>OverallCond</th>\n",
              "      <th>YearBuilt</th>\n",
              "      <th>YearRemodAdd</th>\n",
              "      <th>MasVnrArea</th>\n",
              "      <th>BsmtFinSF1</th>\n",
              "      <th>...</th>\n",
              "      <th>WoodDeckSF</th>\n",
              "      <th>OpenPorchSF</th>\n",
              "      <th>EnclosedPorch</th>\n",
              "      <th>3SsnPorch</th>\n",
              "      <th>ScreenPorch</th>\n",
              "      <th>PoolArea</th>\n",
              "      <th>MiscVal</th>\n",
              "      <th>MoSold</th>\n",
              "      <th>YrSold</th>\n",
              "      <th>SalePrice</th>\n",
              "    </tr>\n",
              "  </thead>\n",
              "  <tbody>\n",
              "    <tr>\n",
              "      <th>Id</th>\n",
              "      <td>1.000000</td>\n",
              "      <td>0.011156</td>\n",
              "      <td>-0.010601</td>\n",
              "      <td>-0.033226</td>\n",
              "      <td>-0.028365</td>\n",
              "      <td>0.012609</td>\n",
              "      <td>-0.012713</td>\n",
              "      <td>-0.021998</td>\n",
              "      <td>-0.050298</td>\n",
              "      <td>-0.005024</td>\n",
              "      <td>...</td>\n",
              "      <td>-0.029643</td>\n",
              "      <td>-0.000477</td>\n",
              "      <td>0.002889</td>\n",
              "      <td>-0.046635</td>\n",
              "      <td>0.001330</td>\n",
              "      <td>0.057044</td>\n",
              "      <td>-0.006242</td>\n",
              "      <td>0.021172</td>\n",
              "      <td>0.000712</td>\n",
              "      <td>-0.021917</td>\n",
              "    </tr>\n",
              "    <tr>\n",
              "      <th>MSSubClass</th>\n",
              "      <td>0.011156</td>\n",
              "      <td>1.000000</td>\n",
              "      <td>-0.386347</td>\n",
              "      <td>-0.139781</td>\n",
              "      <td>0.032628</td>\n",
              "      <td>-0.059316</td>\n",
              "      <td>0.027850</td>\n",
              "      <td>0.040581</td>\n",
              "      <td>0.022936</td>\n",
              "      <td>-0.069836</td>\n",
              "      <td>...</td>\n",
              "      <td>-0.012579</td>\n",
              "      <td>-0.006100</td>\n",
              "      <td>-0.012037</td>\n",
              "      <td>-0.043825</td>\n",
              "      <td>-0.026030</td>\n",
              "      <td>0.008283</td>\n",
              "      <td>-0.007683</td>\n",
              "      <td>-0.013585</td>\n",
              "      <td>-0.021407</td>\n",
              "      <td>-0.084284</td>\n",
              "    </tr>\n",
              "    <tr>\n",
              "      <th>LotFrontage</th>\n",
              "      <td>-0.010601</td>\n",
              "      <td>-0.386347</td>\n",
              "      <td>1.000000</td>\n",
              "      <td>0.426095</td>\n",
              "      <td>0.251646</td>\n",
              "      <td>-0.059213</td>\n",
              "      <td>0.123349</td>\n",
              "      <td>0.088866</td>\n",
              "      <td>0.193458</td>\n",
              "      <td>0.233633</td>\n",
              "      <td>...</td>\n",
              "      <td>0.088521</td>\n",
              "      <td>0.151972</td>\n",
              "      <td>0.010700</td>\n",
              "      <td>0.070029</td>\n",
              "      <td>0.041383</td>\n",
              "      <td>0.206167</td>\n",
              "      <td>0.003368</td>\n",
              "      <td>0.011200</td>\n",
              "      <td>0.007450</td>\n",
              "      <td>0.351799</td>\n",
              "    </tr>\n",
              "    <tr>\n",
              "      <th>LotArea</th>\n",
              "      <td>-0.033226</td>\n",
              "      <td>-0.139781</td>\n",
              "      <td>0.426095</td>\n",
              "      <td>1.000000</td>\n",
              "      <td>0.105806</td>\n",
              "      <td>-0.005636</td>\n",
              "      <td>0.014228</td>\n",
              "      <td>0.013788</td>\n",
              "      <td>0.104160</td>\n",
              "      <td>0.214103</td>\n",
              "      <td>...</td>\n",
              "      <td>0.171698</td>\n",
              "      <td>0.084774</td>\n",
              "      <td>-0.018340</td>\n",
              "      <td>0.020423</td>\n",
              "      <td>0.043160</td>\n",
              "      <td>0.077672</td>\n",
              "      <td>0.038068</td>\n",
              "      <td>0.001205</td>\n",
              "      <td>-0.014261</td>\n",
              "      <td>0.263843</td>\n",
              "    </tr>\n",
              "    <tr>\n",
              "      <th>OverallQual</th>\n",
              "      <td>-0.028365</td>\n",
              "      <td>0.032628</td>\n",
              "      <td>0.251646</td>\n",
              "      <td>0.105806</td>\n",
              "      <td>1.000000</td>\n",
              "      <td>-0.091932</td>\n",
              "      <td>0.572323</td>\n",
              "      <td>0.550684</td>\n",
              "      <td>0.411876</td>\n",
              "      <td>0.239666</td>\n",
              "      <td>...</td>\n",
              "      <td>0.238923</td>\n",
              "      <td>0.308819</td>\n",
              "      <td>-0.113937</td>\n",
              "      <td>0.030371</td>\n",
              "      <td>0.064886</td>\n",
              "      <td>0.065166</td>\n",
              "      <td>-0.031406</td>\n",
              "      <td>0.070815</td>\n",
              "      <td>-0.027347</td>\n",
              "      <td>0.790982</td>\n",
              "    </tr>\n",
              "    <tr>\n",
              "      <th>OverallCond</th>\n",
              "      <td>0.012609</td>\n",
              "      <td>-0.059316</td>\n",
              "      <td>-0.059213</td>\n",
              "      <td>-0.005636</td>\n",
              "      <td>-0.091932</td>\n",
              "      <td>1.000000</td>\n",
              "      <td>-0.375983</td>\n",
              "      <td>0.073741</td>\n",
              "      <td>-0.128101</td>\n",
              "      <td>-0.046231</td>\n",
              "      <td>...</td>\n",
              "      <td>-0.003334</td>\n",
              "      <td>-0.032589</td>\n",
              "      <td>0.070356</td>\n",
              "      <td>0.025504</td>\n",
              "      <td>0.054811</td>\n",
              "      <td>-0.001985</td>\n",
              "      <td>0.068777</td>\n",
              "      <td>-0.003511</td>\n",
              "      <td>0.043950</td>\n",
              "      <td>-0.077856</td>\n",
              "    </tr>\n",
              "    <tr>\n",
              "      <th>YearBuilt</th>\n",
              "      <td>-0.012713</td>\n",
              "      <td>0.027850</td>\n",
              "      <td>0.123349</td>\n",
              "      <td>0.014228</td>\n",
              "      <td>0.572323</td>\n",
              "      <td>-0.375983</td>\n",
              "      <td>1.000000</td>\n",
              "      <td>0.592855</td>\n",
              "      <td>0.315707</td>\n",
              "      <td>0.249503</td>\n",
              "      <td>...</td>\n",
              "      <td>0.224880</td>\n",
              "      <td>0.188686</td>\n",
              "      <td>-0.387268</td>\n",
              "      <td>0.031355</td>\n",
              "      <td>-0.050364</td>\n",
              "      <td>0.004950</td>\n",
              "      <td>-0.034383</td>\n",
              "      <td>0.012398</td>\n",
              "      <td>-0.013618</td>\n",
              "      <td>0.522897</td>\n",
              "    </tr>\n",
              "    <tr>\n",
              "      <th>YearRemodAdd</th>\n",
              "      <td>-0.021998</td>\n",
              "      <td>0.040581</td>\n",
              "      <td>0.088866</td>\n",
              "      <td>0.013788</td>\n",
              "      <td>0.550684</td>\n",
              "      <td>0.073741</td>\n",
              "      <td>0.592855</td>\n",
              "      <td>1.000000</td>\n",
              "      <td>0.179618</td>\n",
              "      <td>0.128451</td>\n",
              "      <td>...</td>\n",
              "      <td>0.205726</td>\n",
              "      <td>0.226298</td>\n",
              "      <td>-0.193919</td>\n",
              "      <td>0.045286</td>\n",
              "      <td>-0.038740</td>\n",
              "      <td>0.005829</td>\n",
              "      <td>-0.010286</td>\n",
              "      <td>0.021490</td>\n",
              "      <td>0.035743</td>\n",
              "      <td>0.507101</td>\n",
              "    </tr>\n",
              "    <tr>\n",
              "      <th>MasVnrArea</th>\n",
              "      <td>-0.050298</td>\n",
              "      <td>0.022936</td>\n",
              "      <td>0.193458</td>\n",
              "      <td>0.104160</td>\n",
              "      <td>0.411876</td>\n",
              "      <td>-0.128101</td>\n",
              "      <td>0.315707</td>\n",
              "      <td>0.179618</td>\n",
              "      <td>1.000000</td>\n",
              "      <td>0.264736</td>\n",
              "      <td>...</td>\n",
              "      <td>0.159718</td>\n",
              "      <td>0.125703</td>\n",
              "      <td>-0.110204</td>\n",
              "      <td>0.018796</td>\n",
              "      <td>0.061466</td>\n",
              "      <td>0.011723</td>\n",
              "      <td>-0.029815</td>\n",
              "      <td>-0.005965</td>\n",
              "      <td>-0.008201</td>\n",
              "      <td>0.477493</td>\n",
              "    </tr>\n",
              "    <tr>\n",
              "      <th>BsmtFinSF1</th>\n",
              "      <td>-0.005024</td>\n",
              "      <td>-0.069836</td>\n",
              "      <td>0.233633</td>\n",
              "      <td>0.214103</td>\n",
              "      <td>0.239666</td>\n",
              "      <td>-0.046231</td>\n",
              "      <td>0.249503</td>\n",
              "      <td>0.128451</td>\n",
              "      <td>0.264736</td>\n",
              "      <td>1.000000</td>\n",
              "      <td>...</td>\n",
              "      <td>0.204306</td>\n",
              "      <td>0.111761</td>\n",
              "      <td>-0.102303</td>\n",
              "      <td>0.026451</td>\n",
              "      <td>0.062021</td>\n",
              "      <td>0.140491</td>\n",
              "      <td>0.003571</td>\n",
              "      <td>-0.015727</td>\n",
              "      <td>0.014359</td>\n",
              "      <td>0.386420</td>\n",
              "    </tr>\n",
              "    <tr>\n",
              "      <th>BsmtFinSF2</th>\n",
              "      <td>-0.005968</td>\n",
              "      <td>-0.065649</td>\n",
              "      <td>0.049900</td>\n",
              "      <td>0.111170</td>\n",
              "      <td>-0.059119</td>\n",
              "      <td>0.040229</td>\n",
              "      <td>-0.049107</td>\n",
              "      <td>-0.067759</td>\n",
              "      <td>-0.072319</td>\n",
              "      <td>-0.050117</td>\n",
              "      <td>...</td>\n",
              "      <td>0.067898</td>\n",
              "      <td>0.003093</td>\n",
              "      <td>0.036543</td>\n",
              "      <td>-0.029993</td>\n",
              "      <td>0.088871</td>\n",
              "      <td>0.041709</td>\n",
              "      <td>0.004940</td>\n",
              "      <td>-0.015211</td>\n",
              "      <td>0.031706</td>\n",
              "      <td>-0.011378</td>\n",
              "    </tr>\n",
              "    <tr>\n",
              "      <th>BsmtUnfSF</th>\n",
              "      <td>-0.007940</td>\n",
              "      <td>-0.140759</td>\n",
              "      <td>0.132644</td>\n",
              "      <td>-0.002618</td>\n",
              "      <td>0.308159</td>\n",
              "      <td>-0.136841</td>\n",
              "      <td>0.149040</td>\n",
              "      <td>0.181133</td>\n",
              "      <td>0.114442</td>\n",
              "      <td>-0.495251</td>\n",
              "      <td>...</td>\n",
              "      <td>-0.005316</td>\n",
              "      <td>0.129005</td>\n",
              "      <td>-0.002538</td>\n",
              "      <td>0.020764</td>\n",
              "      <td>-0.012579</td>\n",
              "      <td>-0.035092</td>\n",
              "      <td>-0.023837</td>\n",
              "      <td>0.034888</td>\n",
              "      <td>-0.041258</td>\n",
              "      <td>0.214479</td>\n",
              "    </tr>\n",
              "    <tr>\n",
              "      <th>TotalBsmtSF</th>\n",
              "      <td>-0.015415</td>\n",
              "      <td>-0.238518</td>\n",
              "      <td>0.392075</td>\n",
              "      <td>0.260833</td>\n",
              "      <td>0.537808</td>\n",
              "      <td>-0.171098</td>\n",
              "      <td>0.391452</td>\n",
              "      <td>0.291066</td>\n",
              "      <td>0.363936</td>\n",
              "      <td>0.522396</td>\n",
              "      <td>...</td>\n",
              "      <td>0.232019</td>\n",
              "      <td>0.247264</td>\n",
              "      <td>-0.095478</td>\n",
              "      <td>0.037384</td>\n",
              "      <td>0.084489</td>\n",
              "      <td>0.126053</td>\n",
              "      <td>-0.018479</td>\n",
              "      <td>0.013196</td>\n",
              "      <td>-0.014969</td>\n",
              "      <td>0.613581</td>\n",
              "    </tr>\n",
              "    <tr>\n",
              "      <th>1stFlrSF</th>\n",
              "      <td>0.010496</td>\n",
              "      <td>-0.251758</td>\n",
              "      <td>0.457181</td>\n",
              "      <td>0.299475</td>\n",
              "      <td>0.476224</td>\n",
              "      <td>-0.144203</td>\n",
              "      <td>0.281986</td>\n",
              "      <td>0.240379</td>\n",
              "      <td>0.344501</td>\n",
              "      <td>0.445863</td>\n",
              "      <td>...</td>\n",
              "      <td>0.235459</td>\n",
              "      <td>0.211671</td>\n",
              "      <td>-0.065292</td>\n",
              "      <td>0.056104</td>\n",
              "      <td>0.088758</td>\n",
              "      <td>0.131525</td>\n",
              "      <td>-0.021096</td>\n",
              "      <td>0.031372</td>\n",
              "      <td>-0.013604</td>\n",
              "      <td>0.605852</td>\n",
              "    </tr>\n",
              "    <tr>\n",
              "      <th>2ndFlrSF</th>\n",
              "      <td>0.005590</td>\n",
              "      <td>0.307886</td>\n",
              "      <td>0.080177</td>\n",
              "      <td>0.050986</td>\n",
              "      <td>0.295493</td>\n",
              "      <td>0.028942</td>\n",
              "      <td>0.010308</td>\n",
              "      <td>0.140024</td>\n",
              "      <td>0.174561</td>\n",
              "      <td>-0.137079</td>\n",
              "      <td>...</td>\n",
              "      <td>0.092165</td>\n",
              "      <td>0.208026</td>\n",
              "      <td>0.061989</td>\n",
              "      <td>-0.024358</td>\n",
              "      <td>0.040606</td>\n",
              "      <td>0.081487</td>\n",
              "      <td>0.016197</td>\n",
              "      <td>0.035164</td>\n",
              "      <td>-0.028700</td>\n",
              "      <td>0.319334</td>\n",
              "    </tr>\n",
              "    <tr>\n",
              "      <th>LowQualFinSF</th>\n",
              "      <td>-0.044230</td>\n",
              "      <td>0.046474</td>\n",
              "      <td>0.038469</td>\n",
              "      <td>0.004779</td>\n",
              "      <td>-0.030429</td>\n",
              "      <td>0.025494</td>\n",
              "      <td>-0.183784</td>\n",
              "      <td>-0.062419</td>\n",
              "      <td>-0.069071</td>\n",
              "      <td>-0.064503</td>\n",
              "      <td>...</td>\n",
              "      <td>-0.025444</td>\n",
              "      <td>0.018251</td>\n",
              "      <td>0.061081</td>\n",
              "      <td>-0.004296</td>\n",
              "      <td>0.026799</td>\n",
              "      <td>0.062157</td>\n",
              "      <td>-0.003793</td>\n",
              "      <td>-0.022174</td>\n",
              "      <td>-0.028921</td>\n",
              "      <td>-0.025606</td>\n",
              "    </tr>\n",
              "    <tr>\n",
              "      <th>GrLivArea</th>\n",
              "      <td>0.008273</td>\n",
              "      <td>0.074853</td>\n",
              "      <td>0.402797</td>\n",
              "      <td>0.263116</td>\n",
              "      <td>0.593007</td>\n",
              "      <td>-0.079686</td>\n",
              "      <td>0.199010</td>\n",
              "      <td>0.287389</td>\n",
              "      <td>0.390857</td>\n",
              "      <td>0.208171</td>\n",
              "      <td>...</td>\n",
              "      <td>0.247433</td>\n",
              "      <td>0.330224</td>\n",
              "      <td>0.009113</td>\n",
              "      <td>0.020643</td>\n",
              "      <td>0.101510</td>\n",
              "      <td>0.170205</td>\n",
              "      <td>-0.002416</td>\n",
              "      <td>0.050240</td>\n",
              "      <td>-0.036526</td>\n",
              "      <td>0.708624</td>\n",
              "    </tr>\n",
              "    <tr>\n",
              "      <th>BsmtFullBath</th>\n",
              "      <td>0.002289</td>\n",
              "      <td>0.003491</td>\n",
              "      <td>0.100949</td>\n",
              "      <td>0.158155</td>\n",
              "      <td>0.111098</td>\n",
              "      <td>-0.054942</td>\n",
              "      <td>0.187599</td>\n",
              "      <td>0.119470</td>\n",
              "      <td>0.085310</td>\n",
              "      <td>0.649212</td>\n",
              "      <td>...</td>\n",
              "      <td>0.175315</td>\n",
              "      <td>0.067341</td>\n",
              "      <td>-0.049911</td>\n",
              "      <td>-0.000106</td>\n",
              "      <td>0.023148</td>\n",
              "      <td>0.067616</td>\n",
              "      <td>-0.023047</td>\n",
              "      <td>-0.025361</td>\n",
              "      <td>0.067049</td>\n",
              "      <td>0.227122</td>\n",
              "    </tr>\n",
              "    <tr>\n",
              "      <th>BsmtHalfBath</th>\n",
              "      <td>-0.020155</td>\n",
              "      <td>-0.002333</td>\n",
              "      <td>-0.007234</td>\n",
              "      <td>0.048046</td>\n",
              "      <td>-0.040150</td>\n",
              "      <td>0.117821</td>\n",
              "      <td>-0.038162</td>\n",
              "      <td>-0.012337</td>\n",
              "      <td>0.026673</td>\n",
              "      <td>0.067418</td>\n",
              "      <td>...</td>\n",
              "      <td>0.040161</td>\n",
              "      <td>-0.025324</td>\n",
              "      <td>-0.008555</td>\n",
              "      <td>0.035114</td>\n",
              "      <td>0.032121</td>\n",
              "      <td>0.020025</td>\n",
              "      <td>-0.007367</td>\n",
              "      <td>0.032873</td>\n",
              "      <td>-0.046524</td>\n",
              "      <td>-0.016844</td>\n",
              "    </tr>\n",
              "    <tr>\n",
              "      <th>FullBath</th>\n",
              "      <td>0.005587</td>\n",
              "      <td>0.131608</td>\n",
              "      <td>0.198769</td>\n",
              "      <td>0.126031</td>\n",
              "      <td>0.550600</td>\n",
              "      <td>-0.194149</td>\n",
              "      <td>0.468271</td>\n",
              "      <td>0.439046</td>\n",
              "      <td>0.276833</td>\n",
              "      <td>0.058543</td>\n",
              "      <td>...</td>\n",
              "      <td>0.187703</td>\n",
              "      <td>0.259977</td>\n",
              "      <td>-0.115093</td>\n",
              "      <td>0.035353</td>\n",
              "      <td>-0.008106</td>\n",
              "      <td>0.049604</td>\n",
              "      <td>-0.014290</td>\n",
              "      <td>0.055872</td>\n",
              "      <td>-0.019669</td>\n",
              "      <td>0.560664</td>\n",
              "    </tr>\n",
              "    <tr>\n",
              "      <th>HalfBath</th>\n",
              "      <td>0.006784</td>\n",
              "      <td>0.177354</td>\n",
              "      <td>0.053532</td>\n",
              "      <td>0.014259</td>\n",
              "      <td>0.273458</td>\n",
              "      <td>-0.060769</td>\n",
              "      <td>0.242656</td>\n",
              "      <td>0.183331</td>\n",
              "      <td>0.201444</td>\n",
              "      <td>0.004262</td>\n",
              "      <td>...</td>\n",
              "      <td>0.108080</td>\n",
              "      <td>0.199740</td>\n",
              "      <td>-0.095317</td>\n",
              "      <td>-0.004972</td>\n",
              "      <td>0.072426</td>\n",
              "      <td>0.022381</td>\n",
              "      <td>0.001290</td>\n",
              "      <td>-0.009050</td>\n",
              "      <td>-0.010269</td>\n",
              "      <td>0.284108</td>\n",
              "    </tr>\n",
              "    <tr>\n",
              "      <th>BedroomAbvGr</th>\n",
              "      <td>0.037719</td>\n",
              "      <td>-0.023438</td>\n",
              "      <td>0.263170</td>\n",
              "      <td>0.119690</td>\n",
              "      <td>0.101676</td>\n",
              "      <td>0.012980</td>\n",
              "      <td>-0.070651</td>\n",
              "      <td>-0.040581</td>\n",
              "      <td>0.102821</td>\n",
              "      <td>-0.107355</td>\n",
              "      <td>...</td>\n",
              "      <td>0.046854</td>\n",
              "      <td>0.093810</td>\n",
              "      <td>0.041570</td>\n",
              "      <td>-0.024478</td>\n",
              "      <td>0.044300</td>\n",
              "      <td>0.070703</td>\n",
              "      <td>0.007767</td>\n",
              "      <td>0.046544</td>\n",
              "      <td>-0.036014</td>\n",
              "      <td>0.168213</td>\n",
              "    </tr>\n",
              "    <tr>\n",
              "      <th>KitchenAbvGr</th>\n",
              "      <td>0.002951</td>\n",
              "      <td>0.281721</td>\n",
              "      <td>-0.006069</td>\n",
              "      <td>-0.017784</td>\n",
              "      <td>-0.183882</td>\n",
              "      <td>-0.087001</td>\n",
              "      <td>-0.174800</td>\n",
              "      <td>-0.149598</td>\n",
              "      <td>-0.037610</td>\n",
              "      <td>-0.081007</td>\n",
              "      <td>...</td>\n",
              "      <td>-0.090130</td>\n",
              "      <td>-0.070091</td>\n",
              "      <td>0.037312</td>\n",
              "      <td>-0.024600</td>\n",
              "      <td>-0.051613</td>\n",
              "      <td>-0.014525</td>\n",
              "      <td>0.062341</td>\n",
              "      <td>0.026589</td>\n",
              "      <td>0.031687</td>\n",
              "      <td>-0.135907</td>\n",
              "    </tr>\n",
              "    <tr>\n",
              "      <th>TotRmsAbvGrd</th>\n",
              "      <td>0.027239</td>\n",
              "      <td>0.040380</td>\n",
              "      <td>0.352096</td>\n",
              "      <td>0.190015</td>\n",
              "      <td>0.427452</td>\n",
              "      <td>-0.057583</td>\n",
              "      <td>0.095589</td>\n",
              "      <td>0.191740</td>\n",
              "      <td>0.280682</td>\n",
              "      <td>0.044316</td>\n",
              "      <td>...</td>\n",
              "      <td>0.165984</td>\n",
              "      <td>0.234192</td>\n",
              "      <td>0.004151</td>\n",
              "      <td>-0.006683</td>\n",
              "      <td>0.059383</td>\n",
              "      <td>0.083757</td>\n",
              "      <td>0.024763</td>\n",
              "      <td>0.036907</td>\n",
              "      <td>-0.034516</td>\n",
              "      <td>0.533723</td>\n",
              "    </tr>\n",
              "    <tr>\n",
              "      <th>Fireplaces</th>\n",
              "      <td>-0.019772</td>\n",
              "      <td>-0.045569</td>\n",
              "      <td>0.266639</td>\n",
              "      <td>0.271364</td>\n",
              "      <td>0.396765</td>\n",
              "      <td>-0.023820</td>\n",
              "      <td>0.147716</td>\n",
              "      <td>0.112581</td>\n",
              "      <td>0.249070</td>\n",
              "      <td>0.260011</td>\n",
              "      <td>...</td>\n",
              "      <td>0.200019</td>\n",
              "      <td>0.169405</td>\n",
              "      <td>-0.024822</td>\n",
              "      <td>0.011257</td>\n",
              "      <td>0.184530</td>\n",
              "      <td>0.095074</td>\n",
              "      <td>0.001409</td>\n",
              "      <td>0.046357</td>\n",
              "      <td>-0.024096</td>\n",
              "      <td>0.466929</td>\n",
              "    </tr>\n",
              "    <tr>\n",
              "      <th>GarageYrBlt</th>\n",
              "      <td>0.000072</td>\n",
              "      <td>0.085072</td>\n",
              "      <td>0.070250</td>\n",
              "      <td>-0.024947</td>\n",
              "      <td>0.547766</td>\n",
              "      <td>-0.324297</td>\n",
              "      <td>0.825667</td>\n",
              "      <td>0.642277</td>\n",
              "      <td>0.252691</td>\n",
              "      <td>0.153484</td>\n",
              "      <td>...</td>\n",
              "      <td>0.224577</td>\n",
              "      <td>0.228425</td>\n",
              "      <td>-0.297003</td>\n",
              "      <td>0.023544</td>\n",
              "      <td>-0.075418</td>\n",
              "      <td>-0.014501</td>\n",
              "      <td>-0.032417</td>\n",
              "      <td>0.005337</td>\n",
              "      <td>-0.001014</td>\n",
              "      <td>0.486362</td>\n",
              "    </tr>\n",
              "    <tr>\n",
              "      <th>GarageCars</th>\n",
              "      <td>0.016570</td>\n",
              "      <td>-0.040110</td>\n",
              "      <td>0.285691</td>\n",
              "      <td>0.154871</td>\n",
              "      <td>0.600671</td>\n",
              "      <td>-0.185758</td>\n",
              "      <td>0.537850</td>\n",
              "      <td>0.420622</td>\n",
              "      <td>0.364204</td>\n",
              "      <td>0.224054</td>\n",
              "      <td>...</td>\n",
              "      <td>0.226342</td>\n",
              "      <td>0.213569</td>\n",
              "      <td>-0.151434</td>\n",
              "      <td>0.035765</td>\n",
              "      <td>0.050494</td>\n",
              "      <td>0.020934</td>\n",
              "      <td>-0.043080</td>\n",
              "      <td>0.040522</td>\n",
              "      <td>-0.039117</td>\n",
              "      <td>0.640409</td>\n",
              "    </tr>\n",
              "    <tr>\n",
              "      <th>GarageArea</th>\n",
              "      <td>0.017634</td>\n",
              "      <td>-0.098672</td>\n",
              "      <td>0.344997</td>\n",
              "      <td>0.180403</td>\n",
              "      <td>0.562022</td>\n",
              "      <td>-0.151521</td>\n",
              "      <td>0.478954</td>\n",
              "      <td>0.371600</td>\n",
              "      <td>0.373066</td>\n",
              "      <td>0.296970</td>\n",
              "      <td>...</td>\n",
              "      <td>0.224666</td>\n",
              "      <td>0.241435</td>\n",
              "      <td>-0.121777</td>\n",
              "      <td>0.035087</td>\n",
              "      <td>0.051412</td>\n",
              "      <td>0.061047</td>\n",
              "      <td>-0.027400</td>\n",
              "      <td>0.027974</td>\n",
              "      <td>-0.027378</td>\n",
              "      <td>0.623431</td>\n",
              "    </tr>\n",
              "    <tr>\n",
              "      <th>WoodDeckSF</th>\n",
              "      <td>-0.029643</td>\n",
              "      <td>-0.012579</td>\n",
              "      <td>0.088521</td>\n",
              "      <td>0.171698</td>\n",
              "      <td>0.238923</td>\n",
              "      <td>-0.003334</td>\n",
              "      <td>0.224880</td>\n",
              "      <td>0.205726</td>\n",
              "      <td>0.159718</td>\n",
              "      <td>0.204306</td>\n",
              "      <td>...</td>\n",
              "      <td>1.000000</td>\n",
              "      <td>0.058661</td>\n",
              "      <td>-0.125989</td>\n",
              "      <td>-0.032771</td>\n",
              "      <td>-0.074181</td>\n",
              "      <td>0.073378</td>\n",
              "      <td>-0.009551</td>\n",
              "      <td>0.021011</td>\n",
              "      <td>0.022270</td>\n",
              "      <td>0.324413</td>\n",
              "    </tr>\n",
              "    <tr>\n",
              "      <th>OpenPorchSF</th>\n",
              "      <td>-0.000477</td>\n",
              "      <td>-0.006100</td>\n",
              "      <td>0.151972</td>\n",
              "      <td>0.084774</td>\n",
              "      <td>0.308819</td>\n",
              "      <td>-0.032589</td>\n",
              "      <td>0.188686</td>\n",
              "      <td>0.226298</td>\n",
              "      <td>0.125703</td>\n",
              "      <td>0.111761</td>\n",
              "      <td>...</td>\n",
              "      <td>0.058661</td>\n",
              "      <td>1.000000</td>\n",
              "      <td>-0.093079</td>\n",
              "      <td>-0.005842</td>\n",
              "      <td>0.074304</td>\n",
              "      <td>0.060762</td>\n",
              "      <td>-0.018584</td>\n",
              "      <td>0.071255</td>\n",
              "      <td>-0.057619</td>\n",
              "      <td>0.315856</td>\n",
              "    </tr>\n",
              "    <tr>\n",
              "      <th>EnclosedPorch</th>\n",
              "      <td>0.002889</td>\n",
              "      <td>-0.012037</td>\n",
              "      <td>0.010700</td>\n",
              "      <td>-0.018340</td>\n",
              "      <td>-0.113937</td>\n",
              "      <td>0.070356</td>\n",
              "      <td>-0.387268</td>\n",
              "      <td>-0.193919</td>\n",
              "      <td>-0.110204</td>\n",
              "      <td>-0.102303</td>\n",
              "      <td>...</td>\n",
              "      <td>-0.125989</td>\n",
              "      <td>-0.093079</td>\n",
              "      <td>1.000000</td>\n",
              "      <td>-0.037305</td>\n",
              "      <td>-0.082864</td>\n",
              "      <td>0.054203</td>\n",
              "      <td>0.018361</td>\n",
              "      <td>-0.028887</td>\n",
              "      <td>-0.009916</td>\n",
              "      <td>-0.128578</td>\n",
              "    </tr>\n",
              "    <tr>\n",
              "      <th>3SsnPorch</th>\n",
              "      <td>-0.046635</td>\n",
              "      <td>-0.043825</td>\n",
              "      <td>0.070029</td>\n",
              "      <td>0.020423</td>\n",
              "      <td>0.030371</td>\n",
              "      <td>0.025504</td>\n",
              "      <td>0.031355</td>\n",
              "      <td>0.045286</td>\n",
              "      <td>0.018796</td>\n",
              "      <td>0.026451</td>\n",
              "      <td>...</td>\n",
              "      <td>-0.032771</td>\n",
              "      <td>-0.005842</td>\n",
              "      <td>-0.037305</td>\n",
              "      <td>1.000000</td>\n",
              "      <td>-0.031436</td>\n",
              "      <td>-0.007992</td>\n",
              "      <td>0.000354</td>\n",
              "      <td>0.029474</td>\n",
              "      <td>0.018645</td>\n",
              "      <td>0.044584</td>\n",
              "    </tr>\n",
              "    <tr>\n",
              "      <th>ScreenPorch</th>\n",
              "      <td>0.001330</td>\n",
              "      <td>-0.026030</td>\n",
              "      <td>0.041383</td>\n",
              "      <td>0.043160</td>\n",
              "      <td>0.064886</td>\n",
              "      <td>0.054811</td>\n",
              "      <td>-0.050364</td>\n",
              "      <td>-0.038740</td>\n",
              "      <td>0.061466</td>\n",
              "      <td>0.062021</td>\n",
              "      <td>...</td>\n",
              "      <td>-0.074181</td>\n",
              "      <td>0.074304</td>\n",
              "      <td>-0.082864</td>\n",
              "      <td>-0.031436</td>\n",
              "      <td>1.000000</td>\n",
              "      <td>0.051307</td>\n",
              "      <td>0.031946</td>\n",
              "      <td>0.023217</td>\n",
              "      <td>0.010694</td>\n",
              "      <td>0.111447</td>\n",
              "    </tr>\n",
              "    <tr>\n",
              "      <th>PoolArea</th>\n",
              "      <td>0.057044</td>\n",
              "      <td>0.008283</td>\n",
              "      <td>0.206167</td>\n",
              "      <td>0.077672</td>\n",
              "      <td>0.065166</td>\n",
              "      <td>-0.001985</td>\n",
              "      <td>0.004950</td>\n",
              "      <td>0.005829</td>\n",
              "      <td>0.011723</td>\n",
              "      <td>0.140491</td>\n",
              "      <td>...</td>\n",
              "      <td>0.073378</td>\n",
              "      <td>0.060762</td>\n",
              "      <td>0.054203</td>\n",
              "      <td>-0.007992</td>\n",
              "      <td>0.051307</td>\n",
              "      <td>1.000000</td>\n",
              "      <td>0.029669</td>\n",
              "      <td>-0.033737</td>\n",
              "      <td>-0.059689</td>\n",
              "      <td>0.092404</td>\n",
              "    </tr>\n",
              "    <tr>\n",
              "      <th>MiscVal</th>\n",
              "      <td>-0.006242</td>\n",
              "      <td>-0.007683</td>\n",
              "      <td>0.003368</td>\n",
              "      <td>0.038068</td>\n",
              "      <td>-0.031406</td>\n",
              "      <td>0.068777</td>\n",
              "      <td>-0.034383</td>\n",
              "      <td>-0.010286</td>\n",
              "      <td>-0.029815</td>\n",
              "      <td>0.003571</td>\n",
              "      <td>...</td>\n",
              "      <td>-0.009551</td>\n",
              "      <td>-0.018584</td>\n",
              "      <td>0.018361</td>\n",
              "      <td>0.000354</td>\n",
              "      <td>0.031946</td>\n",
              "      <td>0.029669</td>\n",
              "      <td>1.000000</td>\n",
              "      <td>-0.006495</td>\n",
              "      <td>0.004906</td>\n",
              "      <td>-0.021190</td>\n",
              "    </tr>\n",
              "    <tr>\n",
              "      <th>MoSold</th>\n",
              "      <td>0.021172</td>\n",
              "      <td>-0.013585</td>\n",
              "      <td>0.011200</td>\n",
              "      <td>0.001205</td>\n",
              "      <td>0.070815</td>\n",
              "      <td>-0.003511</td>\n",
              "      <td>0.012398</td>\n",
              "      <td>0.021490</td>\n",
              "      <td>-0.005965</td>\n",
              "      <td>-0.015727</td>\n",
              "      <td>...</td>\n",
              "      <td>0.021011</td>\n",
              "      <td>0.071255</td>\n",
              "      <td>-0.028887</td>\n",
              "      <td>0.029474</td>\n",
              "      <td>0.023217</td>\n",
              "      <td>-0.033737</td>\n",
              "      <td>-0.006495</td>\n",
              "      <td>1.000000</td>\n",
              "      <td>-0.145721</td>\n",
              "      <td>0.046432</td>\n",
              "    </tr>\n",
              "    <tr>\n",
              "      <th>YrSold</th>\n",
              "      <td>0.000712</td>\n",
              "      <td>-0.021407</td>\n",
              "      <td>0.007450</td>\n",
              "      <td>-0.014261</td>\n",
              "      <td>-0.027347</td>\n",
              "      <td>0.043950</td>\n",
              "      <td>-0.013618</td>\n",
              "      <td>0.035743</td>\n",
              "      <td>-0.008201</td>\n",
              "      <td>0.014359</td>\n",
              "      <td>...</td>\n",
              "      <td>0.022270</td>\n",
              "      <td>-0.057619</td>\n",
              "      <td>-0.009916</td>\n",
              "      <td>0.018645</td>\n",
              "      <td>0.010694</td>\n",
              "      <td>-0.059689</td>\n",
              "      <td>0.004906</td>\n",
              "      <td>-0.145721</td>\n",
              "      <td>1.000000</td>\n",
              "      <td>-0.028923</td>\n",
              "    </tr>\n",
              "    <tr>\n",
              "      <th>SalePrice</th>\n",
              "      <td>-0.021917</td>\n",
              "      <td>-0.084284</td>\n",
              "      <td>0.351799</td>\n",
              "      <td>0.263843</td>\n",
              "      <td>0.790982</td>\n",
              "      <td>-0.077856</td>\n",
              "      <td>0.522897</td>\n",
              "      <td>0.507101</td>\n",
              "      <td>0.477493</td>\n",
              "      <td>0.386420</td>\n",
              "      <td>...</td>\n",
              "      <td>0.324413</td>\n",
              "      <td>0.315856</td>\n",
              "      <td>-0.128578</td>\n",
              "      <td>0.044584</td>\n",
              "      <td>0.111447</td>\n",
              "      <td>0.092404</td>\n",
              "      <td>-0.021190</td>\n",
              "      <td>0.046432</td>\n",
              "      <td>-0.028923</td>\n",
              "      <td>1.000000</td>\n",
              "    </tr>\n",
              "  </tbody>\n",
              "</table>\n",
              "<p>38 rows × 38 columns</p>\n",
              "</div>"
            ],
            "text/plain": [
              "                     Id  MSSubClass  LotFrontage   LotArea  OverallQual  \\\n",
              "Id             1.000000    0.011156    -0.010601 -0.033226    -0.028365   \n",
              "MSSubClass     0.011156    1.000000    -0.386347 -0.139781     0.032628   \n",
              "LotFrontage   -0.010601   -0.386347     1.000000  0.426095     0.251646   \n",
              "LotArea       -0.033226   -0.139781     0.426095  1.000000     0.105806   \n",
              "OverallQual   -0.028365    0.032628     0.251646  0.105806     1.000000   \n",
              "OverallCond    0.012609   -0.059316    -0.059213 -0.005636    -0.091932   \n",
              "YearBuilt     -0.012713    0.027850     0.123349  0.014228     0.572323   \n",
              "YearRemodAdd  -0.021998    0.040581     0.088866  0.013788     0.550684   \n",
              "MasVnrArea    -0.050298    0.022936     0.193458  0.104160     0.411876   \n",
              "BsmtFinSF1    -0.005024   -0.069836     0.233633  0.214103     0.239666   \n",
              "BsmtFinSF2    -0.005968   -0.065649     0.049900  0.111170    -0.059119   \n",
              "BsmtUnfSF     -0.007940   -0.140759     0.132644 -0.002618     0.308159   \n",
              "TotalBsmtSF   -0.015415   -0.238518     0.392075  0.260833     0.537808   \n",
              "1stFlrSF       0.010496   -0.251758     0.457181  0.299475     0.476224   \n",
              "2ndFlrSF       0.005590    0.307886     0.080177  0.050986     0.295493   \n",
              "LowQualFinSF  -0.044230    0.046474     0.038469  0.004779    -0.030429   \n",
              "GrLivArea      0.008273    0.074853     0.402797  0.263116     0.593007   \n",
              "BsmtFullBath   0.002289    0.003491     0.100949  0.158155     0.111098   \n",
              "BsmtHalfBath  -0.020155   -0.002333    -0.007234  0.048046    -0.040150   \n",
              "FullBath       0.005587    0.131608     0.198769  0.126031     0.550600   \n",
              "HalfBath       0.006784    0.177354     0.053532  0.014259     0.273458   \n",
              "BedroomAbvGr   0.037719   -0.023438     0.263170  0.119690     0.101676   \n",
              "KitchenAbvGr   0.002951    0.281721    -0.006069 -0.017784    -0.183882   \n",
              "TotRmsAbvGrd   0.027239    0.040380     0.352096  0.190015     0.427452   \n",
              "Fireplaces    -0.019772   -0.045569     0.266639  0.271364     0.396765   \n",
              "GarageYrBlt    0.000072    0.085072     0.070250 -0.024947     0.547766   \n",
              "GarageCars     0.016570   -0.040110     0.285691  0.154871     0.600671   \n",
              "GarageArea     0.017634   -0.098672     0.344997  0.180403     0.562022   \n",
              "WoodDeckSF    -0.029643   -0.012579     0.088521  0.171698     0.238923   \n",
              "OpenPorchSF   -0.000477   -0.006100     0.151972  0.084774     0.308819   \n",
              "EnclosedPorch  0.002889   -0.012037     0.010700 -0.018340    -0.113937   \n",
              "3SsnPorch     -0.046635   -0.043825     0.070029  0.020423     0.030371   \n",
              "ScreenPorch    0.001330   -0.026030     0.041383  0.043160     0.064886   \n",
              "PoolArea       0.057044    0.008283     0.206167  0.077672     0.065166   \n",
              "MiscVal       -0.006242   -0.007683     0.003368  0.038068    -0.031406   \n",
              "MoSold         0.021172   -0.013585     0.011200  0.001205     0.070815   \n",
              "YrSold         0.000712   -0.021407     0.007450 -0.014261    -0.027347   \n",
              "SalePrice     -0.021917   -0.084284     0.351799  0.263843     0.790982   \n",
              "\n",
              "               OverallCond  YearBuilt  YearRemodAdd  MasVnrArea  BsmtFinSF1  \\\n",
              "Id                0.012609  -0.012713     -0.021998   -0.050298   -0.005024   \n",
              "MSSubClass       -0.059316   0.027850      0.040581    0.022936   -0.069836   \n",
              "LotFrontage      -0.059213   0.123349      0.088866    0.193458    0.233633   \n",
              "LotArea          -0.005636   0.014228      0.013788    0.104160    0.214103   \n",
              "OverallQual      -0.091932   0.572323      0.550684    0.411876    0.239666   \n",
              "OverallCond       1.000000  -0.375983      0.073741   -0.128101   -0.046231   \n",
              "YearBuilt        -0.375983   1.000000      0.592855    0.315707    0.249503   \n",
              "YearRemodAdd      0.073741   0.592855      1.000000    0.179618    0.128451   \n",
              "MasVnrArea       -0.128101   0.315707      0.179618    1.000000    0.264736   \n",
              "BsmtFinSF1       -0.046231   0.249503      0.128451    0.264736    1.000000   \n",
              "BsmtFinSF2        0.040229  -0.049107     -0.067759   -0.072319   -0.050117   \n",
              "BsmtUnfSF        -0.136841   0.149040      0.181133    0.114442   -0.495251   \n",
              "TotalBsmtSF      -0.171098   0.391452      0.291066    0.363936    0.522396   \n",
              "1stFlrSF         -0.144203   0.281986      0.240379    0.344501    0.445863   \n",
              "2ndFlrSF          0.028942   0.010308      0.140024    0.174561   -0.137079   \n",
              "LowQualFinSF      0.025494  -0.183784     -0.062419   -0.069071   -0.064503   \n",
              "GrLivArea        -0.079686   0.199010      0.287389    0.390857    0.208171   \n",
              "BsmtFullBath     -0.054942   0.187599      0.119470    0.085310    0.649212   \n",
              "BsmtHalfBath      0.117821  -0.038162     -0.012337    0.026673    0.067418   \n",
              "FullBath         -0.194149   0.468271      0.439046    0.276833    0.058543   \n",
              "HalfBath         -0.060769   0.242656      0.183331    0.201444    0.004262   \n",
              "BedroomAbvGr      0.012980  -0.070651     -0.040581    0.102821   -0.107355   \n",
              "KitchenAbvGr     -0.087001  -0.174800     -0.149598   -0.037610   -0.081007   \n",
              "TotRmsAbvGrd     -0.057583   0.095589      0.191740    0.280682    0.044316   \n",
              "Fireplaces       -0.023820   0.147716      0.112581    0.249070    0.260011   \n",
              "GarageYrBlt      -0.324297   0.825667      0.642277    0.252691    0.153484   \n",
              "GarageCars       -0.185758   0.537850      0.420622    0.364204    0.224054   \n",
              "GarageArea       -0.151521   0.478954      0.371600    0.373066    0.296970   \n",
              "WoodDeckSF       -0.003334   0.224880      0.205726    0.159718    0.204306   \n",
              "OpenPorchSF      -0.032589   0.188686      0.226298    0.125703    0.111761   \n",
              "EnclosedPorch     0.070356  -0.387268     -0.193919   -0.110204   -0.102303   \n",
              "3SsnPorch         0.025504   0.031355      0.045286    0.018796    0.026451   \n",
              "ScreenPorch       0.054811  -0.050364     -0.038740    0.061466    0.062021   \n",
              "PoolArea         -0.001985   0.004950      0.005829    0.011723    0.140491   \n",
              "MiscVal           0.068777  -0.034383     -0.010286   -0.029815    0.003571   \n",
              "MoSold           -0.003511   0.012398      0.021490   -0.005965   -0.015727   \n",
              "YrSold            0.043950  -0.013618      0.035743   -0.008201    0.014359   \n",
              "SalePrice        -0.077856   0.522897      0.507101    0.477493    0.386420   \n",
              "\n",
              "                 ...      WoodDeckSF  OpenPorchSF  EnclosedPorch  3SsnPorch  \\\n",
              "Id               ...       -0.029643    -0.000477       0.002889  -0.046635   \n",
              "MSSubClass       ...       -0.012579    -0.006100      -0.012037  -0.043825   \n",
              "LotFrontage      ...        0.088521     0.151972       0.010700   0.070029   \n",
              "LotArea          ...        0.171698     0.084774      -0.018340   0.020423   \n",
              "OverallQual      ...        0.238923     0.308819      -0.113937   0.030371   \n",
              "OverallCond      ...       -0.003334    -0.032589       0.070356   0.025504   \n",
              "YearBuilt        ...        0.224880     0.188686      -0.387268   0.031355   \n",
              "YearRemodAdd     ...        0.205726     0.226298      -0.193919   0.045286   \n",
              "MasVnrArea       ...        0.159718     0.125703      -0.110204   0.018796   \n",
              "BsmtFinSF1       ...        0.204306     0.111761      -0.102303   0.026451   \n",
              "BsmtFinSF2       ...        0.067898     0.003093       0.036543  -0.029993   \n",
              "BsmtUnfSF        ...       -0.005316     0.129005      -0.002538   0.020764   \n",
              "TotalBsmtSF      ...        0.232019     0.247264      -0.095478   0.037384   \n",
              "1stFlrSF         ...        0.235459     0.211671      -0.065292   0.056104   \n",
              "2ndFlrSF         ...        0.092165     0.208026       0.061989  -0.024358   \n",
              "LowQualFinSF     ...       -0.025444     0.018251       0.061081  -0.004296   \n",
              "GrLivArea        ...        0.247433     0.330224       0.009113   0.020643   \n",
              "BsmtFullBath     ...        0.175315     0.067341      -0.049911  -0.000106   \n",
              "BsmtHalfBath     ...        0.040161    -0.025324      -0.008555   0.035114   \n",
              "FullBath         ...        0.187703     0.259977      -0.115093   0.035353   \n",
              "HalfBath         ...        0.108080     0.199740      -0.095317  -0.004972   \n",
              "BedroomAbvGr     ...        0.046854     0.093810       0.041570  -0.024478   \n",
              "KitchenAbvGr     ...       -0.090130    -0.070091       0.037312  -0.024600   \n",
              "TotRmsAbvGrd     ...        0.165984     0.234192       0.004151  -0.006683   \n",
              "Fireplaces       ...        0.200019     0.169405      -0.024822   0.011257   \n",
              "GarageYrBlt      ...        0.224577     0.228425      -0.297003   0.023544   \n",
              "GarageCars       ...        0.226342     0.213569      -0.151434   0.035765   \n",
              "GarageArea       ...        0.224666     0.241435      -0.121777   0.035087   \n",
              "WoodDeckSF       ...        1.000000     0.058661      -0.125989  -0.032771   \n",
              "OpenPorchSF      ...        0.058661     1.000000      -0.093079  -0.005842   \n",
              "EnclosedPorch    ...       -0.125989    -0.093079       1.000000  -0.037305   \n",
              "3SsnPorch        ...       -0.032771    -0.005842      -0.037305   1.000000   \n",
              "ScreenPorch      ...       -0.074181     0.074304      -0.082864  -0.031436   \n",
              "PoolArea         ...        0.073378     0.060762       0.054203  -0.007992   \n",
              "MiscVal          ...       -0.009551    -0.018584       0.018361   0.000354   \n",
              "MoSold           ...        0.021011     0.071255      -0.028887   0.029474   \n",
              "YrSold           ...        0.022270    -0.057619      -0.009916   0.018645   \n",
              "SalePrice        ...        0.324413     0.315856      -0.128578   0.044584   \n",
              "\n",
              "               ScreenPorch  PoolArea   MiscVal    MoSold    YrSold  SalePrice  \n",
              "Id                0.001330  0.057044 -0.006242  0.021172  0.000712  -0.021917  \n",
              "MSSubClass       -0.026030  0.008283 -0.007683 -0.013585 -0.021407  -0.084284  \n",
              "LotFrontage       0.041383  0.206167  0.003368  0.011200  0.007450   0.351799  \n",
              "LotArea           0.043160  0.077672  0.038068  0.001205 -0.014261   0.263843  \n",
              "OverallQual       0.064886  0.065166 -0.031406  0.070815 -0.027347   0.790982  \n",
              "OverallCond       0.054811 -0.001985  0.068777 -0.003511  0.043950  -0.077856  \n",
              "YearBuilt        -0.050364  0.004950 -0.034383  0.012398 -0.013618   0.522897  \n",
              "YearRemodAdd     -0.038740  0.005829 -0.010286  0.021490  0.035743   0.507101  \n",
              "MasVnrArea        0.061466  0.011723 -0.029815 -0.005965 -0.008201   0.477493  \n",
              "BsmtFinSF1        0.062021  0.140491  0.003571 -0.015727  0.014359   0.386420  \n",
              "BsmtFinSF2        0.088871  0.041709  0.004940 -0.015211  0.031706  -0.011378  \n",
              "BsmtUnfSF        -0.012579 -0.035092 -0.023837  0.034888 -0.041258   0.214479  \n",
              "TotalBsmtSF       0.084489  0.126053 -0.018479  0.013196 -0.014969   0.613581  \n",
              "1stFlrSF          0.088758  0.131525 -0.021096  0.031372 -0.013604   0.605852  \n",
              "2ndFlrSF          0.040606  0.081487  0.016197  0.035164 -0.028700   0.319334  \n",
              "LowQualFinSF      0.026799  0.062157 -0.003793 -0.022174 -0.028921  -0.025606  \n",
              "GrLivArea         0.101510  0.170205 -0.002416  0.050240 -0.036526   0.708624  \n",
              "BsmtFullBath      0.023148  0.067616 -0.023047 -0.025361  0.067049   0.227122  \n",
              "BsmtHalfBath      0.032121  0.020025 -0.007367  0.032873 -0.046524  -0.016844  \n",
              "FullBath         -0.008106  0.049604 -0.014290  0.055872 -0.019669   0.560664  \n",
              "HalfBath          0.072426  0.022381  0.001290 -0.009050 -0.010269   0.284108  \n",
              "BedroomAbvGr      0.044300  0.070703  0.007767  0.046544 -0.036014   0.168213  \n",
              "KitchenAbvGr     -0.051613 -0.014525  0.062341  0.026589  0.031687  -0.135907  \n",
              "TotRmsAbvGrd      0.059383  0.083757  0.024763  0.036907 -0.034516   0.533723  \n",
              "Fireplaces        0.184530  0.095074  0.001409  0.046357 -0.024096   0.466929  \n",
              "GarageYrBlt      -0.075418 -0.014501 -0.032417  0.005337 -0.001014   0.486362  \n",
              "GarageCars        0.050494  0.020934 -0.043080  0.040522 -0.039117   0.640409  \n",
              "GarageArea        0.051412  0.061047 -0.027400  0.027974 -0.027378   0.623431  \n",
              "WoodDeckSF       -0.074181  0.073378 -0.009551  0.021011  0.022270   0.324413  \n",
              "OpenPorchSF       0.074304  0.060762 -0.018584  0.071255 -0.057619   0.315856  \n",
              "EnclosedPorch    -0.082864  0.054203  0.018361 -0.028887 -0.009916  -0.128578  \n",
              "3SsnPorch        -0.031436 -0.007992  0.000354  0.029474  0.018645   0.044584  \n",
              "ScreenPorch       1.000000  0.051307  0.031946  0.023217  0.010694   0.111447  \n",
              "PoolArea          0.051307  1.000000  0.029669 -0.033737 -0.059689   0.092404  \n",
              "MiscVal           0.031946  0.029669  1.000000 -0.006495  0.004906  -0.021190  \n",
              "MoSold            0.023217 -0.033737 -0.006495  1.000000 -0.145721   0.046432  \n",
              "YrSold            0.010694 -0.059689  0.004906 -0.145721  1.000000  -0.028923  \n",
              "SalePrice         0.111447  0.092404 -0.021190  0.046432 -0.028923   1.000000  \n",
              "\n",
              "[38 rows x 38 columns]"
            ]
          },
          "metadata": {
            "tags": []
          },
          "execution_count": 7
        }
      ]
    },
    {
      "metadata": {
        "id": "T4Tp6oCpSvBz",
        "colab_type": "code",
        "outputId": "1b7c0255-0f61-4479-cc54-be16ff9d1b88",
        "colab": {
          "base_uri": "https://localhost:8080/",
          "height": 680
        }
      },
      "cell_type": "code",
      "source": [
        "corr_matrix['SalePrice'].sort_values(ascending=False)"
      ],
      "execution_count": 0,
      "outputs": [
        {
          "output_type": "execute_result",
          "data": {
            "text/plain": [
              "SalePrice        1.000000\n",
              "OverallQual      0.790982\n",
              "GrLivArea        0.708624\n",
              "GarageCars       0.640409\n",
              "GarageArea       0.623431\n",
              "TotalBsmtSF      0.613581\n",
              "1stFlrSF         0.605852\n",
              "FullBath         0.560664\n",
              "TotRmsAbvGrd     0.533723\n",
              "YearBuilt        0.522897\n",
              "YearRemodAdd     0.507101\n",
              "GarageYrBlt      0.486362\n",
              "MasVnrArea       0.477493\n",
              "Fireplaces       0.466929\n",
              "BsmtFinSF1       0.386420\n",
              "LotFrontage      0.351799\n",
              "WoodDeckSF       0.324413\n",
              "2ndFlrSF         0.319334\n",
              "OpenPorchSF      0.315856\n",
              "HalfBath         0.284108\n",
              "LotArea          0.263843\n",
              "BsmtFullBath     0.227122\n",
              "BsmtUnfSF        0.214479\n",
              "BedroomAbvGr     0.168213\n",
              "ScreenPorch      0.111447\n",
              "PoolArea         0.092404\n",
              "MoSold           0.046432\n",
              "3SsnPorch        0.044584\n",
              "BsmtFinSF2      -0.011378\n",
              "BsmtHalfBath    -0.016844\n",
              "MiscVal         -0.021190\n",
              "Id              -0.021917\n",
              "LowQualFinSF    -0.025606\n",
              "YrSold          -0.028923\n",
              "OverallCond     -0.077856\n",
              "MSSubClass      -0.084284\n",
              "EnclosedPorch   -0.128578\n",
              "KitchenAbvGr    -0.135907\n",
              "Name: SalePrice, dtype: float64"
            ]
          },
          "metadata": {
            "tags": []
          },
          "execution_count": 8
        }
      ]
    },
    {
      "metadata": {
        "id": "GL0uABUgY88k",
        "colab_type": "code",
        "outputId": "b6da4769-dcd8-4ac2-d9ff-94f823391445",
        "colab": {
          "base_uri": "https://localhost:8080/",
          "height": 606
        }
      },
      "cell_type": "code",
      "source": [
        "import seaborn as sns\n",
        "\n",
        "corr = train_data.corr()\n",
        "corr = corr['SalePrice'].reset_index()\n",
        "corr.columns = ['Index','Correlations']\n",
        "corr = corr.set_index('Index')\n",
        "corr = corr.sort_values(by=['Correlations'], ascending = False)\n",
        "plt.figure(figsize=(3,10))\n",
        "fig = sns.heatmap(corr, annot=True, fmt=\"g\", cmap='YlGnBu')\n",
        "plt.title(\"Correlation of Variables with Class\")\n",
        "plt.show()"
      ],
      "execution_count": 0,
      "outputs": [
        {
          "output_type": "display_data",
          "data": {
            "image/png": "[encoded data removed]",
            "text/plain": [
              "<matplotlib.figure.Figure at 0x7f5b6d549588>"
            ]
          },
          "metadata": {
            "tags": []
          }
        }
      ]
    },
    {
      "metadata": {
        "id": "1djvVVnAfiPU",
        "colab_type": "text"
      },
      "cell_type": "markdown",
      "source": [
        "### Set the 'SalePrice' as the dependent y variable and drop this column from the train_set."
      ]
    },
    {
      "metadata": {
        "id": "vCCbHHNGex6-",
        "colab_type": "code",
        "outputId": "3d9e0a0f-b381-41d8-dacc-e7a5f9de5753",
        "colab": {
          "base_uri": "https://localhost:8080/",
          "height": 51
        }
      },
      "cell_type": "code",
      "source": [
        "y = train_data['SalePrice']\n",
        "train_data = train_data.drop('SalePrice',axis=1)\n",
        "print(train_data.shape)\n",
        "print(test_data.shape)"
      ],
      "execution_count": 0,
      "outputs": [
        {
          "output_type": "stream",
          "text": [
            "(1460, 80)\n",
            "(1459, 80)\n"
          ],
          "name": "stdout"
        }
      ]
    },
    {
      "metadata": {
        "id": "NCc_KERT0JGL",
        "colab_type": "code",
        "outputId": "9ccf3065-2e6e-47f7-8220-64978e8ce814",
        "colab": {
          "base_uri": "https://localhost:8080/",
          "height": 1462
        }
      },
      "cell_type": "code",
      "source": [
        "test_data.info()"
      ],
      "execution_count": 0,
      "outputs": [
        {
          "output_type": "stream",
          "text": [
            "<class 'pandas.core.frame.DataFrame'>\n",
            "RangeIndex: 1459 entries, 0 to 1458\n",
            "Data columns (total 80 columns):\n",
            "Id               1459 non-null int64\n",
            "MSSubClass       1459 non-null int64\n",
            "MSZoning         1455 non-null object\n",
            "LotFrontage      1232 non-null float64\n",
            "LotArea          1459 non-null int64\n",
            "Street           1459 non-null object\n",
            "Alley            107 non-null object\n",
            "LotShape         1459 non-null object\n",
            "LandContour      1459 non-null object\n",
            "Utilities        1457 non-null object\n",
            "LotConfig        1459 non-null object\n",
            "LandSlope        1459 non-null object\n",
            "Neighborhood     1459 non-null object\n",
            "Condition1       1459 non-null object\n",
            "Condition2       1459 non-null object\n",
            "BldgType         1459 non-null object\n",
            "HouseStyle       1459 non-null object\n",
            "OverallQual      1459 non-null int64\n",
            "OverallCond      1459 non-null int64\n",
            "YearBuilt        1459 non-null int64\n",
            "YearRemodAdd     1459 non-null int64\n",
            "RoofStyle        1459 non-null object\n",
            "RoofMatl         1459 non-null object\n",
            "Exterior1st      1458 non-null object\n",
            "Exterior2nd      1458 non-null object\n",
            "MasVnrType       1443 non-null object\n",
            "MasVnrArea       1444 non-null float64\n",
            "ExterQual        1459 non-null object\n",
            "ExterCond        1459 non-null object\n",
            "Foundation       1459 non-null object\n",
            "BsmtQual         1415 non-null object\n",
            "BsmtCond         1414 non-null object\n",
            "BsmtExposure     1415 non-null object\n",
            "BsmtFinType1     1417 non-null object\n",
            "BsmtFinSF1       1458 non-null float64\n",
            "BsmtFinType2     1417 non-null object\n",
            "BsmtFinSF2       1458 non-null float64\n",
            "BsmtUnfSF        1458 non-null float64\n",
            "TotalBsmtSF      1458 non-null float64\n",
            "Heating          1459 non-null object\n",
            "HeatingQC        1459 non-null object\n",
            "CentralAir       1459 non-null object\n",
            "Electrical       1459 non-null object\n",
            "1stFlrSF         1459 non-null int64\n",
            "2ndFlrSF         1459 non-null int64\n",
            "LowQualFinSF     1459 non-null int64\n",
            "GrLivArea        1459 non-null int64\n",
            "BsmtFullBath     1457 non-null float64\n",
            "BsmtHalfBath     1457 non-null float64\n",
            "FullBath         1459 non-null int64\n",
            "HalfBath         1459 non-null int64\n",
            "BedroomAbvGr     1459 non-null int64\n",
            "KitchenAbvGr     1459 non-null int64\n",
            "KitchenQual      1458 non-null object\n",
            "TotRmsAbvGrd     1459 non-null int64\n",
            "Functional       1457 non-null object\n",
            "Fireplaces       1459 non-null int64\n",
            "FireplaceQu      729 non-null object\n",
            "GarageType       1383 non-null object\n",
            "GarageYrBlt      1381 non-null float64\n",
            "GarageFinish     1381 non-null object\n",
            "GarageCars       1458 non-null float64\n",
            "GarageArea       1458 non-null float64\n",
            "GarageQual       1381 non-null object\n",
            "GarageCond       1381 non-null object\n",
            "PavedDrive       1459 non-null object\n",
            "WoodDeckSF       1459 non-null int64\n",
            "OpenPorchSF      1459 non-null int64\n",
            "EnclosedPorch    1459 non-null int64\n",
            "3SsnPorch        1459 non-null int64\n",
            "ScreenPorch      1459 non-null int64\n",
            "PoolArea         1459 non-null int64\n",
            "PoolQC           3 non-null object\n",
            "Fence            290 non-null object\n",
            "MiscFeature      51 non-null object\n",
            "MiscVal          1459 non-null int64\n",
            "MoSold           1459 non-null int64\n",
            "YrSold           1459 non-null int64\n",
            "SaleType         1458 non-null object\n",
            "SaleCondition    1459 non-null object\n",
            "dtypes: float64(11), int64(26), object(43)\n",
            "memory usage: 912.0+ KB\n"
          ],
          "name": "stdout"
        }
      ]
    },
    {
      "metadata": {
        "id": "0l3FbWZEATDz",
        "colab_type": "text"
      },
      "cell_type": "markdown",
      "source": [
        "### We will remove the columns that have more than 1000 values missing..."
      ]
    },
    {
      "metadata": {
        "id": "bsFJrpniB9kU",
        "colab_type": "code",
        "colab": {}
      },
      "cell_type": "code",
      "source": [
        "columns = ['Alley','PoolQC','Fence','MiscFeature']\n",
        "\n",
        "train_data = train_data.drop(columns,axis=1)\n",
        "test_data = test_data.drop(columns,axis=1)"
      ],
      "execution_count": 0,
      "outputs": []
    },
    {
      "metadata": {
        "id": "FkPYhur1N7yc",
        "colab_type": "text"
      },
      "cell_type": "markdown",
      "source": [
        "### Let's identify the columns that contain missing values and how many values are missing..."
      ]
    },
    {
      "metadata": {
        "id": "06urEQiyOe_u",
        "colab_type": "code",
        "colab": {}
      },
      "cell_type": "code",
      "source": [
        "null_list_train = train_data.columns[train_data.isnull().any()].tolist()"
      ],
      "execution_count": 0,
      "outputs": []
    },
    {
      "metadata": {
        "id": "9Wfx4QaO6YEZ",
        "colab_type": "code",
        "outputId": "86295c42-b4e4-444e-869c-ca315f2e1628",
        "colab": {
          "base_uri": "https://localhost:8080/",
          "height": 272
        }
      },
      "cell_type": "code",
      "source": [
        "for header in null_list_train:\n",
        "  print(header,train_data[header].isnull().sum())"
      ],
      "execution_count": 0,
      "outputs": [
        {
          "output_type": "stream",
          "text": [
            "LotFrontage 259\n",
            "MasVnrType 8\n",
            "MasVnrArea 8\n",
            "BsmtQual 37\n",
            "BsmtCond 37\n",
            "BsmtExposure 38\n",
            "BsmtFinType1 37\n",
            "BsmtFinType2 38\n",
            "Electrical 1\n",
            "FireplaceQu 690\n",
            "GarageType 81\n",
            "GarageYrBlt 81\n",
            "GarageFinish 81\n",
            "GarageQual 81\n",
            "GarageCond 81\n"
          ],
          "name": "stdout"
        }
      ]
    },
    {
      "metadata": {
        "id": "wyuHpKQE5xor",
        "colab_type": "code",
        "colab": {}
      },
      "cell_type": "code",
      "source": [
        "null_list_test = test_data.columns[test_data.isnull().any()].tolist()"
      ],
      "execution_count": 0,
      "outputs": []
    },
    {
      "metadata": {
        "id": "ejxGEeQ06mjh",
        "colab_type": "code",
        "outputId": "642e01e4-81da-4f02-acba-af99d6c5e337",
        "colab": {
          "base_uri": "https://localhost:8080/",
          "height": 510
        }
      },
      "cell_type": "code",
      "source": [
        "for header in null_list_test:\n",
        "  print(header,test_data[header].isnull().sum())"
      ],
      "execution_count": 0,
      "outputs": [
        {
          "output_type": "stream",
          "text": [
            "MSZoning 4\n",
            "LotFrontage 227\n",
            "Utilities 2\n",
            "Exterior1st 1\n",
            "Exterior2nd 1\n",
            "MasVnrType 16\n",
            "MasVnrArea 15\n",
            "BsmtQual 44\n",
            "BsmtCond 45\n",
            "BsmtExposure 44\n",
            "BsmtFinType1 42\n",
            "BsmtFinSF1 1\n",
            "BsmtFinType2 42\n",
            "BsmtFinSF2 1\n",
            "BsmtUnfSF 1\n",
            "TotalBsmtSF 1\n",
            "BsmtFullBath 2\n",
            "BsmtHalfBath 2\n",
            "KitchenQual 1\n",
            "Functional 2\n",
            "FireplaceQu 730\n",
            "GarageType 76\n",
            "GarageYrBlt 78\n",
            "GarageFinish 78\n",
            "GarageCars 1\n",
            "GarageArea 1\n",
            "GarageQual 78\n",
            "GarageCond 78\n",
            "SaleType 1\n"
          ],
          "name": "stdout"
        }
      ]
    },
    {
      "metadata": {
        "id": "B4g9pT0q_pPF",
        "colab_type": "text"
      },
      "cell_type": "markdown",
      "source": [
        "### Let's replace the 'NaN' fields in the data object columns with suitable replacement values."
      ]
    },
    {
      "metadata": {
        "id": "fB7mak_InaWC",
        "colab_type": "code",
        "colab": {}
      },
      "cell_type": "code",
      "source": [
        "columns = ['BsmtQual','BsmtCond','BsmtExposure','FireplaceQu','GarageType','GarageFinish','GarageQual','GarageCond','BsmtFinType1','BsmtFinType2']\n",
        "\n",
        "for col in columns:\n",
        "  train_data[col].fillna('NA',inplace=True)\n",
        "  test_data[col].fillna('NA',inplace=True)"
      ],
      "execution_count": 0,
      "outputs": []
    },
    {
      "metadata": {
        "id": "wQLR_6HO_Lv7",
        "colab_type": "code",
        "colab": {}
      },
      "cell_type": "code",
      "source": [
        "train_data['MasVnrType'].fillna('None',inplace=True)\n",
        "test_data['MasVnrType'].fillna('None',inplace=True)\n",
        "train_data['Electrical'].fillna('SBkr',inplace=True)\n",
        "test_data['Electrical'].fillna('SBkr',inplace=True)"
      ],
      "execution_count": 0,
      "outputs": []
    },
    {
      "metadata": {
        "id": "Km7dh-fZNBlR",
        "colab_type": "text"
      },
      "cell_type": "markdown",
      "source": [
        "### Now, let's use the 'SimpleImputer' function from sklearn to replace missing values in the numerical variable columns which are 'LotFrontage', 'MasVnrArea', 'GarageYrBlt'. As a first pass, we will impute the median column value for each missing value."
      ]
    },
    {
      "metadata": {
        "id": "-tCZ70hgwxxs",
        "colab_type": "code",
        "colab": {}
      },
      "cell_type": "code",
      "source": [
        "from sklearn.impute import SimpleImputer\n",
        "imputer = SimpleImputer(strategy =\"median\")"
      ],
      "execution_count": 0,
      "outputs": []
    },
    {
      "metadata": {
        "id": "n6ZU9-W6NgLs",
        "colab_type": "code",
        "colab": {}
      },
      "cell_type": "code",
      "source": [
        "columns = ['LotFrontage','MasVnrArea','GarageYrBlt']"
      ],
      "execution_count": 0,
      "outputs": []
    },
    {
      "metadata": {
        "id": "DvUCV752bGny",
        "colab_type": "code",
        "colab": {}
      },
      "cell_type": "code",
      "source": [
        "def ImputeMissingValues(data,columns):\n",
        "  \n",
        "  data_numeric = data[columns]                   # Select the 'LotFrontage','MasVnrArea','GarageYrBlt' columns\n",
        "  \n",
        "  for col in columns:\n",
        "    imputer.fit(data_numeric)\n",
        "    \n",
        "  X = imputer.transform(data_numeric)            # Impute new values for the missing values\n",
        "  data_num = pd.DataFrame(X,columns=columns)\n",
        "  \n",
        "  for col in columns:                            # Replace the updated columns in the dataset\n",
        "    data[col] = data_num[col]\n",
        "    \n",
        "  return data                                    # Return the updated dataset"
      ],
      "execution_count": 0,
      "outputs": []
    },
    {
      "metadata": {
        "id": "ocuelTxZcjf2",
        "colab_type": "code",
        "outputId": "009dab16-2a27-4b91-be75-d57c29900c14",
        "colab": {
          "base_uri": "https://localhost:8080/",
          "height": 34
        }
      },
      "cell_type": "code",
      "source": [
        "train_data = ImputeMissingValues(train_data,columns)\n",
        "impute_train_stat = imputer.statistics_\n",
        "test_data = ImputeMissingValues(test_data,columns)\n",
        "impute_test_stat = imputer.statistics_\n",
        "print(impute_train_stat,impute_test_stat)"
      ],
      "execution_count": 0,
      "outputs": [
        {
          "output_type": "stream",
          "text": [
            "[  69.    0. 1980.] [  67.    0. 1979.]\n"
          ],
          "name": "stdout"
        }
      ]
    },
    {
      "metadata": {
        "id": "PeS1bzVpuryf",
        "colab_type": "code",
        "colab": {}
      },
      "cell_type": "code",
      "source": [
        "null_list_test = test_data.columns[test_data.isnull().any()].tolist()"
      ],
      "execution_count": 0,
      "outputs": []
    },
    {
      "metadata": {
        "id": "bo9ZY1IEuxbQ",
        "colab_type": "code",
        "outputId": "1558a568-b0e5-4323-bf90-ceabe6b17f61",
        "colab": {
          "base_uri": "https://localhost:8080/",
          "height": 272
        }
      },
      "cell_type": "code",
      "source": [
        "for header in null_list_test:\n",
        "  print(header,test_data[header].isnull().sum())"
      ],
      "execution_count": 0,
      "outputs": [
        {
          "output_type": "stream",
          "text": [
            "MSZoning 4\n",
            "Utilities 2\n",
            "Exterior1st 1\n",
            "Exterior2nd 1\n",
            "BsmtFinSF1 1\n",
            "BsmtFinSF2 1\n",
            "BsmtUnfSF 1\n",
            "TotalBsmtSF 1\n",
            "BsmtFullBath 2\n",
            "BsmtHalfBath 2\n",
            "KitchenQual 1\n",
            "Functional 2\n",
            "GarageCars 1\n",
            "GarageArea 1\n",
            "SaleType 1\n"
          ],
          "name": "stdout"
        }
      ]
    },
    {
      "metadata": {
        "id": "MLkj-4EMow2b",
        "colab_type": "text"
      },
      "cell_type": "markdown",
      "source": [
        "### Let's look at the 'MSSubClass' header to see if we can determine the correct missing values for 'MSZoning'."
      ]
    },
    {
      "metadata": {
        "id": "t372o6OjSF3_",
        "colab_type": "code",
        "outputId": "0fbb53d2-6fd8-4125-c732-65ff4d171d20",
        "colab": {
          "base_uri": "https://localhost:8080/",
          "height": 799
        }
      },
      "cell_type": "code",
      "source": [
        "grouping = test_data.groupby(['MSSubClass'])['MSZoning'].value_counts()\n",
        "print(grouping)"
      ],
      "execution_count": 0,
      "outputs": [
        {
          "output_type": "stream",
          "text": [
            "MSSubClass  MSZoning\n",
            "20          RL          508\n",
            "            FV           21\n",
            "            RM           10\n",
            "            C (all)       1\n",
            "            RH            1\n",
            "30          RM           34\n",
            "            RL           28\n",
            "            C (all)       6\n",
            "            RH            1\n",
            "40          RL            2\n",
            "45          RM            4\n",
            "            RL            2\n",
            "50          RL           71\n",
            "            RM           68\n",
            "            C (all)       3\n",
            "            RH            1\n",
            "60          RL          256\n",
            "            FV           18\n",
            "            RM            2\n",
            "70          RM           37\n",
            "            RL           27\n",
            "            C (all)       3\n",
            "75          RM            4\n",
            "            RL            3\n",
            "80          RL           57\n",
            "            RM            3\n",
            "85          RL           27\n",
            "            RM            1\n",
            "90          RL           49\n",
            "            RM            7\n",
            "            RH            1\n",
            "120         RL           58\n",
            "            RM           19\n",
            "            FV           14\n",
            "            RH            4\n",
            "150         RL            1\n",
            "160         RM           34\n",
            "            FV           21\n",
            "            RL           10\n",
            "180         RM            7\n",
            "190         RL           15\n",
            "            RM           12\n",
            "            C (all)       2\n",
            "            RH            2\n",
            "Name: MSZoning, dtype: int64\n"
          ],
          "name": "stdout"
        }
      ]
    },
    {
      "metadata": {
        "id": "PbtUC_MySR0b",
        "colab_type": "code",
        "outputId": "df77bbbb-ce0f-47ed-c099-9222c5f703f3",
        "colab": {
          "base_uri": "https://localhost:8080/",
          "height": 102
        }
      },
      "cell_type": "code",
      "source": [
        "indices = np.where(test_data['MSZoning'].isna())\n",
        "\n",
        "for idx in indices:\n",
        "  MSSubClass_values = test_data['MSSubClass'][idx]\n",
        "  \n",
        "MSSubClass_values"
      ],
      "execution_count": 0,
      "outputs": [
        {
          "output_type": "execute_result",
          "data": {
            "text/plain": [
              "455     30\n",
              "756     20\n",
              "790     70\n",
              "1444    20\n",
              "Name: MSSubClass, dtype: int64"
            ]
          },
          "metadata": {
            "tags": []
          },
          "execution_count": 26
        }
      ]
    },
    {
      "metadata": {
        "id": "IzWrQqmi4zrt",
        "colab_type": "text"
      },
      "cell_type": "markdown",
      "source": [
        "### Based on the above analysis, let's substitute the value 'RL' for all the missing MSZoning values..."
      ]
    },
    {
      "metadata": {
        "id": "vFYPVIqa5Yw1",
        "colab_type": "code",
        "colab": {}
      },
      "cell_type": "code",
      "source": [
        "test_data['MSZoning'].fillna('RL',inplace=True) "
      ],
      "execution_count": 0,
      "outputs": []
    },
    {
      "metadata": {
        "id": "cqkAqIBvPzNO",
        "colab_type": "text"
      },
      "cell_type": "markdown",
      "source": [
        "### A quick look at the 'Utilities' variable..."
      ]
    },
    {
      "metadata": {
        "id": "6BO-gTzS544o",
        "colab_type": "code",
        "outputId": "a16d402a-8498-41f2-d960-08691ddc4951",
        "colab": {
          "base_uri": "https://localhost:8080/",
          "height": 51
        }
      },
      "cell_type": "code",
      "source": [
        "test_data['Utilities'].value_counts()"
      ],
      "execution_count": 0,
      "outputs": [
        {
          "output_type": "execute_result",
          "data": {
            "text/plain": [
              "AllPub    1457\n",
              "Name: Utilities, dtype: int64"
            ]
          },
          "metadata": {
            "tags": []
          },
          "execution_count": 28
        }
      ]
    },
    {
      "metadata": {
        "id": "fCOrTf6HCIQ6",
        "colab_type": "code",
        "colab": {}
      },
      "cell_type": "code",
      "source": [
        "test_data['Utilities'].fillna('AllPub',inplace=True)"
      ],
      "execution_count": 0,
      "outputs": []
    },
    {
      "metadata": {
        "id": "4YLh79CXSfsl",
        "colab_type": "code",
        "outputId": "5d57ee63-6bbe-454f-cc7d-d8306d22201b",
        "colab": {
          "base_uri": "https://localhost:8080/",
          "height": 255
        }
      },
      "cell_type": "code",
      "source": [
        "test_data['Exterior1st'].value_counts()"
      ],
      "execution_count": 0,
      "outputs": [
        {
          "output_type": "execute_result",
          "data": {
            "text/plain": [
              "VinylSd    510\n",
              "MetalSd    230\n",
              "HdBoard    220\n",
              "Wd Sdng    205\n",
              "Plywood    113\n",
              "CemntBd     65\n",
              "BrkFace     37\n",
              "WdShing     30\n",
              "AsbShng     24\n",
              "Stucco      18\n",
              "BrkComm      4\n",
              "CBlock       1\n",
              "AsphShn      1\n",
              "Name: Exterior1st, dtype: int64"
            ]
          },
          "metadata": {
            "tags": []
          },
          "execution_count": 30
        }
      ]
    },
    {
      "metadata": {
        "id": "VCWsFkLSSuSh",
        "colab_type": "code",
        "colab": {}
      },
      "cell_type": "code",
      "source": [
        "test_data['Exterior1st'].fillna('VinylSd',inplace=True)"
      ],
      "execution_count": 0,
      "outputs": []
    },
    {
      "metadata": {
        "id": "iWLEO0cDnU1F",
        "colab_type": "code",
        "outputId": "3a286aea-5e35-4909-c4f2-b0813e1b8fee",
        "colab": {
          "base_uri": "https://localhost:8080/",
          "height": 289
        }
      },
      "cell_type": "code",
      "source": [
        "test_data['Exterior2nd'].value_counts()"
      ],
      "execution_count": 0,
      "outputs": [
        {
          "output_type": "execute_result",
          "data": {
            "text/plain": [
              "VinylSd    510\n",
              "MetalSd    233\n",
              "HdBoard    199\n",
              "Wd Sdng    194\n",
              "Plywood    128\n",
              "CmentBd     66\n",
              "Wd Shng     43\n",
              "BrkFace     22\n",
              "Stucco      21\n",
              "AsbShng     18\n",
              "Brk Cmn     15\n",
              "ImStucc      5\n",
              "CBlock       2\n",
              "Stone        1\n",
              "AsphShn      1\n",
              "Name: Exterior2nd, dtype: int64"
            ]
          },
          "metadata": {
            "tags": []
          },
          "execution_count": 32
        }
      ]
    },
    {
      "metadata": {
        "id": "qX6S_Z1rDpG2",
        "colab_type": "code",
        "colab": {}
      },
      "cell_type": "code",
      "source": [
        "test_data['Exterior2nd'].fillna('VinylSd',inplace=True)"
      ],
      "execution_count": 0,
      "outputs": []
    },
    {
      "metadata": {
        "id": "8os3v7_IEkR_",
        "colab_type": "code",
        "outputId": "f55ce2de-7344-4cd5-f8ad-91097b97b5f5",
        "colab": {
          "base_uri": "https://localhost:8080/",
          "height": 102
        }
      },
      "cell_type": "code",
      "source": [
        "test_data['KitchenQual'].value_counts()"
      ],
      "execution_count": 0,
      "outputs": [
        {
          "output_type": "execute_result",
          "data": {
            "text/plain": [
              "TA    757\n",
              "Gd    565\n",
              "Ex    105\n",
              "Fa     31\n",
              "Name: KitchenQual, dtype: int64"
            ]
          },
          "metadata": {
            "tags": []
          },
          "execution_count": 34
        }
      ]
    },
    {
      "metadata": {
        "id": "ZFm19AuWE0mU",
        "colab_type": "code",
        "colab": {}
      },
      "cell_type": "code",
      "source": [
        "test_data['KitchenQual'].fillna('TA',inplace=True)"
      ],
      "execution_count": 0,
      "outputs": []
    },
    {
      "metadata": {
        "id": "8i-CziJmFNbG",
        "colab_type": "code",
        "outputId": "f435bbdf-8202-46aa-9132-a3932ea1f4e7",
        "colab": {
          "base_uri": "https://localhost:8080/",
          "height": 153
        }
      },
      "cell_type": "code",
      "source": [
        "test_data['Functional'].value_counts()"
      ],
      "execution_count": 0,
      "outputs": [
        {
          "output_type": "execute_result",
          "data": {
            "text/plain": [
              "Typ     1357\n",
              "Min2      36\n",
              "Min1      34\n",
              "Mod       20\n",
              "Maj1       5\n",
              "Maj2       4\n",
              "Sev        1\n",
              "Name: Functional, dtype: int64"
            ]
          },
          "metadata": {
            "tags": []
          },
          "execution_count": 36
        }
      ]
    },
    {
      "metadata": {
        "id": "uLADZj1UFTqi",
        "colab_type": "code",
        "colab": {}
      },
      "cell_type": "code",
      "source": [
        "test_data['Functional'].fillna('Typ',inplace=True)"
      ],
      "execution_count": 0,
      "outputs": []
    },
    {
      "metadata": {
        "id": "DmGhU2MsFrc4",
        "colab_type": "code",
        "outputId": "860ed2a1-9a70-4631-f341-4a844f8d1f2b",
        "colab": {
          "base_uri": "https://localhost:8080/",
          "height": 187
        }
      },
      "cell_type": "code",
      "source": [
        "test_data['SaleType'].value_counts()"
      ],
      "execution_count": 0,
      "outputs": [
        {
          "output_type": "execute_result",
          "data": {
            "text/plain": [
              "WD       1258\n",
              "New       117\n",
              "COD        44\n",
              "ConLD      17\n",
              "CWD         8\n",
              "ConLI       4\n",
              "Oth         4\n",
              "Con         3\n",
              "ConLw       3\n",
              "Name: SaleType, dtype: int64"
            ]
          },
          "metadata": {
            "tags": []
          },
          "execution_count": 38
        }
      ]
    },
    {
      "metadata": {
        "id": "WjmtEG0RF7Es",
        "colab_type": "code",
        "colab": {}
      },
      "cell_type": "code",
      "source": [
        "test_data['SaleType'].fillna('WD',inplace=True)"
      ],
      "execution_count": 0,
      "outputs": []
    },
    {
      "metadata": {
        "id": "eXQZKEfAGP5s",
        "colab_type": "code",
        "colab": {}
      },
      "cell_type": "code",
      "source": [
        "null_list_test = test_data.columns[test_data.isnull().any()].tolist()"
      ],
      "execution_count": 0,
      "outputs": []
    },
    {
      "metadata": {
        "id": "xpk55Ho_GVSc",
        "colab_type": "code",
        "outputId": "5030f4f3-f1ac-4ee8-8ca1-bd5b5bc57c76",
        "colab": {
          "base_uri": "https://localhost:8080/",
          "height": 153
        }
      },
      "cell_type": "code",
      "source": [
        "for header in null_list_test:\n",
        "  print(header,test_data[header].isnull().sum())"
      ],
      "execution_count": 0,
      "outputs": [
        {
          "output_type": "stream",
          "text": [
            "BsmtFinSF1 1\n",
            "BsmtFinSF2 1\n",
            "BsmtUnfSF 1\n",
            "TotalBsmtSF 1\n",
            "BsmtFullBath 2\n",
            "BsmtHalfBath 2\n",
            "GarageCars 1\n",
            "GarageArea 1\n"
          ],
          "name": "stdout"
        }
      ]
    },
    {
      "metadata": {
        "id": "IMNIW1_IHOss",
        "colab_type": "code",
        "outputId": "bd8aef34-f1da-4ea5-e746-2ca02e47998d",
        "colab": {
          "base_uri": "https://localhost:8080/",
          "height": 34
        }
      },
      "cell_type": "code",
      "source": [
        "test_data = ImputeMissingValues(test_data,null_list_test)\n",
        "impute_test_stat = imputer.statistics_\n",
        "print(impute_test_stat)"
      ],
      "execution_count": 0,
      "outputs": [
        {
          "output_type": "stream",
          "text": [
            "[350.5   0.  460.  988.    0.    0.    2.  480. ]\n"
          ],
          "name": "stdout"
        }
      ]
    },
    {
      "metadata": {
        "id": "AOnUbLqEHi9N",
        "colab_type": "code",
        "outputId": "df4298e8-9ec0-47ff-d90e-bba2a70d26a2",
        "colab": {
          "base_uri": "https://localhost:8080/",
          "height": 1394
        }
      },
      "cell_type": "code",
      "source": [
        "test_data.info()"
      ],
      "execution_count": 0,
      "outputs": [
        {
          "output_type": "stream",
          "text": [
            "<class 'pandas.core.frame.DataFrame'>\n",
            "RangeIndex: 1459 entries, 0 to 1458\n",
            "Data columns (total 76 columns):\n",
            "Id               1459 non-null int64\n",
            "MSSubClass       1459 non-null int64\n",
            "MSZoning         1459 non-null object\n",
            "LotFrontage      1459 non-null float64\n",
            "LotArea          1459 non-null int64\n",
            "Street           1459 non-null object\n",
            "LotShape         1459 non-null object\n",
            "LandContour      1459 non-null object\n",
            "Utilities        1459 non-null object\n",
            "LotConfig        1459 non-null object\n",
            "LandSlope        1459 non-null object\n",
            "Neighborhood     1459 non-null object\n",
            "Condition1       1459 non-null object\n",
            "Condition2       1459 non-null object\n",
            "BldgType         1459 non-null object\n",
            "HouseStyle       1459 non-null object\n",
            "OverallQual      1459 non-null int64\n",
            "OverallCond      1459 non-null int64\n",
            "YearBuilt        1459 non-null int64\n",
            "YearRemodAdd     1459 non-null int64\n",
            "RoofStyle        1459 non-null object\n",
            "RoofMatl         1459 non-null object\n",
            "Exterior1st      1459 non-null object\n",
            "Exterior2nd      1459 non-null object\n",
            "MasVnrType       1459 non-null object\n",
            "MasVnrArea       1459 non-null float64\n",
            "ExterQual        1459 non-null object\n",
            "ExterCond        1459 non-null object\n",
            "Foundation       1459 non-null object\n",
            "BsmtQual         1459 non-null object\n",
            "BsmtCond         1459 non-null object\n",
            "BsmtExposure     1459 non-null object\n",
            "BsmtFinType1     1459 non-null object\n",
            "BsmtFinSF1       1459 non-null float64\n",
            "BsmtFinType2     1459 non-null object\n",
            "BsmtFinSF2       1459 non-null float64\n",
            "BsmtUnfSF        1459 non-null float64\n",
            "TotalBsmtSF      1459 non-null float64\n",
            "Heating          1459 non-null object\n",
            "HeatingQC        1459 non-null object\n",
            "CentralAir       1459 non-null object\n",
            "Electrical       1459 non-null object\n",
            "1stFlrSF         1459 non-null int64\n",
            "2ndFlrSF         1459 non-null int64\n",
            "LowQualFinSF     1459 non-null int64\n",
            "GrLivArea        1459 non-null int64\n",
            "BsmtFullBath     1459 non-null float64\n",
            "BsmtHalfBath     1459 non-null float64\n",
            "FullBath         1459 non-null int64\n",
            "HalfBath         1459 non-null int64\n",
            "BedroomAbvGr     1459 non-null int64\n",
            "KitchenAbvGr     1459 non-null int64\n",
            "KitchenQual      1459 non-null object\n",
            "TotRmsAbvGrd     1459 non-null int64\n",
            "Functional       1459 non-null object\n",
            "Fireplaces       1459 non-null int64\n",
            "FireplaceQu      1459 non-null object\n",
            "GarageType       1459 non-null object\n",
            "GarageYrBlt      1459 non-null float64\n",
            "GarageFinish     1459 non-null object\n",
            "GarageCars       1459 non-null float64\n",
            "GarageArea       1459 non-null float64\n",
            "GarageQual       1459 non-null object\n",
            "GarageCond       1459 non-null object\n",
            "PavedDrive       1459 non-null object\n",
            "WoodDeckSF       1459 non-null int64\n",
            "OpenPorchSF      1459 non-null int64\n",
            "EnclosedPorch    1459 non-null int64\n",
            "3SsnPorch        1459 non-null int64\n",
            "ScreenPorch      1459 non-null int64\n",
            "PoolArea         1459 non-null int64\n",
            "MiscVal          1459 non-null int64\n",
            "MoSold           1459 non-null int64\n",
            "YrSold           1459 non-null int64\n",
            "SaleType         1459 non-null object\n",
            "SaleCondition    1459 non-null object\n",
            "dtypes: float64(11), int64(26), object(39)\n",
            "memory usage: 866.4+ KB\n"
          ],
          "name": "stdout"
        }
      ]
    },
    {
      "metadata": {
        "id": "G0hMEl82odKi",
        "colab_type": "text"
      },
      "cell_type": "markdown",
      "source": [
        "### We have now addressed all the missing values in both the train and test datasets. Now we need to code all the categorical variables and then feature-scale everything..."
      ]
    },
    {
      "metadata": {
        "id": "2w5K05lLINL4",
        "colab_type": "text"
      },
      "cell_type": "markdown",
      "source": [
        "### First, let's separate the numerical and categorical variables so that we can encode them."
      ]
    },
    {
      "metadata": {
        "id": "ECMT_O01oDcN",
        "colab_type": "code",
        "outputId": "6dc7b87c-14a0-496c-9cb6-7e79c289690d",
        "colab": {
          "base_uri": "https://localhost:8080/",
          "height": 85
        }
      },
      "cell_type": "code",
      "source": [
        "train_data_cat = train_data.select_dtypes(include=['object'])\n",
        "print('Shape of train_data_cat:',train_data_cat.shape)\n",
        "\n",
        "test_data_cat = test_data.select_dtypes(include=['object'])\n",
        "print('Shape of test_data_cat:',test_data_cat.shape)\n",
        "\n",
        "train_data_num = train_data.select_dtypes(exclude=['object'])\n",
        "print('Shape of train_data_num:',train_data_num.shape)\n",
        "\n",
        "test_data_num = test_data.select_dtypes(exclude=['object'])\n",
        "print('Shape of test_data_cat:',test_data_num.shape)"
      ],
      "execution_count": 0,
      "outputs": [
        {
          "output_type": "stream",
          "text": [
            "Shape of train_data_cat: (1460, 39)\n",
            "Shape of test_data_cat: (1459, 39)\n",
            "Shape of train_data_num: (1460, 37)\n",
            "Shape of test_data_cat: (1459, 37)\n"
          ],
          "name": "stdout"
        }
      ]
    },
    {
      "metadata": {
        "id": "86bsqkqKK9VV",
        "colab_type": "code",
        "colab": {}
      },
      "cell_type": "code",
      "source": [
        "from sklearn.preprocessing import OrdinalEncoder"
      ],
      "execution_count": 0,
      "outputs": []
    },
    {
      "metadata": {
        "id": "RuebTKt6LHzl",
        "colab_type": "code",
        "colab": {}
      },
      "cell_type": "code",
      "source": [
        "def CatVariableEncoder(data):\n",
        "  data=data.values                   # Convert to numpy array\n",
        "  data=data.reshape(-1,1)\n",
        "  ordinal_encoder = OrdinalEncoder()\n",
        "  data_encoded = ordinal_encoder.fit_transform(data)\n",
        "  return data_encoded"
      ],
      "execution_count": 0,
      "outputs": []
    },
    {
      "metadata": {
        "id": "2T9W3aVyqeut",
        "colab_type": "code",
        "outputId": "a1d9b9e7-987f-4a03-f947-e093988e2833",
        "colab": {
          "base_uri": "https://localhost:8080/",
          "height": 187
        }
      },
      "cell_type": "code",
      "source": [
        "train_data_cat_encoded = CatVariableEncoder(train_data_cat)\n",
        "train_data_cat_encoded[:10]"
      ],
      "execution_count": 0,
      "outputs": [
        {
          "output_type": "execute_result",
          "data": {
            "text/plain": [
              "array([[128.],\n",
              "       [121.],\n",
              "       [135.],\n",
              "       [ 86.],\n",
              "       [ 12.],\n",
              "       [ 84.],\n",
              "       [ 75.],\n",
              "       [ 41.],\n",
              "       [111.],\n",
              "       [111.]])"
            ]
          },
          "metadata": {
            "tags": []
          },
          "execution_count": 47
        }
      ]
    },
    {
      "metadata": {
        "id": "-H0WfcRrsVDJ",
        "colab_type": "code",
        "outputId": "f2deed26-e8bb-4707-b96e-c3eefc65d9e8",
        "colab": {
          "base_uri": "https://localhost:8080/",
          "height": 187
        }
      },
      "cell_type": "code",
      "source": [
        "test_data_cat_encoded = CatVariableEncoder(test_data_cat)\n",
        "test_data_cat_encoded[:10]"
      ],
      "execution_count": 0,
      "outputs": [
        {
          "output_type": "execute_result",
          "data": {
            "text/plain": [
              "array([[118.],\n",
              "       [112.],\n",
              "       [126.],\n",
              "       [ 83.],\n",
              "       [ 11.],\n",
              "       [ 81.],\n",
              "       [ 72.],\n",
              "       [ 97.],\n",
              "       [ 57.],\n",
              "       [104.]])"
            ]
          },
          "metadata": {
            "tags": []
          },
          "execution_count": 48
        }
      ]
    },
    {
      "metadata": {
        "id": "gVOM6KK4RPs_",
        "colab_type": "text"
      },
      "cell_type": "markdown",
      "source": [
        "### Sklearn provides a 'OneHotEncoder' function to convert integer categorical values into one-hot vectors. \n"
      ]
    },
    {
      "metadata": {
        "id": "ODCgUcTlR2Yn",
        "colab_type": "code",
        "outputId": "54848b37-8a00-40ef-cca9-a888672f94a6",
        "colab": {
          "base_uri": "https://localhost:8080/",
          "height": 1768
        }
      },
      "cell_type": "code",
      "source": [
        "from sklearn.preprocessing import OneHotEncoder\n",
        "\n",
        "encoder = OneHotEncoder(categories='auto')\n",
        "train_data_cat_1hot = encoder.fit_transform(train_data_cat_encoded.reshape(-1,1))\n",
        "test_data_cat_1hot = encoder.fit_transform(test_data_cat_encoded.reshape(-1,1))\n",
        "print(train_data_cat_1hot,'\\n\\n',test_data_cat_1hot)"
      ],
      "execution_count": 0,
      "outputs": [
        {
          "output_type": "stream",
          "text": [
            "  (0, 128)\t1.0\n",
            "  (1, 121)\t1.0\n",
            "  (2, 135)\t1.0\n",
            "  (3, 86)\t1.0\n",
            "  (4, 12)\t1.0\n",
            "  (5, 84)\t1.0\n",
            "  (6, 75)\t1.0\n",
            "  (7, 41)\t1.0\n",
            "  (8, 111)\t1.0\n",
            "  (9, 111)\t1.0\n",
            "  (10, 2)\t1.0\n",
            "  (11, 6)\t1.0\n",
            "  (12, 67)\t1.0\n",
            "  (13, 42)\t1.0\n",
            "  (14, 159)\t1.0\n",
            "  (15, 159)\t1.0\n",
            "  (16, 28)\t1.0\n",
            "  (17, 71)\t1.0\n",
            "  (18, 151)\t1.0\n",
            "  (19, 119)\t1.0\n",
            "  (20, 71)\t1.0\n",
            "  (21, 151)\t1.0\n",
            "  (22, 107)\t1.0\n",
            "  (23, 66)\t1.0\n",
            "  (24, 157)\t1.0\n",
            "  :\t:\n",
            "  (56915, 77)\t1.0\n",
            "  (56916, 77)\t1.0\n",
            "  (56917, 110)\t1.0\n",
            "  (56918, 71)\t1.0\n",
            "  (56919, 151)\t1.0\n",
            "  (56920, 33)\t1.0\n",
            "  (56921, 151)\t1.0\n",
            "  (56922, 151)\t1.0\n",
            "  (56923, 107)\t1.0\n",
            "  (56924, 19)\t1.0\n",
            "  (56925, 87)\t1.0\n",
            "  (56926, 69)\t1.0\n",
            "  (56927, 71)\t1.0\n",
            "  (56928, 168)\t1.0\n",
            "  (56929, 138)\t1.0\n",
            "  (56930, 151)\t1.0\n",
            "  (56931, 156)\t1.0\n",
            "  (56932, 102)\t1.0\n",
            "  (56933, 17)\t1.0\n",
            "  (56934, 60)\t1.0\n",
            "  (56935, 151)\t1.0\n",
            "  (56936, 151)\t1.0\n",
            "  (56937, 168)\t1.0\n",
            "  (56938, 160)\t1.0\n",
            "  (56939, 112)\t1.0 \n",
            "\n",
            "   (0, 118)\t1.0\n",
            "  (1, 112)\t1.0\n",
            "  (2, 126)\t1.0\n",
            "  (3, 83)\t1.0\n",
            "  (4, 11)\t1.0\n",
            "  (5, 81)\t1.0\n",
            "  (6, 72)\t1.0\n",
            "  (7, 97)\t1.0\n",
            "  (8, 57)\t1.0\n",
            "  (9, 104)\t1.0\n",
            "  (10, 2)\t1.0\n",
            "  (11, 3)\t1.0\n",
            "  (12, 64)\t1.0\n",
            "  (13, 40)\t1.0\n",
            "  (14, 148)\t1.0\n",
            "  (15, 148)\t1.0\n",
            "  (16, 103)\t1.0\n",
            "  (17, 140)\t1.0\n",
            "  (18, 140)\t1.0\n",
            "  (19, 32)\t1.0\n",
            "  (20, 140)\t1.0\n",
            "  (21, 140)\t1.0\n",
            "  (22, 101)\t1.0\n",
            "  (23, 125)\t1.0\n",
            "  (24, 84)\t1.0\n",
            "  :\t:\n",
            "  (56876, 74)\t1.0\n",
            "  (56877, 74)\t1.0\n",
            "  (56878, 27)\t1.0\n",
            "  (56879, 140)\t1.0\n",
            "  (56880, 140)\t1.0\n",
            "  (56881, 110)\t1.0\n",
            "  (56882, 68)\t1.0\n",
            "  (56883, 140)\t1.0\n",
            "  (56884, 17)\t1.0\n",
            "  (56885, 84)\t1.0\n",
            "  (56886, 146)\t1.0\n",
            "  (56887, 66)\t1.0\n",
            "  (56888, 51)\t1.0\n",
            "  (56889, 157)\t1.0\n",
            "  (56890, 127)\t1.0\n",
            "  (56891, 140)\t1.0\n",
            "  (56892, 145)\t1.0\n",
            "  (56893, 140)\t1.0\n",
            "  (56894, 16)\t1.0\n",
            "  (56895, 58)\t1.0\n",
            "  (56896, 140)\t1.0\n",
            "  (56897, 140)\t1.0\n",
            "  (56898, 157)\t1.0\n",
            "  (56899, 149)\t1.0\n",
            "  (56900, 105)\t1.0\n"
          ],
          "name": "stdout"
        }
      ]
    },
    {
      "metadata": {
        "id": "IVHBv7S9TqHr",
        "colab_type": "code",
        "outputId": "e0e21796-9be8-4b2c-9d1e-14667884c6b3",
        "colab": {
          "base_uri": "https://localhost:8080/",
          "height": 136
        }
      },
      "cell_type": "code",
      "source": [
        "train_data_cat_1hot.toarray()"
      ],
      "execution_count": 0,
      "outputs": [
        {
          "output_type": "execute_result",
          "data": {
            "text/plain": [
              "array([[0., 0., 0., ..., 0., 0., 0.],\n",
              "       [0., 0., 0., ..., 0., 0., 0.],\n",
              "       [0., 0., 0., ..., 0., 0., 0.],\n",
              "       ...,\n",
              "       [0., 0., 0., ..., 0., 0., 1.],\n",
              "       [0., 0., 0., ..., 0., 0., 0.],\n",
              "       [0., 0., 0., ..., 0., 0., 0.]])"
            ]
          },
          "metadata": {
            "tags": []
          },
          "execution_count": 50
        }
      ]
    },
    {
      "metadata": {
        "id": "jZX_ZTZ_Twk-",
        "colab_type": "code",
        "outputId": "44e7b59d-eaeb-4dbb-fdb5-9316fa88e569",
        "colab": {
          "base_uri": "https://localhost:8080/",
          "height": 136
        }
      },
      "cell_type": "code",
      "source": [
        "test_data_cat_1hot.toarray()"
      ],
      "execution_count": 0,
      "outputs": [
        {
          "output_type": "execute_result",
          "data": {
            "text/plain": [
              "array([[0., 0., 0., ..., 0., 0., 0.],\n",
              "       [0., 0., 0., ..., 0., 0., 0.],\n",
              "       [0., 0., 0., ..., 0., 0., 0.],\n",
              "       ...,\n",
              "       [0., 0., 0., ..., 0., 0., 1.],\n",
              "       [0., 0., 0., ..., 0., 0., 0.],\n",
              "       [0., 0., 0., ..., 0., 0., 0.]])"
            ]
          },
          "metadata": {
            "tags": []
          },
          "execution_count": 51
        }
      ]
    },
    {
      "metadata": {
        "id": "XA4Lf6o6YikZ",
        "colab_type": "text"
      },
      "cell_type": "markdown",
      "source": [
        "### Let's create pipelines for transforming both the numerical and categorical variables. "
      ]
    },
    {
      "metadata": {
        "id": "dmyptYfoZhwZ",
        "colab_type": "code",
        "colab": {}
      },
      "cell_type": "code",
      "source": [
        "from sklearn.impute import SimpleImputer\n",
        "from sklearn.pipeline import Pipeline\n",
        "from sklearn.preprocessing import StandardScaler\n",
        "\n",
        "num_pipeline = Pipeline([\n",
        "        ('imputer', SimpleImputer(strategy=\"median\")),\n",
        "        ('std_scaler', StandardScaler()),\n",
        "    ])"
      ],
      "execution_count": 0,
      "outputs": []
    },
    {
      "metadata": {
        "id": "d13xqnfZh_I0",
        "colab_type": "text"
      },
      "cell_type": "markdown",
      "source": [
        "### Now it would be nice if we could feed a Pandas DataFrame containing non-numerical columns directly into our pipeline, instead of having to first manually extract the numerical columns into a NumPy array. Now we can use the recently-introduced sklearn function **'ColumnTransformer'** to do this work for us."
      ]
    },
    {
      "metadata": {
        "id": "ePWfZJ6_ZodP",
        "colab_type": "code",
        "colab": {}
      },
      "cell_type": "code",
      "source": [
        "train_data_num_tr = num_pipeline.fit_transform(train_data_num)\n",
        "test_data_num_tr = num_pipeline.fit_transform(test_data_num)"
      ],
      "execution_count": 0,
      "outputs": []
    },
    {
      "metadata": {
        "id": "NV_nOlwNs6ja",
        "colab_type": "code",
        "colab": {}
      },
      "cell_type": "code",
      "source": [
        "from sklearn.compose import ColumnTransformer\n",
        "\n",
        "num_attribs = list(test_data_num) \n",
        "cat_attribs = list(test_data_cat)\n",
        "\n",
        "full_pipeline = ColumnTransformer([\n",
        "        (\"num\", num_pipeline, num_attribs),\n",
        "        (\"cat\", OneHotEncoder(), cat_attribs),\n",
        "    ])"
      ],
      "execution_count": 0,
      "outputs": []
    },
    {
      "metadata": {
        "id": "ZWmmIsUehMX6",
        "colab_type": "code",
        "colab": {}
      },
      "cell_type": "code",
      "source": [
        "train_data_prepared = full_pipeline.fit_transform(train_data)\n",
        "test_data_prepared = full_pipeline.fit_transform(test_data)"
      ],
      "execution_count": 0,
      "outputs": []
    },
    {
      "metadata": {
        "id": "-t6_vbKztaQw",
        "colab_type": "code",
        "outputId": "68801561-d085-4e53-d539-ed0879b48eda",
        "colab": {
          "base_uri": "https://localhost:8080/",
          "height": 51
        }
      },
      "cell_type": "code",
      "source": [
        "train_data_prepared"
      ],
      "execution_count": 0,
      "outputs": [
        {
          "output_type": "execute_result",
          "data": {
            "text/plain": [
              "<1460x287 sparse matrix of type '<class 'numpy.float64'>'\n",
              "\twith 110960 stored elements in Compressed Sparse Row format>"
            ]
          },
          "metadata": {
            "tags": []
          },
          "execution_count": 114
        }
      ]
    },
    {
      "metadata": {
        "id": "3JE_-VqHhoFv",
        "colab_type": "code",
        "outputId": "5444fc11-65ce-402c-c0c3-b4aeca1053bd",
        "colab": {
          "base_uri": "https://localhost:8080/",
          "height": 51
        }
      },
      "cell_type": "code",
      "source": [
        "test_data_prepared"
      ],
      "execution_count": 0,
      "outputs": [
        {
          "output_type": "execute_result",
          "data": {
            "text/plain": [
              "<1459x270 sparse matrix of type '<class 'numpy.float64'>'\n",
              "\twith 110883 stored elements in Compressed Sparse Row format>"
            ]
          },
          "metadata": {
            "tags": []
          },
          "execution_count": 115
        }
      ]
    },
    {
      "metadata": {
        "id": "OsyXvgseQpns",
        "colab_type": "text"
      },
      "cell_type": "markdown",
      "source": [
        "### We're now ready to train some models!  Let's start the Linear Regression algorithm. "
      ]
    },
    {
      "metadata": {
        "id": "zBGl5_88w0_T",
        "colab_type": "code",
        "outputId": "9444a70b-3090-40b7-b1cf-26c9e2a67bae",
        "colab": {
          "base_uri": "https://localhost:8080/",
          "height": 51
        }
      },
      "cell_type": "code",
      "source": [
        "from sklearn.linear_model import LinearRegression \n",
        "lin_reg = LinearRegression() \n",
        "lin_reg.fit(train_data_prepared,y)"
      ],
      "execution_count": 0,
      "outputs": [
        {
          "output_type": "execute_result",
          "data": {
            "text/plain": [
              "LinearRegression(copy_X=True, fit_intercept=True, n_jobs=None,\n",
              "         normalize=False)"
            ]
          },
          "metadata": {
            "tags": []
          },
          "execution_count": 58
        }
      ]
    },
    {
      "metadata": {
        "id": "5lvRs-vqxQaY",
        "colab_type": "text"
      },
      "cell_type": "markdown",
      "source": [
        "### Let’s measure this regression model’s **RMSLE** on the training set using Scikit-Learn’s 'mean_squared_log_error' function:"
      ]
    },
    {
      "metadata": {
        "id": "2ViyYLdK42R6",
        "colab_type": "code",
        "colab": {}
      },
      "cell_type": "code",
      "source": [
        "from sklearn.metrics import mean_squared_log_error\n",
        "\n",
        "def Calculate_RMSLE(X,y,model):\n",
        "  predictions = model.predict(X)\n",
        "  msle = mean_squared_log_error(y,predictions)\n",
        "  rmse = np.sqrt(msle)\n",
        "  return rmse"
      ],
      "execution_count": 0,
      "outputs": []
    },
    {
      "metadata": {
        "id": "NtKNON0bjuir",
        "colab_type": "code",
        "outputId": "65448470-0b6d-4fb3-dcea-c188af419fd1",
        "colab": {
          "base_uri": "https://localhost:8080/",
          "height": 34
        }
      },
      "cell_type": "code",
      "source": [
        "Calculate_RMSLE(train_data_prepared,y,lin_reg)"
      ],
      "execution_count": 0,
      "outputs": [
        {
          "output_type": "execute_result",
          "data": {
            "text/plain": [
              "0.11148272583065251"
            ]
          },
          "metadata": {
            "tags": []
          },
          "execution_count": 60
        }
      ]
    },
    {
      "metadata": {
        "id": "PJ6VN8Dqxi4L",
        "colab_type": "text"
      },
      "cell_type": "markdown",
      "source": [
        "### Wow, the RMSLE seems to be fairly low for the train set! Let's perform a cross-validation dividing the training set into 3 folds and see what kind of RMSLE we get..."
      ]
    },
    {
      "metadata": {
        "id": "2X6RuYqPcR9x",
        "colab_type": "code",
        "outputId": "2ef4e191-362d-43a8-c304-14ca2aed6814",
        "colab": {
          "base_uri": "https://localhost:8080/",
          "height": 68
        }
      },
      "cell_type": "code",
      "source": [
        "from sklearn.model_selection import cross_val_score\n",
        "from sklearn.metrics import make_scorer\n",
        "\n",
        "def rmsle(y, y0):\n",
        "    assert len(y) == len(y0)\n",
        "    return np.sqrt(np.mean(np.power(np.log1p(y)-np.log1p(y0), 2)))\n",
        "\n",
        "root_mean_square_log_error = make_scorer(rmsle,greater_is_better=False)\n",
        "\n",
        "lin_reg_rmsle_scores = cross_val_score(lin_reg,train_data_prepared,y,scoring=make_scorer(rmsle), cv=3)\n",
        "lin_reg_rmsle_scores"
      ],
      "execution_count": 0,
      "outputs": [
        {
          "output_type": "stream",
          "text": [
            "/usr/local/lib/python3.6/dist-packages/ipykernel_launcher.py:6: RuntimeWarning: invalid value encountered in log1p\n",
            "  \n"
          ],
          "name": "stderr"
        },
        {
          "output_type": "execute_result",
          "data": {
            "text/plain": [
              "array([0.16306742, 0.1835194 , 0.15970886])"
            ]
          },
          "metadata": {
            "tags": []
          },
          "execution_count": 81
        }
      ]
    },
    {
      "metadata": {
        "id": "A4x68Do4civr",
        "colab_type": "code",
        "colab": {}
      },
      "cell_type": "code",
      "source": [
        "def display_scores(scores):\n",
        "    print(\"Scores:\", scores)\n",
        "    print(\"Mean:\", scores.mean())\n",
        "    print(\"Standard deviation:\", scores.std())"
      ],
      "execution_count": 0,
      "outputs": []
    },
    {
      "metadata": {
        "id": "xU7N_g4Xcpw2",
        "colab_type": "code",
        "outputId": "d19d676a-bdd5-4804-827e-0dabaf3ff338",
        "colab": {
          "base_uri": "https://localhost:8080/",
          "height": 68
        }
      },
      "cell_type": "code",
      "source": [
        "display_scores(lin_reg_rmsle_scores) "
      ],
      "execution_count": 0,
      "outputs": [
        {
          "output_type": "stream",
          "text": [
            "Scores: [0.16306742 0.1835194  0.15970886]\n",
            "Mean: 0.16876522709818675\n",
            "Standard deviation: 0.01052249098875687\n"
          ],
          "name": "stdout"
        }
      ]
    },
    {
      "metadata": {
        "id": "Mss5PywaOAFl",
        "colab_type": "text"
      },
      "cell_type": "markdown",
      "source": [
        "### After doing a cross validation, we see that the RMSLE for LinearRegression is somewhat higher.  We should probably take a look at some more complex models."
      ]
    },
    {
      "metadata": {
        "id": "vILTgl-ixgFa",
        "colab_type": "code",
        "outputId": "301cffd7-72dc-401e-db6c-30e89a34e14f",
        "colab": {
          "base_uri": "https://localhost:8080/",
          "height": 697
        }
      },
      "cell_type": "code",
      "source": [
        "some_predictions = lin_reg.predict(train_data_prepared[:30])\n",
        "some_labels = y[:30]\n",
        "    \n",
        "print(some_predictions,'\\n\\n',some_labels)"
      ],
      "execution_count": 0,
      "outputs": [
        {
          "output_type": "stream",
          "text": [
            "[205969.80926983 206269.25472167 204640.25652642 164240.41384338\n",
            " 291231.6911148  139645.79525617 280139.49150489 220658.49410713\n",
            " 139342.05281863 120305.93474517 137249.56442239 397441.63019367\n",
            " 134206.77297555 228271.20192811 145225.05288586 146721.60507354\n",
            " 160926.60033377 107952.92082873 147115.83533267 128020.41515838\n",
            " 329134.44878191 121276.81315423 216726.76208503 140408.11799395\n",
            " 153039.19897831 260290.02406707 127882.95166099 298667.00537303\n",
            " 218814.62181593  72426.59363526] \n",
            "\n",
            " 0     208500\n",
            "1     181500\n",
            "2     223500\n",
            "3     140000\n",
            "4     250000\n",
            "5     143000\n",
            "6     307000\n",
            "7     200000\n",
            "8     129900\n",
            "9     118000\n",
            "10    129500\n",
            "11    345000\n",
            "12    144000\n",
            "13    279500\n",
            "14    157000\n",
            "15    132000\n",
            "16    149000\n",
            "17     90000\n",
            "18    159000\n",
            "19    139000\n",
            "20    325300\n",
            "21    139400\n",
            "22    230000\n",
            "23    129900\n",
            "24    154000\n",
            "25    256300\n",
            "26    134800\n",
            "27    306000\n",
            "28    207500\n",
            "29     68500\n",
            "Name: SalePrice, dtype: int64\n"
          ],
          "name": "stdout"
        }
      ]
    },
    {
      "metadata": {
        "id": "bYMCnEfyDtgG",
        "colab_type": "code",
        "outputId": "f4f2eb25-297b-4d22-d6dc-ac916ab4deb8",
        "colab": {
          "base_uri": "https://localhost:8080/",
          "height": 364
        }
      },
      "cell_type": "code",
      "source": [
        "#Creating pandas dataframe from numpy array\n",
        "\n",
        "df = pd.DataFrame({'Predictions':some_predictions,'Actual':some_labels})\n",
        "scatter(df.index,some_predictions,marker='o', c='b')\n",
        "scatter(df.index,some_labels,marker='x', c='r')\n",
        "plt.figure(); \n",
        "# df.plot(); \n",
        "# plt.legend(loc='best')"
      ],
      "execution_count": 0,
      "outputs": [
        {
          "output_type": "display_data",
          "data": {
            "image/png": "[encoded data removed]",
            "text/plain": [
              "<matplotlib.figure.Figure at 0x7f5b64bd6128>"
            ]
          },
          "metadata": {
            "tags": []
          }
        },
        {
          "output_type": "display_data",
          "data": {
            "text/plain": [
              "<matplotlib.figure.Figure at 0x7f5b64b8b5c0>"
            ]
          },
          "metadata": {
            "tags": []
          }
        }
      ]
    },
    {
      "metadata": {
        "id": "RjZct9z6XZIU",
        "colab_type": "text"
      },
      "cell_type": "markdown",
      "source": [
        "### Let’s train a **DecisionTreeRegressor.** This is a powerful model, capable of finding complex nonlinear relationships in the data."
      ]
    },
    {
      "metadata": {
        "id": "VdYChMLOXfGG",
        "colab_type": "code",
        "outputId": "86c97ff4-bd05-4727-e77b-780c17fa8a41",
        "colab": {
          "base_uri": "https://localhost:8080/",
          "height": 102
        }
      },
      "cell_type": "code",
      "source": [
        "from sklearn.tree import DecisionTreeRegressor \n",
        "tree_reg = DecisionTreeRegressor() \n",
        "tree_reg.fit(train_data_prepared,y) "
      ],
      "execution_count": 0,
      "outputs": [
        {
          "output_type": "execute_result",
          "data": {
            "text/plain": [
              "DecisionTreeRegressor(criterion='mse', max_depth=None, max_features=None,\n",
              "           max_leaf_nodes=None, min_impurity_decrease=0.0,\n",
              "           min_impurity_split=None, min_samples_leaf=1,\n",
              "           min_samples_split=2, min_weight_fraction_leaf=0.0,\n",
              "           presort=False, random_state=None, splitter='best')"
            ]
          },
          "metadata": {
            "tags": []
          },
          "execution_count": 85
        }
      ]
    },
    {
      "metadata": {
        "id": "eZdkUkuJYneJ",
        "colab_type": "text"
      },
      "cell_type": "markdown",
      "source": [
        "Let's measure the DecisionTreeRegressor model's RMSE..."
      ]
    },
    {
      "metadata": {
        "id": "HGpvx5gvlkJo",
        "colab_type": "code",
        "outputId": "323213fa-db9e-4bd6-fd02-3203d2678dad",
        "colab": {
          "base_uri": "https://localhost:8080/",
          "height": 34
        }
      },
      "cell_type": "code",
      "source": [
        "Calculate_RMSLE(train_data_prepared,y,tree_reg)"
      ],
      "execution_count": 0,
      "outputs": [
        {
          "output_type": "execute_result",
          "data": {
            "text/plain": [
              "0.0"
            ]
          },
          "metadata": {
            "tags": []
          },
          "execution_count": 86
        }
      ]
    },
    {
      "metadata": {
        "id": "9nnsrEM8b6K_",
        "colab_type": "text"
      },
      "cell_type": "markdown",
      "source": [
        "### Wow, RMLSE = 0 for the training set?  Really??!! Let's perform some further tests to determine whether the DecisionTreeRegressor model is badly overfitting the training set.\n",
        "\n"
      ]
    },
    {
      "metadata": {
        "id": "A83B0fSgcIx8",
        "colab_type": "code",
        "outputId": "1b7554cd-4827-4d88-ace5-e8e2d4e63acf",
        "colab": {
          "base_uri": "https://localhost:8080/",
          "height": 34
        }
      },
      "cell_type": "code",
      "source": [
        "from sklearn.model_selection import cross_val_score\n",
        "\n",
        "tree_rmsle_scores = cross_val_score(tree_reg,train_data_prepared,y,scoring=make_scorer(rmsle), cv=3)\n",
        "tree_rmsle_scores"
      ],
      "execution_count": 0,
      "outputs": [
        {
          "output_type": "execute_result",
          "data": {
            "text/plain": [
              "array([0.20903823, 0.21153032, 0.22872252])"
            ]
          },
          "metadata": {
            "tags": []
          },
          "execution_count": 87
        }
      ]
    },
    {
      "metadata": {
        "id": "hADmDLVEgB2j",
        "colab_type": "code",
        "outputId": "a4576134-309f-45f3-f7f8-5d71bcb0d3aa",
        "colab": {
          "base_uri": "https://localhost:8080/",
          "height": 68
        }
      },
      "cell_type": "code",
      "source": [
        "display_scores(tree_rmsle_scores)   "
      ],
      "execution_count": 0,
      "outputs": [
        {
          "output_type": "stream",
          "text": [
            "Scores: [0.20903823 0.21153032 0.22872252]\n",
            "Mean: 0.21643035705312572\n",
            "Standard deviation: 0.008751215309678768\n"
          ],
          "name": "stdout"
        }
      ]
    },
    {
      "metadata": {
        "id": "t7_aT4p9slLR",
        "colab_type": "text"
      },
      "cell_type": "markdown",
      "source": [
        "### Based on these scores, it looks like the DecisionTreeRegressor performs worse than the Linear Regression."
      ]
    },
    {
      "metadata": {
        "id": "oRVFW5Ly-XN4",
        "colab_type": "text"
      },
      "cell_type": "markdown",
      "source": [
        "Let's try one more model: the **RandomForestRegressor**. Random Forests work by training many Decision Trees on random subsets of the features, then averaging out their predictions. **Building a model on top of many other models is called Ensemble Learning , and it is often a great way to push ML algorithms even further.**\n"
      ]
    },
    {
      "metadata": {
        "id": "tgQ-Gic6AEaY",
        "colab_type": "code",
        "outputId": "3dfeb1a5-ddbe-4021-eb64-9e9ce59ec47f",
        "colab": {
          "base_uri": "https://localhost:8080/",
          "height": 178
        }
      },
      "cell_type": "code",
      "source": [
        "from sklearn.ensemble import RandomForestRegressor\n",
        "\n",
        "forest_reg = RandomForestRegressor(random_state = 42)\n",
        "forest_reg.fit(train_data_prepared,y)"
      ],
      "execution_count": 0,
      "outputs": [
        {
          "output_type": "stream",
          "text": [
            "/usr/local/lib/python3.6/dist-packages/sklearn/ensemble/forest.py:246: FutureWarning: The default value of n_estimators will change from 10 in version 0.20 to 100 in 0.22.\n",
            "  \"10 in version 0.20 to 100 in 0.22.\", FutureWarning)\n"
          ],
          "name": "stderr"
        },
        {
          "output_type": "execute_result",
          "data": {
            "text/plain": [
              "RandomForestRegressor(bootstrap=True, criterion='mse', max_depth=None,\n",
              "           max_features='auto', max_leaf_nodes=None,\n",
              "           min_impurity_decrease=0.0, min_impurity_split=None,\n",
              "           min_samples_leaf=1, min_samples_split=2,\n",
              "           min_weight_fraction_leaf=0.0, n_estimators=10, n_jobs=None,\n",
              "           oob_score=False, random_state=42, verbose=0, warm_start=False)"
            ]
          },
          "metadata": {
            "tags": []
          },
          "execution_count": 89
        }
      ]
    },
    {
      "metadata": {
        "id": "cQRAfZV7Wp5c",
        "colab_type": "code",
        "colab": {}
      },
      "cell_type": "code",
      "source": [
        "forest_reg.feature_importances_"
      ],
      "execution_count": 0,
      "outputs": []
    },
    {
      "metadata": {
        "id": "scmMHgRAWAu3",
        "colab_type": "code",
        "outputId": "1252d059-3e96-4012-e576-7a72aa750e62",
        "colab": {
          "base_uri": "https://localhost:8080/",
          "height": 51
        }
      },
      "cell_type": "code",
      "source": [
        "train_set_RMSLE = Calculate_RMSLE(train_data_prepared,y,forest_reg)\n",
        "print(train_set_RMSLE)\n",
        "print('R2 value for train_set:',forest_reg.score(train_data_prepared,y))    # R-squared for the train set"
      ],
      "execution_count": 0,
      "outputs": [
        {
          "output_type": "stream",
          "text": [
            "0.06847393415630174\n",
            "R2 value for train_set: 0.9773459814601912\n"
          ],
          "name": "stdout"
        }
      ]
    },
    {
      "metadata": {
        "id": "tOhVr227cvsV",
        "colab_type": "text"
      },
      "cell_type": "markdown",
      "source": [
        "### Perform a K-fold cross-validation on the training set with K=2"
      ]
    },
    {
      "metadata": {
        "id": "Cw8NN7DkcIot",
        "colab_type": "code",
        "outputId": "9c6389ed-f5d7-41ae-d8b5-2e112eb5b20d",
        "colab": {
          "base_uri": "https://localhost:8080/",
          "height": 34
        }
      },
      "cell_type": "code",
      "source": [
        "forest_rmse_scores = cross_val_score(forest_reg,train_data_prepared,y,scoring=make_scorer(rmsle), cv=3)\n",
        "forest_rmse_scores"
      ],
      "execution_count": 0,
      "outputs": [
        {
          "output_type": "execute_result",
          "data": {
            "text/plain": [
              "array([0.14939007, 0.16519537, 0.15936503])"
            ]
          },
          "metadata": {
            "tags": []
          },
          "execution_count": 92
        }
      ]
    },
    {
      "metadata": {
        "id": "YWfAnIV5VyLo",
        "colab_type": "code",
        "outputId": "4c378112-0aa2-410e-da51-d3da9548e0fe",
        "colab": {
          "base_uri": "https://localhost:8080/",
          "height": 68
        }
      },
      "cell_type": "code",
      "source": [
        "display_scores(forest_rmse_scores)  "
      ],
      "execution_count": 0,
      "outputs": [
        {
          "output_type": "stream",
          "text": [
            "Scores: [0.14939007 0.16519537 0.15936503]\n",
            "Mean: 0.15798348846763646\n",
            "Standard deviation: 0.006526016392182217\n"
          ],
          "name": "stdout"
        }
      ]
    },
    {
      "metadata": {
        "id": "-kmKlnG-L3DP",
        "colab_type": "text"
      },
      "cell_type": "markdown",
      "source": [
        "### Now, let's fine tune the Random Forest model by doing a 'GridSearchCV' on the hyperparameters."
      ]
    },
    {
      "metadata": {
        "id": "VWoBqPSLMUU_",
        "colab_type": "code",
        "outputId": "20a9654b-1874-49da-fc62-17b6de6281c2",
        "colab": {
          "base_uri": "https://localhost:8080/",
          "height": 229
        }
      },
      "cell_type": "code",
      "source": [
        "from sklearn.model_selection import GridSearchCV\n",
        "\n",
        "param_grid = [\n",
        "    # try 6 (2X3) combinations of hyperparameters\n",
        "    {'n_estimators': [100,300],'max_features': [100,200,250]},\n",
        "    # then try another 6 (2×3) combinations with bootstrap set as False\n",
        "    {'bootstrap': [False], 'n_estimators': [30,100], 'max_features': [100,200,250]},\n",
        "  ]\n",
        "\n",
        "forest_reg = RandomForestRegressor(random_state=42)\n",
        "\n",
        "# train across 3 folds, that's a total of (12+6)*3 = 54 rounds of training \n",
        "\n",
        "grid_search = GridSearchCV(forest_reg, param_grid, cv=3,scoring=make_scorer(rmsle),return_train_score=True)\n",
        "grid_search.fit(train_data_prepared,y)"
      ],
      "execution_count": 0,
      "outputs": [
        {
          "output_type": "execute_result",
          "data": {
            "text/plain": [
              "GridSearchCV(cv=3, error_score='raise-deprecating',\n",
              "       estimator=RandomForestRegressor(bootstrap=True, criterion='mse', max_depth=None,\n",
              "           max_features='auto', max_leaf_nodes=None,\n",
              "           min_impurity_decrease=0.0, min_impurity_split=None,\n",
              "           min_samples_leaf=1, min_samples_split=2,\n",
              "           min_weight_fraction_leaf=0.0, n_estimators='warn', n_jobs=None,\n",
              "           oob_score=False, random_state=42, verbose=0, warm_start=False),\n",
              "       fit_params=None, iid='warn', n_jobs=None,\n",
              "       param_grid=[{'n_estimators': [100, 300], 'max_features': [100, 200, 250]}, {'bootstrap': [False], 'n_estimators': [30, 100], 'max_features': [100, 200, 250]}],\n",
              "       pre_dispatch='2*n_jobs', refit=True, return_train_score=True,\n",
              "       scoring=make_scorer(rmsle), verbose=0)"
            ]
          },
          "metadata": {
            "tags": []
          },
          "execution_count": 96
        }
      ]
    },
    {
      "metadata": {
        "id": "jyrHquAJXDqG",
        "colab_type": "code",
        "outputId": "f39561a7-34ac-47e3-d8bc-06534b850467",
        "colab": {
          "base_uri": "https://localhost:8080/",
          "height": 119
        }
      },
      "cell_type": "code",
      "source": [
        "grid_search.best_estimator_"
      ],
      "execution_count": 0,
      "outputs": [
        {
          "output_type": "execute_result",
          "data": {
            "text/plain": [
              "RandomForestRegressor(bootstrap=False, criterion='mse', max_depth=None,\n",
              "           max_features=250, max_leaf_nodes=None,\n",
              "           min_impurity_decrease=0.0, min_impurity_split=None,\n",
              "           min_samples_leaf=1, min_samples_split=2,\n",
              "           min_weight_fraction_leaf=0.0, n_estimators=30, n_jobs=None,\n",
              "           oob_score=False, random_state=42, verbose=0, warm_start=False)"
            ]
          },
          "metadata": {
            "tags": []
          },
          "execution_count": 76
        }
      ]
    },
    {
      "metadata": {
        "id": "AoQcCT3ckPAE",
        "colab_type": "code",
        "colab": {}
      },
      "cell_type": "code",
      "source": [
        "cvres = grid_search.cv_results_"
      ],
      "execution_count": 0,
      "outputs": []
    },
    {
      "metadata": {
        "id": "OkCND1LIkFhF",
        "colab_type": "code",
        "outputId": "3967784e-4e4c-490d-efc1-befc520f23bf",
        "colab": {
          "base_uri": "https://localhost:8080/",
          "height": 221
        }
      },
      "cell_type": "code",
      "source": [
        "for mean_score, params in zip(cvres[\"mean_test_score\"], cvres[\"params\"]):\n",
        "    print(mean_score, params)"
      ],
      "execution_count": 0,
      "outputs": [
        {
          "output_type": "stream",
          "text": [
            "0.14547776169226112 {'max_features': 100, 'n_estimators': 100}\n",
            "0.14486993502310733 {'max_features': 100, 'n_estimators': 300}\n",
            "0.14771537567784368 {'max_features': 200, 'n_estimators': 100}\n",
            "0.1464856664079526 {'max_features': 200, 'n_estimators': 300}\n",
            "0.14943555979846904 {'max_features': 250, 'n_estimators': 100}\n",
            "0.14768773715205943 {'max_features': 250, 'n_estimators': 300}\n",
            "0.14821999280960693 {'bootstrap': False, 'max_features': 100, 'n_estimators': 30}\n",
            "0.14468181058524318 {'bootstrap': False, 'max_features': 100, 'n_estimators': 100}\n",
            "0.1509357571122475 {'bootstrap': False, 'max_features': 200, 'n_estimators': 30}\n",
            "0.14976010077751445 {'bootstrap': False, 'max_features': 200, 'n_estimators': 100}\n",
            "0.16443967218466365 {'bootstrap': False, 'max_features': 250, 'n_estimators': 30}\n",
            "0.1636327653044444 {'bootstrap': False, 'max_features': 250, 'n_estimators': 100}\n"
          ],
          "name": "stdout"
        }
      ]
    },
    {
      "metadata": {
        "id": "MFsVeM5GeOtS",
        "colab_type": "text"
      },
      "cell_type": "markdown",
      "source": [
        "### Fine-tuning the model using Randomized Search\n",
        "\n",
        "The grid search approach is fine when we are exploring relatively few combinations, but when the hyperparameter search space is large, it is often preferable to use **RandomizedSearchCV** instead."
      ]
    },
    {
      "metadata": {
        "id": "cSu3WfC3edBT",
        "colab_type": "code",
        "outputId": "0770d6f0-ee2a-4a75-fadd-08e82a4a6712",
        "colab": {
          "base_uri": "https://localhost:8080/",
          "height": 229
        }
      },
      "cell_type": "code",
      "source": [
        "from sklearn.model_selection import RandomizedSearchCV\n",
        "from scipy.stats import randint\n",
        "\n",
        "param_distribs = {\n",
        "        'n_estimators': randint(low=1, high=300),\n",
        "        'max_features': randint(low=1, high=250),\n",
        "    }\n",
        "\n",
        "forest_reg = RandomForestRegressor(random_state=42)\n",
        "rnd_search = RandomizedSearchCV(forest_reg, param_distributions=param_distribs,n_iter=25, cv=5, scoring=make_scorer(rmsle), random_state=42)\n",
        "rnd_search.fit(train_data_prepared,y)"
      ],
      "execution_count": 0,
      "outputs": [
        {
          "output_type": "execute_result",
          "data": {
            "text/plain": [
              "RandomizedSearchCV(cv=5, error_score='raise-deprecating',\n",
              "          estimator=RandomForestRegressor(bootstrap=True, criterion='mse', max_depth=None,\n",
              "           max_features='auto', max_leaf_nodes=None,\n",
              "           min_impurity_decrease=0.0, min_impurity_split=None,\n",
              "           min_samples_leaf=1, min_samples_split=2,\n",
              "           min_weight_fraction_leaf=0.0, n_estimators='warn', n_jobs=None,\n",
              "           oob_score=False, random_state=42, verbose=0, warm_start=False),\n",
              "          fit_params=None, iid='warn', n_iter=25, n_jobs=None,\n",
              "          param_distributions={'n_estimators': <scipy.stats._distn_infrastructure.rv_frozen object at 0x7f5b63d207b8>, 'max_features': <scipy.stats._distn_infrastructure.rv_frozen object at 0x7f5b63d09eb8>},\n",
              "          pre_dispatch='2*n_jobs', random_state=42, refit=True,\n",
              "          return_train_score='warn', scoring=make_scorer(rmsle), verbose=0)"
            ]
          },
          "metadata": {
            "tags": []
          },
          "execution_count": 104
        }
      ]
    },
    {
      "metadata": {
        "id": "GnMi0wVNkm-O",
        "colab_type": "code",
        "outputId": "e60578de-bcee-45b7-8606-005c7b361cdd",
        "colab": {
          "base_uri": "https://localhost:8080/",
          "height": 119
        }
      },
      "cell_type": "code",
      "source": [
        "rnd_search.best_estimator_"
      ],
      "execution_count": 0,
      "outputs": [
        {
          "output_type": "execute_result",
          "data": {
            "text/plain": [
              "RandomForestRegressor(bootstrap=True, criterion='mse', max_depth=None,\n",
              "           max_features=18, max_leaf_nodes=None, min_impurity_decrease=0.0,\n",
              "           min_impurity_split=None, min_samples_leaf=1,\n",
              "           min_samples_split=2, min_weight_fraction_leaf=0.0,\n",
              "           n_estimators=89, n_jobs=None, oob_score=False, random_state=42,\n",
              "           verbose=0, warm_start=False)"
            ]
          },
          "metadata": {
            "tags": []
          },
          "execution_count": 105
        }
      ]
    },
    {
      "metadata": {
        "id": "zb1sT5USkWs9",
        "colab_type": "code",
        "outputId": "eab2ee56-fb36-4129-e6d5-8aef5a6265b5",
        "colab": {
          "base_uri": "https://localhost:8080/",
          "height": 442
        }
      },
      "cell_type": "code",
      "source": [
        "cvres = rnd_search.cv_results_\n",
        "for mean_score, params in zip(cvres[\"mean_test_score\"], cvres[\"params\"]):\n",
        "    print(mean_score, params)"
      ],
      "execution_count": 0,
      "outputs": [
        {
          "output_type": "stream",
          "text": [
            "0.14264994804798933 {'max_features': 103, 'n_estimators': 271}\n",
            "0.1435521108891897 {'max_features': 107, 'n_estimators': 72}\n",
            "0.14589300513086498 {'max_features': 189, 'n_estimators': 21}\n",
            "0.1428060414148441 {'max_features': 103, 'n_estimators': 122}\n",
            "0.14390453600759182 {'max_features': 211, 'n_estimators': 215}\n",
            "0.14380358185302078 {'max_features': 75, 'n_estimators': 88}\n",
            "0.14325951494418993 {'max_features': 117, 'n_estimators': 100}\n",
            "0.14319222949780858 {'max_features': 104, 'n_estimators': 152}\n",
            "0.1438686683349553 {'max_features': 131, 'n_estimators': 150}\n",
            "0.14250341930360202 {'max_features': 53, 'n_estimators': 258}\n",
            "0.1421302618703874 {'max_features': 88, 'n_estimators': 294}\n",
            "0.14184747407460957 {'max_features': 130, 'n_estimators': 192}\n",
            "0.14373300782724902 {'max_features': 188, 'n_estimators': 277}\n",
            "0.1466933367747866 {'max_features': 161, 'n_estimators': 22}\n",
            "0.14621322688166657 {'max_features': 236, 'n_estimators': 49}\n",
            "0.14505999146186868 {'max_features': 219, 'n_estimators': 59}\n",
            "0.14426863548467864 {'max_features': 170, 'n_estimators': 188}\n",
            "0.14448082909201823 {'max_features': 208, 'n_estimators': 271}\n",
            "0.1439132577061835 {'max_features': 190, 'n_estimators': 175}\n",
            "0.14541173430067214 {'max_features': 190, 'n_estimators': 51}\n",
            "0.1440222856391819 {'max_features': 108, 'n_estimators': 55}\n",
            "0.14593149420298715 {'max_features': 244, 'n_estimators': 131}\n",
            "0.14621983802857705 {'max_features': 229, 'n_estimators': 135}\n",
            "0.1474873698742822 {'max_features': 21, 'n_estimators': 167}\n",
            "0.1486700084479591 {'max_features': 18, 'n_estimators': 89}\n"
          ],
          "name": "stdout"
        }
      ]
    },
    {
      "metadata": {
        "id": "kwEtlazgt5Qr",
        "colab_type": "text"
      },
      "cell_type": "markdown",
      "source": [
        "### Using the values provided by 'rnd_search.best_estimator_' (max_features=130 n_estimators=192), let's determine $\\hat{y}$ for the train set."
      ]
    },
    {
      "metadata": {
        "id": "5VYPNNq8uxnd",
        "colab_type": "code",
        "outputId": "08e39caa-5b80-4e1e-8c5e-8002b5bd6914",
        "colab": {
          "base_uri": "https://localhost:8080/",
          "height": 119
        }
      },
      "cell_type": "code",
      "source": [
        "forest_reg = RandomForestRegressor(n_estimators = 130, max_features = 192, random_state=42)\n",
        "forest_reg.fit(train_data_prepared,y)"
      ],
      "execution_count": 0,
      "outputs": [
        {
          "output_type": "execute_result",
          "data": {
            "text/plain": [
              "RandomForestRegressor(bootstrap=True, criterion='mse', max_depth=None,\n",
              "           max_features=192, max_leaf_nodes=None,\n",
              "           min_impurity_decrease=0.0, min_impurity_split=None,\n",
              "           min_samples_leaf=1, min_samples_split=2,\n",
              "           min_weight_fraction_leaf=0.0, n_estimators=130, n_jobs=None,\n",
              "           oob_score=False, random_state=42, verbose=0, warm_start=False)"
            ]
          },
          "metadata": {
            "tags": []
          },
          "execution_count": 107
        }
      ]
    },
    {
      "metadata": {
        "id": "FO441rrYv_iu",
        "colab_type": "code",
        "outputId": "d3e05158-0a15-44f3-f48b-433d75493fc5",
        "colab": {
          "base_uri": "https://localhost:8080/",
          "height": 34
        }
      },
      "cell_type": "code",
      "source": [
        "train_set_RMSLE = Calculate_RMSLE(train_data_prepared,y,forest_reg)\n",
        "train_set_RMSLE"
      ],
      "execution_count": 0,
      "outputs": [
        {
          "output_type": "execute_result",
          "data": {
            "text/plain": [
              "0.05853322875461865"
            ]
          },
          "metadata": {
            "tags": []
          },
          "execution_count": 109
        }
      ]
    },
    {
      "metadata": {
        "id": "nbSZhvzoxhL-",
        "colab_type": "code",
        "outputId": "2de2ac28-48d5-4ac5-86ab-ea52e0a34ba7",
        "colab": {
          "base_uri": "https://localhost:8080/",
          "height": 521
        }
      },
      "cell_type": "code",
      "source": [
        "forest_reg.predict(test_data_prepared)"
      ],
      "execution_count": 0,
      "outputs": [
        {
          "output_type": "error",
          "ename": "ValueError",
          "evalue": "ignored",
          "traceback": [
            "\u001b[0;31m---------------------------------------------------------------------------\u001b[0m",
            "\u001b[0;31mValueError\u001b[0m                                Traceback (most recent call last)",
            "\u001b[0;32m<ipython-input-111-833e925c3f05>\u001b[0m in \u001b[0;36m<module>\u001b[0;34m()\u001b[0m\n\u001b[0;32m----> 1\u001b[0;31m \u001b[0mforest_reg\u001b[0m\u001b[0;34m.\u001b[0m\u001b[0mpredict\u001b[0m\u001b[0;34m(\u001b[0m\u001b[0mtest_data_prepared\u001b[0m\u001b[0;34m)\u001b[0m\u001b[0;34m\u001b[0m\u001b[0;34m\u001b[0m\u001b[0m\n\u001b[0m",
            "\u001b[0;32m/usr/local/lib/python3.6/dist-packages/sklearn/ensemble/forest.py\u001b[0m in \u001b[0;36mpredict\u001b[0;34m(self, X)\u001b[0m\n\u001b[1;32m    686\u001b[0m         \u001b[0mcheck_is_fitted\u001b[0m\u001b[0;34m(\u001b[0m\u001b[0mself\u001b[0m\u001b[0;34m,\u001b[0m \u001b[0;34m'estimators_'\u001b[0m\u001b[0;34m)\u001b[0m\u001b[0;34m\u001b[0m\u001b[0;34m\u001b[0m\u001b[0m\n\u001b[1;32m    687\u001b[0m         \u001b[0;31m# Check data\u001b[0m\u001b[0;34m\u001b[0m\u001b[0;34m\u001b[0m\u001b[0;34m\u001b[0m\u001b[0m\n\u001b[0;32m--> 688\u001b[0;31m         \u001b[0mX\u001b[0m \u001b[0;34m=\u001b[0m \u001b[0mself\u001b[0m\u001b[0;34m.\u001b[0m\u001b[0m_validate_X_predict\u001b[0m\u001b[0;34m(\u001b[0m\u001b[0mX\u001b[0m\u001b[0;34m)\u001b[0m\u001b[0;34m\u001b[0m\u001b[0;34m\u001b[0m\u001b[0m\n\u001b[0m\u001b[1;32m    689\u001b[0m \u001b[0;34m\u001b[0m\u001b[0m\n\u001b[1;32m    690\u001b[0m         \u001b[0;31m# Assign chunk of trees to jobs\u001b[0m\u001b[0;34m\u001b[0m\u001b[0;34m\u001b[0m\u001b[0;34m\u001b[0m\u001b[0m\n",
            "\u001b[0;32m/usr/local/lib/python3.6/dist-packages/sklearn/ensemble/forest.py\u001b[0m in \u001b[0;36m_validate_X_predict\u001b[0;34m(self, X)\u001b[0m\n\u001b[1;32m    360\u001b[0m                                  \"call `fit` before exploiting the model.\")\n\u001b[1;32m    361\u001b[0m \u001b[0;34m\u001b[0m\u001b[0m\n\u001b[0;32m--> 362\u001b[0;31m         \u001b[0;32mreturn\u001b[0m \u001b[0mself\u001b[0m\u001b[0;34m.\u001b[0m\u001b[0mestimators_\u001b[0m\u001b[0;34m[\u001b[0m\u001b[0;36m0\u001b[0m\u001b[0;34m]\u001b[0m\u001b[0;34m.\u001b[0m\u001b[0m_validate_X_predict\u001b[0m\u001b[0;34m(\u001b[0m\u001b[0mX\u001b[0m\u001b[0;34m,\u001b[0m \u001b[0mcheck_input\u001b[0m\u001b[0;34m=\u001b[0m\u001b[0;32mTrue\u001b[0m\u001b[0;34m)\u001b[0m\u001b[0;34m\u001b[0m\u001b[0;34m\u001b[0m\u001b[0m\n\u001b[0m\u001b[1;32m    363\u001b[0m \u001b[0;34m\u001b[0m\u001b[0m\n\u001b[1;32m    364\u001b[0m     \u001b[0;34m@\u001b[0m\u001b[0mproperty\u001b[0m\u001b[0;34m\u001b[0m\u001b[0;34m\u001b[0m\u001b[0m\n",
            "\u001b[0;32m/usr/local/lib/python3.6/dist-packages/sklearn/tree/tree.py\u001b[0m in \u001b[0;36m_validate_X_predict\u001b[0;34m(self, X, check_input)\u001b[0m\n\u001b[1;32m    386\u001b[0m                              \u001b[0;34m\"match the input. Model n_features is %s and \"\u001b[0m\u001b[0;34m\u001b[0m\u001b[0;34m\u001b[0m\u001b[0m\n\u001b[1;32m    387\u001b[0m                              \u001b[0;34m\"input n_features is %s \"\u001b[0m\u001b[0;34m\u001b[0m\u001b[0;34m\u001b[0m\u001b[0m\n\u001b[0;32m--> 388\u001b[0;31m                              % (self.n_features_, n_features))\n\u001b[0m\u001b[1;32m    389\u001b[0m \u001b[0;34m\u001b[0m\u001b[0m\n\u001b[1;32m    390\u001b[0m         \u001b[0;32mreturn\u001b[0m \u001b[0mX\u001b[0m\u001b[0;34m\u001b[0m\u001b[0;34m\u001b[0m\u001b[0m\n",
            "\u001b[0;31mValueError\u001b[0m: Number of features of the model must match the input. Model n_features is 287 and input n_features is 270 "
          ]
        }
      ]
    }
  ]
}